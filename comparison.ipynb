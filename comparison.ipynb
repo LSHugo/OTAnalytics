{
 "cells": [
  {
   "attachments": {},
   "cell_type": "markdown",
   "metadata": {},
   "source": [
    "# Counting comparison"
   ]
  },
  {
   "attachments": {},
   "cell_type": "markdown",
   "metadata": {},
   "source": [
    "## Import libraries"
   ]
  },
  {
   "cell_type": "code",
   "execution_count": 1,
   "metadata": {},
   "outputs": [],
   "source": [
    "import pandas as pd"
   ]
  },
  {
   "attachments": {},
   "cell_type": "markdown",
   "metadata": {},
   "source": [
    "## Configuration"
   ]
  },
  {
   "cell_type": "code",
   "execution_count": 2,
   "metadata": {},
   "outputs": [],
   "source": [
    "CONFIG = {\n",
    "    'date': '2023-03-28',\n",
    "    'from_time': '07:00:00',\n",
    "    'filter_class': [\"car\", \"bus\", \"motorcycle\", \"truck\", \"truck_with_trailer\", \"truck_with_semitrailer\", \"delivery_van\", \"private_van\"],\n",
    "    'interval_length_min': 5 # In minutes\n",
    "}"
   ]
  },
  {
   "attachments": {},
   "cell_type": "markdown",
   "metadata": {},
   "source": [
    "## Import Excel table"
   ]
  },
  {
   "cell_type": "code",
   "execution_count": 3,
   "metadata": {},
   "outputs": [],
   "source": [
    "excel_table = pd.DataFrame(data=pd.read_excel('D:\\SH-B75\\ZaehlungAuswertung_B75_0700.xlsm', sheet_name='Zaehler', skiprows=range(1), usecols=['Klasse','Strom','Zeitstempel']))"
   ]
  },
  {
   "attachments": {},
   "cell_type": "markdown",
   "metadata": {},
   "source": [
    "## IDs"
   ]
  },
  {
   "cell_type": "code",
   "execution_count": 4,
   "metadata": {},
   "outputs": [],
   "source": [
    "id_dict = {\n",
    "    'id_to_class':{100:'pedestrian', 200:'bike', 300:'motorbike', 400:'car', 500:'car_with_trailer', 600:'delivery_van', 700:'truck', 800:'truck_with_trailer', 900:'truck_with_semitrailer', 1000:'bus', 1100:'others'},\n",
    "    'id_to_from_section':{10: 'SOUTH', 20: 'SOUTH', 30: 'SOUTH', 40: 'EAST', 50: 'EAST', 60: 'EAST', 70: 'NORTH', 80: 'NORTH', 90: 'NORTH', 100: 'WEST', 110: 'WEST', 120: 'WEST', 130: 'SIDEWALK'},\n",
    "    'id_to_to_section':{10: 'WEST', 20: 'NORTH', 30: 'EAST', 40: 'SOUTH', 50: 'WEST', 60: 'NORTH', 70: 'EAST', 80: 'SOUTH', 90: 'WEST', 100: 'NORTH', 110: 'EAST', 120: 'SOUTH', 130: 'SIDEWALK'}\n",
    "}"
   ]
  },
  {
   "attachments": {},
   "cell_type": "markdown",
   "metadata": {},
   "source": [
    "## Formatting"
   ]
  },
  {
   "cell_type": "code",
   "execution_count": 5,
   "metadata": {},
   "outputs": [
    {
     "ename": "NameError",
     "evalue": "name 'id_to_class' is not defined",
     "output_type": "error",
     "traceback": [
      "\u001b[1;31m---------------------------------------------------------------------------\u001b[0m",
      "\u001b[1;31mNameError\u001b[0m                                 Traceback (most recent call last)",
      "Cell \u001b[1;32mIn[5], line 8\u001b[0m\n\u001b[0;32m      5\u001b[0m excel_table[\u001b[39m'\u001b[39m\u001b[39mtime_interval\u001b[39m\u001b[39m'\u001b[39m] \u001b[39m=\u001b[39m pd\u001b[39m.\u001b[39mTimestamp(CONFIG[\u001b[39m'\u001b[39m\u001b[39mdate\u001b[39m\u001b[39m'\u001b[39m] \u001b[39m+\u001b[39m \u001b[39m'\u001b[39m\u001b[39mT\u001b[39m\u001b[39m'\u001b[39m \u001b[39m+\u001b[39m CONFIG[\u001b[39m'\u001b[39m\u001b[39mfrom_time\u001b[39m\u001b[39m'\u001b[39m]) \u001b[39m+\u001b[39m pd\u001b[39m.\u001b[39mto_timedelta(excel_table[\u001b[39m'\u001b[39m\u001b[39mtime_interval\u001b[39m\u001b[39m'\u001b[39m], unit\u001b[39m=\u001b[39m\u001b[39m'\u001b[39m\u001b[39ms\u001b[39m\u001b[39m'\u001b[39m)\n\u001b[0;32m      7\u001b[0m \u001b[39m# Replacing vehicle class IDs by the proper vehicle names\u001b[39;00m\n\u001b[1;32m----> 8\u001b[0m excel_table[\u001b[39m'\u001b[39m\u001b[39mroad_user_type\u001b[39m\u001b[39m'\u001b[39m] \u001b[39m=\u001b[39m excel_table[\u001b[39m'\u001b[39m\u001b[39mroad_user_type\u001b[39m\u001b[39m'\u001b[39m]\u001b[39m.\u001b[39mmap(id_to_class)\n\u001b[0;32m     10\u001b[0m \u001b[39m# Getting sections of origin and destination from \"Strom\" in two different columns\u001b[39;00m\n\u001b[0;32m     11\u001b[0m excel_table[\u001b[39m'\u001b[39m\u001b[39mfrom_section\u001b[39m\u001b[39m'\u001b[39m] \u001b[39m=\u001b[39m excel_table[\u001b[39m'\u001b[39m\u001b[39mStrom\u001b[39m\u001b[39m'\u001b[39m]\u001b[39m.\u001b[39mmap(id_to_from_section)\n",
      "\u001b[1;31mNameError\u001b[0m: name 'id_to_class' is not defined"
     ]
    }
   ],
   "source": [
    "# Renaming columns to match column names in flow_table\n",
    "excel_table.rename(columns={'Klasse':'road_user_type', 'Zeitstempel':'time_interval'}, inplace=True)\n",
    "\n",
    "# Time formatting\n",
    "excel_table['time_interval'] = pd.Timestamp(CONFIG['date'] + 'T' + CONFIG['from_time']) + pd.to_timedelta(excel_table['time_interval'], unit='s')\n",
    "\n",
    "# Replacing vehicle class IDs by the proper vehicle names\n",
    "excel_table['road_user_type'] = excel_table['road_user_type'].map(id_to_class)\n",
    "\n",
    "# Getting sections of origin and destination from \"Strom\" in two different columns\n",
    "excel_table['from_section'] = excel_table['Strom'].map(id_to_from_section)\n",
    "excel_table['to_section'] = excel_table['Strom'].map(id_to_to_section)\n",
    "\n",
    "# Group by sections, time interval, and road user type\n",
    "excel_table = excel_table.groupby(['from_section','to_section',pd.Grouper(freq=str(CONFIG['interval_length_min'])+'min', key='time_interval'),'road_user_type']).count().reset_index()"
   ]
  },
  {
   "attachments": {},
   "cell_type": "markdown",
   "metadata": {},
   "source": [
    "## Excel count parsler call"
   ]
  },
  {
   "cell_type": "code",
   "execution_count": null,
   "metadata": {},
   "outputs": [
    {
     "name": "stdout",
     "output_type": "stream",
     "text": [
      "no stored variable or alias #\n",
      "no stored variable or alias (model)\n"
     ]
    }
   ],
   "source": [
    "from OTAnalytics.plugin_parser.excel_count_parser import ExcelCountParser\n",
    "\n",
    "CONFIG = {\n",
    "    'date': '2023-03-28',\n",
    "    'from_time': '07:00:00',\n",
    "    'filter_class': [\"car\", \"bus\", \"motorcycle\", \"truck\", \"truck_with_trailer\", \"truck_with_semitrailer\", \"delivery_van\", \"private_van\"],\n",
    "    'interval_length_min': 15 # In minutes\n",
    "}\n",
    "\n",
    "id_dict = {\n",
    "    'id_to_class':{100:'pedestrian', 200:'bike', 300:'motorbike', 400:'car', 500:'car_with_trailer', 600:'delivery_van', 700:'truck', 800:'truck_with_trailer', 900:'truck_with_semitrailer', 1000:'bus', 1100:'others'},\n",
    "    'id_to_from_section':{10: 'SOUTH', 20: 'SOUTH', 30: 'SOUTH', 40: 'EAST', 50: 'EAST', 60: 'EAST', 70: 'NORTH', 80: 'NORTH', 90: 'NORTH', 100: 'WEST', 110: 'WEST', 120: 'WEST', 130: 'SIDEWALK'},\n",
    "    'id_to_to_section':{10: 'WEST', 20: 'NORTH', 30: 'EAST', 40: 'SOUTH', 50: 'WEST', 60: 'NORTH', 70: 'EAST', 80: 'SOUTH', 90: 'WEST', 100: 'NORTH', 110: 'EAST', 120: 'SOUTH', 130: 'SIDEWALK'}\n",
    "}\n",
    "\n",
    "%store -r # flow_table (model)\n",
    "\n",
    "parser = ExcelCountParser('D:\\SH-B75\\ZaehlungAuswertung_B75_0700.xlsm', id_dict, CONFIG)\n",
    "excel_table = parser.excel_parser()\n",
    "comparison_table = parser.comparison_table(flow_table)\n",
    "count_table = parser.count_table(flow_table)"
   ]
  },
  {
   "attachments": {},
   "cell_type": "markdown",
   "metadata": {},
   "source": [
    "## Comparison results"
   ]
  },
  {
   "attachments": {},
   "cell_type": "markdown",
   "metadata": {},
   "source": [
    "### Comparison variables ideas:\n",
    "\n",
    "- Difference of counting (brut / relative)\n",
    "    - Overall\n",
    "    - For all class/flow combination\n",
    "    - For each vehicule class\n",
    "- Graphs of counted number of vehicules per time intervall\n",
    "    - Both graphs\n",
    "    - Observed differences"
   ]
  },
  {
   "attachments": {},
   "cell_type": "markdown",
   "metadata": {},
   "source": [
    "### By class and flow directiom"
   ]
  },
  {
   "cell_type": "code",
   "execution_count": null,
   "metadata": {},
   "outputs": [
    {
     "name": "stdout",
     "output_type": "stream",
     "text": [
      "no stored variable or alias #\n",
      "no stored variable or alias (model)\n"
     ]
    },
    {
     "data": {
      "application/vnd.plotly.v1+json": {
       "config": {
        "plotlyServerURL": "https://plot.ly"
       },
       "data": [
        {
         "alignmentgroup": "True",
         "bingroup": "x",
         "histfunc": "sum",
         "hovertemplate": "road_user_type=car<br>from_section=EAST<br>to_section=SOUTH<br>time_interval=%{x}<br>sum of difference=%{y}<extra></extra>",
         "legendgroup": "car",
         "marker": {
          "color": "#636efa",
          "pattern": {
           "shape": ""
          }
         },
         "name": "car",
         "nbinsx": 12,
         "offsetgroup": "car",
         "orientation": "v",
         "showlegend": true,
         "type": "histogram",
         "x": [
          "2023-03-28T07:05:00",
          "2023-03-28T07:00:00",
          "2023-03-28T07:10:00",
          "2023-03-28T07:15:00",
          "2023-03-28T07:20:00",
          "2023-03-28T07:25:00",
          "2023-03-28T07:30:00",
          "2023-03-28T07:35:00",
          "2023-03-28T07:40:00",
          "2023-03-28T07:45:00",
          "2023-03-28T07:50:00",
          "2023-03-28T07:55:00"
         ],
         "xaxis": "x43",
         "y": [
          0,
          0,
          0,
          0,
          0,
          0,
          0,
          0,
          0,
          0,
          0,
          0
         ],
         "yaxis": "y43"
        },
        {
         "alignmentgroup": "True",
         "bingroup": "x",
         "histfunc": "sum",
         "hovertemplate": "road_user_type=car<br>from_section=EAST<br>to_section=WEST<br>time_interval=%{x}<br>sum of difference=%{y}<extra></extra>",
         "legendgroup": "car",
         "marker": {
          "color": "#636efa",
          "pattern": {
           "shape": ""
          }
         },
         "name": "car",
         "nbinsx": 12,
         "offsetgroup": "car",
         "orientation": "v",
         "showlegend": false,
         "type": "histogram",
         "x": [
          "2023-03-28T07:00:00",
          "2023-03-28T07:05:00",
          "2023-03-28T07:10:00",
          "2023-03-28T07:15:00",
          "2023-03-28T07:20:00",
          "2023-03-28T07:25:00",
          "2023-03-28T07:30:00",
          "2023-03-28T07:35:00",
          "2023-03-28T07:40:00",
          "2023-03-28T07:45:00",
          "2023-03-28T07:50:00",
          "2023-03-28T07:55:00"
         ],
         "xaxis": "x44",
         "y": [
          0,
          0,
          0,
          0,
          0,
          0,
          0,
          0,
          0,
          0,
          0,
          0
         ],
         "yaxis": "y44"
        },
        {
         "alignmentgroup": "True",
         "bingroup": "x",
         "histfunc": "sum",
         "hovertemplate": "road_user_type=car<br>from_section=EAST<br>to_section=EAST<br>time_interval=%{x}<br>sum of difference=%{y}<extra></extra>",
         "legendgroup": "car",
         "marker": {
          "color": "#636efa",
          "pattern": {
           "shape": ""
          }
         },
         "name": "car",
         "nbinsx": 12,
         "offsetgroup": "car",
         "orientation": "v",
         "showlegend": false,
         "type": "histogram",
         "x": [
          "2023-03-28T07:00:00",
          "2023-03-28T07:05:00",
          "2023-03-28T07:10:00",
          "2023-03-28T07:15:00",
          "2023-03-28T07:20:00",
          "2023-03-28T07:25:00",
          "2023-03-28T07:30:00",
          "2023-03-28T07:35:00",
          "2023-03-28T07:40:00",
          "2023-03-28T07:45:00",
          "2023-03-28T07:50:00",
          "2023-03-28T07:55:00"
         ],
         "xaxis": "x45",
         "y": [
          0,
          0,
          0,
          0,
          0,
          0,
          0,
          0,
          0,
          0,
          0,
          0
         ],
         "yaxis": "y45"
        },
        {
         "alignmentgroup": "True",
         "bingroup": "x",
         "histfunc": "sum",
         "hovertemplate": "road_user_type=car<br>from_section=EAST<br>to_section=NORTH<br>time_interval=%{x}<br>sum of difference=%{y}<extra></extra>",
         "legendgroup": "car",
         "marker": {
          "color": "#636efa",
          "pattern": {
           "shape": ""
          }
         },
         "name": "car",
         "nbinsx": 12,
         "offsetgroup": "car",
         "orientation": "v",
         "showlegend": false,
         "type": "histogram",
         "x": [
          "2023-03-28T07:00:00",
          "2023-03-28T07:05:00",
          "2023-03-28T07:10:00",
          "2023-03-28T07:15:00",
          "2023-03-28T07:20:00",
          "2023-03-28T07:25:00",
          "2023-03-28T07:30:00",
          "2023-03-28T07:35:00",
          "2023-03-28T07:40:00",
          "2023-03-28T07:45:00",
          "2023-03-28T07:50:00",
          "2023-03-28T07:55:00"
         ],
         "xaxis": "x47",
         "y": [
          0,
          0,
          0,
          0,
          0,
          0,
          0,
          0,
          0,
          0,
          0,
          0
         ],
         "yaxis": "y47"
        },
        {
         "alignmentgroup": "True",
         "bingroup": "x",
         "histfunc": "sum",
         "hovertemplate": "road_user_type=car<br>from_section=EAST<br>to_section=PED_BIKE_SOUTH<br>time_interval=%{x}<br>sum of difference=%{y}<extra></extra>",
         "legendgroup": "car",
         "marker": {
          "color": "#636efa",
          "pattern": {
           "shape": ""
          }
         },
         "name": "car",
         "nbinsx": 12,
         "offsetgroup": "car",
         "orientation": "v",
         "showlegend": false,
         "type": "histogram",
         "x": [
          "2023-03-28T07:00:00",
          "2023-03-28T07:05:00",
          "2023-03-28T07:10:00",
          "2023-03-28T07:15:00",
          "2023-03-28T07:20:00",
          "2023-03-28T07:25:00",
          "2023-03-28T07:30:00",
          "2023-03-28T07:35:00",
          "2023-03-28T07:40:00",
          "2023-03-28T07:45:00",
          "2023-03-28T07:50:00",
          "2023-03-28T07:55:00"
         ],
         "xaxis": "x48",
         "y": [
          0,
          0,
          0,
          0,
          0,
          0,
          0,
          0,
          0,
          0,
          0,
          0
         ],
         "yaxis": "y48"
        },
        {
         "alignmentgroup": "True",
         "bingroup": "x",
         "histfunc": "sum",
         "hovertemplate": "road_user_type=car<br>from_section=EAST<br>to_section=PED_BIKE_NORTH<br>time_interval=%{x}<br>sum of difference=%{y}<extra></extra>",
         "legendgroup": "car",
         "marker": {
          "color": "#636efa",
          "pattern": {
           "shape": ""
          }
         },
         "name": "car",
         "nbinsx": 12,
         "offsetgroup": "car",
         "orientation": "v",
         "showlegend": false,
         "type": "histogram",
         "x": [
          "2023-03-28T07:00:00",
          "2023-03-28T07:05:00",
          "2023-03-28T07:10:00",
          "2023-03-28T07:15:00",
          "2023-03-28T07:20:00",
          "2023-03-28T07:25:00",
          "2023-03-28T07:30:00",
          "2023-03-28T07:35:00",
          "2023-03-28T07:40:00",
          "2023-03-28T07:45:00",
          "2023-03-28T07:50:00",
          "2023-03-28T07:55:00"
         ],
         "xaxis": "x49",
         "y": [
          0,
          0,
          0,
          0,
          0,
          0,
          0,
          0,
          0,
          0,
          0,
          0
         ],
         "yaxis": "y49"
        },
        {
         "alignmentgroup": "True",
         "bingroup": "x",
         "histfunc": "sum",
         "hovertemplate": "road_user_type=car<br>from_section=NORTH<br>to_section=SOUTH<br>time_interval=%{x}<br>sum of difference=%{y}<extra></extra>",
         "legendgroup": "car",
         "marker": {
          "color": "#636efa",
          "pattern": {
           "shape": ""
          }
         },
         "name": "car",
         "nbinsx": 12,
         "offsetgroup": "car",
         "orientation": "v",
         "showlegend": false,
         "type": "histogram",
         "x": [
          "2023-03-28T07:00:00",
          "2023-03-28T07:05:00",
          "2023-03-28T07:10:00",
          "2023-03-28T07:15:00",
          "2023-03-28T07:20:00",
          "2023-03-28T07:25:00",
          "2023-03-28T07:30:00",
          "2023-03-28T07:35:00",
          "2023-03-28T07:40:00",
          "2023-03-28T07:45:00",
          "2023-03-28T07:50:00",
          "2023-03-28T07:55:00"
         ],
         "xaxis": "x36",
         "y": [
          2,
          7,
          5,
          0,
          6,
          2,
          2,
          3,
          1,
          6,
          13,
          8
         ],
         "yaxis": "y36"
        },
        {
         "alignmentgroup": "True",
         "bingroup": "x",
         "histfunc": "sum",
         "hovertemplate": "road_user_type=car<br>from_section=NORTH<br>to_section=WEST<br>time_interval=%{x}<br>sum of difference=%{y}<extra></extra>",
         "legendgroup": "car",
         "marker": {
          "color": "#636efa",
          "pattern": {
           "shape": ""
          }
         },
         "name": "car",
         "nbinsx": 12,
         "offsetgroup": "car",
         "orientation": "v",
         "showlegend": false,
         "type": "histogram",
         "x": [
          "2023-03-28T07:00:00",
          "2023-03-28T07:05:00",
          "2023-03-28T07:10:00",
          "2023-03-28T07:15:00",
          "2023-03-28T07:20:00",
          "2023-03-28T07:25:00",
          "2023-03-28T07:30:00",
          "2023-03-28T07:35:00",
          "2023-03-28T07:40:00",
          "2023-03-28T07:45:00",
          "2023-03-28T07:50:00",
          "2023-03-28T07:55:00"
         ],
         "xaxis": "x37",
         "y": [
          0,
          0,
          0,
          0,
          0,
          0,
          0,
          0,
          0,
          0,
          0,
          0
         ],
         "yaxis": "y37"
        },
        {
         "alignmentgroup": "True",
         "bingroup": "x",
         "histfunc": "sum",
         "hovertemplate": "road_user_type=car<br>from_section=NORTH<br>to_section=EAST<br>time_interval=%{x}<br>sum of difference=%{y}<extra></extra>",
         "legendgroup": "car",
         "marker": {
          "color": "#636efa",
          "pattern": {
           "shape": ""
          }
         },
         "name": "car",
         "nbinsx": 12,
         "offsetgroup": "car",
         "orientation": "v",
         "showlegend": false,
         "type": "histogram",
         "x": [
          "2023-03-28T07:00:00",
          "2023-03-28T07:05:00",
          "2023-03-28T07:10:00",
          "2023-03-28T07:15:00",
          "2023-03-28T07:20:00",
          "2023-03-28T07:25:00",
          "2023-03-28T07:30:00",
          "2023-03-28T07:35:00",
          "2023-03-28T07:40:00",
          "2023-03-28T07:45:00",
          "2023-03-28T07:50:00",
          "2023-03-28T07:55:00"
         ],
         "xaxis": "x38",
         "y": [
          0,
          0,
          0,
          0,
          0,
          0,
          0,
          0,
          0,
          0,
          0,
          0
         ],
         "yaxis": "y38"
        },
        {
         "alignmentgroup": "True",
         "bingroup": "x",
         "histfunc": "sum",
         "hovertemplate": "road_user_type=car<br>from_section=NORTH<br>to_section=NORTH<br>time_interval=%{x}<br>sum of difference=%{y}<extra></extra>",
         "legendgroup": "car",
         "marker": {
          "color": "#636efa",
          "pattern": {
           "shape": ""
          }
         },
         "name": "car",
         "nbinsx": 12,
         "offsetgroup": "car",
         "orientation": "v",
         "showlegend": false,
         "type": "histogram",
         "x": [
          "2023-03-28T07:00:00",
          "2023-03-28T07:05:00",
          "2023-03-28T07:10:00",
          "2023-03-28T07:15:00",
          "2023-03-28T07:20:00",
          "2023-03-28T07:25:00",
          "2023-03-28T07:30:00",
          "2023-03-28T07:35:00",
          "2023-03-28T07:40:00",
          "2023-03-28T07:45:00",
          "2023-03-28T07:50:00",
          "2023-03-28T07:55:00"
         ],
         "xaxis": "x40",
         "y": [
          0,
          0,
          0,
          0,
          0,
          0,
          1,
          0,
          0,
          0,
          0,
          1
         ],
         "yaxis": "y40"
        },
        {
         "alignmentgroup": "True",
         "bingroup": "x",
         "histfunc": "sum",
         "hovertemplate": "road_user_type=car<br>from_section=NORTH<br>to_section=PED_BIKE_SOUTH<br>time_interval=%{x}<br>sum of difference=%{y}<extra></extra>",
         "legendgroup": "car",
         "marker": {
          "color": "#636efa",
          "pattern": {
           "shape": ""
          }
         },
         "name": "car",
         "nbinsx": 12,
         "offsetgroup": "car",
         "orientation": "v",
         "showlegend": false,
         "type": "histogram",
         "x": [
          "2023-03-28T07:00:00",
          "2023-03-28T07:05:00",
          "2023-03-28T07:10:00",
          "2023-03-28T07:15:00",
          "2023-03-28T07:20:00",
          "2023-03-28T07:25:00",
          "2023-03-28T07:30:00",
          "2023-03-28T07:35:00",
          "2023-03-28T07:40:00",
          "2023-03-28T07:45:00",
          "2023-03-28T07:50:00",
          "2023-03-28T07:55:00"
         ],
         "xaxis": "x41",
         "y": [
          0,
          0,
          0,
          0,
          0,
          0,
          0,
          0,
          0,
          0,
          0,
          0
         ],
         "yaxis": "y41"
        },
        {
         "alignmentgroup": "True",
         "bingroup": "x",
         "histfunc": "sum",
         "hovertemplate": "road_user_type=car<br>from_section=NORTH<br>to_section=PED_BIKE_NORTH<br>time_interval=%{x}<br>sum of difference=%{y}<extra></extra>",
         "legendgroup": "car",
         "marker": {
          "color": "#636efa",
          "pattern": {
           "shape": ""
          }
         },
         "name": "car",
         "nbinsx": 12,
         "offsetgroup": "car",
         "orientation": "v",
         "showlegend": false,
         "type": "histogram",
         "x": [
          "2023-03-28T07:00:00",
          "2023-03-28T07:05:00",
          "2023-03-28T07:10:00",
          "2023-03-28T07:15:00",
          "2023-03-28T07:20:00",
          "2023-03-28T07:25:00",
          "2023-03-28T07:30:00",
          "2023-03-28T07:35:00",
          "2023-03-28T07:40:00",
          "2023-03-28T07:45:00",
          "2023-03-28T07:50:00",
          "2023-03-28T07:55:00"
         ],
         "xaxis": "x42",
         "y": [
          0,
          0,
          0,
          0,
          0,
          0,
          0,
          0,
          0,
          0,
          0,
          0
         ],
         "yaxis": "y42"
        },
        {
         "alignmentgroup": "True",
         "bingroup": "x",
         "histfunc": "sum",
         "hovertemplate": "road_user_type=car<br>from_section=SOUTH<br>to_section=SOUTH<br>time_interval=%{x}<br>sum of difference=%{y}<extra></extra>",
         "legendgroup": "car",
         "marker": {
          "color": "#636efa",
          "pattern": {
           "shape": ""
          }
         },
         "name": "car",
         "nbinsx": 12,
         "offsetgroup": "car",
         "orientation": "v",
         "showlegend": false,
         "type": "histogram",
         "x": [
          "2023-03-28T07:00:00",
          "2023-03-28T07:05:00",
          "2023-03-28T07:10:00",
          "2023-03-28T07:15:00",
          "2023-03-28T07:20:00",
          "2023-03-28T07:25:00",
          "2023-03-28T07:30:00",
          "2023-03-28T07:35:00",
          "2023-03-28T07:40:00",
          "2023-03-28T07:45:00",
          "2023-03-28T07:50:00",
          "2023-03-28T07:55:00"
         ],
         "xaxis": "x22",
         "y": [
          0,
          0,
          0,
          0,
          0,
          0,
          0,
          0,
          1,
          0,
          0,
          0
         ],
         "yaxis": "y22"
        },
        {
         "alignmentgroup": "True",
         "bingroup": "x",
         "histfunc": "sum",
         "hovertemplate": "road_user_type=car<br>from_section=SOUTH<br>to_section=WEST<br>time_interval=%{x}<br>sum of difference=%{y}<extra></extra>",
         "legendgroup": "car",
         "marker": {
          "color": "#636efa",
          "pattern": {
           "shape": ""
          }
         },
         "name": "car",
         "nbinsx": 12,
         "offsetgroup": "car",
         "orientation": "v",
         "showlegend": false,
         "type": "histogram",
         "x": [
          "2023-03-28T07:00:00",
          "2023-03-28T07:10:00",
          "2023-03-28T07:20:00",
          "2023-03-28T07:30:00",
          "2023-03-28T07:50:00",
          "2023-03-28T07:05:00",
          "2023-03-28T07:15:00",
          "2023-03-28T07:25:00",
          "2023-03-28T07:35:00",
          "2023-03-28T07:40:00",
          "2023-03-28T07:45:00",
          "2023-03-28T07:55:00"
         ],
         "xaxis": "x23",
         "y": [
          1,
          1,
          0,
          0,
          0,
          0,
          0,
          0,
          0,
          0,
          1,
          0
         ],
         "yaxis": "y23"
        },
        {
         "alignmentgroup": "True",
         "bingroup": "x",
         "histfunc": "sum",
         "hovertemplate": "road_user_type=car<br>from_section=SOUTH<br>to_section=EAST<br>time_interval=%{x}<br>sum of difference=%{y}<extra></extra>",
         "legendgroup": "car",
         "marker": {
          "color": "#636efa",
          "pattern": {
           "shape": ""
          }
         },
         "name": "car",
         "nbinsx": 12,
         "offsetgroup": "car",
         "orientation": "v",
         "showlegend": false,
         "type": "histogram",
         "x": [
          "2023-03-28T07:10:00",
          "2023-03-28T07:30:00",
          "2023-03-28T07:40:00",
          "2023-03-28T07:45:00",
          "2023-03-28T07:00:00",
          "2023-03-28T07:05:00",
          "2023-03-28T07:15:00",
          "2023-03-28T07:20:00",
          "2023-03-28T07:25:00",
          "2023-03-28T07:35:00",
          "2023-03-28T07:50:00",
          "2023-03-28T07:55:00"
         ],
         "xaxis": "x24",
         "y": [
          1,
          1,
          1,
          0,
          0,
          0,
          0,
          0,
          0,
          0,
          0,
          0
         ],
         "yaxis": "y24"
        },
        {
         "alignmentgroup": "True",
         "bingroup": "x",
         "histfunc": "sum",
         "hovertemplate": "road_user_type=car<br>from_section=SOUTH<br>to_section=NORTH<br>time_interval=%{x}<br>sum of difference=%{y}<extra></extra>",
         "legendgroup": "car",
         "marker": {
          "color": "#636efa",
          "pattern": {
           "shape": ""
          }
         },
         "name": "car",
         "nbinsx": 12,
         "offsetgroup": "car",
         "orientation": "v",
         "showlegend": false,
         "type": "histogram",
         "x": [
          "2023-03-28T07:00:00",
          "2023-03-28T07:05:00",
          "2023-03-28T07:10:00",
          "2023-03-28T07:15:00",
          "2023-03-28T07:20:00",
          "2023-03-28T07:25:00",
          "2023-03-28T07:30:00",
          "2023-03-28T07:35:00",
          "2023-03-28T07:40:00",
          "2023-03-28T07:45:00",
          "2023-03-28T07:50:00",
          "2023-03-28T07:55:00"
         ],
         "xaxis": "x26",
         "y": [
          17,
          10,
          14,
          12,
          15,
          10,
          20,
          17,
          14,
          21,
          10,
          13
         ],
         "yaxis": "y26"
        },
        {
         "alignmentgroup": "True",
         "bingroup": "x",
         "histfunc": "sum",
         "hovertemplate": "road_user_type=car<br>from_section=SOUTH<br>to_section=PED_BIKE_SOUTH<br>time_interval=%{x}<br>sum of difference=%{y}<extra></extra>",
         "legendgroup": "car",
         "marker": {
          "color": "#636efa",
          "pattern": {
           "shape": ""
          }
         },
         "name": "car",
         "nbinsx": 12,
         "offsetgroup": "car",
         "orientation": "v",
         "showlegend": false,
         "type": "histogram",
         "x": [
          "2023-03-28T07:00:00",
          "2023-03-28T07:05:00",
          "2023-03-28T07:10:00",
          "2023-03-28T07:15:00",
          "2023-03-28T07:20:00",
          "2023-03-28T07:25:00",
          "2023-03-28T07:30:00",
          "2023-03-28T07:35:00",
          "2023-03-28T07:40:00",
          "2023-03-28T07:45:00",
          "2023-03-28T07:50:00",
          "2023-03-28T07:55:00"
         ],
         "xaxis": "x27",
         "y": [
          0,
          0,
          0,
          0,
          0,
          0,
          0,
          0,
          0,
          0,
          0,
          0
         ],
         "yaxis": "y27"
        },
        {
         "alignmentgroup": "True",
         "bingroup": "x",
         "histfunc": "sum",
         "hovertemplate": "road_user_type=car<br>from_section=SOUTH<br>to_section=PED_BIKE_NORTH<br>time_interval=%{x}<br>sum of difference=%{y}<extra></extra>",
         "legendgroup": "car",
         "marker": {
          "color": "#636efa",
          "pattern": {
           "shape": ""
          }
         },
         "name": "car",
         "nbinsx": 12,
         "offsetgroup": "car",
         "orientation": "v",
         "showlegend": false,
         "type": "histogram",
         "x": [
          "2023-03-28T07:00:00",
          "2023-03-28T07:05:00",
          "2023-03-28T07:10:00",
          "2023-03-28T07:15:00",
          "2023-03-28T07:20:00",
          "2023-03-28T07:25:00",
          "2023-03-28T07:30:00",
          "2023-03-28T07:35:00",
          "2023-03-28T07:40:00",
          "2023-03-28T07:45:00",
          "2023-03-28T07:50:00",
          "2023-03-28T07:55:00"
         ],
         "xaxis": "x28",
         "y": [
          0,
          0,
          0,
          0,
          0,
          0,
          0,
          0,
          0,
          0,
          0,
          0
         ],
         "yaxis": "y28"
        },
        {
         "alignmentgroup": "True",
         "bingroup": "x",
         "histfunc": "sum",
         "hovertemplate": "road_user_type=car<br>from_section=WEST<br>to_section=SOUTH<br>time_interval=%{x}<br>sum of difference=%{y}<extra></extra>",
         "legendgroup": "car",
         "marker": {
          "color": "#636efa",
          "pattern": {
           "shape": ""
          }
         },
         "name": "car",
         "nbinsx": 12,
         "offsetgroup": "car",
         "orientation": "v",
         "showlegend": false,
         "type": "histogram",
         "x": [
          "2023-03-28T07:05:00",
          "2023-03-28T07:40:00",
          "2023-03-28T07:00:00",
          "2023-03-28T07:10:00",
          "2023-03-28T07:15:00",
          "2023-03-28T07:20:00",
          "2023-03-28T07:25:00",
          "2023-03-28T07:30:00",
          "2023-03-28T07:35:00",
          "2023-03-28T07:45:00",
          "2023-03-28T07:50:00",
          "2023-03-28T07:55:00"
         ],
         "xaxis": "x15",
         "y": [
          1,
          1,
          0,
          0,
          0,
          0,
          0,
          0,
          0,
          0,
          0,
          0
         ],
         "yaxis": "y15"
        },
        {
         "alignmentgroup": "True",
         "bingroup": "x",
         "histfunc": "sum",
         "hovertemplate": "road_user_type=car<br>from_section=WEST<br>to_section=WEST<br>time_interval=%{x}<br>sum of difference=%{y}<extra></extra>",
         "legendgroup": "car",
         "marker": {
          "color": "#636efa",
          "pattern": {
           "shape": ""
          }
         },
         "name": "car",
         "nbinsx": 12,
         "offsetgroup": "car",
         "orientation": "v",
         "showlegend": false,
         "type": "histogram",
         "x": [
          "2023-03-28T07:00:00",
          "2023-03-28T07:05:00",
          "2023-03-28T07:10:00",
          "2023-03-28T07:15:00",
          "2023-03-28T07:20:00",
          "2023-03-28T07:25:00",
          "2023-03-28T07:30:00",
          "2023-03-28T07:35:00",
          "2023-03-28T07:40:00",
          "2023-03-28T07:45:00",
          "2023-03-28T07:50:00",
          "2023-03-28T07:55:00"
         ],
         "xaxis": "x16",
         "y": [
          0,
          0,
          0,
          0,
          0,
          0,
          0,
          0,
          0,
          0,
          0,
          1
         ],
         "yaxis": "y16"
        },
        {
         "alignmentgroup": "True",
         "bingroup": "x",
         "histfunc": "sum",
         "hovertemplate": "road_user_type=car<br>from_section=WEST<br>to_section=EAST<br>time_interval=%{x}<br>sum of difference=%{y}<extra></extra>",
         "legendgroup": "car",
         "marker": {
          "color": "#636efa",
          "pattern": {
           "shape": ""
          }
         },
         "name": "car",
         "nbinsx": 12,
         "offsetgroup": "car",
         "orientation": "v",
         "showlegend": false,
         "type": "histogram",
         "x": [
          "2023-03-28T07:00:00",
          "2023-03-28T07:05:00",
          "2023-03-28T07:10:00",
          "2023-03-28T07:15:00",
          "2023-03-28T07:20:00",
          "2023-03-28T07:25:00",
          "2023-03-28T07:30:00",
          "2023-03-28T07:35:00",
          "2023-03-28T07:40:00",
          "2023-03-28T07:45:00",
          "2023-03-28T07:50:00",
          "2023-03-28T07:55:00"
         ],
         "xaxis": "x17",
         "y": [
          0,
          0,
          0,
          0,
          0,
          0,
          0,
          0,
          0,
          0,
          0,
          0
         ],
         "yaxis": "y17"
        },
        {
         "alignmentgroup": "True",
         "bingroup": "x",
         "histfunc": "sum",
         "hovertemplate": "road_user_type=car<br>from_section=WEST<br>to_section=NORTH<br>time_interval=%{x}<br>sum of difference=%{y}<extra></extra>",
         "legendgroup": "car",
         "marker": {
          "color": "#636efa",
          "pattern": {
           "shape": ""
          }
         },
         "name": "car",
         "nbinsx": 12,
         "offsetgroup": "car",
         "orientation": "v",
         "showlegend": false,
         "type": "histogram",
         "x": [
          "2023-03-28T07:05:00",
          "2023-03-28T07:00:00",
          "2023-03-28T07:10:00",
          "2023-03-28T07:15:00",
          "2023-03-28T07:20:00",
          "2023-03-28T07:25:00",
          "2023-03-28T07:30:00",
          "2023-03-28T07:35:00",
          "2023-03-28T07:40:00",
          "2023-03-28T07:45:00",
          "2023-03-28T07:50:00",
          "2023-03-28T07:55:00"
         ],
         "xaxis": "x19",
         "y": [
          1,
          0,
          0,
          0,
          0,
          0,
          0,
          0,
          0,
          0,
          0,
          0
         ],
         "yaxis": "y19"
        },
        {
         "alignmentgroup": "True",
         "bingroup": "x",
         "histfunc": "sum",
         "hovertemplate": "road_user_type=car<br>from_section=WEST<br>to_section=PED_BIKE_SOUTH<br>time_interval=%{x}<br>sum of difference=%{y}<extra></extra>",
         "legendgroup": "car",
         "marker": {
          "color": "#636efa",
          "pattern": {
           "shape": ""
          }
         },
         "name": "car",
         "nbinsx": 12,
         "offsetgroup": "car",
         "orientation": "v",
         "showlegend": false,
         "type": "histogram",
         "x": [
          "2023-03-28T07:00:00",
          "2023-03-28T07:05:00",
          "2023-03-28T07:10:00",
          "2023-03-28T07:15:00",
          "2023-03-28T07:20:00",
          "2023-03-28T07:25:00",
          "2023-03-28T07:30:00",
          "2023-03-28T07:35:00",
          "2023-03-28T07:40:00",
          "2023-03-28T07:45:00",
          "2023-03-28T07:50:00",
          "2023-03-28T07:55:00"
         ],
         "xaxis": "x20",
         "y": [
          0,
          0,
          0,
          0,
          0,
          0,
          0,
          0,
          0,
          0,
          0,
          0
         ],
         "yaxis": "y20"
        },
        {
         "alignmentgroup": "True",
         "bingroup": "x",
         "histfunc": "sum",
         "hovertemplate": "road_user_type=car<br>from_section=WEST<br>to_section=PED_BIKE_NORTH<br>time_interval=%{x}<br>sum of difference=%{y}<extra></extra>",
         "legendgroup": "car",
         "marker": {
          "color": "#636efa",
          "pattern": {
           "shape": ""
          }
         },
         "name": "car",
         "nbinsx": 12,
         "offsetgroup": "car",
         "orientation": "v",
         "showlegend": false,
         "type": "histogram",
         "x": [
          "2023-03-28T07:00:00",
          "2023-03-28T07:05:00",
          "2023-03-28T07:10:00",
          "2023-03-28T07:15:00",
          "2023-03-28T07:20:00",
          "2023-03-28T07:25:00",
          "2023-03-28T07:30:00",
          "2023-03-28T07:35:00",
          "2023-03-28T07:40:00",
          "2023-03-28T07:45:00",
          "2023-03-28T07:50:00",
          "2023-03-28T07:55:00"
         ],
         "xaxis": "x21",
         "y": [
          0,
          0,
          0,
          0,
          0,
          0,
          0,
          0,
          0,
          0,
          0,
          0
         ],
         "yaxis": "y21"
        },
        {
         "alignmentgroup": "True",
         "bingroup": "x",
         "histfunc": "sum",
         "hovertemplate": "road_user_type=car<br>from_section=PED_BIKE_SOUTH<br>to_section=SOUTH<br>time_interval=%{x}<br>sum of difference=%{y}<extra></extra>",
         "legendgroup": "car",
         "marker": {
          "color": "#636efa",
          "pattern": {
           "shape": ""
          }
         },
         "name": "car",
         "nbinsx": 12,
         "offsetgroup": "car",
         "orientation": "v",
         "showlegend": false,
         "type": "histogram",
         "x": [
          "2023-03-28T07:00:00",
          "2023-03-28T07:05:00",
          "2023-03-28T07:10:00",
          "2023-03-28T07:15:00",
          "2023-03-28T07:20:00",
          "2023-03-28T07:25:00",
          "2023-03-28T07:30:00",
          "2023-03-28T07:35:00",
          "2023-03-28T07:40:00",
          "2023-03-28T07:45:00",
          "2023-03-28T07:50:00",
          "2023-03-28T07:55:00"
         ],
         "xaxis": "x8",
         "y": [
          0,
          0,
          0,
          0,
          0,
          0,
          0,
          0,
          0,
          0,
          0,
          0
         ],
         "yaxis": "y8"
        },
        {
         "alignmentgroup": "True",
         "bingroup": "x",
         "histfunc": "sum",
         "hovertemplate": "road_user_type=car<br>from_section=PED_BIKE_SOUTH<br>to_section=WEST<br>time_interval=%{x}<br>sum of difference=%{y}<extra></extra>",
         "legendgroup": "car",
         "marker": {
          "color": "#636efa",
          "pattern": {
           "shape": ""
          }
         },
         "name": "car",
         "nbinsx": 12,
         "offsetgroup": "car",
         "orientation": "v",
         "showlegend": false,
         "type": "histogram",
         "x": [
          "2023-03-28T07:00:00",
          "2023-03-28T07:05:00",
          "2023-03-28T07:10:00",
          "2023-03-28T07:15:00",
          "2023-03-28T07:20:00",
          "2023-03-28T07:25:00",
          "2023-03-28T07:30:00",
          "2023-03-28T07:35:00",
          "2023-03-28T07:40:00",
          "2023-03-28T07:45:00",
          "2023-03-28T07:50:00",
          "2023-03-28T07:55:00"
         ],
         "xaxis": "x9",
         "y": [
          0,
          0,
          0,
          0,
          0,
          0,
          0,
          0,
          0,
          0,
          0,
          0
         ],
         "yaxis": "y9"
        },
        {
         "alignmentgroup": "True",
         "bingroup": "x",
         "histfunc": "sum",
         "hovertemplate": "road_user_type=car<br>from_section=PED_BIKE_SOUTH<br>to_section=EAST<br>time_interval=%{x}<br>sum of difference=%{y}<extra></extra>",
         "legendgroup": "car",
         "marker": {
          "color": "#636efa",
          "pattern": {
           "shape": ""
          }
         },
         "name": "car",
         "nbinsx": 12,
         "offsetgroup": "car",
         "orientation": "v",
         "showlegend": false,
         "type": "histogram",
         "x": [
          "2023-03-28T07:00:00",
          "2023-03-28T07:05:00",
          "2023-03-28T07:10:00",
          "2023-03-28T07:15:00",
          "2023-03-28T07:20:00",
          "2023-03-28T07:25:00",
          "2023-03-28T07:30:00",
          "2023-03-28T07:35:00",
          "2023-03-28T07:40:00",
          "2023-03-28T07:45:00",
          "2023-03-28T07:50:00",
          "2023-03-28T07:55:00"
         ],
         "xaxis": "x10",
         "y": [
          0,
          0,
          0,
          0,
          0,
          0,
          0,
          0,
          0,
          0,
          0,
          0
         ],
         "yaxis": "y10"
        },
        {
         "alignmentgroup": "True",
         "bingroup": "x",
         "histfunc": "sum",
         "hovertemplate": "road_user_type=car<br>from_section=PED_BIKE_SOUTH<br>to_section=NORTH<br>time_interval=%{x}<br>sum of difference=%{y}<extra></extra>",
         "legendgroup": "car",
         "marker": {
          "color": "#636efa",
          "pattern": {
           "shape": ""
          }
         },
         "name": "car",
         "nbinsx": 12,
         "offsetgroup": "car",
         "orientation": "v",
         "showlegend": false,
         "type": "histogram",
         "x": [
          "2023-03-28T07:00:00",
          "2023-03-28T07:05:00",
          "2023-03-28T07:10:00",
          "2023-03-28T07:15:00",
          "2023-03-28T07:20:00",
          "2023-03-28T07:25:00",
          "2023-03-28T07:30:00",
          "2023-03-28T07:35:00",
          "2023-03-28T07:40:00",
          "2023-03-28T07:45:00",
          "2023-03-28T07:50:00",
          "2023-03-28T07:55:00"
         ],
         "xaxis": "x12",
         "y": [
          0,
          0,
          0,
          0,
          0,
          0,
          0,
          0,
          0,
          0,
          0,
          0
         ],
         "yaxis": "y12"
        },
        {
         "alignmentgroup": "True",
         "bingroup": "x",
         "histfunc": "sum",
         "hovertemplate": "road_user_type=car<br>from_section=PED_BIKE_SOUTH<br>to_section=PED_BIKE_SOUTH<br>time_interval=%{x}<br>sum of difference=%{y}<extra></extra>",
         "legendgroup": "car",
         "marker": {
          "color": "#636efa",
          "pattern": {
           "shape": ""
          }
         },
         "name": "car",
         "nbinsx": 12,
         "offsetgroup": "car",
         "orientation": "v",
         "showlegend": false,
         "type": "histogram",
         "x": [
          "2023-03-28T07:00:00",
          "2023-03-28T07:05:00",
          "2023-03-28T07:10:00",
          "2023-03-28T07:15:00",
          "2023-03-28T07:20:00",
          "2023-03-28T07:25:00",
          "2023-03-28T07:30:00",
          "2023-03-28T07:35:00",
          "2023-03-28T07:40:00",
          "2023-03-28T07:45:00",
          "2023-03-28T07:50:00",
          "2023-03-28T07:55:00"
         ],
         "xaxis": "x13",
         "y": [
          0,
          0,
          0,
          0,
          0,
          0,
          0,
          0,
          0,
          0,
          0,
          0
         ],
         "yaxis": "y13"
        },
        {
         "alignmentgroup": "True",
         "bingroup": "x",
         "histfunc": "sum",
         "hovertemplate": "road_user_type=car<br>from_section=PED_BIKE_SOUTH<br>to_section=PED_BIKE_NORTH<br>time_interval=%{x}<br>sum of difference=%{y}<extra></extra>",
         "legendgroup": "car",
         "marker": {
          "color": "#636efa",
          "pattern": {
           "shape": ""
          }
         },
         "name": "car",
         "nbinsx": 12,
         "offsetgroup": "car",
         "orientation": "v",
         "showlegend": false,
         "type": "histogram",
         "x": [
          "2023-03-28T07:00:00",
          "2023-03-28T07:05:00",
          "2023-03-28T07:10:00",
          "2023-03-28T07:15:00",
          "2023-03-28T07:20:00",
          "2023-03-28T07:25:00",
          "2023-03-28T07:30:00",
          "2023-03-28T07:35:00",
          "2023-03-28T07:40:00",
          "2023-03-28T07:45:00",
          "2023-03-28T07:50:00",
          "2023-03-28T07:55:00"
         ],
         "xaxis": "x14",
         "y": [
          0,
          0,
          0,
          0,
          0,
          0,
          0,
          0,
          0,
          0,
          0,
          0
         ],
         "yaxis": "y14"
        },
        {
         "alignmentgroup": "True",
         "bingroup": "x",
         "histfunc": "sum",
         "hovertemplate": "road_user_type=car<br>from_section=PED_BIKE_NORTH<br>to_section=SOUTH<br>time_interval=%{x}<br>sum of difference=%{y}<extra></extra>",
         "legendgroup": "car",
         "marker": {
          "color": "#636efa",
          "pattern": {
           "shape": ""
          }
         },
         "name": "car",
         "nbinsx": 12,
         "offsetgroup": "car",
         "orientation": "v",
         "showlegend": false,
         "type": "histogram",
         "x": [
          "2023-03-28T07:00:00",
          "2023-03-28T07:05:00",
          "2023-03-28T07:10:00",
          "2023-03-28T07:15:00",
          "2023-03-28T07:20:00",
          "2023-03-28T07:25:00",
          "2023-03-28T07:30:00",
          "2023-03-28T07:35:00",
          "2023-03-28T07:40:00",
          "2023-03-28T07:45:00",
          "2023-03-28T07:50:00",
          "2023-03-28T07:55:00"
         ],
         "xaxis": "x",
         "y": [
          0,
          0,
          0,
          0,
          0,
          0,
          0,
          0,
          0,
          0,
          0,
          0
         ],
         "yaxis": "y"
        },
        {
         "alignmentgroup": "True",
         "bingroup": "x",
         "histfunc": "sum",
         "hovertemplate": "road_user_type=car<br>from_section=PED_BIKE_NORTH<br>to_section=WEST<br>time_interval=%{x}<br>sum of difference=%{y}<extra></extra>",
         "legendgroup": "car",
         "marker": {
          "color": "#636efa",
          "pattern": {
           "shape": ""
          }
         },
         "name": "car",
         "nbinsx": 12,
         "offsetgroup": "car",
         "orientation": "v",
         "showlegend": false,
         "type": "histogram",
         "x": [
          "2023-03-28T07:00:00",
          "2023-03-28T07:05:00",
          "2023-03-28T07:10:00",
          "2023-03-28T07:15:00",
          "2023-03-28T07:20:00",
          "2023-03-28T07:25:00",
          "2023-03-28T07:30:00",
          "2023-03-28T07:35:00",
          "2023-03-28T07:40:00",
          "2023-03-28T07:45:00",
          "2023-03-28T07:50:00",
          "2023-03-28T07:55:00"
         ],
         "xaxis": "x2",
         "y": [
          0,
          0,
          0,
          0,
          0,
          0,
          0,
          0,
          0,
          0,
          0,
          0
         ],
         "yaxis": "y2"
        },
        {
         "alignmentgroup": "True",
         "bingroup": "x",
         "histfunc": "sum",
         "hovertemplate": "road_user_type=car<br>from_section=PED_BIKE_NORTH<br>to_section=EAST<br>time_interval=%{x}<br>sum of difference=%{y}<extra></extra>",
         "legendgroup": "car",
         "marker": {
          "color": "#636efa",
          "pattern": {
           "shape": ""
          }
         },
         "name": "car",
         "nbinsx": 12,
         "offsetgroup": "car",
         "orientation": "v",
         "showlegend": false,
         "type": "histogram",
         "x": [
          "2023-03-28T07:00:00",
          "2023-03-28T07:05:00",
          "2023-03-28T07:10:00",
          "2023-03-28T07:15:00",
          "2023-03-28T07:20:00",
          "2023-03-28T07:25:00",
          "2023-03-28T07:30:00",
          "2023-03-28T07:35:00",
          "2023-03-28T07:40:00",
          "2023-03-28T07:45:00",
          "2023-03-28T07:50:00",
          "2023-03-28T07:55:00"
         ],
         "xaxis": "x3",
         "y": [
          0,
          0,
          0,
          0,
          0,
          0,
          0,
          0,
          0,
          0,
          0,
          0
         ],
         "yaxis": "y3"
        },
        {
         "alignmentgroup": "True",
         "bingroup": "x",
         "histfunc": "sum",
         "hovertemplate": "road_user_type=car<br>from_section=PED_BIKE_NORTH<br>to_section=NORTH<br>time_interval=%{x}<br>sum of difference=%{y}<extra></extra>",
         "legendgroup": "car",
         "marker": {
          "color": "#636efa",
          "pattern": {
           "shape": ""
          }
         },
         "name": "car",
         "nbinsx": 12,
         "offsetgroup": "car",
         "orientation": "v",
         "showlegend": false,
         "type": "histogram",
         "x": [
          "2023-03-28T07:00:00",
          "2023-03-28T07:05:00",
          "2023-03-28T07:10:00",
          "2023-03-28T07:15:00",
          "2023-03-28T07:20:00",
          "2023-03-28T07:25:00",
          "2023-03-28T07:30:00",
          "2023-03-28T07:35:00",
          "2023-03-28T07:40:00",
          "2023-03-28T07:45:00",
          "2023-03-28T07:50:00",
          "2023-03-28T07:55:00"
         ],
         "xaxis": "x5",
         "y": [
          0,
          0,
          0,
          0,
          0,
          0,
          0,
          0,
          0,
          0,
          0,
          0
         ],
         "yaxis": "y5"
        },
        {
         "alignmentgroup": "True",
         "bingroup": "x",
         "histfunc": "sum",
         "hovertemplate": "road_user_type=car<br>from_section=PED_BIKE_NORTH<br>to_section=PED_BIKE_SOUTH<br>time_interval=%{x}<br>sum of difference=%{y}<extra></extra>",
         "legendgroup": "car",
         "marker": {
          "color": "#636efa",
          "pattern": {
           "shape": ""
          }
         },
         "name": "car",
         "nbinsx": 12,
         "offsetgroup": "car",
         "orientation": "v",
         "showlegend": false,
         "type": "histogram",
         "x": [
          "2023-03-28T07:00:00",
          "2023-03-28T07:05:00",
          "2023-03-28T07:10:00",
          "2023-03-28T07:15:00",
          "2023-03-28T07:20:00",
          "2023-03-28T07:25:00",
          "2023-03-28T07:30:00",
          "2023-03-28T07:35:00",
          "2023-03-28T07:40:00",
          "2023-03-28T07:45:00",
          "2023-03-28T07:50:00",
          "2023-03-28T07:55:00"
         ],
         "xaxis": "x6",
         "y": [
          0,
          0,
          0,
          0,
          0,
          0,
          0,
          0,
          0,
          0,
          0,
          0
         ],
         "yaxis": "y6"
        },
        {
         "alignmentgroup": "True",
         "bingroup": "x",
         "histfunc": "sum",
         "hovertemplate": "road_user_type=car<br>from_section=PED_BIKE_NORTH<br>to_section=PED_BIKE_NORTH<br>time_interval=%{x}<br>sum of difference=%{y}<extra></extra>",
         "legendgroup": "car",
         "marker": {
          "color": "#636efa",
          "pattern": {
           "shape": ""
          }
         },
         "name": "car",
         "nbinsx": 12,
         "offsetgroup": "car",
         "orientation": "v",
         "showlegend": false,
         "type": "histogram",
         "x": [
          "2023-03-28T07:00:00",
          "2023-03-28T07:05:00",
          "2023-03-28T07:10:00",
          "2023-03-28T07:15:00",
          "2023-03-28T07:20:00",
          "2023-03-28T07:25:00",
          "2023-03-28T07:30:00",
          "2023-03-28T07:35:00",
          "2023-03-28T07:40:00",
          "2023-03-28T07:45:00",
          "2023-03-28T07:50:00",
          "2023-03-28T07:55:00"
         ],
         "xaxis": "x7",
         "y": [
          0,
          0,
          0,
          0,
          0,
          0,
          0,
          0,
          0,
          0,
          0,
          0
         ],
         "yaxis": "y7"
        },
        {
         "alignmentgroup": "True",
         "bingroup": "x",
         "histfunc": "sum",
         "hovertemplate": "road_user_type=pedestrian<br>from_section=EAST<br>to_section=WEST<br>time_interval=%{x}<br>sum of difference=%{y}<extra></extra>",
         "legendgroup": "pedestrian",
         "marker": {
          "color": "#EF553B",
          "pattern": {
           "shape": ""
          }
         },
         "name": "pedestrian",
         "nbinsx": 12,
         "offsetgroup": "pedestrian",
         "orientation": "v",
         "showlegend": true,
         "type": "histogram",
         "x": [
          "2023-03-28T07:15:00",
          "2023-03-28T07:50:00"
         ],
         "xaxis": "x44",
         "y": [
          1,
          1
         ],
         "yaxis": "y44"
        },
        {
         "alignmentgroup": "True",
         "bingroup": "x",
         "histfunc": "sum",
         "hovertemplate": "road_user_type=pedestrian<br>from_section=SIDEWALK<br>to_section=SIDEWALK<br>time_interval=%{x}<br>sum of difference=%{y}<extra></extra>",
         "legendgroup": "pedestrian",
         "marker": {
          "color": "#EF553B",
          "pattern": {
           "shape": ""
          }
         },
         "name": "pedestrian",
         "nbinsx": 12,
         "offsetgroup": "pedestrian",
         "orientation": "v",
         "showlegend": false,
         "type": "histogram",
         "x": [
          "2023-03-28T07:50:00"
         ],
         "xaxis": "x32",
         "y": [
          2
         ],
         "yaxis": "y32"
        },
        {
         "alignmentgroup": "True",
         "bingroup": "x",
         "histfunc": "sum",
         "hovertemplate": "road_user_type=pedestrian<br>from_section=WEST<br>to_section=EAST<br>time_interval=%{x}<br>sum of difference=%{y}<extra></extra>",
         "legendgroup": "pedestrian",
         "marker": {
          "color": "#EF553B",
          "pattern": {
           "shape": ""
          }
         },
         "name": "pedestrian",
         "nbinsx": 12,
         "offsetgroup": "pedestrian",
         "orientation": "v",
         "showlegend": false,
         "type": "histogram",
         "x": [
          "2023-03-28T07:40:00",
          "2023-03-28T07:50:00"
         ],
         "xaxis": "x17",
         "y": [
          1,
          1
         ],
         "yaxis": "y17"
        },
        {
         "alignmentgroup": "True",
         "bingroup": "x",
         "histfunc": "sum",
         "hovertemplate": "road_user_type=truck<br>from_section=EAST<br>to_section=SOUTH<br>time_interval=%{x}<br>sum of difference=%{y}<extra></extra>",
         "legendgroup": "truck",
         "marker": {
          "color": "#00cc96",
          "pattern": {
           "shape": ""
          }
         },
         "name": "truck",
         "nbinsx": 12,
         "offsetgroup": "truck",
         "orientation": "v",
         "showlegend": true,
         "type": "histogram",
         "x": [
          "2023-03-28T07:00:00",
          "2023-03-28T07:05:00",
          "2023-03-28T07:10:00",
          "2023-03-28T07:15:00",
          "2023-03-28T07:20:00",
          "2023-03-28T07:25:00",
          "2023-03-28T07:30:00",
          "2023-03-28T07:35:00",
          "2023-03-28T07:40:00",
          "2023-03-28T07:45:00",
          "2023-03-28T07:50:00",
          "2023-03-28T07:55:00"
         ],
         "xaxis": "x43",
         "y": [
          0,
          0,
          0,
          0,
          0,
          0,
          0,
          0,
          0,
          0,
          0,
          0
         ],
         "yaxis": "y43"
        },
        {
         "alignmentgroup": "True",
         "bingroup": "x",
         "histfunc": "sum",
         "hovertemplate": "road_user_type=truck<br>from_section=EAST<br>to_section=WEST<br>time_interval=%{x}<br>sum of difference=%{y}<extra></extra>",
         "legendgroup": "truck",
         "marker": {
          "color": "#00cc96",
          "pattern": {
           "shape": ""
          }
         },
         "name": "truck",
         "nbinsx": 12,
         "offsetgroup": "truck",
         "orientation": "v",
         "showlegend": false,
         "type": "histogram",
         "x": [
          "2023-03-28T07:00:00",
          "2023-03-28T07:05:00",
          "2023-03-28T07:10:00",
          "2023-03-28T07:15:00",
          "2023-03-28T07:20:00",
          "2023-03-28T07:25:00",
          "2023-03-28T07:30:00",
          "2023-03-28T07:35:00",
          "2023-03-28T07:40:00",
          "2023-03-28T07:45:00",
          "2023-03-28T07:50:00",
          "2023-03-28T07:55:00"
         ],
         "xaxis": "x44",
         "y": [
          0,
          0,
          0,
          0,
          0,
          0,
          0,
          0,
          0,
          0,
          0,
          0
         ],
         "yaxis": "y44"
        },
        {
         "alignmentgroup": "True",
         "bingroup": "x",
         "histfunc": "sum",
         "hovertemplate": "road_user_type=truck<br>from_section=EAST<br>to_section=EAST<br>time_interval=%{x}<br>sum of difference=%{y}<extra></extra>",
         "legendgroup": "truck",
         "marker": {
          "color": "#00cc96",
          "pattern": {
           "shape": ""
          }
         },
         "name": "truck",
         "nbinsx": 12,
         "offsetgroup": "truck",
         "orientation": "v",
         "showlegend": false,
         "type": "histogram",
         "x": [
          "2023-03-28T07:00:00",
          "2023-03-28T07:05:00",
          "2023-03-28T07:10:00",
          "2023-03-28T07:15:00",
          "2023-03-28T07:20:00",
          "2023-03-28T07:25:00",
          "2023-03-28T07:30:00",
          "2023-03-28T07:35:00",
          "2023-03-28T07:40:00",
          "2023-03-28T07:45:00",
          "2023-03-28T07:50:00",
          "2023-03-28T07:55:00"
         ],
         "xaxis": "x45",
         "y": [
          0,
          0,
          0,
          0,
          0,
          0,
          0,
          0,
          0,
          0,
          0,
          0
         ],
         "yaxis": "y45"
        },
        {
         "alignmentgroup": "True",
         "bingroup": "x",
         "histfunc": "sum",
         "hovertemplate": "road_user_type=truck<br>from_section=EAST<br>to_section=NORTH<br>time_interval=%{x}<br>sum of difference=%{y}<extra></extra>",
         "legendgroup": "truck",
         "marker": {
          "color": "#00cc96",
          "pattern": {
           "shape": ""
          }
         },
         "name": "truck",
         "nbinsx": 12,
         "offsetgroup": "truck",
         "orientation": "v",
         "showlegend": false,
         "type": "histogram",
         "x": [
          "2023-03-28T07:00:00",
          "2023-03-28T07:05:00",
          "2023-03-28T07:10:00",
          "2023-03-28T07:15:00",
          "2023-03-28T07:20:00",
          "2023-03-28T07:25:00",
          "2023-03-28T07:30:00",
          "2023-03-28T07:35:00",
          "2023-03-28T07:40:00",
          "2023-03-28T07:45:00",
          "2023-03-28T07:50:00",
          "2023-03-28T07:55:00"
         ],
         "xaxis": "x47",
         "y": [
          0,
          0,
          0,
          0,
          0,
          0,
          0,
          0,
          0,
          0,
          0,
          0
         ],
         "yaxis": "y47"
        },
        {
         "alignmentgroup": "True",
         "bingroup": "x",
         "histfunc": "sum",
         "hovertemplate": "road_user_type=truck<br>from_section=EAST<br>to_section=PED_BIKE_SOUTH<br>time_interval=%{x}<br>sum of difference=%{y}<extra></extra>",
         "legendgroup": "truck",
         "marker": {
          "color": "#00cc96",
          "pattern": {
           "shape": ""
          }
         },
         "name": "truck",
         "nbinsx": 12,
         "offsetgroup": "truck",
         "orientation": "v",
         "showlegend": false,
         "type": "histogram",
         "x": [
          "2023-03-28T07:00:00",
          "2023-03-28T07:05:00",
          "2023-03-28T07:10:00",
          "2023-03-28T07:15:00",
          "2023-03-28T07:20:00",
          "2023-03-28T07:25:00",
          "2023-03-28T07:30:00",
          "2023-03-28T07:35:00",
          "2023-03-28T07:40:00",
          "2023-03-28T07:45:00",
          "2023-03-28T07:50:00",
          "2023-03-28T07:55:00"
         ],
         "xaxis": "x48",
         "y": [
          0,
          0,
          0,
          0,
          0,
          0,
          0,
          0,
          0,
          0,
          0,
          0
         ],
         "yaxis": "y48"
        },
        {
         "alignmentgroup": "True",
         "bingroup": "x",
         "histfunc": "sum",
         "hovertemplate": "road_user_type=truck<br>from_section=EAST<br>to_section=PED_BIKE_NORTH<br>time_interval=%{x}<br>sum of difference=%{y}<extra></extra>",
         "legendgroup": "truck",
         "marker": {
          "color": "#00cc96",
          "pattern": {
           "shape": ""
          }
         },
         "name": "truck",
         "nbinsx": 12,
         "offsetgroup": "truck",
         "orientation": "v",
         "showlegend": false,
         "type": "histogram",
         "x": [
          "2023-03-28T07:00:00",
          "2023-03-28T07:05:00",
          "2023-03-28T07:10:00",
          "2023-03-28T07:15:00",
          "2023-03-28T07:20:00",
          "2023-03-28T07:25:00",
          "2023-03-28T07:30:00",
          "2023-03-28T07:35:00",
          "2023-03-28T07:40:00",
          "2023-03-28T07:45:00",
          "2023-03-28T07:50:00",
          "2023-03-28T07:55:00"
         ],
         "xaxis": "x49",
         "y": [
          0,
          0,
          0,
          0,
          0,
          0,
          0,
          0,
          0,
          0,
          0,
          0
         ],
         "yaxis": "y49"
        },
        {
         "alignmentgroup": "True",
         "bingroup": "x",
         "histfunc": "sum",
         "hovertemplate": "road_user_type=truck<br>from_section=NORTH<br>to_section=SOUTH<br>time_interval=%{x}<br>sum of difference=%{y}<extra></extra>",
         "legendgroup": "truck",
         "marker": {
          "color": "#00cc96",
          "pattern": {
           "shape": ""
          }
         },
         "name": "truck",
         "nbinsx": 12,
         "offsetgroup": "truck",
         "orientation": "v",
         "showlegend": false,
         "type": "histogram",
         "x": [
          "2023-03-28T07:05:00",
          "2023-03-28T07:20:00",
          "2023-03-28T07:35:00",
          "2023-03-28T07:45:00",
          "2023-03-28T07:50:00",
          "2023-03-28T07:55:00",
          "2023-03-28T07:00:00",
          "2023-03-28T07:10:00",
          "2023-03-28T07:15:00",
          "2023-03-28T07:25:00",
          "2023-03-28T07:30:00",
          "2023-03-28T07:40:00"
         ],
         "xaxis": "x36",
         "y": [
          0,
          1,
          1,
          1,
          0,
          0,
          1,
          0,
          0,
          0,
          0,
          0
         ],
         "yaxis": "y36"
        },
        {
         "alignmentgroup": "True",
         "bingroup": "x",
         "histfunc": "sum",
         "hovertemplate": "road_user_type=truck<br>from_section=NORTH<br>to_section=WEST<br>time_interval=%{x}<br>sum of difference=%{y}<extra></extra>",
         "legendgroup": "truck",
         "marker": {
          "color": "#00cc96",
          "pattern": {
           "shape": ""
          }
         },
         "name": "truck",
         "nbinsx": 12,
         "offsetgroup": "truck",
         "orientation": "v",
         "showlegend": false,
         "type": "histogram",
         "x": [
          "2023-03-28T07:00:00",
          "2023-03-28T07:05:00",
          "2023-03-28T07:10:00",
          "2023-03-28T07:15:00",
          "2023-03-28T07:20:00",
          "2023-03-28T07:25:00",
          "2023-03-28T07:30:00",
          "2023-03-28T07:35:00",
          "2023-03-28T07:40:00",
          "2023-03-28T07:45:00",
          "2023-03-28T07:50:00",
          "2023-03-28T07:55:00"
         ],
         "xaxis": "x37",
         "y": [
          0,
          0,
          0,
          0,
          0,
          0,
          0,
          0,
          0,
          0,
          0,
          0
         ],
         "yaxis": "y37"
        },
        {
         "alignmentgroup": "True",
         "bingroup": "x",
         "histfunc": "sum",
         "hovertemplate": "road_user_type=truck<br>from_section=NORTH<br>to_section=EAST<br>time_interval=%{x}<br>sum of difference=%{y}<extra></extra>",
         "legendgroup": "truck",
         "marker": {
          "color": "#00cc96",
          "pattern": {
           "shape": ""
          }
         },
         "name": "truck",
         "nbinsx": 12,
         "offsetgroup": "truck",
         "orientation": "v",
         "showlegend": false,
         "type": "histogram",
         "x": [
          "2023-03-28T07:45:00",
          "2023-03-28T07:00:00",
          "2023-03-28T07:05:00",
          "2023-03-28T07:10:00",
          "2023-03-28T07:15:00",
          "2023-03-28T07:20:00",
          "2023-03-28T07:25:00",
          "2023-03-28T07:30:00",
          "2023-03-28T07:35:00",
          "2023-03-28T07:40:00",
          "2023-03-28T07:50:00",
          "2023-03-28T07:55:00"
         ],
         "xaxis": "x38",
         "y": [
          0,
          0,
          0,
          0,
          0,
          0,
          0,
          0,
          0,
          0,
          0,
          0
         ],
         "yaxis": "y38"
        },
        {
         "alignmentgroup": "True",
         "bingroup": "x",
         "histfunc": "sum",
         "hovertemplate": "road_user_type=truck<br>from_section=NORTH<br>to_section=NORTH<br>time_interval=%{x}<br>sum of difference=%{y}<extra></extra>",
         "legendgroup": "truck",
         "marker": {
          "color": "#00cc96",
          "pattern": {
           "shape": ""
          }
         },
         "name": "truck",
         "nbinsx": 12,
         "offsetgroup": "truck",
         "orientation": "v",
         "showlegend": false,
         "type": "histogram",
         "x": [
          "2023-03-28T07:00:00",
          "2023-03-28T07:05:00",
          "2023-03-28T07:10:00",
          "2023-03-28T07:15:00",
          "2023-03-28T07:20:00",
          "2023-03-28T07:25:00",
          "2023-03-28T07:30:00",
          "2023-03-28T07:35:00",
          "2023-03-28T07:40:00",
          "2023-03-28T07:45:00",
          "2023-03-28T07:50:00",
          "2023-03-28T07:55:00"
         ],
         "xaxis": "x40",
         "y": [
          0,
          0,
          0,
          0,
          0,
          0,
          0,
          1,
          0,
          0,
          0,
          0
         ],
         "yaxis": "y40"
        },
        {
         "alignmentgroup": "True",
         "bingroup": "x",
         "histfunc": "sum",
         "hovertemplate": "road_user_type=truck<br>from_section=NORTH<br>to_section=PED_BIKE_SOUTH<br>time_interval=%{x}<br>sum of difference=%{y}<extra></extra>",
         "legendgroup": "truck",
         "marker": {
          "color": "#00cc96",
          "pattern": {
           "shape": ""
          }
         },
         "name": "truck",
         "nbinsx": 12,
         "offsetgroup": "truck",
         "orientation": "v",
         "showlegend": false,
         "type": "histogram",
         "x": [
          "2023-03-28T07:00:00",
          "2023-03-28T07:05:00",
          "2023-03-28T07:10:00",
          "2023-03-28T07:15:00",
          "2023-03-28T07:20:00",
          "2023-03-28T07:25:00",
          "2023-03-28T07:30:00",
          "2023-03-28T07:35:00",
          "2023-03-28T07:40:00",
          "2023-03-28T07:45:00",
          "2023-03-28T07:50:00",
          "2023-03-28T07:55:00"
         ],
         "xaxis": "x41",
         "y": [
          0,
          0,
          0,
          0,
          0,
          0,
          0,
          0,
          0,
          0,
          0,
          0
         ],
         "yaxis": "y41"
        },
        {
         "alignmentgroup": "True",
         "bingroup": "x",
         "histfunc": "sum",
         "hovertemplate": "road_user_type=truck<br>from_section=NORTH<br>to_section=PED_BIKE_NORTH<br>time_interval=%{x}<br>sum of difference=%{y}<extra></extra>",
         "legendgroup": "truck",
         "marker": {
          "color": "#00cc96",
          "pattern": {
           "shape": ""
          }
         },
         "name": "truck",
         "nbinsx": 12,
         "offsetgroup": "truck",
         "orientation": "v",
         "showlegend": false,
         "type": "histogram",
         "x": [
          "2023-03-28T07:00:00",
          "2023-03-28T07:05:00",
          "2023-03-28T07:10:00",
          "2023-03-28T07:15:00",
          "2023-03-28T07:20:00",
          "2023-03-28T07:25:00",
          "2023-03-28T07:30:00",
          "2023-03-28T07:35:00",
          "2023-03-28T07:40:00",
          "2023-03-28T07:45:00",
          "2023-03-28T07:50:00",
          "2023-03-28T07:55:00"
         ],
         "xaxis": "x42",
         "y": [
          0,
          0,
          0,
          0,
          0,
          0,
          0,
          0,
          0,
          0,
          0,
          0
         ],
         "yaxis": "y42"
        },
        {
         "alignmentgroup": "True",
         "bingroup": "x",
         "histfunc": "sum",
         "hovertemplate": "road_user_type=truck<br>from_section=SOUTH<br>to_section=SOUTH<br>time_interval=%{x}<br>sum of difference=%{y}<extra></extra>",
         "legendgroup": "truck",
         "marker": {
          "color": "#00cc96",
          "pattern": {
           "shape": ""
          }
         },
         "name": "truck",
         "nbinsx": 12,
         "offsetgroup": "truck",
         "orientation": "v",
         "showlegend": false,
         "type": "histogram",
         "x": [
          "2023-03-28T07:00:00",
          "2023-03-28T07:05:00",
          "2023-03-28T07:10:00",
          "2023-03-28T07:15:00",
          "2023-03-28T07:20:00",
          "2023-03-28T07:25:00",
          "2023-03-28T07:30:00",
          "2023-03-28T07:35:00",
          "2023-03-28T07:40:00",
          "2023-03-28T07:45:00",
          "2023-03-28T07:50:00",
          "2023-03-28T07:55:00"
         ],
         "xaxis": "x22",
         "y": [
          0,
          0,
          0,
          0,
          0,
          0,
          0,
          0,
          0,
          0,
          0,
          0
         ],
         "yaxis": "y22"
        },
        {
         "alignmentgroup": "True",
         "bingroup": "x",
         "histfunc": "sum",
         "hovertemplate": "road_user_type=truck<br>from_section=SOUTH<br>to_section=WEST<br>time_interval=%{x}<br>sum of difference=%{y}<extra></extra>",
         "legendgroup": "truck",
         "marker": {
          "color": "#00cc96",
          "pattern": {
           "shape": ""
          }
         },
         "name": "truck",
         "nbinsx": 12,
         "offsetgroup": "truck",
         "orientation": "v",
         "showlegend": false,
         "type": "histogram",
         "x": [
          "2023-03-28T07:00:00",
          "2023-03-28T07:05:00",
          "2023-03-28T07:10:00",
          "2023-03-28T07:15:00",
          "2023-03-28T07:20:00",
          "2023-03-28T07:25:00",
          "2023-03-28T07:30:00",
          "2023-03-28T07:35:00",
          "2023-03-28T07:40:00",
          "2023-03-28T07:45:00",
          "2023-03-28T07:50:00",
          "2023-03-28T07:55:00"
         ],
         "xaxis": "x23",
         "y": [
          0,
          0,
          0,
          0,
          0,
          0,
          0,
          0,
          0,
          1,
          0,
          0
         ],
         "yaxis": "y23"
        },
        {
         "alignmentgroup": "True",
         "bingroup": "x",
         "histfunc": "sum",
         "hovertemplate": "road_user_type=truck<br>from_section=SOUTH<br>to_section=EAST<br>time_interval=%{x}<br>sum of difference=%{y}<extra></extra>",
         "legendgroup": "truck",
         "marker": {
          "color": "#00cc96",
          "pattern": {
           "shape": ""
          }
         },
         "name": "truck",
         "nbinsx": 12,
         "offsetgroup": "truck",
         "orientation": "v",
         "showlegend": false,
         "type": "histogram",
         "x": [
          "2023-03-28T07:00:00",
          "2023-03-28T07:05:00",
          "2023-03-28T07:10:00",
          "2023-03-28T07:15:00",
          "2023-03-28T07:20:00",
          "2023-03-28T07:25:00",
          "2023-03-28T07:30:00",
          "2023-03-28T07:35:00",
          "2023-03-28T07:40:00",
          "2023-03-28T07:45:00",
          "2023-03-28T07:50:00",
          "2023-03-28T07:55:00"
         ],
         "xaxis": "x24",
         "y": [
          0,
          0,
          0,
          0,
          0,
          0,
          0,
          0,
          0,
          0,
          1,
          0
         ],
         "yaxis": "y24"
        },
        {
         "alignmentgroup": "True",
         "bingroup": "x",
         "histfunc": "sum",
         "hovertemplate": "road_user_type=truck<br>from_section=SOUTH<br>to_section=NORTH<br>time_interval=%{x}<br>sum of difference=%{y}<extra></extra>",
         "legendgroup": "truck",
         "marker": {
          "color": "#00cc96",
          "pattern": {
           "shape": ""
          }
         },
         "name": "truck",
         "nbinsx": 12,
         "offsetgroup": "truck",
         "orientation": "v",
         "showlegend": false,
         "type": "histogram",
         "x": [
          "2023-03-28T07:05:00",
          "2023-03-28T07:10:00",
          "2023-03-28T07:40:00",
          "2023-03-28T07:45:00",
          "2023-03-28T07:55:00",
          "2023-03-28T07:00:00",
          "2023-03-28T07:15:00",
          "2023-03-28T07:20:00",
          "2023-03-28T07:25:00",
          "2023-03-28T07:30:00",
          "2023-03-28T07:35:00",
          "2023-03-28T07:50:00"
         ],
         "xaxis": "x26",
         "y": [
          0,
          1,
          2,
          4,
          3,
          0,
          0,
          3,
          1,
          4,
          1,
          4
         ],
         "yaxis": "y26"
        },
        {
         "alignmentgroup": "True",
         "bingroup": "x",
         "histfunc": "sum",
         "hovertemplate": "road_user_type=truck<br>from_section=SOUTH<br>to_section=PED_BIKE_SOUTH<br>time_interval=%{x}<br>sum of difference=%{y}<extra></extra>",
         "legendgroup": "truck",
         "marker": {
          "color": "#00cc96",
          "pattern": {
           "shape": ""
          }
         },
         "name": "truck",
         "nbinsx": 12,
         "offsetgroup": "truck",
         "orientation": "v",
         "showlegend": false,
         "type": "histogram",
         "x": [
          "2023-03-28T07:00:00",
          "2023-03-28T07:05:00",
          "2023-03-28T07:10:00",
          "2023-03-28T07:15:00",
          "2023-03-28T07:20:00",
          "2023-03-28T07:25:00",
          "2023-03-28T07:30:00",
          "2023-03-28T07:35:00",
          "2023-03-28T07:40:00",
          "2023-03-28T07:45:00",
          "2023-03-28T07:50:00",
          "2023-03-28T07:55:00"
         ],
         "xaxis": "x27",
         "y": [
          0,
          0,
          0,
          0,
          0,
          0,
          0,
          0,
          0,
          0,
          0,
          0
         ],
         "yaxis": "y27"
        },
        {
         "alignmentgroup": "True",
         "bingroup": "x",
         "histfunc": "sum",
         "hovertemplate": "road_user_type=truck<br>from_section=SOUTH<br>to_section=PED_BIKE_NORTH<br>time_interval=%{x}<br>sum of difference=%{y}<extra></extra>",
         "legendgroup": "truck",
         "marker": {
          "color": "#00cc96",
          "pattern": {
           "shape": ""
          }
         },
         "name": "truck",
         "nbinsx": 12,
         "offsetgroup": "truck",
         "orientation": "v",
         "showlegend": false,
         "type": "histogram",
         "x": [
          "2023-03-28T07:00:00",
          "2023-03-28T07:05:00",
          "2023-03-28T07:10:00",
          "2023-03-28T07:15:00",
          "2023-03-28T07:20:00",
          "2023-03-28T07:25:00",
          "2023-03-28T07:30:00",
          "2023-03-28T07:35:00",
          "2023-03-28T07:40:00",
          "2023-03-28T07:45:00",
          "2023-03-28T07:50:00",
          "2023-03-28T07:55:00"
         ],
         "xaxis": "x28",
         "y": [
          0,
          0,
          0,
          0,
          0,
          0,
          0,
          0,
          0,
          0,
          0,
          0
         ],
         "yaxis": "y28"
        },
        {
         "alignmentgroup": "True",
         "bingroup": "x",
         "histfunc": "sum",
         "hovertemplate": "road_user_type=truck<br>from_section=WEST<br>to_section=SOUTH<br>time_interval=%{x}<br>sum of difference=%{y}<extra></extra>",
         "legendgroup": "truck",
         "marker": {
          "color": "#00cc96",
          "pattern": {
           "shape": ""
          }
         },
         "name": "truck",
         "nbinsx": 12,
         "offsetgroup": "truck",
         "orientation": "v",
         "showlegend": false,
         "type": "histogram",
         "x": [
          "2023-03-28T07:00:00",
          "2023-03-28T07:05:00",
          "2023-03-28T07:10:00",
          "2023-03-28T07:15:00",
          "2023-03-28T07:20:00",
          "2023-03-28T07:25:00",
          "2023-03-28T07:30:00",
          "2023-03-28T07:35:00",
          "2023-03-28T07:40:00",
          "2023-03-28T07:45:00",
          "2023-03-28T07:50:00",
          "2023-03-28T07:55:00"
         ],
         "xaxis": "x15",
         "y": [
          0,
          0,
          0,
          0,
          0,
          0,
          0,
          0,
          0,
          0,
          0,
          0
         ],
         "yaxis": "y15"
        },
        {
         "alignmentgroup": "True",
         "bingroup": "x",
         "histfunc": "sum",
         "hovertemplate": "road_user_type=truck<br>from_section=WEST<br>to_section=WEST<br>time_interval=%{x}<br>sum of difference=%{y}<extra></extra>",
         "legendgroup": "truck",
         "marker": {
          "color": "#00cc96",
          "pattern": {
           "shape": ""
          }
         },
         "name": "truck",
         "nbinsx": 12,
         "offsetgroup": "truck",
         "orientation": "v",
         "showlegend": false,
         "type": "histogram",
         "x": [
          "2023-03-28T07:00:00",
          "2023-03-28T07:05:00",
          "2023-03-28T07:10:00",
          "2023-03-28T07:15:00",
          "2023-03-28T07:20:00",
          "2023-03-28T07:25:00",
          "2023-03-28T07:30:00",
          "2023-03-28T07:35:00",
          "2023-03-28T07:40:00",
          "2023-03-28T07:45:00",
          "2023-03-28T07:50:00",
          "2023-03-28T07:55:00"
         ],
         "xaxis": "x16",
         "y": [
          0,
          0,
          0,
          0,
          0,
          0,
          0,
          0,
          0,
          0,
          0,
          0
         ],
         "yaxis": "y16"
        },
        {
         "alignmentgroup": "True",
         "bingroup": "x",
         "histfunc": "sum",
         "hovertemplate": "road_user_type=truck<br>from_section=WEST<br>to_section=EAST<br>time_interval=%{x}<br>sum of difference=%{y}<extra></extra>",
         "legendgroup": "truck",
         "marker": {
          "color": "#00cc96",
          "pattern": {
           "shape": ""
          }
         },
         "name": "truck",
         "nbinsx": 12,
         "offsetgroup": "truck",
         "orientation": "v",
         "showlegend": false,
         "type": "histogram",
         "x": [
          "2023-03-28T07:00:00",
          "2023-03-28T07:05:00",
          "2023-03-28T07:10:00",
          "2023-03-28T07:15:00",
          "2023-03-28T07:20:00",
          "2023-03-28T07:25:00",
          "2023-03-28T07:30:00",
          "2023-03-28T07:35:00",
          "2023-03-28T07:40:00",
          "2023-03-28T07:45:00",
          "2023-03-28T07:50:00",
          "2023-03-28T07:55:00"
         ],
         "xaxis": "x17",
         "y": [
          0,
          0,
          0,
          0,
          0,
          0,
          0,
          0,
          0,
          0,
          0,
          0
         ],
         "yaxis": "y17"
        },
        {
         "alignmentgroup": "True",
         "bingroup": "x",
         "histfunc": "sum",
         "hovertemplate": "road_user_type=truck<br>from_section=WEST<br>to_section=NORTH<br>time_interval=%{x}<br>sum of difference=%{y}<extra></extra>",
         "legendgroup": "truck",
         "marker": {
          "color": "#00cc96",
          "pattern": {
           "shape": ""
          }
         },
         "name": "truck",
         "nbinsx": 12,
         "offsetgroup": "truck",
         "orientation": "v",
         "showlegend": false,
         "type": "histogram",
         "x": [
          "2023-03-28T07:00:00",
          "2023-03-28T07:05:00",
          "2023-03-28T07:10:00",
          "2023-03-28T07:15:00",
          "2023-03-28T07:20:00",
          "2023-03-28T07:25:00",
          "2023-03-28T07:30:00",
          "2023-03-28T07:35:00",
          "2023-03-28T07:40:00",
          "2023-03-28T07:45:00",
          "2023-03-28T07:50:00",
          "2023-03-28T07:55:00"
         ],
         "xaxis": "x19",
         "y": [
          0,
          0,
          0,
          0,
          0,
          0,
          0,
          0,
          0,
          0,
          0,
          1
         ],
         "yaxis": "y19"
        },
        {
         "alignmentgroup": "True",
         "bingroup": "x",
         "histfunc": "sum",
         "hovertemplate": "road_user_type=truck<br>from_section=WEST<br>to_section=PED_BIKE_SOUTH<br>time_interval=%{x}<br>sum of difference=%{y}<extra></extra>",
         "legendgroup": "truck",
         "marker": {
          "color": "#00cc96",
          "pattern": {
           "shape": ""
          }
         },
         "name": "truck",
         "nbinsx": 12,
         "offsetgroup": "truck",
         "orientation": "v",
         "showlegend": false,
         "type": "histogram",
         "x": [
          "2023-03-28T07:00:00",
          "2023-03-28T07:05:00",
          "2023-03-28T07:10:00",
          "2023-03-28T07:15:00",
          "2023-03-28T07:20:00",
          "2023-03-28T07:25:00",
          "2023-03-28T07:30:00",
          "2023-03-28T07:35:00",
          "2023-03-28T07:40:00",
          "2023-03-28T07:45:00",
          "2023-03-28T07:50:00",
          "2023-03-28T07:55:00"
         ],
         "xaxis": "x20",
         "y": [
          0,
          0,
          0,
          0,
          0,
          0,
          0,
          0,
          0,
          0,
          0,
          0
         ],
         "yaxis": "y20"
        },
        {
         "alignmentgroup": "True",
         "bingroup": "x",
         "histfunc": "sum",
         "hovertemplate": "road_user_type=truck<br>from_section=WEST<br>to_section=PED_BIKE_NORTH<br>time_interval=%{x}<br>sum of difference=%{y}<extra></extra>",
         "legendgroup": "truck",
         "marker": {
          "color": "#00cc96",
          "pattern": {
           "shape": ""
          }
         },
         "name": "truck",
         "nbinsx": 12,
         "offsetgroup": "truck",
         "orientation": "v",
         "showlegend": false,
         "type": "histogram",
         "x": [
          "2023-03-28T07:00:00",
          "2023-03-28T07:05:00",
          "2023-03-28T07:10:00",
          "2023-03-28T07:15:00",
          "2023-03-28T07:20:00",
          "2023-03-28T07:25:00",
          "2023-03-28T07:30:00",
          "2023-03-28T07:35:00",
          "2023-03-28T07:40:00",
          "2023-03-28T07:45:00",
          "2023-03-28T07:50:00",
          "2023-03-28T07:55:00"
         ],
         "xaxis": "x21",
         "y": [
          0,
          0,
          0,
          0,
          0,
          0,
          0,
          0,
          0,
          0,
          0,
          0
         ],
         "yaxis": "y21"
        },
        {
         "alignmentgroup": "True",
         "bingroup": "x",
         "histfunc": "sum",
         "hovertemplate": "road_user_type=truck<br>from_section=PED_BIKE_SOUTH<br>to_section=SOUTH<br>time_interval=%{x}<br>sum of difference=%{y}<extra></extra>",
         "legendgroup": "truck",
         "marker": {
          "color": "#00cc96",
          "pattern": {
           "shape": ""
          }
         },
         "name": "truck",
         "nbinsx": 12,
         "offsetgroup": "truck",
         "orientation": "v",
         "showlegend": false,
         "type": "histogram",
         "x": [
          "2023-03-28T07:00:00",
          "2023-03-28T07:05:00",
          "2023-03-28T07:10:00",
          "2023-03-28T07:15:00",
          "2023-03-28T07:20:00",
          "2023-03-28T07:25:00",
          "2023-03-28T07:30:00",
          "2023-03-28T07:35:00",
          "2023-03-28T07:40:00",
          "2023-03-28T07:45:00",
          "2023-03-28T07:50:00",
          "2023-03-28T07:55:00"
         ],
         "xaxis": "x8",
         "y": [
          0,
          0,
          0,
          0,
          0,
          0,
          0,
          0,
          0,
          0,
          0,
          0
         ],
         "yaxis": "y8"
        },
        {
         "alignmentgroup": "True",
         "bingroup": "x",
         "histfunc": "sum",
         "hovertemplate": "road_user_type=truck<br>from_section=PED_BIKE_SOUTH<br>to_section=WEST<br>time_interval=%{x}<br>sum of difference=%{y}<extra></extra>",
         "legendgroup": "truck",
         "marker": {
          "color": "#00cc96",
          "pattern": {
           "shape": ""
          }
         },
         "name": "truck",
         "nbinsx": 12,
         "offsetgroup": "truck",
         "orientation": "v",
         "showlegend": false,
         "type": "histogram",
         "x": [
          "2023-03-28T07:00:00",
          "2023-03-28T07:05:00",
          "2023-03-28T07:10:00",
          "2023-03-28T07:15:00",
          "2023-03-28T07:20:00",
          "2023-03-28T07:25:00",
          "2023-03-28T07:30:00",
          "2023-03-28T07:35:00",
          "2023-03-28T07:40:00",
          "2023-03-28T07:45:00",
          "2023-03-28T07:50:00",
          "2023-03-28T07:55:00"
         ],
         "xaxis": "x9",
         "y": [
          0,
          0,
          0,
          0,
          0,
          0,
          0,
          0,
          0,
          0,
          0,
          0
         ],
         "yaxis": "y9"
        },
        {
         "alignmentgroup": "True",
         "bingroup": "x",
         "histfunc": "sum",
         "hovertemplate": "road_user_type=truck<br>from_section=PED_BIKE_SOUTH<br>to_section=EAST<br>time_interval=%{x}<br>sum of difference=%{y}<extra></extra>",
         "legendgroup": "truck",
         "marker": {
          "color": "#00cc96",
          "pattern": {
           "shape": ""
          }
         },
         "name": "truck",
         "nbinsx": 12,
         "offsetgroup": "truck",
         "orientation": "v",
         "showlegend": false,
         "type": "histogram",
         "x": [
          "2023-03-28T07:00:00",
          "2023-03-28T07:05:00",
          "2023-03-28T07:10:00",
          "2023-03-28T07:15:00",
          "2023-03-28T07:20:00",
          "2023-03-28T07:25:00",
          "2023-03-28T07:30:00",
          "2023-03-28T07:35:00",
          "2023-03-28T07:40:00",
          "2023-03-28T07:45:00",
          "2023-03-28T07:50:00",
          "2023-03-28T07:55:00"
         ],
         "xaxis": "x10",
         "y": [
          0,
          0,
          0,
          0,
          0,
          0,
          0,
          0,
          0,
          0,
          0,
          0
         ],
         "yaxis": "y10"
        },
        {
         "alignmentgroup": "True",
         "bingroup": "x",
         "histfunc": "sum",
         "hovertemplate": "road_user_type=truck<br>from_section=PED_BIKE_SOUTH<br>to_section=NORTH<br>time_interval=%{x}<br>sum of difference=%{y}<extra></extra>",
         "legendgroup": "truck",
         "marker": {
          "color": "#00cc96",
          "pattern": {
           "shape": ""
          }
         },
         "name": "truck",
         "nbinsx": 12,
         "offsetgroup": "truck",
         "orientation": "v",
         "showlegend": false,
         "type": "histogram",
         "x": [
          "2023-03-28T07:00:00",
          "2023-03-28T07:05:00",
          "2023-03-28T07:10:00",
          "2023-03-28T07:15:00",
          "2023-03-28T07:20:00",
          "2023-03-28T07:25:00",
          "2023-03-28T07:30:00",
          "2023-03-28T07:35:00",
          "2023-03-28T07:40:00",
          "2023-03-28T07:45:00",
          "2023-03-28T07:50:00",
          "2023-03-28T07:55:00"
         ],
         "xaxis": "x12",
         "y": [
          0,
          0,
          0,
          0,
          0,
          0,
          0,
          0,
          0,
          0,
          0,
          0
         ],
         "yaxis": "y12"
        },
        {
         "alignmentgroup": "True",
         "bingroup": "x",
         "histfunc": "sum",
         "hovertemplate": "road_user_type=truck<br>from_section=PED_BIKE_SOUTH<br>to_section=PED_BIKE_SOUTH<br>time_interval=%{x}<br>sum of difference=%{y}<extra></extra>",
         "legendgroup": "truck",
         "marker": {
          "color": "#00cc96",
          "pattern": {
           "shape": ""
          }
         },
         "name": "truck",
         "nbinsx": 12,
         "offsetgroup": "truck",
         "orientation": "v",
         "showlegend": false,
         "type": "histogram",
         "x": [
          "2023-03-28T07:00:00",
          "2023-03-28T07:05:00",
          "2023-03-28T07:10:00",
          "2023-03-28T07:15:00",
          "2023-03-28T07:20:00",
          "2023-03-28T07:25:00",
          "2023-03-28T07:30:00",
          "2023-03-28T07:35:00",
          "2023-03-28T07:40:00",
          "2023-03-28T07:45:00",
          "2023-03-28T07:50:00",
          "2023-03-28T07:55:00"
         ],
         "xaxis": "x13",
         "y": [
          0,
          0,
          0,
          0,
          0,
          0,
          0,
          0,
          0,
          0,
          0,
          0
         ],
         "yaxis": "y13"
        },
        {
         "alignmentgroup": "True",
         "bingroup": "x",
         "histfunc": "sum",
         "hovertemplate": "road_user_type=truck<br>from_section=PED_BIKE_SOUTH<br>to_section=PED_BIKE_NORTH<br>time_interval=%{x}<br>sum of difference=%{y}<extra></extra>",
         "legendgroup": "truck",
         "marker": {
          "color": "#00cc96",
          "pattern": {
           "shape": ""
          }
         },
         "name": "truck",
         "nbinsx": 12,
         "offsetgroup": "truck",
         "orientation": "v",
         "showlegend": false,
         "type": "histogram",
         "x": [
          "2023-03-28T07:00:00",
          "2023-03-28T07:05:00",
          "2023-03-28T07:10:00",
          "2023-03-28T07:15:00",
          "2023-03-28T07:20:00",
          "2023-03-28T07:25:00",
          "2023-03-28T07:30:00",
          "2023-03-28T07:35:00",
          "2023-03-28T07:40:00",
          "2023-03-28T07:45:00",
          "2023-03-28T07:50:00",
          "2023-03-28T07:55:00"
         ],
         "xaxis": "x14",
         "y": [
          0,
          0,
          0,
          0,
          0,
          0,
          0,
          0,
          0,
          0,
          0,
          0
         ],
         "yaxis": "y14"
        },
        {
         "alignmentgroup": "True",
         "bingroup": "x",
         "histfunc": "sum",
         "hovertemplate": "road_user_type=truck<br>from_section=PED_BIKE_NORTH<br>to_section=SOUTH<br>time_interval=%{x}<br>sum of difference=%{y}<extra></extra>",
         "legendgroup": "truck",
         "marker": {
          "color": "#00cc96",
          "pattern": {
           "shape": ""
          }
         },
         "name": "truck",
         "nbinsx": 12,
         "offsetgroup": "truck",
         "orientation": "v",
         "showlegend": false,
         "type": "histogram",
         "x": [
          "2023-03-28T07:00:00",
          "2023-03-28T07:05:00",
          "2023-03-28T07:10:00",
          "2023-03-28T07:15:00",
          "2023-03-28T07:20:00",
          "2023-03-28T07:25:00",
          "2023-03-28T07:30:00",
          "2023-03-28T07:35:00",
          "2023-03-28T07:40:00",
          "2023-03-28T07:45:00",
          "2023-03-28T07:50:00",
          "2023-03-28T07:55:00"
         ],
         "xaxis": "x",
         "y": [
          0,
          0,
          0,
          0,
          0,
          0,
          0,
          0,
          0,
          0,
          0,
          0
         ],
         "yaxis": "y"
        },
        {
         "alignmentgroup": "True",
         "bingroup": "x",
         "histfunc": "sum",
         "hovertemplate": "road_user_type=truck<br>from_section=PED_BIKE_NORTH<br>to_section=WEST<br>time_interval=%{x}<br>sum of difference=%{y}<extra></extra>",
         "legendgroup": "truck",
         "marker": {
          "color": "#00cc96",
          "pattern": {
           "shape": ""
          }
         },
         "name": "truck",
         "nbinsx": 12,
         "offsetgroup": "truck",
         "orientation": "v",
         "showlegend": false,
         "type": "histogram",
         "x": [
          "2023-03-28T07:00:00",
          "2023-03-28T07:05:00",
          "2023-03-28T07:10:00",
          "2023-03-28T07:15:00",
          "2023-03-28T07:20:00",
          "2023-03-28T07:25:00",
          "2023-03-28T07:30:00",
          "2023-03-28T07:35:00",
          "2023-03-28T07:40:00",
          "2023-03-28T07:45:00",
          "2023-03-28T07:50:00",
          "2023-03-28T07:55:00"
         ],
         "xaxis": "x2",
         "y": [
          0,
          0,
          0,
          0,
          0,
          0,
          0,
          0,
          0,
          0,
          0,
          0
         ],
         "yaxis": "y2"
        },
        {
         "alignmentgroup": "True",
         "bingroup": "x",
         "histfunc": "sum",
         "hovertemplate": "road_user_type=truck<br>from_section=PED_BIKE_NORTH<br>to_section=EAST<br>time_interval=%{x}<br>sum of difference=%{y}<extra></extra>",
         "legendgroup": "truck",
         "marker": {
          "color": "#00cc96",
          "pattern": {
           "shape": ""
          }
         },
         "name": "truck",
         "nbinsx": 12,
         "offsetgroup": "truck",
         "orientation": "v",
         "showlegend": false,
         "type": "histogram",
         "x": [
          "2023-03-28T07:00:00",
          "2023-03-28T07:05:00",
          "2023-03-28T07:10:00",
          "2023-03-28T07:15:00",
          "2023-03-28T07:20:00",
          "2023-03-28T07:25:00",
          "2023-03-28T07:30:00",
          "2023-03-28T07:35:00",
          "2023-03-28T07:40:00",
          "2023-03-28T07:45:00",
          "2023-03-28T07:50:00",
          "2023-03-28T07:55:00"
         ],
         "xaxis": "x3",
         "y": [
          0,
          0,
          0,
          0,
          0,
          0,
          0,
          0,
          0,
          0,
          0,
          0
         ],
         "yaxis": "y3"
        },
        {
         "alignmentgroup": "True",
         "bingroup": "x",
         "histfunc": "sum",
         "hovertemplate": "road_user_type=truck<br>from_section=PED_BIKE_NORTH<br>to_section=NORTH<br>time_interval=%{x}<br>sum of difference=%{y}<extra></extra>",
         "legendgroup": "truck",
         "marker": {
          "color": "#00cc96",
          "pattern": {
           "shape": ""
          }
         },
         "name": "truck",
         "nbinsx": 12,
         "offsetgroup": "truck",
         "orientation": "v",
         "showlegend": false,
         "type": "histogram",
         "x": [
          "2023-03-28T07:00:00",
          "2023-03-28T07:05:00",
          "2023-03-28T07:10:00",
          "2023-03-28T07:15:00",
          "2023-03-28T07:20:00",
          "2023-03-28T07:25:00",
          "2023-03-28T07:30:00",
          "2023-03-28T07:35:00",
          "2023-03-28T07:40:00",
          "2023-03-28T07:45:00",
          "2023-03-28T07:50:00",
          "2023-03-28T07:55:00"
         ],
         "xaxis": "x5",
         "y": [
          0,
          0,
          0,
          0,
          0,
          0,
          0,
          0,
          0,
          0,
          0,
          0
         ],
         "yaxis": "y5"
        },
        {
         "alignmentgroup": "True",
         "bingroup": "x",
         "histfunc": "sum",
         "hovertemplate": "road_user_type=truck<br>from_section=PED_BIKE_NORTH<br>to_section=PED_BIKE_SOUTH<br>time_interval=%{x}<br>sum of difference=%{y}<extra></extra>",
         "legendgroup": "truck",
         "marker": {
          "color": "#00cc96",
          "pattern": {
           "shape": ""
          }
         },
         "name": "truck",
         "nbinsx": 12,
         "offsetgroup": "truck",
         "orientation": "v",
         "showlegend": false,
         "type": "histogram",
         "x": [
          "2023-03-28T07:00:00",
          "2023-03-28T07:05:00",
          "2023-03-28T07:10:00",
          "2023-03-28T07:15:00",
          "2023-03-28T07:20:00",
          "2023-03-28T07:25:00",
          "2023-03-28T07:30:00",
          "2023-03-28T07:35:00",
          "2023-03-28T07:40:00",
          "2023-03-28T07:45:00",
          "2023-03-28T07:50:00",
          "2023-03-28T07:55:00"
         ],
         "xaxis": "x6",
         "y": [
          0,
          0,
          0,
          0,
          0,
          0,
          0,
          0,
          0,
          0,
          0,
          0
         ],
         "yaxis": "y6"
        },
        {
         "alignmentgroup": "True",
         "bingroup": "x",
         "histfunc": "sum",
         "hovertemplate": "road_user_type=truck<br>from_section=PED_BIKE_NORTH<br>to_section=PED_BIKE_NORTH<br>time_interval=%{x}<br>sum of difference=%{y}<extra></extra>",
         "legendgroup": "truck",
         "marker": {
          "color": "#00cc96",
          "pattern": {
           "shape": ""
          }
         },
         "name": "truck",
         "nbinsx": 12,
         "offsetgroup": "truck",
         "orientation": "v",
         "showlegend": false,
         "type": "histogram",
         "x": [
          "2023-03-28T07:00:00",
          "2023-03-28T07:05:00",
          "2023-03-28T07:10:00",
          "2023-03-28T07:15:00",
          "2023-03-28T07:20:00",
          "2023-03-28T07:25:00",
          "2023-03-28T07:30:00",
          "2023-03-28T07:35:00",
          "2023-03-28T07:40:00",
          "2023-03-28T07:45:00",
          "2023-03-28T07:50:00",
          "2023-03-28T07:55:00"
         ],
         "xaxis": "x7",
         "y": [
          0,
          0,
          0,
          0,
          0,
          0,
          0,
          0,
          0,
          0,
          0,
          0
         ],
         "yaxis": "y7"
        },
        {
         "alignmentgroup": "True",
         "bingroup": "x",
         "histfunc": "sum",
         "hovertemplate": "road_user_type=delivery_van<br>from_section=EAST<br>to_section=SOUTH<br>time_interval=%{x}<br>sum of difference=%{y}<extra></extra>",
         "legendgroup": "delivery_van",
         "marker": {
          "color": "#ab63fa",
          "pattern": {
           "shape": ""
          }
         },
         "name": "delivery_van",
         "nbinsx": 12,
         "offsetgroup": "delivery_van",
         "orientation": "v",
         "showlegend": true,
         "type": "histogram",
         "x": [
          "2023-03-28T07:00:00",
          "2023-03-28T07:05:00",
          "2023-03-28T07:10:00",
          "2023-03-28T07:15:00",
          "2023-03-28T07:20:00",
          "2023-03-28T07:25:00",
          "2023-03-28T07:30:00",
          "2023-03-28T07:35:00",
          "2023-03-28T07:40:00",
          "2023-03-28T07:45:00",
          "2023-03-28T07:50:00",
          "2023-03-28T07:55:00"
         ],
         "xaxis": "x43",
         "y": [
          0,
          0,
          0,
          0,
          0,
          0,
          0,
          0,
          0,
          0,
          0,
          0
         ],
         "yaxis": "y43"
        },
        {
         "alignmentgroup": "True",
         "bingroup": "x",
         "histfunc": "sum",
         "hovertemplate": "road_user_type=delivery_van<br>from_section=EAST<br>to_section=WEST<br>time_interval=%{x}<br>sum of difference=%{y}<extra></extra>",
         "legendgroup": "delivery_van",
         "marker": {
          "color": "#ab63fa",
          "pattern": {
           "shape": ""
          }
         },
         "name": "delivery_van",
         "nbinsx": 12,
         "offsetgroup": "delivery_van",
         "orientation": "v",
         "showlegend": false,
         "type": "histogram",
         "x": [
          "2023-03-28T07:00:00",
          "2023-03-28T07:05:00",
          "2023-03-28T07:10:00",
          "2023-03-28T07:15:00",
          "2023-03-28T07:20:00",
          "2023-03-28T07:25:00",
          "2023-03-28T07:30:00",
          "2023-03-28T07:35:00",
          "2023-03-28T07:40:00",
          "2023-03-28T07:45:00",
          "2023-03-28T07:50:00",
          "2023-03-28T07:55:00"
         ],
         "xaxis": "x44",
         "y": [
          0,
          0,
          0,
          0,
          0,
          0,
          0,
          0,
          0,
          0,
          0,
          0
         ],
         "yaxis": "y44"
        },
        {
         "alignmentgroup": "True",
         "bingroup": "x",
         "histfunc": "sum",
         "hovertemplate": "road_user_type=delivery_van<br>from_section=EAST<br>to_section=EAST<br>time_interval=%{x}<br>sum of difference=%{y}<extra></extra>",
         "legendgroup": "delivery_van",
         "marker": {
          "color": "#ab63fa",
          "pattern": {
           "shape": ""
          }
         },
         "name": "delivery_van",
         "nbinsx": 12,
         "offsetgroup": "delivery_van",
         "orientation": "v",
         "showlegend": false,
         "type": "histogram",
         "x": [
          "2023-03-28T07:00:00",
          "2023-03-28T07:05:00",
          "2023-03-28T07:10:00",
          "2023-03-28T07:15:00",
          "2023-03-28T07:20:00",
          "2023-03-28T07:25:00",
          "2023-03-28T07:30:00",
          "2023-03-28T07:35:00",
          "2023-03-28T07:40:00",
          "2023-03-28T07:45:00",
          "2023-03-28T07:50:00",
          "2023-03-28T07:55:00"
         ],
         "xaxis": "x45",
         "y": [
          0,
          0,
          0,
          0,
          0,
          0,
          0,
          0,
          0,
          0,
          0,
          0
         ],
         "yaxis": "y45"
        },
        {
         "alignmentgroup": "True",
         "bingroup": "x",
         "histfunc": "sum",
         "hovertemplate": "road_user_type=delivery_van<br>from_section=EAST<br>to_section=NORTH<br>time_interval=%{x}<br>sum of difference=%{y}<extra></extra>",
         "legendgroup": "delivery_van",
         "marker": {
          "color": "#ab63fa",
          "pattern": {
           "shape": ""
          }
         },
         "name": "delivery_van",
         "nbinsx": 12,
         "offsetgroup": "delivery_van",
         "orientation": "v",
         "showlegend": false,
         "type": "histogram",
         "x": [
          "2023-03-28T07:00:00",
          "2023-03-28T07:05:00",
          "2023-03-28T07:10:00",
          "2023-03-28T07:15:00",
          "2023-03-28T07:20:00",
          "2023-03-28T07:25:00",
          "2023-03-28T07:30:00",
          "2023-03-28T07:35:00",
          "2023-03-28T07:40:00",
          "2023-03-28T07:45:00",
          "2023-03-28T07:50:00",
          "2023-03-28T07:55:00"
         ],
         "xaxis": "x47",
         "y": [
          0,
          0,
          0,
          0,
          0,
          0,
          0,
          0,
          0,
          0,
          0,
          0
         ],
         "yaxis": "y47"
        },
        {
         "alignmentgroup": "True",
         "bingroup": "x",
         "histfunc": "sum",
         "hovertemplate": "road_user_type=delivery_van<br>from_section=EAST<br>to_section=PED_BIKE_SOUTH<br>time_interval=%{x}<br>sum of difference=%{y}<extra></extra>",
         "legendgroup": "delivery_van",
         "marker": {
          "color": "#ab63fa",
          "pattern": {
           "shape": ""
          }
         },
         "name": "delivery_van",
         "nbinsx": 12,
         "offsetgroup": "delivery_van",
         "orientation": "v",
         "showlegend": false,
         "type": "histogram",
         "x": [
          "2023-03-28T07:00:00",
          "2023-03-28T07:05:00",
          "2023-03-28T07:10:00",
          "2023-03-28T07:15:00",
          "2023-03-28T07:20:00",
          "2023-03-28T07:25:00",
          "2023-03-28T07:30:00",
          "2023-03-28T07:35:00",
          "2023-03-28T07:40:00",
          "2023-03-28T07:45:00",
          "2023-03-28T07:50:00",
          "2023-03-28T07:55:00"
         ],
         "xaxis": "x48",
         "y": [
          0,
          0,
          0,
          0,
          0,
          0,
          0,
          0,
          0,
          0,
          0,
          0
         ],
         "yaxis": "y48"
        },
        {
         "alignmentgroup": "True",
         "bingroup": "x",
         "histfunc": "sum",
         "hovertemplate": "road_user_type=delivery_van<br>from_section=EAST<br>to_section=PED_BIKE_NORTH<br>time_interval=%{x}<br>sum of difference=%{y}<extra></extra>",
         "legendgroup": "delivery_van",
         "marker": {
          "color": "#ab63fa",
          "pattern": {
           "shape": ""
          }
         },
         "name": "delivery_van",
         "nbinsx": 12,
         "offsetgroup": "delivery_van",
         "orientation": "v",
         "showlegend": false,
         "type": "histogram",
         "x": [
          "2023-03-28T07:00:00",
          "2023-03-28T07:05:00",
          "2023-03-28T07:10:00",
          "2023-03-28T07:15:00",
          "2023-03-28T07:20:00",
          "2023-03-28T07:25:00",
          "2023-03-28T07:30:00",
          "2023-03-28T07:35:00",
          "2023-03-28T07:40:00",
          "2023-03-28T07:45:00",
          "2023-03-28T07:50:00",
          "2023-03-28T07:55:00"
         ],
         "xaxis": "x49",
         "y": [
          0,
          0,
          0,
          0,
          0,
          0,
          0,
          0,
          0,
          0,
          0,
          0
         ],
         "yaxis": "y49"
        },
        {
         "alignmentgroup": "True",
         "bingroup": "x",
         "histfunc": "sum",
         "hovertemplate": "road_user_type=delivery_van<br>from_section=NORTH<br>to_section=SOUTH<br>time_interval=%{x}<br>sum of difference=%{y}<extra></extra>",
         "legendgroup": "delivery_van",
         "marker": {
          "color": "#ab63fa",
          "pattern": {
           "shape": ""
          }
         },
         "name": "delivery_van",
         "nbinsx": 12,
         "offsetgroup": "delivery_van",
         "orientation": "v",
         "showlegend": false,
         "type": "histogram",
         "x": [
          "2023-03-28T07:00:00",
          "2023-03-28T07:05:00",
          "2023-03-28T07:10:00",
          "2023-03-28T07:15:00",
          "2023-03-28T07:20:00",
          "2023-03-28T07:25:00",
          "2023-03-28T07:30:00",
          "2023-03-28T07:35:00",
          "2023-03-28T07:40:00",
          "2023-03-28T07:45:00",
          "2023-03-28T07:50:00",
          "2023-03-28T07:55:00"
         ],
         "xaxis": "x36",
         "y": [
          6,
          1,
          2,
          7,
          4,
          6,
          5,
          3,
          4,
          0,
          6,
          3
         ],
         "yaxis": "y36"
        },
        {
         "alignmentgroup": "True",
         "bingroup": "x",
         "histfunc": "sum",
         "hovertemplate": "road_user_type=delivery_van<br>from_section=NORTH<br>to_section=WEST<br>time_interval=%{x}<br>sum of difference=%{y}<extra></extra>",
         "legendgroup": "delivery_van",
         "marker": {
          "color": "#ab63fa",
          "pattern": {
           "shape": ""
          }
         },
         "name": "delivery_van",
         "nbinsx": 12,
         "offsetgroup": "delivery_van",
         "orientation": "v",
         "showlegend": false,
         "type": "histogram",
         "x": [
          "2023-03-28T07:00:00",
          "2023-03-28T07:05:00",
          "2023-03-28T07:10:00",
          "2023-03-28T07:15:00",
          "2023-03-28T07:20:00",
          "2023-03-28T07:25:00",
          "2023-03-28T07:30:00",
          "2023-03-28T07:35:00",
          "2023-03-28T07:40:00",
          "2023-03-28T07:45:00",
          "2023-03-28T07:50:00",
          "2023-03-28T07:55:00"
         ],
         "xaxis": "x37",
         "y": [
          0,
          0,
          0,
          0,
          0,
          0,
          0,
          0,
          0,
          0,
          0,
          0
         ],
         "yaxis": "y37"
        },
        {
         "alignmentgroup": "True",
         "bingroup": "x",
         "histfunc": "sum",
         "hovertemplate": "road_user_type=delivery_van<br>from_section=NORTH<br>to_section=EAST<br>time_interval=%{x}<br>sum of difference=%{y}<extra></extra>",
         "legendgroup": "delivery_van",
         "marker": {
          "color": "#ab63fa",
          "pattern": {
           "shape": ""
          }
         },
         "name": "delivery_van",
         "nbinsx": 12,
         "offsetgroup": "delivery_van",
         "orientation": "v",
         "showlegend": false,
         "type": "histogram",
         "x": [
          "2023-03-28T07:00:00",
          "2023-03-28T07:05:00",
          "2023-03-28T07:10:00",
          "2023-03-28T07:15:00",
          "2023-03-28T07:20:00",
          "2023-03-28T07:25:00",
          "2023-03-28T07:30:00",
          "2023-03-28T07:35:00",
          "2023-03-28T07:40:00",
          "2023-03-28T07:45:00",
          "2023-03-28T07:50:00",
          "2023-03-28T07:55:00"
         ],
         "xaxis": "x38",
         "y": [
          0,
          0,
          0,
          0,
          0,
          0,
          0,
          0,
          0,
          0,
          0,
          0
         ],
         "yaxis": "y38"
        },
        {
         "alignmentgroup": "True",
         "bingroup": "x",
         "histfunc": "sum",
         "hovertemplate": "road_user_type=delivery_van<br>from_section=NORTH<br>to_section=NORTH<br>time_interval=%{x}<br>sum of difference=%{y}<extra></extra>",
         "legendgroup": "delivery_van",
         "marker": {
          "color": "#ab63fa",
          "pattern": {
           "shape": ""
          }
         },
         "name": "delivery_van",
         "nbinsx": 12,
         "offsetgroup": "delivery_van",
         "orientation": "v",
         "showlegend": false,
         "type": "histogram",
         "x": [
          "2023-03-28T07:00:00",
          "2023-03-28T07:05:00",
          "2023-03-28T07:10:00",
          "2023-03-28T07:15:00",
          "2023-03-28T07:20:00",
          "2023-03-28T07:25:00",
          "2023-03-28T07:30:00",
          "2023-03-28T07:35:00",
          "2023-03-28T07:40:00",
          "2023-03-28T07:45:00",
          "2023-03-28T07:50:00",
          "2023-03-28T07:55:00"
         ],
         "xaxis": "x40",
         "y": [
          0,
          0,
          0,
          1,
          0,
          0,
          0,
          0,
          0,
          0,
          0,
          0
         ],
         "yaxis": "y40"
        },
        {
         "alignmentgroup": "True",
         "bingroup": "x",
         "histfunc": "sum",
         "hovertemplate": "road_user_type=delivery_van<br>from_section=NORTH<br>to_section=PED_BIKE_SOUTH<br>time_interval=%{x}<br>sum of difference=%{y}<extra></extra>",
         "legendgroup": "delivery_van",
         "marker": {
          "color": "#ab63fa",
          "pattern": {
           "shape": ""
          }
         },
         "name": "delivery_van",
         "nbinsx": 12,
         "offsetgroup": "delivery_van",
         "orientation": "v",
         "showlegend": false,
         "type": "histogram",
         "x": [
          "2023-03-28T07:00:00",
          "2023-03-28T07:05:00",
          "2023-03-28T07:10:00",
          "2023-03-28T07:15:00",
          "2023-03-28T07:20:00",
          "2023-03-28T07:25:00",
          "2023-03-28T07:30:00",
          "2023-03-28T07:35:00",
          "2023-03-28T07:40:00",
          "2023-03-28T07:45:00",
          "2023-03-28T07:50:00",
          "2023-03-28T07:55:00"
         ],
         "xaxis": "x41",
         "y": [
          0,
          0,
          0,
          0,
          0,
          0,
          0,
          0,
          0,
          0,
          0,
          0
         ],
         "yaxis": "y41"
        },
        {
         "alignmentgroup": "True",
         "bingroup": "x",
         "histfunc": "sum",
         "hovertemplate": "road_user_type=delivery_van<br>from_section=NORTH<br>to_section=PED_BIKE_NORTH<br>time_interval=%{x}<br>sum of difference=%{y}<extra></extra>",
         "legendgroup": "delivery_van",
         "marker": {
          "color": "#ab63fa",
          "pattern": {
           "shape": ""
          }
         },
         "name": "delivery_van",
         "nbinsx": 12,
         "offsetgroup": "delivery_van",
         "orientation": "v",
         "showlegend": false,
         "type": "histogram",
         "x": [
          "2023-03-28T07:00:00",
          "2023-03-28T07:05:00",
          "2023-03-28T07:10:00",
          "2023-03-28T07:15:00",
          "2023-03-28T07:20:00",
          "2023-03-28T07:25:00",
          "2023-03-28T07:30:00",
          "2023-03-28T07:35:00",
          "2023-03-28T07:40:00",
          "2023-03-28T07:45:00",
          "2023-03-28T07:50:00",
          "2023-03-28T07:55:00"
         ],
         "xaxis": "x42",
         "y": [
          0,
          0,
          0,
          0,
          0,
          0,
          0,
          0,
          0,
          0,
          0,
          0
         ],
         "yaxis": "y42"
        },
        {
         "alignmentgroup": "True",
         "bingroup": "x",
         "histfunc": "sum",
         "hovertemplate": "road_user_type=delivery_van<br>from_section=SOUTH<br>to_section=SOUTH<br>time_interval=%{x}<br>sum of difference=%{y}<extra></extra>",
         "legendgroup": "delivery_van",
         "marker": {
          "color": "#ab63fa",
          "pattern": {
           "shape": ""
          }
         },
         "name": "delivery_van",
         "nbinsx": 12,
         "offsetgroup": "delivery_van",
         "orientation": "v",
         "showlegend": false,
         "type": "histogram",
         "x": [
          "2023-03-28T07:00:00",
          "2023-03-28T07:05:00",
          "2023-03-28T07:10:00",
          "2023-03-28T07:15:00",
          "2023-03-28T07:20:00",
          "2023-03-28T07:25:00",
          "2023-03-28T07:30:00",
          "2023-03-28T07:35:00",
          "2023-03-28T07:40:00",
          "2023-03-28T07:45:00",
          "2023-03-28T07:50:00",
          "2023-03-28T07:55:00"
         ],
         "xaxis": "x22",
         "y": [
          0,
          0,
          0,
          0,
          1,
          1,
          0,
          0,
          0,
          0,
          0,
          0
         ],
         "yaxis": "y22"
        },
        {
         "alignmentgroup": "True",
         "bingroup": "x",
         "histfunc": "sum",
         "hovertemplate": "road_user_type=delivery_van<br>from_section=SOUTH<br>to_section=WEST<br>time_interval=%{x}<br>sum of difference=%{y}<extra></extra>",
         "legendgroup": "delivery_van",
         "marker": {
          "color": "#ab63fa",
          "pattern": {
           "shape": ""
          }
         },
         "name": "delivery_van",
         "nbinsx": 12,
         "offsetgroup": "delivery_van",
         "orientation": "v",
         "showlegend": false,
         "type": "histogram",
         "x": [
          "2023-03-28T07:45:00",
          "2023-03-28T07:50:00",
          "2023-03-28T07:00:00",
          "2023-03-28T07:05:00",
          "2023-03-28T07:10:00",
          "2023-03-28T07:15:00",
          "2023-03-28T07:20:00",
          "2023-03-28T07:25:00",
          "2023-03-28T07:30:00",
          "2023-03-28T07:35:00",
          "2023-03-28T07:40:00",
          "2023-03-28T07:55:00"
         ],
         "xaxis": "x23",
         "y": [
          1,
          1,
          0,
          0,
          0,
          0,
          0,
          0,
          0,
          0,
          0,
          0
         ],
         "yaxis": "y23"
        },
        {
         "alignmentgroup": "True",
         "bingroup": "x",
         "histfunc": "sum",
         "hovertemplate": "road_user_type=delivery_van<br>from_section=SOUTH<br>to_section=EAST<br>time_interval=%{x}<br>sum of difference=%{y}<extra></extra>",
         "legendgroup": "delivery_van",
         "marker": {
          "color": "#ab63fa",
          "pattern": {
           "shape": ""
          }
         },
         "name": "delivery_van",
         "nbinsx": 12,
         "offsetgroup": "delivery_van",
         "orientation": "v",
         "showlegend": false,
         "type": "histogram",
         "x": [
          "2023-03-28T07:30:00",
          "2023-03-28T07:50:00",
          "2023-03-28T07:00:00",
          "2023-03-28T07:05:00",
          "2023-03-28T07:10:00",
          "2023-03-28T07:15:00",
          "2023-03-28T07:20:00",
          "2023-03-28T07:25:00",
          "2023-03-28T07:35:00",
          "2023-03-28T07:40:00",
          "2023-03-28T07:45:00",
          "2023-03-28T07:55:00"
         ],
         "xaxis": "x24",
         "y": [
          1,
          1,
          0,
          0,
          1,
          0,
          0,
          0,
          0,
          0,
          0,
          0
         ],
         "yaxis": "y24"
        },
        {
         "alignmentgroup": "True",
         "bingroup": "x",
         "histfunc": "sum",
         "hovertemplate": "road_user_type=delivery_van<br>from_section=SOUTH<br>to_section=NORTH<br>time_interval=%{x}<br>sum of difference=%{y}<extra></extra>",
         "legendgroup": "delivery_van",
         "marker": {
          "color": "#ab63fa",
          "pattern": {
           "shape": ""
          }
         },
         "name": "delivery_van",
         "nbinsx": 12,
         "offsetgroup": "delivery_van",
         "orientation": "v",
         "showlegend": false,
         "type": "histogram",
         "x": [
          "2023-03-28T07:00:00",
          "2023-03-28T07:05:00",
          "2023-03-28T07:10:00",
          "2023-03-28T07:15:00",
          "2023-03-28T07:20:00",
          "2023-03-28T07:25:00",
          "2023-03-28T07:30:00",
          "2023-03-28T07:35:00",
          "2023-03-28T07:40:00",
          "2023-03-28T07:45:00",
          "2023-03-28T07:50:00",
          "2023-03-28T07:55:00"
         ],
         "xaxis": "x26",
         "y": [
          14,
          6,
          11,
          9,
          9,
          8,
          15,
          12,
          9,
          13,
          6,
          5
         ],
         "yaxis": "y26"
        },
        {
         "alignmentgroup": "True",
         "bingroup": "x",
         "histfunc": "sum",
         "hovertemplate": "road_user_type=delivery_van<br>from_section=SOUTH<br>to_section=PED_BIKE_SOUTH<br>time_interval=%{x}<br>sum of difference=%{y}<extra></extra>",
         "legendgroup": "delivery_van",
         "marker": {
          "color": "#ab63fa",
          "pattern": {
           "shape": ""
          }
         },
         "name": "delivery_van",
         "nbinsx": 12,
         "offsetgroup": "delivery_van",
         "orientation": "v",
         "showlegend": false,
         "type": "histogram",
         "x": [
          "2023-03-28T07:00:00",
          "2023-03-28T07:05:00",
          "2023-03-28T07:10:00",
          "2023-03-28T07:15:00",
          "2023-03-28T07:20:00",
          "2023-03-28T07:25:00",
          "2023-03-28T07:30:00",
          "2023-03-28T07:35:00",
          "2023-03-28T07:40:00",
          "2023-03-28T07:45:00",
          "2023-03-28T07:50:00",
          "2023-03-28T07:55:00"
         ],
         "xaxis": "x27",
         "y": [
          0,
          0,
          0,
          0,
          0,
          0,
          0,
          0,
          0,
          0,
          0,
          0
         ],
         "yaxis": "y27"
        },
        {
         "alignmentgroup": "True",
         "bingroup": "x",
         "histfunc": "sum",
         "hovertemplate": "road_user_type=delivery_van<br>from_section=SOUTH<br>to_section=PED_BIKE_NORTH<br>time_interval=%{x}<br>sum of difference=%{y}<extra></extra>",
         "legendgroup": "delivery_van",
         "marker": {
          "color": "#ab63fa",
          "pattern": {
           "shape": ""
          }
         },
         "name": "delivery_van",
         "nbinsx": 12,
         "offsetgroup": "delivery_van",
         "orientation": "v",
         "showlegend": false,
         "type": "histogram",
         "x": [
          "2023-03-28T07:00:00",
          "2023-03-28T07:05:00",
          "2023-03-28T07:10:00",
          "2023-03-28T07:15:00",
          "2023-03-28T07:20:00",
          "2023-03-28T07:25:00",
          "2023-03-28T07:30:00",
          "2023-03-28T07:35:00",
          "2023-03-28T07:40:00",
          "2023-03-28T07:45:00",
          "2023-03-28T07:50:00",
          "2023-03-28T07:55:00"
         ],
         "xaxis": "x28",
         "y": [
          0,
          0,
          0,
          0,
          0,
          0,
          0,
          0,
          0,
          0,
          0,
          0
         ],
         "yaxis": "y28"
        },
        {
         "alignmentgroup": "True",
         "bingroup": "x",
         "histfunc": "sum",
         "hovertemplate": "road_user_type=delivery_van<br>from_section=WEST<br>to_section=SOUTH<br>time_interval=%{x}<br>sum of difference=%{y}<extra></extra>",
         "legendgroup": "delivery_van",
         "marker": {
          "color": "#ab63fa",
          "pattern": {
           "shape": ""
          }
         },
         "name": "delivery_van",
         "nbinsx": 12,
         "offsetgroup": "delivery_van",
         "orientation": "v",
         "showlegend": false,
         "type": "histogram",
         "x": [
          "2023-03-28T07:00:00",
          "2023-03-28T07:05:00",
          "2023-03-28T07:10:00",
          "2023-03-28T07:15:00",
          "2023-03-28T07:20:00",
          "2023-03-28T07:25:00",
          "2023-03-28T07:30:00",
          "2023-03-28T07:35:00",
          "2023-03-28T07:40:00",
          "2023-03-28T07:45:00",
          "2023-03-28T07:50:00",
          "2023-03-28T07:55:00"
         ],
         "xaxis": "x15",
         "y": [
          0,
          0,
          0,
          0,
          0,
          0,
          0,
          0,
          0,
          0,
          0,
          0
         ],
         "yaxis": "y15"
        },
        {
         "alignmentgroup": "True",
         "bingroup": "x",
         "histfunc": "sum",
         "hovertemplate": "road_user_type=delivery_van<br>from_section=WEST<br>to_section=WEST<br>time_interval=%{x}<br>sum of difference=%{y}<extra></extra>",
         "legendgroup": "delivery_van",
         "marker": {
          "color": "#ab63fa",
          "pattern": {
           "shape": ""
          }
         },
         "name": "delivery_van",
         "nbinsx": 12,
         "offsetgroup": "delivery_van",
         "orientation": "v",
         "showlegend": false,
         "type": "histogram",
         "x": [
          "2023-03-28T07:00:00",
          "2023-03-28T07:05:00",
          "2023-03-28T07:10:00",
          "2023-03-28T07:15:00",
          "2023-03-28T07:20:00",
          "2023-03-28T07:25:00",
          "2023-03-28T07:30:00",
          "2023-03-28T07:35:00",
          "2023-03-28T07:40:00",
          "2023-03-28T07:45:00",
          "2023-03-28T07:50:00",
          "2023-03-28T07:55:00"
         ],
         "xaxis": "x16",
         "y": [
          0,
          0,
          0,
          0,
          0,
          0,
          0,
          0,
          0,
          0,
          0,
          0
         ],
         "yaxis": "y16"
        },
        {
         "alignmentgroup": "True",
         "bingroup": "x",
         "histfunc": "sum",
         "hovertemplate": "road_user_type=delivery_van<br>from_section=WEST<br>to_section=EAST<br>time_interval=%{x}<br>sum of difference=%{y}<extra></extra>",
         "legendgroup": "delivery_van",
         "marker": {
          "color": "#ab63fa",
          "pattern": {
           "shape": ""
          }
         },
         "name": "delivery_van",
         "nbinsx": 12,
         "offsetgroup": "delivery_van",
         "orientation": "v",
         "showlegend": false,
         "type": "histogram",
         "x": [
          "2023-03-28T07:00:00",
          "2023-03-28T07:05:00",
          "2023-03-28T07:10:00",
          "2023-03-28T07:15:00",
          "2023-03-28T07:20:00",
          "2023-03-28T07:25:00",
          "2023-03-28T07:30:00",
          "2023-03-28T07:35:00",
          "2023-03-28T07:40:00",
          "2023-03-28T07:45:00",
          "2023-03-28T07:50:00",
          "2023-03-28T07:55:00"
         ],
         "xaxis": "x17",
         "y": [
          0,
          0,
          0,
          0,
          0,
          0,
          0,
          0,
          0,
          0,
          0,
          0
         ],
         "yaxis": "y17"
        },
        {
         "alignmentgroup": "True",
         "bingroup": "x",
         "histfunc": "sum",
         "hovertemplate": "road_user_type=delivery_van<br>from_section=WEST<br>to_section=NORTH<br>time_interval=%{x}<br>sum of difference=%{y}<extra></extra>",
         "legendgroup": "delivery_van",
         "marker": {
          "color": "#ab63fa",
          "pattern": {
           "shape": ""
          }
         },
         "name": "delivery_van",
         "nbinsx": 12,
         "offsetgroup": "delivery_van",
         "orientation": "v",
         "showlegend": false,
         "type": "histogram",
         "x": [
          "2023-03-28T07:55:00",
          "2023-03-28T07:00:00",
          "2023-03-28T07:05:00",
          "2023-03-28T07:10:00",
          "2023-03-28T07:15:00",
          "2023-03-28T07:20:00",
          "2023-03-28T07:25:00",
          "2023-03-28T07:30:00",
          "2023-03-28T07:35:00",
          "2023-03-28T07:40:00",
          "2023-03-28T07:45:00",
          "2023-03-28T07:50:00"
         ],
         "xaxis": "x19",
         "y": [
          1,
          0,
          1,
          0,
          0,
          0,
          0,
          0,
          0,
          0,
          0,
          0
         ],
         "yaxis": "y19"
        },
        {
         "alignmentgroup": "True",
         "bingroup": "x",
         "histfunc": "sum",
         "hovertemplate": "road_user_type=delivery_van<br>from_section=WEST<br>to_section=PED_BIKE_SOUTH<br>time_interval=%{x}<br>sum of difference=%{y}<extra></extra>",
         "legendgroup": "delivery_van",
         "marker": {
          "color": "#ab63fa",
          "pattern": {
           "shape": ""
          }
         },
         "name": "delivery_van",
         "nbinsx": 12,
         "offsetgroup": "delivery_van",
         "orientation": "v",
         "showlegend": false,
         "type": "histogram",
         "x": [
          "2023-03-28T07:00:00",
          "2023-03-28T07:05:00",
          "2023-03-28T07:10:00",
          "2023-03-28T07:15:00",
          "2023-03-28T07:20:00",
          "2023-03-28T07:25:00",
          "2023-03-28T07:30:00",
          "2023-03-28T07:35:00",
          "2023-03-28T07:40:00",
          "2023-03-28T07:45:00",
          "2023-03-28T07:50:00",
          "2023-03-28T07:55:00"
         ],
         "xaxis": "x20",
         "y": [
          0,
          0,
          0,
          0,
          0,
          0,
          0,
          0,
          0,
          0,
          0,
          0
         ],
         "yaxis": "y20"
        },
        {
         "alignmentgroup": "True",
         "bingroup": "x",
         "histfunc": "sum",
         "hovertemplate": "road_user_type=delivery_van<br>from_section=WEST<br>to_section=PED_BIKE_NORTH<br>time_interval=%{x}<br>sum of difference=%{y}<extra></extra>",
         "legendgroup": "delivery_van",
         "marker": {
          "color": "#ab63fa",
          "pattern": {
           "shape": ""
          }
         },
         "name": "delivery_van",
         "nbinsx": 12,
         "offsetgroup": "delivery_van",
         "orientation": "v",
         "showlegend": false,
         "type": "histogram",
         "x": [
          "2023-03-28T07:00:00",
          "2023-03-28T07:05:00",
          "2023-03-28T07:10:00",
          "2023-03-28T07:15:00",
          "2023-03-28T07:20:00",
          "2023-03-28T07:25:00",
          "2023-03-28T07:30:00",
          "2023-03-28T07:35:00",
          "2023-03-28T07:40:00",
          "2023-03-28T07:45:00",
          "2023-03-28T07:50:00",
          "2023-03-28T07:55:00"
         ],
         "xaxis": "x21",
         "y": [
          0,
          0,
          0,
          0,
          0,
          0,
          0,
          0,
          0,
          0,
          0,
          0
         ],
         "yaxis": "y21"
        },
        {
         "alignmentgroup": "True",
         "bingroup": "x",
         "histfunc": "sum",
         "hovertemplate": "road_user_type=delivery_van<br>from_section=PED_BIKE_SOUTH<br>to_section=SOUTH<br>time_interval=%{x}<br>sum of difference=%{y}<extra></extra>",
         "legendgroup": "delivery_van",
         "marker": {
          "color": "#ab63fa",
          "pattern": {
           "shape": ""
          }
         },
         "name": "delivery_van",
         "nbinsx": 12,
         "offsetgroup": "delivery_van",
         "orientation": "v",
         "showlegend": false,
         "type": "histogram",
         "x": [
          "2023-03-28T07:00:00",
          "2023-03-28T07:05:00",
          "2023-03-28T07:10:00",
          "2023-03-28T07:15:00",
          "2023-03-28T07:20:00",
          "2023-03-28T07:25:00",
          "2023-03-28T07:30:00",
          "2023-03-28T07:35:00",
          "2023-03-28T07:40:00",
          "2023-03-28T07:45:00",
          "2023-03-28T07:50:00",
          "2023-03-28T07:55:00"
         ],
         "xaxis": "x8",
         "y": [
          0,
          0,
          0,
          0,
          0,
          0,
          0,
          0,
          0,
          0,
          0,
          0
         ],
         "yaxis": "y8"
        },
        {
         "alignmentgroup": "True",
         "bingroup": "x",
         "histfunc": "sum",
         "hovertemplate": "road_user_type=delivery_van<br>from_section=PED_BIKE_SOUTH<br>to_section=WEST<br>time_interval=%{x}<br>sum of difference=%{y}<extra></extra>",
         "legendgroup": "delivery_van",
         "marker": {
          "color": "#ab63fa",
          "pattern": {
           "shape": ""
          }
         },
         "name": "delivery_van",
         "nbinsx": 12,
         "offsetgroup": "delivery_van",
         "orientation": "v",
         "showlegend": false,
         "type": "histogram",
         "x": [
          "2023-03-28T07:00:00",
          "2023-03-28T07:05:00",
          "2023-03-28T07:10:00",
          "2023-03-28T07:15:00",
          "2023-03-28T07:20:00",
          "2023-03-28T07:25:00",
          "2023-03-28T07:30:00",
          "2023-03-28T07:35:00",
          "2023-03-28T07:40:00",
          "2023-03-28T07:45:00",
          "2023-03-28T07:50:00",
          "2023-03-28T07:55:00"
         ],
         "xaxis": "x9",
         "y": [
          0,
          0,
          0,
          0,
          0,
          0,
          0,
          0,
          0,
          0,
          0,
          0
         ],
         "yaxis": "y9"
        },
        {
         "alignmentgroup": "True",
         "bingroup": "x",
         "histfunc": "sum",
         "hovertemplate": "road_user_type=delivery_van<br>from_section=PED_BIKE_SOUTH<br>to_section=EAST<br>time_interval=%{x}<br>sum of difference=%{y}<extra></extra>",
         "legendgroup": "delivery_van",
         "marker": {
          "color": "#ab63fa",
          "pattern": {
           "shape": ""
          }
         },
         "name": "delivery_van",
         "nbinsx": 12,
         "offsetgroup": "delivery_van",
         "orientation": "v",
         "showlegend": false,
         "type": "histogram",
         "x": [
          "2023-03-28T07:00:00",
          "2023-03-28T07:05:00",
          "2023-03-28T07:10:00",
          "2023-03-28T07:15:00",
          "2023-03-28T07:20:00",
          "2023-03-28T07:25:00",
          "2023-03-28T07:30:00",
          "2023-03-28T07:35:00",
          "2023-03-28T07:40:00",
          "2023-03-28T07:45:00",
          "2023-03-28T07:50:00",
          "2023-03-28T07:55:00"
         ],
         "xaxis": "x10",
         "y": [
          0,
          0,
          0,
          0,
          0,
          0,
          0,
          0,
          0,
          0,
          0,
          0
         ],
         "yaxis": "y10"
        },
        {
         "alignmentgroup": "True",
         "bingroup": "x",
         "histfunc": "sum",
         "hovertemplate": "road_user_type=delivery_van<br>from_section=PED_BIKE_SOUTH<br>to_section=NORTH<br>time_interval=%{x}<br>sum of difference=%{y}<extra></extra>",
         "legendgroup": "delivery_van",
         "marker": {
          "color": "#ab63fa",
          "pattern": {
           "shape": ""
          }
         },
         "name": "delivery_van",
         "nbinsx": 12,
         "offsetgroup": "delivery_van",
         "orientation": "v",
         "showlegend": false,
         "type": "histogram",
         "x": [
          "2023-03-28T07:00:00",
          "2023-03-28T07:05:00",
          "2023-03-28T07:10:00",
          "2023-03-28T07:15:00",
          "2023-03-28T07:20:00",
          "2023-03-28T07:25:00",
          "2023-03-28T07:30:00",
          "2023-03-28T07:35:00",
          "2023-03-28T07:40:00",
          "2023-03-28T07:45:00",
          "2023-03-28T07:50:00",
          "2023-03-28T07:55:00"
         ],
         "xaxis": "x12",
         "y": [
          0,
          0,
          0,
          0,
          0,
          0,
          0,
          0,
          0,
          0,
          0,
          0
         ],
         "yaxis": "y12"
        },
        {
         "alignmentgroup": "True",
         "bingroup": "x",
         "histfunc": "sum",
         "hovertemplate": "road_user_type=delivery_van<br>from_section=PED_BIKE_SOUTH<br>to_section=PED_BIKE_SOUTH<br>time_interval=%{x}<br>sum of difference=%{y}<extra></extra>",
         "legendgroup": "delivery_van",
         "marker": {
          "color": "#ab63fa",
          "pattern": {
           "shape": ""
          }
         },
         "name": "delivery_van",
         "nbinsx": 12,
         "offsetgroup": "delivery_van",
         "orientation": "v",
         "showlegend": false,
         "type": "histogram",
         "x": [
          "2023-03-28T07:00:00",
          "2023-03-28T07:05:00",
          "2023-03-28T07:10:00",
          "2023-03-28T07:15:00",
          "2023-03-28T07:20:00",
          "2023-03-28T07:25:00",
          "2023-03-28T07:30:00",
          "2023-03-28T07:35:00",
          "2023-03-28T07:40:00",
          "2023-03-28T07:45:00",
          "2023-03-28T07:50:00",
          "2023-03-28T07:55:00"
         ],
         "xaxis": "x13",
         "y": [
          0,
          0,
          0,
          0,
          0,
          0,
          0,
          0,
          0,
          0,
          0,
          0
         ],
         "yaxis": "y13"
        },
        {
         "alignmentgroup": "True",
         "bingroup": "x",
         "histfunc": "sum",
         "hovertemplate": "road_user_type=delivery_van<br>from_section=PED_BIKE_SOUTH<br>to_section=PED_BIKE_NORTH<br>time_interval=%{x}<br>sum of difference=%{y}<extra></extra>",
         "legendgroup": "delivery_van",
         "marker": {
          "color": "#ab63fa",
          "pattern": {
           "shape": ""
          }
         },
         "name": "delivery_van",
         "nbinsx": 12,
         "offsetgroup": "delivery_van",
         "orientation": "v",
         "showlegend": false,
         "type": "histogram",
         "x": [
          "2023-03-28T07:00:00",
          "2023-03-28T07:05:00",
          "2023-03-28T07:10:00",
          "2023-03-28T07:15:00",
          "2023-03-28T07:20:00",
          "2023-03-28T07:25:00",
          "2023-03-28T07:30:00",
          "2023-03-28T07:35:00",
          "2023-03-28T07:40:00",
          "2023-03-28T07:45:00",
          "2023-03-28T07:50:00",
          "2023-03-28T07:55:00"
         ],
         "xaxis": "x14",
         "y": [
          0,
          0,
          0,
          0,
          0,
          0,
          0,
          0,
          0,
          0,
          0,
          0
         ],
         "yaxis": "y14"
        },
        {
         "alignmentgroup": "True",
         "bingroup": "x",
         "histfunc": "sum",
         "hovertemplate": "road_user_type=delivery_van<br>from_section=PED_BIKE_NORTH<br>to_section=SOUTH<br>time_interval=%{x}<br>sum of difference=%{y}<extra></extra>",
         "legendgroup": "delivery_van",
         "marker": {
          "color": "#ab63fa",
          "pattern": {
           "shape": ""
          }
         },
         "name": "delivery_van",
         "nbinsx": 12,
         "offsetgroup": "delivery_van",
         "orientation": "v",
         "showlegend": false,
         "type": "histogram",
         "x": [
          "2023-03-28T07:00:00",
          "2023-03-28T07:05:00",
          "2023-03-28T07:10:00",
          "2023-03-28T07:15:00",
          "2023-03-28T07:20:00",
          "2023-03-28T07:25:00",
          "2023-03-28T07:30:00",
          "2023-03-28T07:35:00",
          "2023-03-28T07:40:00",
          "2023-03-28T07:45:00",
          "2023-03-28T07:50:00",
          "2023-03-28T07:55:00"
         ],
         "xaxis": "x",
         "y": [
          0,
          0,
          0,
          0,
          0,
          0,
          0,
          0,
          0,
          0,
          0,
          0
         ],
         "yaxis": "y"
        },
        {
         "alignmentgroup": "True",
         "bingroup": "x",
         "histfunc": "sum",
         "hovertemplate": "road_user_type=delivery_van<br>from_section=PED_BIKE_NORTH<br>to_section=WEST<br>time_interval=%{x}<br>sum of difference=%{y}<extra></extra>",
         "legendgroup": "delivery_van",
         "marker": {
          "color": "#ab63fa",
          "pattern": {
           "shape": ""
          }
         },
         "name": "delivery_van",
         "nbinsx": 12,
         "offsetgroup": "delivery_van",
         "orientation": "v",
         "showlegend": false,
         "type": "histogram",
         "x": [
          "2023-03-28T07:00:00",
          "2023-03-28T07:05:00",
          "2023-03-28T07:10:00",
          "2023-03-28T07:15:00",
          "2023-03-28T07:20:00",
          "2023-03-28T07:25:00",
          "2023-03-28T07:30:00",
          "2023-03-28T07:35:00",
          "2023-03-28T07:40:00",
          "2023-03-28T07:45:00",
          "2023-03-28T07:50:00",
          "2023-03-28T07:55:00"
         ],
         "xaxis": "x2",
         "y": [
          0,
          0,
          0,
          0,
          0,
          0,
          0,
          0,
          0,
          0,
          0,
          0
         ],
         "yaxis": "y2"
        },
        {
         "alignmentgroup": "True",
         "bingroup": "x",
         "histfunc": "sum",
         "hovertemplate": "road_user_type=delivery_van<br>from_section=PED_BIKE_NORTH<br>to_section=EAST<br>time_interval=%{x}<br>sum of difference=%{y}<extra></extra>",
         "legendgroup": "delivery_van",
         "marker": {
          "color": "#ab63fa",
          "pattern": {
           "shape": ""
          }
         },
         "name": "delivery_van",
         "nbinsx": 12,
         "offsetgroup": "delivery_van",
         "orientation": "v",
         "showlegend": false,
         "type": "histogram",
         "x": [
          "2023-03-28T07:00:00",
          "2023-03-28T07:05:00",
          "2023-03-28T07:10:00",
          "2023-03-28T07:15:00",
          "2023-03-28T07:20:00",
          "2023-03-28T07:25:00",
          "2023-03-28T07:30:00",
          "2023-03-28T07:35:00",
          "2023-03-28T07:40:00",
          "2023-03-28T07:45:00",
          "2023-03-28T07:50:00",
          "2023-03-28T07:55:00"
         ],
         "xaxis": "x3",
         "y": [
          0,
          0,
          0,
          0,
          0,
          0,
          0,
          0,
          0,
          0,
          0,
          0
         ],
         "yaxis": "y3"
        },
        {
         "alignmentgroup": "True",
         "bingroup": "x",
         "histfunc": "sum",
         "hovertemplate": "road_user_type=delivery_van<br>from_section=PED_BIKE_NORTH<br>to_section=NORTH<br>time_interval=%{x}<br>sum of difference=%{y}<extra></extra>",
         "legendgroup": "delivery_van",
         "marker": {
          "color": "#ab63fa",
          "pattern": {
           "shape": ""
          }
         },
         "name": "delivery_van",
         "nbinsx": 12,
         "offsetgroup": "delivery_van",
         "orientation": "v",
         "showlegend": false,
         "type": "histogram",
         "x": [
          "2023-03-28T07:00:00",
          "2023-03-28T07:05:00",
          "2023-03-28T07:10:00",
          "2023-03-28T07:15:00",
          "2023-03-28T07:20:00",
          "2023-03-28T07:25:00",
          "2023-03-28T07:30:00",
          "2023-03-28T07:35:00",
          "2023-03-28T07:40:00",
          "2023-03-28T07:45:00",
          "2023-03-28T07:50:00",
          "2023-03-28T07:55:00"
         ],
         "xaxis": "x5",
         "y": [
          0,
          0,
          0,
          0,
          0,
          0,
          0,
          0,
          0,
          0,
          0,
          0
         ],
         "yaxis": "y5"
        },
        {
         "alignmentgroup": "True",
         "bingroup": "x",
         "histfunc": "sum",
         "hovertemplate": "road_user_type=delivery_van<br>from_section=PED_BIKE_NORTH<br>to_section=PED_BIKE_SOUTH<br>time_interval=%{x}<br>sum of difference=%{y}<extra></extra>",
         "legendgroup": "delivery_van",
         "marker": {
          "color": "#ab63fa",
          "pattern": {
           "shape": ""
          }
         },
         "name": "delivery_van",
         "nbinsx": 12,
         "offsetgroup": "delivery_van",
         "orientation": "v",
         "showlegend": false,
         "type": "histogram",
         "x": [
          "2023-03-28T07:00:00",
          "2023-03-28T07:05:00",
          "2023-03-28T07:10:00",
          "2023-03-28T07:15:00",
          "2023-03-28T07:20:00",
          "2023-03-28T07:25:00",
          "2023-03-28T07:30:00",
          "2023-03-28T07:35:00",
          "2023-03-28T07:40:00",
          "2023-03-28T07:45:00",
          "2023-03-28T07:50:00",
          "2023-03-28T07:55:00"
         ],
         "xaxis": "x6",
         "y": [
          0,
          0,
          0,
          0,
          0,
          0,
          0,
          0,
          0,
          0,
          0,
          0
         ],
         "yaxis": "y6"
        },
        {
         "alignmentgroup": "True",
         "bingroup": "x",
         "histfunc": "sum",
         "hovertemplate": "road_user_type=delivery_van<br>from_section=PED_BIKE_NORTH<br>to_section=PED_BIKE_NORTH<br>time_interval=%{x}<br>sum of difference=%{y}<extra></extra>",
         "legendgroup": "delivery_van",
         "marker": {
          "color": "#ab63fa",
          "pattern": {
           "shape": ""
          }
         },
         "name": "delivery_van",
         "nbinsx": 12,
         "offsetgroup": "delivery_van",
         "orientation": "v",
         "showlegend": false,
         "type": "histogram",
         "x": [
          "2023-03-28T07:00:00",
          "2023-03-28T07:05:00",
          "2023-03-28T07:10:00",
          "2023-03-28T07:15:00",
          "2023-03-28T07:20:00",
          "2023-03-28T07:25:00",
          "2023-03-28T07:30:00",
          "2023-03-28T07:35:00",
          "2023-03-28T07:40:00",
          "2023-03-28T07:45:00",
          "2023-03-28T07:50:00",
          "2023-03-28T07:55:00"
         ],
         "xaxis": "x7",
         "y": [
          0,
          0,
          0,
          0,
          0,
          0,
          0,
          0,
          0,
          0,
          0,
          0
         ],
         "yaxis": "y7"
        },
        {
         "alignmentgroup": "True",
         "bingroup": "x",
         "histfunc": "sum",
         "hovertemplate": "road_user_type=truck_with_semitrailer<br>from_section=EAST<br>to_section=SOUTH<br>time_interval=%{x}<br>sum of difference=%{y}<extra></extra>",
         "legendgroup": "truck_with_semitrailer",
         "marker": {
          "color": "#FFA15A",
          "pattern": {
           "shape": ""
          }
         },
         "name": "truck_with_semitrailer",
         "nbinsx": 12,
         "offsetgroup": "truck_with_semitrailer",
         "orientation": "v",
         "showlegend": true,
         "type": "histogram",
         "x": [
          "2023-03-28T07:00:00",
          "2023-03-28T07:05:00",
          "2023-03-28T07:10:00",
          "2023-03-28T07:15:00",
          "2023-03-28T07:20:00",
          "2023-03-28T07:25:00",
          "2023-03-28T07:30:00",
          "2023-03-28T07:35:00",
          "2023-03-28T07:40:00",
          "2023-03-28T07:45:00",
          "2023-03-28T07:50:00",
          "2023-03-28T07:55:00"
         ],
         "xaxis": "x43",
         "y": [
          0,
          0,
          0,
          0,
          0,
          0,
          0,
          0,
          0,
          0,
          0,
          0
         ],
         "yaxis": "y43"
        },
        {
         "alignmentgroup": "True",
         "bingroup": "x",
         "histfunc": "sum",
         "hovertemplate": "road_user_type=truck_with_semitrailer<br>from_section=EAST<br>to_section=WEST<br>time_interval=%{x}<br>sum of difference=%{y}<extra></extra>",
         "legendgroup": "truck_with_semitrailer",
         "marker": {
          "color": "#FFA15A",
          "pattern": {
           "shape": ""
          }
         },
         "name": "truck_with_semitrailer",
         "nbinsx": 12,
         "offsetgroup": "truck_with_semitrailer",
         "orientation": "v",
         "showlegend": false,
         "type": "histogram",
         "x": [
          "2023-03-28T07:00:00",
          "2023-03-28T07:05:00",
          "2023-03-28T07:10:00",
          "2023-03-28T07:15:00",
          "2023-03-28T07:20:00",
          "2023-03-28T07:25:00",
          "2023-03-28T07:30:00",
          "2023-03-28T07:35:00",
          "2023-03-28T07:40:00",
          "2023-03-28T07:45:00",
          "2023-03-28T07:50:00",
          "2023-03-28T07:55:00"
         ],
         "xaxis": "x44",
         "y": [
          0,
          0,
          0,
          0,
          0,
          0,
          0,
          0,
          0,
          0,
          0,
          0
         ],
         "yaxis": "y44"
        },
        {
         "alignmentgroup": "True",
         "bingroup": "x",
         "histfunc": "sum",
         "hovertemplate": "road_user_type=truck_with_semitrailer<br>from_section=EAST<br>to_section=EAST<br>time_interval=%{x}<br>sum of difference=%{y}<extra></extra>",
         "legendgroup": "truck_with_semitrailer",
         "marker": {
          "color": "#FFA15A",
          "pattern": {
           "shape": ""
          }
         },
         "name": "truck_with_semitrailer",
         "nbinsx": 12,
         "offsetgroup": "truck_with_semitrailer",
         "orientation": "v",
         "showlegend": false,
         "type": "histogram",
         "x": [
          "2023-03-28T07:00:00",
          "2023-03-28T07:05:00",
          "2023-03-28T07:10:00",
          "2023-03-28T07:15:00",
          "2023-03-28T07:20:00",
          "2023-03-28T07:25:00",
          "2023-03-28T07:30:00",
          "2023-03-28T07:35:00",
          "2023-03-28T07:40:00",
          "2023-03-28T07:45:00",
          "2023-03-28T07:50:00",
          "2023-03-28T07:55:00"
         ],
         "xaxis": "x45",
         "y": [
          0,
          0,
          0,
          0,
          0,
          0,
          0,
          0,
          0,
          0,
          0,
          0
         ],
         "yaxis": "y45"
        },
        {
         "alignmentgroup": "True",
         "bingroup": "x",
         "histfunc": "sum",
         "hovertemplate": "road_user_type=truck_with_semitrailer<br>from_section=EAST<br>to_section=NORTH<br>time_interval=%{x}<br>sum of difference=%{y}<extra></extra>",
         "legendgroup": "truck_with_semitrailer",
         "marker": {
          "color": "#FFA15A",
          "pattern": {
           "shape": ""
          }
         },
         "name": "truck_with_semitrailer",
         "nbinsx": 12,
         "offsetgroup": "truck_with_semitrailer",
         "orientation": "v",
         "showlegend": false,
         "type": "histogram",
         "x": [
          "2023-03-28T07:00:00",
          "2023-03-28T07:05:00",
          "2023-03-28T07:10:00",
          "2023-03-28T07:15:00",
          "2023-03-28T07:20:00",
          "2023-03-28T07:25:00",
          "2023-03-28T07:30:00",
          "2023-03-28T07:35:00",
          "2023-03-28T07:40:00",
          "2023-03-28T07:45:00",
          "2023-03-28T07:50:00",
          "2023-03-28T07:55:00"
         ],
         "xaxis": "x47",
         "y": [
          0,
          0,
          0,
          0,
          0,
          0,
          0,
          0,
          0,
          0,
          0,
          0
         ],
         "yaxis": "y47"
        },
        {
         "alignmentgroup": "True",
         "bingroup": "x",
         "histfunc": "sum",
         "hovertemplate": "road_user_type=truck_with_semitrailer<br>from_section=EAST<br>to_section=PED_BIKE_SOUTH<br>time_interval=%{x}<br>sum of difference=%{y}<extra></extra>",
         "legendgroup": "truck_with_semitrailer",
         "marker": {
          "color": "#FFA15A",
          "pattern": {
           "shape": ""
          }
         },
         "name": "truck_with_semitrailer",
         "nbinsx": 12,
         "offsetgroup": "truck_with_semitrailer",
         "orientation": "v",
         "showlegend": false,
         "type": "histogram",
         "x": [
          "2023-03-28T07:00:00",
          "2023-03-28T07:05:00",
          "2023-03-28T07:10:00",
          "2023-03-28T07:15:00",
          "2023-03-28T07:20:00",
          "2023-03-28T07:25:00",
          "2023-03-28T07:30:00",
          "2023-03-28T07:35:00",
          "2023-03-28T07:40:00",
          "2023-03-28T07:45:00",
          "2023-03-28T07:50:00",
          "2023-03-28T07:55:00"
         ],
         "xaxis": "x48",
         "y": [
          0,
          0,
          0,
          0,
          0,
          0,
          0,
          0,
          0,
          0,
          0,
          0
         ],
         "yaxis": "y48"
        },
        {
         "alignmentgroup": "True",
         "bingroup": "x",
         "histfunc": "sum",
         "hovertemplate": "road_user_type=truck_with_semitrailer<br>from_section=EAST<br>to_section=PED_BIKE_NORTH<br>time_interval=%{x}<br>sum of difference=%{y}<extra></extra>",
         "legendgroup": "truck_with_semitrailer",
         "marker": {
          "color": "#FFA15A",
          "pattern": {
           "shape": ""
          }
         },
         "name": "truck_with_semitrailer",
         "nbinsx": 12,
         "offsetgroup": "truck_with_semitrailer",
         "orientation": "v",
         "showlegend": false,
         "type": "histogram",
         "x": [
          "2023-03-28T07:00:00",
          "2023-03-28T07:05:00",
          "2023-03-28T07:10:00",
          "2023-03-28T07:15:00",
          "2023-03-28T07:20:00",
          "2023-03-28T07:25:00",
          "2023-03-28T07:30:00",
          "2023-03-28T07:35:00",
          "2023-03-28T07:40:00",
          "2023-03-28T07:45:00",
          "2023-03-28T07:50:00",
          "2023-03-28T07:55:00"
         ],
         "xaxis": "x49",
         "y": [
          0,
          0,
          0,
          0,
          0,
          0,
          0,
          0,
          0,
          0,
          0,
          0
         ],
         "yaxis": "y49"
        },
        {
         "alignmentgroup": "True",
         "bingroup": "x",
         "histfunc": "sum",
         "hovertemplate": "road_user_type=truck_with_semitrailer<br>from_section=NORTH<br>to_section=SOUTH<br>time_interval=%{x}<br>sum of difference=%{y}<extra></extra>",
         "legendgroup": "truck_with_semitrailer",
         "marker": {
          "color": "#FFA15A",
          "pattern": {
           "shape": ""
          }
         },
         "name": "truck_with_semitrailer",
         "nbinsx": 12,
         "offsetgroup": "truck_with_semitrailer",
         "orientation": "v",
         "showlegend": false,
         "type": "histogram",
         "x": [
          "2023-03-28T07:00:00",
          "2023-03-28T07:25:00",
          "2023-03-28T07:30:00",
          "2023-03-28T07:40:00",
          "2023-03-28T07:45:00",
          "2023-03-28T07:55:00",
          "2023-03-28T07:05:00",
          "2023-03-28T07:10:00",
          "2023-03-28T07:15:00",
          "2023-03-28T07:20:00",
          "2023-03-28T07:35:00",
          "2023-03-28T07:50:00"
         ],
         "xaxis": "x36",
         "y": [
          1,
          1,
          1,
          2,
          1,
          1,
          0,
          0,
          0,
          0,
          0,
          0
         ],
         "yaxis": "y36"
        },
        {
         "alignmentgroup": "True",
         "bingroup": "x",
         "histfunc": "sum",
         "hovertemplate": "road_user_type=truck_with_semitrailer<br>from_section=NORTH<br>to_section=WEST<br>time_interval=%{x}<br>sum of difference=%{y}<extra></extra>",
         "legendgroup": "truck_with_semitrailer",
         "marker": {
          "color": "#FFA15A",
          "pattern": {
           "shape": ""
          }
         },
         "name": "truck_with_semitrailer",
         "nbinsx": 12,
         "offsetgroup": "truck_with_semitrailer",
         "orientation": "v",
         "showlegend": false,
         "type": "histogram",
         "x": [
          "2023-03-28T07:00:00",
          "2023-03-28T07:05:00",
          "2023-03-28T07:10:00",
          "2023-03-28T07:15:00",
          "2023-03-28T07:20:00",
          "2023-03-28T07:25:00",
          "2023-03-28T07:30:00",
          "2023-03-28T07:35:00",
          "2023-03-28T07:40:00",
          "2023-03-28T07:45:00",
          "2023-03-28T07:50:00",
          "2023-03-28T07:55:00"
         ],
         "xaxis": "x37",
         "y": [
          0,
          0,
          0,
          0,
          0,
          0,
          0,
          0,
          0,
          0,
          0,
          0
         ],
         "yaxis": "y37"
        },
        {
         "alignmentgroup": "True",
         "bingroup": "x",
         "histfunc": "sum",
         "hovertemplate": "road_user_type=truck_with_semitrailer<br>from_section=NORTH<br>to_section=EAST<br>time_interval=%{x}<br>sum of difference=%{y}<extra></extra>",
         "legendgroup": "truck_with_semitrailer",
         "marker": {
          "color": "#FFA15A",
          "pattern": {
           "shape": ""
          }
         },
         "name": "truck_with_semitrailer",
         "nbinsx": 12,
         "offsetgroup": "truck_with_semitrailer",
         "orientation": "v",
         "showlegend": false,
         "type": "histogram",
         "x": [
          "2023-03-28T07:00:00",
          "2023-03-28T07:05:00",
          "2023-03-28T07:10:00",
          "2023-03-28T07:15:00",
          "2023-03-28T07:20:00",
          "2023-03-28T07:25:00",
          "2023-03-28T07:30:00",
          "2023-03-28T07:35:00",
          "2023-03-28T07:40:00",
          "2023-03-28T07:45:00",
          "2023-03-28T07:50:00",
          "2023-03-28T07:55:00"
         ],
         "xaxis": "x38",
         "y": [
          0,
          0,
          0,
          0,
          0,
          0,
          0,
          0,
          0,
          0,
          0,
          0
         ],
         "yaxis": "y38"
        },
        {
         "alignmentgroup": "True",
         "bingroup": "x",
         "histfunc": "sum",
         "hovertemplate": "road_user_type=truck_with_semitrailer<br>from_section=NORTH<br>to_section=NORTH<br>time_interval=%{x}<br>sum of difference=%{y}<extra></extra>",
         "legendgroup": "truck_with_semitrailer",
         "marker": {
          "color": "#FFA15A",
          "pattern": {
           "shape": ""
          }
         },
         "name": "truck_with_semitrailer",
         "nbinsx": 12,
         "offsetgroup": "truck_with_semitrailer",
         "orientation": "v",
         "showlegend": false,
         "type": "histogram",
         "x": [
          "2023-03-28T07:00:00",
          "2023-03-28T07:05:00",
          "2023-03-28T07:10:00",
          "2023-03-28T07:15:00",
          "2023-03-28T07:20:00",
          "2023-03-28T07:25:00",
          "2023-03-28T07:30:00",
          "2023-03-28T07:35:00",
          "2023-03-28T07:40:00",
          "2023-03-28T07:45:00",
          "2023-03-28T07:50:00",
          "2023-03-28T07:55:00"
         ],
         "xaxis": "x40",
         "y": [
          0,
          0,
          0,
          0,
          0,
          0,
          0,
          0,
          0,
          0,
          1,
          0
         ],
         "yaxis": "y40"
        },
        {
         "alignmentgroup": "True",
         "bingroup": "x",
         "histfunc": "sum",
         "hovertemplate": "road_user_type=truck_with_semitrailer<br>from_section=NORTH<br>to_section=PED_BIKE_SOUTH<br>time_interval=%{x}<br>sum of difference=%{y}<extra></extra>",
         "legendgroup": "truck_with_semitrailer",
         "marker": {
          "color": "#FFA15A",
          "pattern": {
           "shape": ""
          }
         },
         "name": "truck_with_semitrailer",
         "nbinsx": 12,
         "offsetgroup": "truck_with_semitrailer",
         "orientation": "v",
         "showlegend": false,
         "type": "histogram",
         "x": [
          "2023-03-28T07:00:00",
          "2023-03-28T07:05:00",
          "2023-03-28T07:10:00",
          "2023-03-28T07:15:00",
          "2023-03-28T07:20:00",
          "2023-03-28T07:25:00",
          "2023-03-28T07:30:00",
          "2023-03-28T07:35:00",
          "2023-03-28T07:40:00",
          "2023-03-28T07:45:00",
          "2023-03-28T07:50:00",
          "2023-03-28T07:55:00"
         ],
         "xaxis": "x41",
         "y": [
          0,
          0,
          0,
          0,
          0,
          0,
          0,
          0,
          0,
          0,
          0,
          0
         ],
         "yaxis": "y41"
        },
        {
         "alignmentgroup": "True",
         "bingroup": "x",
         "histfunc": "sum",
         "hovertemplate": "road_user_type=truck_with_semitrailer<br>from_section=NORTH<br>to_section=PED_BIKE_NORTH<br>time_interval=%{x}<br>sum of difference=%{y}<extra></extra>",
         "legendgroup": "truck_with_semitrailer",
         "marker": {
          "color": "#FFA15A",
          "pattern": {
           "shape": ""
          }
         },
         "name": "truck_with_semitrailer",
         "nbinsx": 12,
         "offsetgroup": "truck_with_semitrailer",
         "orientation": "v",
         "showlegend": false,
         "type": "histogram",
         "x": [
          "2023-03-28T07:00:00",
          "2023-03-28T07:05:00",
          "2023-03-28T07:10:00",
          "2023-03-28T07:15:00",
          "2023-03-28T07:20:00",
          "2023-03-28T07:25:00",
          "2023-03-28T07:30:00",
          "2023-03-28T07:35:00",
          "2023-03-28T07:40:00",
          "2023-03-28T07:45:00",
          "2023-03-28T07:50:00",
          "2023-03-28T07:55:00"
         ],
         "xaxis": "x42",
         "y": [
          0,
          0,
          0,
          0,
          0,
          0,
          0,
          0,
          0,
          0,
          0,
          0
         ],
         "yaxis": "y42"
        },
        {
         "alignmentgroup": "True",
         "bingroup": "x",
         "histfunc": "sum",
         "hovertemplate": "road_user_type=truck_with_semitrailer<br>from_section=SOUTH<br>to_section=SOUTH<br>time_interval=%{x}<br>sum of difference=%{y}<extra></extra>",
         "legendgroup": "truck_with_semitrailer",
         "marker": {
          "color": "#FFA15A",
          "pattern": {
           "shape": ""
          }
         },
         "name": "truck_with_semitrailer",
         "nbinsx": 12,
         "offsetgroup": "truck_with_semitrailer",
         "orientation": "v",
         "showlegend": false,
         "type": "histogram",
         "x": [
          "2023-03-28T07:00:00",
          "2023-03-28T07:05:00",
          "2023-03-28T07:10:00",
          "2023-03-28T07:15:00",
          "2023-03-28T07:20:00",
          "2023-03-28T07:25:00",
          "2023-03-28T07:30:00",
          "2023-03-28T07:35:00",
          "2023-03-28T07:40:00",
          "2023-03-28T07:45:00",
          "2023-03-28T07:50:00",
          "2023-03-28T07:55:00"
         ],
         "xaxis": "x22",
         "y": [
          0,
          0,
          0,
          0,
          0,
          0,
          0,
          0,
          0,
          0,
          0,
          0
         ],
         "yaxis": "y22"
        },
        {
         "alignmentgroup": "True",
         "bingroup": "x",
         "histfunc": "sum",
         "hovertemplate": "road_user_type=truck_with_semitrailer<br>from_section=SOUTH<br>to_section=WEST<br>time_interval=%{x}<br>sum of difference=%{y}<extra></extra>",
         "legendgroup": "truck_with_semitrailer",
         "marker": {
          "color": "#FFA15A",
          "pattern": {
           "shape": ""
          }
         },
         "name": "truck_with_semitrailer",
         "nbinsx": 12,
         "offsetgroup": "truck_with_semitrailer",
         "orientation": "v",
         "showlegend": false,
         "type": "histogram",
         "x": [
          "2023-03-28T07:00:00",
          "2023-03-28T07:05:00",
          "2023-03-28T07:10:00",
          "2023-03-28T07:15:00",
          "2023-03-28T07:20:00",
          "2023-03-28T07:25:00",
          "2023-03-28T07:30:00",
          "2023-03-28T07:35:00",
          "2023-03-28T07:40:00",
          "2023-03-28T07:45:00",
          "2023-03-28T07:50:00",
          "2023-03-28T07:55:00"
         ],
         "xaxis": "x23",
         "y": [
          0,
          0,
          0,
          0,
          0,
          0,
          0,
          0,
          0,
          0,
          0,
          0
         ],
         "yaxis": "y23"
        },
        {
         "alignmentgroup": "True",
         "bingroup": "x",
         "histfunc": "sum",
         "hovertemplate": "road_user_type=truck_with_semitrailer<br>from_section=SOUTH<br>to_section=EAST<br>time_interval=%{x}<br>sum of difference=%{y}<extra></extra>",
         "legendgroup": "truck_with_semitrailer",
         "marker": {
          "color": "#FFA15A",
          "pattern": {
           "shape": ""
          }
         },
         "name": "truck_with_semitrailer",
         "nbinsx": 12,
         "offsetgroup": "truck_with_semitrailer",
         "orientation": "v",
         "showlegend": false,
         "type": "histogram",
         "x": [
          "2023-03-28T07:00:00",
          "2023-03-28T07:05:00",
          "2023-03-28T07:10:00",
          "2023-03-28T07:15:00",
          "2023-03-28T07:20:00",
          "2023-03-28T07:25:00",
          "2023-03-28T07:30:00",
          "2023-03-28T07:35:00",
          "2023-03-28T07:40:00",
          "2023-03-28T07:45:00",
          "2023-03-28T07:50:00",
          "2023-03-28T07:55:00"
         ],
         "xaxis": "x24",
         "y": [
          0,
          0,
          0,
          0,
          0,
          0,
          0,
          0,
          0,
          0,
          0,
          0
         ],
         "yaxis": "y24"
        },
        {
         "alignmentgroup": "True",
         "bingroup": "x",
         "histfunc": "sum",
         "hovertemplate": "road_user_type=truck_with_semitrailer<br>from_section=SOUTH<br>to_section=NORTH<br>time_interval=%{x}<br>sum of difference=%{y}<extra></extra>",
         "legendgroup": "truck_with_semitrailer",
         "marker": {
          "color": "#FFA15A",
          "pattern": {
           "shape": ""
          }
         },
         "name": "truck_with_semitrailer",
         "nbinsx": 12,
         "offsetgroup": "truck_with_semitrailer",
         "orientation": "v",
         "showlegend": false,
         "type": "histogram",
         "x": [
          "2023-03-28T07:10:00",
          "2023-03-28T07:20:00",
          "2023-03-28T07:25:00",
          "2023-03-28T07:35:00",
          "2023-03-28T07:40:00",
          "2023-03-28T07:50:00",
          "2023-03-28T07:00:00",
          "2023-03-28T07:05:00",
          "2023-03-28T07:15:00",
          "2023-03-28T07:30:00",
          "2023-03-28T07:45:00",
          "2023-03-28T07:55:00"
         ],
         "xaxis": "x26",
         "y": [
          1,
          1,
          1,
          1,
          1,
          0,
          0,
          1,
          0,
          0,
          1,
          1
         ],
         "yaxis": "y26"
        },
        {
         "alignmentgroup": "True",
         "bingroup": "x",
         "histfunc": "sum",
         "hovertemplate": "road_user_type=truck_with_semitrailer<br>from_section=SOUTH<br>to_section=PED_BIKE_SOUTH<br>time_interval=%{x}<br>sum of difference=%{y}<extra></extra>",
         "legendgroup": "truck_with_semitrailer",
         "marker": {
          "color": "#FFA15A",
          "pattern": {
           "shape": ""
          }
         },
         "name": "truck_with_semitrailer",
         "nbinsx": 12,
         "offsetgroup": "truck_with_semitrailer",
         "orientation": "v",
         "showlegend": false,
         "type": "histogram",
         "x": [
          "2023-03-28T07:00:00",
          "2023-03-28T07:05:00",
          "2023-03-28T07:10:00",
          "2023-03-28T07:15:00",
          "2023-03-28T07:20:00",
          "2023-03-28T07:25:00",
          "2023-03-28T07:30:00",
          "2023-03-28T07:35:00",
          "2023-03-28T07:40:00",
          "2023-03-28T07:45:00",
          "2023-03-28T07:50:00",
          "2023-03-28T07:55:00"
         ],
         "xaxis": "x27",
         "y": [
          0,
          0,
          0,
          0,
          0,
          0,
          0,
          0,
          0,
          0,
          0,
          0
         ],
         "yaxis": "y27"
        },
        {
         "alignmentgroup": "True",
         "bingroup": "x",
         "histfunc": "sum",
         "hovertemplate": "road_user_type=truck_with_semitrailer<br>from_section=SOUTH<br>to_section=PED_BIKE_NORTH<br>time_interval=%{x}<br>sum of difference=%{y}<extra></extra>",
         "legendgroup": "truck_with_semitrailer",
         "marker": {
          "color": "#FFA15A",
          "pattern": {
           "shape": ""
          }
         },
         "name": "truck_with_semitrailer",
         "nbinsx": 12,
         "offsetgroup": "truck_with_semitrailer",
         "orientation": "v",
         "showlegend": false,
         "type": "histogram",
         "x": [
          "2023-03-28T07:00:00",
          "2023-03-28T07:05:00",
          "2023-03-28T07:10:00",
          "2023-03-28T07:15:00",
          "2023-03-28T07:20:00",
          "2023-03-28T07:25:00",
          "2023-03-28T07:30:00",
          "2023-03-28T07:35:00",
          "2023-03-28T07:40:00",
          "2023-03-28T07:45:00",
          "2023-03-28T07:50:00",
          "2023-03-28T07:55:00"
         ],
         "xaxis": "x28",
         "y": [
          0,
          0,
          0,
          0,
          0,
          0,
          0,
          0,
          0,
          0,
          0,
          0
         ],
         "yaxis": "y28"
        },
        {
         "alignmentgroup": "True",
         "bingroup": "x",
         "histfunc": "sum",
         "hovertemplate": "road_user_type=truck_with_semitrailer<br>from_section=WEST<br>to_section=SOUTH<br>time_interval=%{x}<br>sum of difference=%{y}<extra></extra>",
         "legendgroup": "truck_with_semitrailer",
         "marker": {
          "color": "#FFA15A",
          "pattern": {
           "shape": ""
          }
         },
         "name": "truck_with_semitrailer",
         "nbinsx": 12,
         "offsetgroup": "truck_with_semitrailer",
         "orientation": "v",
         "showlegend": false,
         "type": "histogram",
         "x": [
          "2023-03-28T07:00:00",
          "2023-03-28T07:05:00",
          "2023-03-28T07:10:00",
          "2023-03-28T07:15:00",
          "2023-03-28T07:20:00",
          "2023-03-28T07:25:00",
          "2023-03-28T07:30:00",
          "2023-03-28T07:35:00",
          "2023-03-28T07:40:00",
          "2023-03-28T07:45:00",
          "2023-03-28T07:50:00",
          "2023-03-28T07:55:00"
         ],
         "xaxis": "x15",
         "y": [
          0,
          0,
          0,
          0,
          0,
          0,
          0,
          0,
          0,
          0,
          0,
          0
         ],
         "yaxis": "y15"
        },
        {
         "alignmentgroup": "True",
         "bingroup": "x",
         "histfunc": "sum",
         "hovertemplate": "road_user_type=truck_with_semitrailer<br>from_section=WEST<br>to_section=WEST<br>time_interval=%{x}<br>sum of difference=%{y}<extra></extra>",
         "legendgroup": "truck_with_semitrailer",
         "marker": {
          "color": "#FFA15A",
          "pattern": {
           "shape": ""
          }
         },
         "name": "truck_with_semitrailer",
         "nbinsx": 12,
         "offsetgroup": "truck_with_semitrailer",
         "orientation": "v",
         "showlegend": false,
         "type": "histogram",
         "x": [
          "2023-03-28T07:00:00",
          "2023-03-28T07:05:00",
          "2023-03-28T07:10:00",
          "2023-03-28T07:15:00",
          "2023-03-28T07:20:00",
          "2023-03-28T07:25:00",
          "2023-03-28T07:30:00",
          "2023-03-28T07:35:00",
          "2023-03-28T07:40:00",
          "2023-03-28T07:45:00",
          "2023-03-28T07:50:00",
          "2023-03-28T07:55:00"
         ],
         "xaxis": "x16",
         "y": [
          0,
          0,
          0,
          0,
          0,
          0,
          0,
          0,
          0,
          0,
          0,
          0
         ],
         "yaxis": "y16"
        },
        {
         "alignmentgroup": "True",
         "bingroup": "x",
         "histfunc": "sum",
         "hovertemplate": "road_user_type=truck_with_semitrailer<br>from_section=WEST<br>to_section=EAST<br>time_interval=%{x}<br>sum of difference=%{y}<extra></extra>",
         "legendgroup": "truck_with_semitrailer",
         "marker": {
          "color": "#FFA15A",
          "pattern": {
           "shape": ""
          }
         },
         "name": "truck_with_semitrailer",
         "nbinsx": 12,
         "offsetgroup": "truck_with_semitrailer",
         "orientation": "v",
         "showlegend": false,
         "type": "histogram",
         "x": [
          "2023-03-28T07:00:00",
          "2023-03-28T07:05:00",
          "2023-03-28T07:10:00",
          "2023-03-28T07:15:00",
          "2023-03-28T07:20:00",
          "2023-03-28T07:25:00",
          "2023-03-28T07:30:00",
          "2023-03-28T07:35:00",
          "2023-03-28T07:40:00",
          "2023-03-28T07:45:00",
          "2023-03-28T07:50:00",
          "2023-03-28T07:55:00"
         ],
         "xaxis": "x17",
         "y": [
          0,
          0,
          0,
          0,
          0,
          0,
          0,
          0,
          0,
          0,
          0,
          0
         ],
         "yaxis": "y17"
        },
        {
         "alignmentgroup": "True",
         "bingroup": "x",
         "histfunc": "sum",
         "hovertemplate": "road_user_type=truck_with_semitrailer<br>from_section=WEST<br>to_section=NORTH<br>time_interval=%{x}<br>sum of difference=%{y}<extra></extra>",
         "legendgroup": "truck_with_semitrailer",
         "marker": {
          "color": "#FFA15A",
          "pattern": {
           "shape": ""
          }
         },
         "name": "truck_with_semitrailer",
         "nbinsx": 12,
         "offsetgroup": "truck_with_semitrailer",
         "orientation": "v",
         "showlegend": false,
         "type": "histogram",
         "x": [
          "2023-03-28T07:00:00",
          "2023-03-28T07:05:00",
          "2023-03-28T07:10:00",
          "2023-03-28T07:15:00",
          "2023-03-28T07:20:00",
          "2023-03-28T07:25:00",
          "2023-03-28T07:30:00",
          "2023-03-28T07:35:00",
          "2023-03-28T07:40:00",
          "2023-03-28T07:45:00",
          "2023-03-28T07:50:00",
          "2023-03-28T07:55:00"
         ],
         "xaxis": "x19",
         "y": [
          0,
          0,
          0,
          0,
          0,
          0,
          0,
          0,
          0,
          0,
          0,
          0
         ],
         "yaxis": "y19"
        },
        {
         "alignmentgroup": "True",
         "bingroup": "x",
         "histfunc": "sum",
         "hovertemplate": "road_user_type=truck_with_semitrailer<br>from_section=WEST<br>to_section=PED_BIKE_SOUTH<br>time_interval=%{x}<br>sum of difference=%{y}<extra></extra>",
         "legendgroup": "truck_with_semitrailer",
         "marker": {
          "color": "#FFA15A",
          "pattern": {
           "shape": ""
          }
         },
         "name": "truck_with_semitrailer",
         "nbinsx": 12,
         "offsetgroup": "truck_with_semitrailer",
         "orientation": "v",
         "showlegend": false,
         "type": "histogram",
         "x": [
          "2023-03-28T07:00:00",
          "2023-03-28T07:05:00",
          "2023-03-28T07:10:00",
          "2023-03-28T07:15:00",
          "2023-03-28T07:20:00",
          "2023-03-28T07:25:00",
          "2023-03-28T07:30:00",
          "2023-03-28T07:35:00",
          "2023-03-28T07:40:00",
          "2023-03-28T07:45:00",
          "2023-03-28T07:50:00",
          "2023-03-28T07:55:00"
         ],
         "xaxis": "x20",
         "y": [
          0,
          0,
          0,
          0,
          0,
          0,
          0,
          0,
          0,
          0,
          0,
          0
         ],
         "yaxis": "y20"
        },
        {
         "alignmentgroup": "True",
         "bingroup": "x",
         "histfunc": "sum",
         "hovertemplate": "road_user_type=truck_with_semitrailer<br>from_section=WEST<br>to_section=PED_BIKE_NORTH<br>time_interval=%{x}<br>sum of difference=%{y}<extra></extra>",
         "legendgroup": "truck_with_semitrailer",
         "marker": {
          "color": "#FFA15A",
          "pattern": {
           "shape": ""
          }
         },
         "name": "truck_with_semitrailer",
         "nbinsx": 12,
         "offsetgroup": "truck_with_semitrailer",
         "orientation": "v",
         "showlegend": false,
         "type": "histogram",
         "x": [
          "2023-03-28T07:00:00",
          "2023-03-28T07:05:00",
          "2023-03-28T07:10:00",
          "2023-03-28T07:15:00",
          "2023-03-28T07:20:00",
          "2023-03-28T07:25:00",
          "2023-03-28T07:30:00",
          "2023-03-28T07:35:00",
          "2023-03-28T07:40:00",
          "2023-03-28T07:45:00",
          "2023-03-28T07:50:00",
          "2023-03-28T07:55:00"
         ],
         "xaxis": "x21",
         "y": [
          0,
          0,
          0,
          0,
          0,
          0,
          0,
          0,
          0,
          0,
          0,
          0
         ],
         "yaxis": "y21"
        },
        {
         "alignmentgroup": "True",
         "bingroup": "x",
         "histfunc": "sum",
         "hovertemplate": "road_user_type=truck_with_semitrailer<br>from_section=PED_BIKE_SOUTH<br>to_section=SOUTH<br>time_interval=%{x}<br>sum of difference=%{y}<extra></extra>",
         "legendgroup": "truck_with_semitrailer",
         "marker": {
          "color": "#FFA15A",
          "pattern": {
           "shape": ""
          }
         },
         "name": "truck_with_semitrailer",
         "nbinsx": 12,
         "offsetgroup": "truck_with_semitrailer",
         "orientation": "v",
         "showlegend": false,
         "type": "histogram",
         "x": [
          "2023-03-28T07:00:00",
          "2023-03-28T07:05:00",
          "2023-03-28T07:10:00",
          "2023-03-28T07:15:00",
          "2023-03-28T07:20:00",
          "2023-03-28T07:25:00",
          "2023-03-28T07:30:00",
          "2023-03-28T07:35:00",
          "2023-03-28T07:40:00",
          "2023-03-28T07:45:00",
          "2023-03-28T07:50:00",
          "2023-03-28T07:55:00"
         ],
         "xaxis": "x8",
         "y": [
          0,
          0,
          0,
          0,
          0,
          0,
          0,
          0,
          0,
          0,
          0,
          0
         ],
         "yaxis": "y8"
        },
        {
         "alignmentgroup": "True",
         "bingroup": "x",
         "histfunc": "sum",
         "hovertemplate": "road_user_type=truck_with_semitrailer<br>from_section=PED_BIKE_SOUTH<br>to_section=WEST<br>time_interval=%{x}<br>sum of difference=%{y}<extra></extra>",
         "legendgroup": "truck_with_semitrailer",
         "marker": {
          "color": "#FFA15A",
          "pattern": {
           "shape": ""
          }
         },
         "name": "truck_with_semitrailer",
         "nbinsx": 12,
         "offsetgroup": "truck_with_semitrailer",
         "orientation": "v",
         "showlegend": false,
         "type": "histogram",
         "x": [
          "2023-03-28T07:00:00",
          "2023-03-28T07:05:00",
          "2023-03-28T07:10:00",
          "2023-03-28T07:15:00",
          "2023-03-28T07:20:00",
          "2023-03-28T07:25:00",
          "2023-03-28T07:30:00",
          "2023-03-28T07:35:00",
          "2023-03-28T07:40:00",
          "2023-03-28T07:45:00",
          "2023-03-28T07:50:00",
          "2023-03-28T07:55:00"
         ],
         "xaxis": "x9",
         "y": [
          0,
          0,
          0,
          0,
          0,
          0,
          0,
          0,
          0,
          0,
          0,
          0
         ],
         "yaxis": "y9"
        },
        {
         "alignmentgroup": "True",
         "bingroup": "x",
         "histfunc": "sum",
         "hovertemplate": "road_user_type=truck_with_semitrailer<br>from_section=PED_BIKE_SOUTH<br>to_section=EAST<br>time_interval=%{x}<br>sum of difference=%{y}<extra></extra>",
         "legendgroup": "truck_with_semitrailer",
         "marker": {
          "color": "#FFA15A",
          "pattern": {
           "shape": ""
          }
         },
         "name": "truck_with_semitrailer",
         "nbinsx": 12,
         "offsetgroup": "truck_with_semitrailer",
         "orientation": "v",
         "showlegend": false,
         "type": "histogram",
         "x": [
          "2023-03-28T07:00:00",
          "2023-03-28T07:05:00",
          "2023-03-28T07:10:00",
          "2023-03-28T07:15:00",
          "2023-03-28T07:20:00",
          "2023-03-28T07:25:00",
          "2023-03-28T07:30:00",
          "2023-03-28T07:35:00",
          "2023-03-28T07:40:00",
          "2023-03-28T07:45:00",
          "2023-03-28T07:50:00",
          "2023-03-28T07:55:00"
         ],
         "xaxis": "x10",
         "y": [
          0,
          0,
          0,
          0,
          0,
          0,
          0,
          0,
          0,
          0,
          0,
          0
         ],
         "yaxis": "y10"
        },
        {
         "alignmentgroup": "True",
         "bingroup": "x",
         "histfunc": "sum",
         "hovertemplate": "road_user_type=truck_with_semitrailer<br>from_section=PED_BIKE_SOUTH<br>to_section=NORTH<br>time_interval=%{x}<br>sum of difference=%{y}<extra></extra>",
         "legendgroup": "truck_with_semitrailer",
         "marker": {
          "color": "#FFA15A",
          "pattern": {
           "shape": ""
          }
         },
         "name": "truck_with_semitrailer",
         "nbinsx": 12,
         "offsetgroup": "truck_with_semitrailer",
         "orientation": "v",
         "showlegend": false,
         "type": "histogram",
         "x": [
          "2023-03-28T07:00:00",
          "2023-03-28T07:05:00",
          "2023-03-28T07:10:00",
          "2023-03-28T07:15:00",
          "2023-03-28T07:20:00",
          "2023-03-28T07:25:00",
          "2023-03-28T07:30:00",
          "2023-03-28T07:35:00",
          "2023-03-28T07:40:00",
          "2023-03-28T07:45:00",
          "2023-03-28T07:50:00",
          "2023-03-28T07:55:00"
         ],
         "xaxis": "x12",
         "y": [
          0,
          0,
          0,
          0,
          0,
          0,
          0,
          0,
          0,
          0,
          0,
          0
         ],
         "yaxis": "y12"
        },
        {
         "alignmentgroup": "True",
         "bingroup": "x",
         "histfunc": "sum",
         "hovertemplate": "road_user_type=truck_with_semitrailer<br>from_section=PED_BIKE_SOUTH<br>to_section=PED_BIKE_SOUTH<br>time_interval=%{x}<br>sum of difference=%{y}<extra></extra>",
         "legendgroup": "truck_with_semitrailer",
         "marker": {
          "color": "#FFA15A",
          "pattern": {
           "shape": ""
          }
         },
         "name": "truck_with_semitrailer",
         "nbinsx": 12,
         "offsetgroup": "truck_with_semitrailer",
         "orientation": "v",
         "showlegend": false,
         "type": "histogram",
         "x": [
          "2023-03-28T07:00:00",
          "2023-03-28T07:05:00",
          "2023-03-28T07:10:00",
          "2023-03-28T07:15:00",
          "2023-03-28T07:20:00",
          "2023-03-28T07:25:00",
          "2023-03-28T07:30:00",
          "2023-03-28T07:35:00",
          "2023-03-28T07:40:00",
          "2023-03-28T07:45:00",
          "2023-03-28T07:50:00",
          "2023-03-28T07:55:00"
         ],
         "xaxis": "x13",
         "y": [
          0,
          0,
          0,
          0,
          0,
          0,
          0,
          0,
          0,
          0,
          0,
          0
         ],
         "yaxis": "y13"
        },
        {
         "alignmentgroup": "True",
         "bingroup": "x",
         "histfunc": "sum",
         "hovertemplate": "road_user_type=truck_with_semitrailer<br>from_section=PED_BIKE_SOUTH<br>to_section=PED_BIKE_NORTH<br>time_interval=%{x}<br>sum of difference=%{y}<extra></extra>",
         "legendgroup": "truck_with_semitrailer",
         "marker": {
          "color": "#FFA15A",
          "pattern": {
           "shape": ""
          }
         },
         "name": "truck_with_semitrailer",
         "nbinsx": 12,
         "offsetgroup": "truck_with_semitrailer",
         "orientation": "v",
         "showlegend": false,
         "type": "histogram",
         "x": [
          "2023-03-28T07:00:00",
          "2023-03-28T07:05:00",
          "2023-03-28T07:10:00",
          "2023-03-28T07:15:00",
          "2023-03-28T07:20:00",
          "2023-03-28T07:25:00",
          "2023-03-28T07:30:00",
          "2023-03-28T07:35:00",
          "2023-03-28T07:40:00",
          "2023-03-28T07:45:00",
          "2023-03-28T07:50:00",
          "2023-03-28T07:55:00"
         ],
         "xaxis": "x14",
         "y": [
          0,
          0,
          0,
          0,
          0,
          0,
          0,
          0,
          0,
          0,
          0,
          0
         ],
         "yaxis": "y14"
        },
        {
         "alignmentgroup": "True",
         "bingroup": "x",
         "histfunc": "sum",
         "hovertemplate": "road_user_type=truck_with_semitrailer<br>from_section=PED_BIKE_NORTH<br>to_section=SOUTH<br>time_interval=%{x}<br>sum of difference=%{y}<extra></extra>",
         "legendgroup": "truck_with_semitrailer",
         "marker": {
          "color": "#FFA15A",
          "pattern": {
           "shape": ""
          }
         },
         "name": "truck_with_semitrailer",
         "nbinsx": 12,
         "offsetgroup": "truck_with_semitrailer",
         "orientation": "v",
         "showlegend": false,
         "type": "histogram",
         "x": [
          "2023-03-28T07:00:00",
          "2023-03-28T07:05:00",
          "2023-03-28T07:10:00",
          "2023-03-28T07:15:00",
          "2023-03-28T07:20:00",
          "2023-03-28T07:25:00",
          "2023-03-28T07:30:00",
          "2023-03-28T07:35:00",
          "2023-03-28T07:40:00",
          "2023-03-28T07:45:00",
          "2023-03-28T07:50:00",
          "2023-03-28T07:55:00"
         ],
         "xaxis": "x",
         "y": [
          0,
          0,
          0,
          0,
          0,
          0,
          0,
          0,
          0,
          0,
          0,
          0
         ],
         "yaxis": "y"
        },
        {
         "alignmentgroup": "True",
         "bingroup": "x",
         "histfunc": "sum",
         "hovertemplate": "road_user_type=truck_with_semitrailer<br>from_section=PED_BIKE_NORTH<br>to_section=WEST<br>time_interval=%{x}<br>sum of difference=%{y}<extra></extra>",
         "legendgroup": "truck_with_semitrailer",
         "marker": {
          "color": "#FFA15A",
          "pattern": {
           "shape": ""
          }
         },
         "name": "truck_with_semitrailer",
         "nbinsx": 12,
         "offsetgroup": "truck_with_semitrailer",
         "orientation": "v",
         "showlegend": false,
         "type": "histogram",
         "x": [
          "2023-03-28T07:00:00",
          "2023-03-28T07:05:00",
          "2023-03-28T07:10:00",
          "2023-03-28T07:15:00",
          "2023-03-28T07:20:00",
          "2023-03-28T07:25:00",
          "2023-03-28T07:30:00",
          "2023-03-28T07:35:00",
          "2023-03-28T07:40:00",
          "2023-03-28T07:45:00",
          "2023-03-28T07:50:00",
          "2023-03-28T07:55:00"
         ],
         "xaxis": "x2",
         "y": [
          0,
          0,
          0,
          0,
          0,
          0,
          0,
          0,
          0,
          0,
          0,
          0
         ],
         "yaxis": "y2"
        },
        {
         "alignmentgroup": "True",
         "bingroup": "x",
         "histfunc": "sum",
         "hovertemplate": "road_user_type=truck_with_semitrailer<br>from_section=PED_BIKE_NORTH<br>to_section=EAST<br>time_interval=%{x}<br>sum of difference=%{y}<extra></extra>",
         "legendgroup": "truck_with_semitrailer",
         "marker": {
          "color": "#FFA15A",
          "pattern": {
           "shape": ""
          }
         },
         "name": "truck_with_semitrailer",
         "nbinsx": 12,
         "offsetgroup": "truck_with_semitrailer",
         "orientation": "v",
         "showlegend": false,
         "type": "histogram",
         "x": [
          "2023-03-28T07:00:00",
          "2023-03-28T07:05:00",
          "2023-03-28T07:10:00",
          "2023-03-28T07:15:00",
          "2023-03-28T07:20:00",
          "2023-03-28T07:25:00",
          "2023-03-28T07:30:00",
          "2023-03-28T07:35:00",
          "2023-03-28T07:40:00",
          "2023-03-28T07:45:00",
          "2023-03-28T07:50:00",
          "2023-03-28T07:55:00"
         ],
         "xaxis": "x3",
         "y": [
          0,
          0,
          0,
          0,
          0,
          0,
          0,
          0,
          0,
          0,
          0,
          0
         ],
         "yaxis": "y3"
        },
        {
         "alignmentgroup": "True",
         "bingroup": "x",
         "histfunc": "sum",
         "hovertemplate": "road_user_type=truck_with_semitrailer<br>from_section=PED_BIKE_NORTH<br>to_section=NORTH<br>time_interval=%{x}<br>sum of difference=%{y}<extra></extra>",
         "legendgroup": "truck_with_semitrailer",
         "marker": {
          "color": "#FFA15A",
          "pattern": {
           "shape": ""
          }
         },
         "name": "truck_with_semitrailer",
         "nbinsx": 12,
         "offsetgroup": "truck_with_semitrailer",
         "orientation": "v",
         "showlegend": false,
         "type": "histogram",
         "x": [
          "2023-03-28T07:00:00",
          "2023-03-28T07:05:00",
          "2023-03-28T07:10:00",
          "2023-03-28T07:15:00",
          "2023-03-28T07:20:00",
          "2023-03-28T07:25:00",
          "2023-03-28T07:30:00",
          "2023-03-28T07:35:00",
          "2023-03-28T07:40:00",
          "2023-03-28T07:45:00",
          "2023-03-28T07:50:00",
          "2023-03-28T07:55:00"
         ],
         "xaxis": "x5",
         "y": [
          0,
          0,
          0,
          0,
          0,
          0,
          0,
          0,
          0,
          0,
          0,
          0
         ],
         "yaxis": "y5"
        },
        {
         "alignmentgroup": "True",
         "bingroup": "x",
         "histfunc": "sum",
         "hovertemplate": "road_user_type=truck_with_semitrailer<br>from_section=PED_BIKE_NORTH<br>to_section=PED_BIKE_SOUTH<br>time_interval=%{x}<br>sum of difference=%{y}<extra></extra>",
         "legendgroup": "truck_with_semitrailer",
         "marker": {
          "color": "#FFA15A",
          "pattern": {
           "shape": ""
          }
         },
         "name": "truck_with_semitrailer",
         "nbinsx": 12,
         "offsetgroup": "truck_with_semitrailer",
         "orientation": "v",
         "showlegend": false,
         "type": "histogram",
         "x": [
          "2023-03-28T07:00:00",
          "2023-03-28T07:05:00",
          "2023-03-28T07:10:00",
          "2023-03-28T07:15:00",
          "2023-03-28T07:20:00",
          "2023-03-28T07:25:00",
          "2023-03-28T07:30:00",
          "2023-03-28T07:35:00",
          "2023-03-28T07:40:00",
          "2023-03-28T07:45:00",
          "2023-03-28T07:50:00",
          "2023-03-28T07:55:00"
         ],
         "xaxis": "x6",
         "y": [
          0,
          0,
          0,
          0,
          0,
          0,
          0,
          0,
          0,
          0,
          0,
          0
         ],
         "yaxis": "y6"
        },
        {
         "alignmentgroup": "True",
         "bingroup": "x",
         "histfunc": "sum",
         "hovertemplate": "road_user_type=truck_with_semitrailer<br>from_section=PED_BIKE_NORTH<br>to_section=PED_BIKE_NORTH<br>time_interval=%{x}<br>sum of difference=%{y}<extra></extra>",
         "legendgroup": "truck_with_semitrailer",
         "marker": {
          "color": "#FFA15A",
          "pattern": {
           "shape": ""
          }
         },
         "name": "truck_with_semitrailer",
         "nbinsx": 12,
         "offsetgroup": "truck_with_semitrailer",
         "orientation": "v",
         "showlegend": false,
         "type": "histogram",
         "x": [
          "2023-03-28T07:00:00",
          "2023-03-28T07:05:00",
          "2023-03-28T07:10:00",
          "2023-03-28T07:15:00",
          "2023-03-28T07:20:00",
          "2023-03-28T07:25:00",
          "2023-03-28T07:30:00",
          "2023-03-28T07:35:00",
          "2023-03-28T07:40:00",
          "2023-03-28T07:45:00",
          "2023-03-28T07:50:00",
          "2023-03-28T07:55:00"
         ],
         "xaxis": "x7",
         "y": [
          0,
          0,
          0,
          0,
          0,
          0,
          0,
          0,
          0,
          0,
          0,
          0
         ],
         "yaxis": "y7"
        },
        {
         "alignmentgroup": "True",
         "bingroup": "x",
         "histfunc": "sum",
         "hovertemplate": "road_user_type=bus<br>from_section=EAST<br>to_section=SOUTH<br>time_interval=%{x}<br>sum of difference=%{y}<extra></extra>",
         "legendgroup": "bus",
         "marker": {
          "color": "#19d3f3",
          "pattern": {
           "shape": ""
          }
         },
         "name": "bus",
         "nbinsx": 12,
         "offsetgroup": "bus",
         "orientation": "v",
         "showlegend": true,
         "type": "histogram",
         "x": [
          "2023-03-28T07:00:00",
          "2023-03-28T07:05:00",
          "2023-03-28T07:10:00",
          "2023-03-28T07:15:00",
          "2023-03-28T07:20:00",
          "2023-03-28T07:25:00",
          "2023-03-28T07:30:00",
          "2023-03-28T07:35:00",
          "2023-03-28T07:40:00",
          "2023-03-28T07:45:00",
          "2023-03-28T07:50:00",
          "2023-03-28T07:55:00"
         ],
         "xaxis": "x43",
         "y": [
          0,
          0,
          0,
          0,
          0,
          0,
          0,
          0,
          0,
          0,
          0,
          0
         ],
         "yaxis": "y43"
        },
        {
         "alignmentgroup": "True",
         "bingroup": "x",
         "histfunc": "sum",
         "hovertemplate": "road_user_type=bus<br>from_section=EAST<br>to_section=WEST<br>time_interval=%{x}<br>sum of difference=%{y}<extra></extra>",
         "legendgroup": "bus",
         "marker": {
          "color": "#19d3f3",
          "pattern": {
           "shape": ""
          }
         },
         "name": "bus",
         "nbinsx": 12,
         "offsetgroup": "bus",
         "orientation": "v",
         "showlegend": false,
         "type": "histogram",
         "x": [
          "2023-03-28T07:00:00",
          "2023-03-28T07:05:00",
          "2023-03-28T07:10:00",
          "2023-03-28T07:15:00",
          "2023-03-28T07:20:00",
          "2023-03-28T07:25:00",
          "2023-03-28T07:30:00",
          "2023-03-28T07:35:00",
          "2023-03-28T07:40:00",
          "2023-03-28T07:45:00",
          "2023-03-28T07:50:00",
          "2023-03-28T07:55:00"
         ],
         "xaxis": "x44",
         "y": [
          0,
          0,
          0,
          0,
          0,
          0,
          0,
          0,
          0,
          0,
          0,
          0
         ],
         "yaxis": "y44"
        },
        {
         "alignmentgroup": "True",
         "bingroup": "x",
         "histfunc": "sum",
         "hovertemplate": "road_user_type=bus<br>from_section=EAST<br>to_section=EAST<br>time_interval=%{x}<br>sum of difference=%{y}<extra></extra>",
         "legendgroup": "bus",
         "marker": {
          "color": "#19d3f3",
          "pattern": {
           "shape": ""
          }
         },
         "name": "bus",
         "nbinsx": 12,
         "offsetgroup": "bus",
         "orientation": "v",
         "showlegend": false,
         "type": "histogram",
         "x": [
          "2023-03-28T07:00:00",
          "2023-03-28T07:05:00",
          "2023-03-28T07:10:00",
          "2023-03-28T07:15:00",
          "2023-03-28T07:20:00",
          "2023-03-28T07:25:00",
          "2023-03-28T07:30:00",
          "2023-03-28T07:35:00",
          "2023-03-28T07:40:00",
          "2023-03-28T07:45:00",
          "2023-03-28T07:50:00",
          "2023-03-28T07:55:00"
         ],
         "xaxis": "x45",
         "y": [
          0,
          0,
          0,
          0,
          0,
          0,
          0,
          0,
          0,
          0,
          0,
          0
         ],
         "yaxis": "y45"
        },
        {
         "alignmentgroup": "True",
         "bingroup": "x",
         "histfunc": "sum",
         "hovertemplate": "road_user_type=bus<br>from_section=EAST<br>to_section=NORTH<br>time_interval=%{x}<br>sum of difference=%{y}<extra></extra>",
         "legendgroup": "bus",
         "marker": {
          "color": "#19d3f3",
          "pattern": {
           "shape": ""
          }
         },
         "name": "bus",
         "nbinsx": 12,
         "offsetgroup": "bus",
         "orientation": "v",
         "showlegend": false,
         "type": "histogram",
         "x": [
          "2023-03-28T07:00:00",
          "2023-03-28T07:05:00",
          "2023-03-28T07:10:00",
          "2023-03-28T07:15:00",
          "2023-03-28T07:20:00",
          "2023-03-28T07:25:00",
          "2023-03-28T07:30:00",
          "2023-03-28T07:35:00",
          "2023-03-28T07:40:00",
          "2023-03-28T07:45:00",
          "2023-03-28T07:50:00",
          "2023-03-28T07:55:00"
         ],
         "xaxis": "x47",
         "y": [
          0,
          0,
          0,
          0,
          0,
          0,
          0,
          0,
          0,
          0,
          0,
          0
         ],
         "yaxis": "y47"
        },
        {
         "alignmentgroup": "True",
         "bingroup": "x",
         "histfunc": "sum",
         "hovertemplate": "road_user_type=bus<br>from_section=EAST<br>to_section=PED_BIKE_SOUTH<br>time_interval=%{x}<br>sum of difference=%{y}<extra></extra>",
         "legendgroup": "bus",
         "marker": {
          "color": "#19d3f3",
          "pattern": {
           "shape": ""
          }
         },
         "name": "bus",
         "nbinsx": 12,
         "offsetgroup": "bus",
         "orientation": "v",
         "showlegend": false,
         "type": "histogram",
         "x": [
          "2023-03-28T07:00:00",
          "2023-03-28T07:05:00",
          "2023-03-28T07:10:00",
          "2023-03-28T07:15:00",
          "2023-03-28T07:20:00",
          "2023-03-28T07:25:00",
          "2023-03-28T07:30:00",
          "2023-03-28T07:35:00",
          "2023-03-28T07:40:00",
          "2023-03-28T07:45:00",
          "2023-03-28T07:50:00",
          "2023-03-28T07:55:00"
         ],
         "xaxis": "x48",
         "y": [
          0,
          0,
          0,
          0,
          0,
          0,
          0,
          0,
          0,
          0,
          0,
          0
         ],
         "yaxis": "y48"
        },
        {
         "alignmentgroup": "True",
         "bingroup": "x",
         "histfunc": "sum",
         "hovertemplate": "road_user_type=bus<br>from_section=EAST<br>to_section=PED_BIKE_NORTH<br>time_interval=%{x}<br>sum of difference=%{y}<extra></extra>",
         "legendgroup": "bus",
         "marker": {
          "color": "#19d3f3",
          "pattern": {
           "shape": ""
          }
         },
         "name": "bus",
         "nbinsx": 12,
         "offsetgroup": "bus",
         "orientation": "v",
         "showlegend": false,
         "type": "histogram",
         "x": [
          "2023-03-28T07:00:00",
          "2023-03-28T07:05:00",
          "2023-03-28T07:10:00",
          "2023-03-28T07:15:00",
          "2023-03-28T07:20:00",
          "2023-03-28T07:25:00",
          "2023-03-28T07:30:00",
          "2023-03-28T07:35:00",
          "2023-03-28T07:40:00",
          "2023-03-28T07:45:00",
          "2023-03-28T07:50:00",
          "2023-03-28T07:55:00"
         ],
         "xaxis": "x49",
         "y": [
          0,
          0,
          0,
          0,
          0,
          0,
          0,
          0,
          0,
          0,
          0,
          0
         ],
         "yaxis": "y49"
        },
        {
         "alignmentgroup": "True",
         "bingroup": "x",
         "histfunc": "sum",
         "hovertemplate": "road_user_type=bus<br>from_section=NORTH<br>to_section=SOUTH<br>time_interval=%{x}<br>sum of difference=%{y}<extra></extra>",
         "legendgroup": "bus",
         "marker": {
          "color": "#19d3f3",
          "pattern": {
           "shape": ""
          }
         },
         "name": "bus",
         "nbinsx": 12,
         "offsetgroup": "bus",
         "orientation": "v",
         "showlegend": false,
         "type": "histogram",
         "x": [
          "2023-03-28T07:35:00",
          "2023-03-28T07:50:00",
          "2023-03-28T07:00:00",
          "2023-03-28T07:05:00",
          "2023-03-28T07:10:00",
          "2023-03-28T07:15:00",
          "2023-03-28T07:20:00",
          "2023-03-28T07:25:00",
          "2023-03-28T07:30:00",
          "2023-03-28T07:40:00",
          "2023-03-28T07:45:00",
          "2023-03-28T07:55:00"
         ],
         "xaxis": "x36",
         "y": [
          2,
          1,
          0,
          0,
          0,
          0,
          1,
          0,
          0,
          0,
          0,
          0
         ],
         "yaxis": "y36"
        },
        {
         "alignmentgroup": "True",
         "bingroup": "x",
         "histfunc": "sum",
         "hovertemplate": "road_user_type=bus<br>from_section=NORTH<br>to_section=WEST<br>time_interval=%{x}<br>sum of difference=%{y}<extra></extra>",
         "legendgroup": "bus",
         "marker": {
          "color": "#19d3f3",
          "pattern": {
           "shape": ""
          }
         },
         "name": "bus",
         "nbinsx": 12,
         "offsetgroup": "bus",
         "orientation": "v",
         "showlegend": false,
         "type": "histogram",
         "x": [
          "2023-03-28T07:00:00",
          "2023-03-28T07:05:00",
          "2023-03-28T07:10:00",
          "2023-03-28T07:15:00",
          "2023-03-28T07:20:00",
          "2023-03-28T07:25:00",
          "2023-03-28T07:30:00",
          "2023-03-28T07:35:00",
          "2023-03-28T07:40:00",
          "2023-03-28T07:45:00",
          "2023-03-28T07:50:00",
          "2023-03-28T07:55:00"
         ],
         "xaxis": "x37",
         "y": [
          0,
          0,
          0,
          0,
          0,
          0,
          0,
          0,
          0,
          0,
          0,
          0
         ],
         "yaxis": "y37"
        },
        {
         "alignmentgroup": "True",
         "bingroup": "x",
         "histfunc": "sum",
         "hovertemplate": "road_user_type=bus<br>from_section=NORTH<br>to_section=EAST<br>time_interval=%{x}<br>sum of difference=%{y}<extra></extra>",
         "legendgroup": "bus",
         "marker": {
          "color": "#19d3f3",
          "pattern": {
           "shape": ""
          }
         },
         "name": "bus",
         "nbinsx": 12,
         "offsetgroup": "bus",
         "orientation": "v",
         "showlegend": false,
         "type": "histogram",
         "x": [
          "2023-03-28T07:00:00",
          "2023-03-28T07:05:00",
          "2023-03-28T07:10:00",
          "2023-03-28T07:15:00",
          "2023-03-28T07:20:00",
          "2023-03-28T07:25:00",
          "2023-03-28T07:30:00",
          "2023-03-28T07:35:00",
          "2023-03-28T07:40:00",
          "2023-03-28T07:45:00",
          "2023-03-28T07:50:00",
          "2023-03-28T07:55:00"
         ],
         "xaxis": "x38",
         "y": [
          0,
          0,
          0,
          0,
          0,
          0,
          0,
          0,
          0,
          0,
          0,
          0
         ],
         "yaxis": "y38"
        },
        {
         "alignmentgroup": "True",
         "bingroup": "x",
         "histfunc": "sum",
         "hovertemplate": "road_user_type=bus<br>from_section=NORTH<br>to_section=NORTH<br>time_interval=%{x}<br>sum of difference=%{y}<extra></extra>",
         "legendgroup": "bus",
         "marker": {
          "color": "#19d3f3",
          "pattern": {
           "shape": ""
          }
         },
         "name": "bus",
         "nbinsx": 12,
         "offsetgroup": "bus",
         "orientation": "v",
         "showlegend": false,
         "type": "histogram",
         "x": [
          "2023-03-28T07:00:00",
          "2023-03-28T07:05:00",
          "2023-03-28T07:10:00",
          "2023-03-28T07:15:00",
          "2023-03-28T07:20:00",
          "2023-03-28T07:25:00",
          "2023-03-28T07:30:00",
          "2023-03-28T07:35:00",
          "2023-03-28T07:40:00",
          "2023-03-28T07:45:00",
          "2023-03-28T07:50:00",
          "2023-03-28T07:55:00"
         ],
         "xaxis": "x40",
         "y": [
          0,
          0,
          0,
          0,
          0,
          0,
          0,
          0,
          0,
          0,
          0,
          0
         ],
         "yaxis": "y40"
        },
        {
         "alignmentgroup": "True",
         "bingroup": "x",
         "histfunc": "sum",
         "hovertemplate": "road_user_type=bus<br>from_section=NORTH<br>to_section=PED_BIKE_SOUTH<br>time_interval=%{x}<br>sum of difference=%{y}<extra></extra>",
         "legendgroup": "bus",
         "marker": {
          "color": "#19d3f3",
          "pattern": {
           "shape": ""
          }
         },
         "name": "bus",
         "nbinsx": 12,
         "offsetgroup": "bus",
         "orientation": "v",
         "showlegend": false,
         "type": "histogram",
         "x": [
          "2023-03-28T07:00:00",
          "2023-03-28T07:05:00",
          "2023-03-28T07:10:00",
          "2023-03-28T07:15:00",
          "2023-03-28T07:20:00",
          "2023-03-28T07:25:00",
          "2023-03-28T07:30:00",
          "2023-03-28T07:35:00",
          "2023-03-28T07:40:00",
          "2023-03-28T07:45:00",
          "2023-03-28T07:50:00",
          "2023-03-28T07:55:00"
         ],
         "xaxis": "x41",
         "y": [
          0,
          0,
          0,
          0,
          0,
          0,
          0,
          0,
          0,
          0,
          0,
          0
         ],
         "yaxis": "y41"
        },
        {
         "alignmentgroup": "True",
         "bingroup": "x",
         "histfunc": "sum",
         "hovertemplate": "road_user_type=bus<br>from_section=NORTH<br>to_section=PED_BIKE_NORTH<br>time_interval=%{x}<br>sum of difference=%{y}<extra></extra>",
         "legendgroup": "bus",
         "marker": {
          "color": "#19d3f3",
          "pattern": {
           "shape": ""
          }
         },
         "name": "bus",
         "nbinsx": 12,
         "offsetgroup": "bus",
         "orientation": "v",
         "showlegend": false,
         "type": "histogram",
         "x": [
          "2023-03-28T07:00:00",
          "2023-03-28T07:05:00",
          "2023-03-28T07:10:00",
          "2023-03-28T07:15:00",
          "2023-03-28T07:20:00",
          "2023-03-28T07:25:00",
          "2023-03-28T07:30:00",
          "2023-03-28T07:35:00",
          "2023-03-28T07:40:00",
          "2023-03-28T07:45:00",
          "2023-03-28T07:50:00",
          "2023-03-28T07:55:00"
         ],
         "xaxis": "x42",
         "y": [
          0,
          0,
          0,
          0,
          0,
          0,
          0,
          0,
          0,
          0,
          0,
          0
         ],
         "yaxis": "y42"
        },
        {
         "alignmentgroup": "True",
         "bingroup": "x",
         "histfunc": "sum",
         "hovertemplate": "road_user_type=bus<br>from_section=SOUTH<br>to_section=SOUTH<br>time_interval=%{x}<br>sum of difference=%{y}<extra></extra>",
         "legendgroup": "bus",
         "marker": {
          "color": "#19d3f3",
          "pattern": {
           "shape": ""
          }
         },
         "name": "bus",
         "nbinsx": 12,
         "offsetgroup": "bus",
         "orientation": "v",
         "showlegend": false,
         "type": "histogram",
         "x": [
          "2023-03-28T07:00:00",
          "2023-03-28T07:05:00",
          "2023-03-28T07:10:00",
          "2023-03-28T07:15:00",
          "2023-03-28T07:20:00",
          "2023-03-28T07:25:00",
          "2023-03-28T07:30:00",
          "2023-03-28T07:35:00",
          "2023-03-28T07:40:00",
          "2023-03-28T07:45:00",
          "2023-03-28T07:50:00",
          "2023-03-28T07:55:00"
         ],
         "xaxis": "x22",
         "y": [
          0,
          0,
          0,
          0,
          0,
          0,
          0,
          0,
          0,
          0,
          0,
          0
         ],
         "yaxis": "y22"
        },
        {
         "alignmentgroup": "True",
         "bingroup": "x",
         "histfunc": "sum",
         "hovertemplate": "road_user_type=bus<br>from_section=SOUTH<br>to_section=WEST<br>time_interval=%{x}<br>sum of difference=%{y}<extra></extra>",
         "legendgroup": "bus",
         "marker": {
          "color": "#19d3f3",
          "pattern": {
           "shape": ""
          }
         },
         "name": "bus",
         "nbinsx": 12,
         "offsetgroup": "bus",
         "orientation": "v",
         "showlegend": false,
         "type": "histogram",
         "x": [
          "2023-03-28T07:00:00",
          "2023-03-28T07:05:00",
          "2023-03-28T07:10:00",
          "2023-03-28T07:15:00",
          "2023-03-28T07:20:00",
          "2023-03-28T07:25:00",
          "2023-03-28T07:30:00",
          "2023-03-28T07:35:00",
          "2023-03-28T07:40:00",
          "2023-03-28T07:45:00",
          "2023-03-28T07:50:00",
          "2023-03-28T07:55:00"
         ],
         "xaxis": "x23",
         "y": [
          0,
          0,
          0,
          0,
          0,
          0,
          0,
          0,
          0,
          0,
          0,
          0
         ],
         "yaxis": "y23"
        },
        {
         "alignmentgroup": "True",
         "bingroup": "x",
         "histfunc": "sum",
         "hovertemplate": "road_user_type=bus<br>from_section=SOUTH<br>to_section=EAST<br>time_interval=%{x}<br>sum of difference=%{y}<extra></extra>",
         "legendgroup": "bus",
         "marker": {
          "color": "#19d3f3",
          "pattern": {
           "shape": ""
          }
         },
         "name": "bus",
         "nbinsx": 12,
         "offsetgroup": "bus",
         "orientation": "v",
         "showlegend": false,
         "type": "histogram",
         "x": [
          "2023-03-28T07:00:00",
          "2023-03-28T07:05:00",
          "2023-03-28T07:10:00",
          "2023-03-28T07:15:00",
          "2023-03-28T07:20:00",
          "2023-03-28T07:25:00",
          "2023-03-28T07:30:00",
          "2023-03-28T07:35:00",
          "2023-03-28T07:40:00",
          "2023-03-28T07:45:00",
          "2023-03-28T07:50:00",
          "2023-03-28T07:55:00"
         ],
         "xaxis": "x24",
         "y": [
          0,
          0,
          0,
          0,
          0,
          0,
          0,
          0,
          0,
          0,
          0,
          0
         ],
         "yaxis": "y24"
        },
        {
         "alignmentgroup": "True",
         "bingroup": "x",
         "histfunc": "sum",
         "hovertemplate": "road_user_type=bus<br>from_section=SOUTH<br>to_section=NORTH<br>time_interval=%{x}<br>sum of difference=%{y}<extra></extra>",
         "legendgroup": "bus",
         "marker": {
          "color": "#19d3f3",
          "pattern": {
           "shape": ""
          }
         },
         "name": "bus",
         "nbinsx": 12,
         "offsetgroup": "bus",
         "orientation": "v",
         "showlegend": false,
         "type": "histogram",
         "x": [
          "2023-03-28T07:30:00",
          "2023-03-28T07:50:00",
          "2023-03-28T07:00:00",
          "2023-03-28T07:05:00",
          "2023-03-28T07:10:00",
          "2023-03-28T07:15:00",
          "2023-03-28T07:20:00",
          "2023-03-28T07:25:00",
          "2023-03-28T07:35:00",
          "2023-03-28T07:40:00",
          "2023-03-28T07:45:00",
          "2023-03-28T07:55:00"
         ],
         "xaxis": "x26",
         "y": [
          1,
          1,
          0,
          0,
          0,
          0,
          1,
          0,
          0,
          1,
          0,
          0
         ],
         "yaxis": "y26"
        },
        {
         "alignmentgroup": "True",
         "bingroup": "x",
         "histfunc": "sum",
         "hovertemplate": "road_user_type=bus<br>from_section=SOUTH<br>to_section=PED_BIKE_SOUTH<br>time_interval=%{x}<br>sum of difference=%{y}<extra></extra>",
         "legendgroup": "bus",
         "marker": {
          "color": "#19d3f3",
          "pattern": {
           "shape": ""
          }
         },
         "name": "bus",
         "nbinsx": 12,
         "offsetgroup": "bus",
         "orientation": "v",
         "showlegend": false,
         "type": "histogram",
         "x": [
          "2023-03-28T07:00:00",
          "2023-03-28T07:05:00",
          "2023-03-28T07:10:00",
          "2023-03-28T07:15:00",
          "2023-03-28T07:20:00",
          "2023-03-28T07:25:00",
          "2023-03-28T07:30:00",
          "2023-03-28T07:35:00",
          "2023-03-28T07:40:00",
          "2023-03-28T07:45:00",
          "2023-03-28T07:50:00",
          "2023-03-28T07:55:00"
         ],
         "xaxis": "x27",
         "y": [
          0,
          0,
          0,
          0,
          0,
          0,
          0,
          0,
          0,
          0,
          0,
          0
         ],
         "yaxis": "y27"
        },
        {
         "alignmentgroup": "True",
         "bingroup": "x",
         "histfunc": "sum",
         "hovertemplate": "road_user_type=bus<br>from_section=SOUTH<br>to_section=PED_BIKE_NORTH<br>time_interval=%{x}<br>sum of difference=%{y}<extra></extra>",
         "legendgroup": "bus",
         "marker": {
          "color": "#19d3f3",
          "pattern": {
           "shape": ""
          }
         },
         "name": "bus",
         "nbinsx": 12,
         "offsetgroup": "bus",
         "orientation": "v",
         "showlegend": false,
         "type": "histogram",
         "x": [
          "2023-03-28T07:00:00",
          "2023-03-28T07:05:00",
          "2023-03-28T07:10:00",
          "2023-03-28T07:15:00",
          "2023-03-28T07:20:00",
          "2023-03-28T07:25:00",
          "2023-03-28T07:30:00",
          "2023-03-28T07:35:00",
          "2023-03-28T07:40:00",
          "2023-03-28T07:45:00",
          "2023-03-28T07:50:00",
          "2023-03-28T07:55:00"
         ],
         "xaxis": "x28",
         "y": [
          0,
          0,
          0,
          0,
          0,
          0,
          0,
          0,
          0,
          0,
          0,
          0
         ],
         "yaxis": "y28"
        },
        {
         "alignmentgroup": "True",
         "bingroup": "x",
         "histfunc": "sum",
         "hovertemplate": "road_user_type=bus<br>from_section=WEST<br>to_section=SOUTH<br>time_interval=%{x}<br>sum of difference=%{y}<extra></extra>",
         "legendgroup": "bus",
         "marker": {
          "color": "#19d3f3",
          "pattern": {
           "shape": ""
          }
         },
         "name": "bus",
         "nbinsx": 12,
         "offsetgroup": "bus",
         "orientation": "v",
         "showlegend": false,
         "type": "histogram",
         "x": [
          "2023-03-28T07:00:00",
          "2023-03-28T07:05:00",
          "2023-03-28T07:10:00",
          "2023-03-28T07:15:00",
          "2023-03-28T07:20:00",
          "2023-03-28T07:25:00",
          "2023-03-28T07:30:00",
          "2023-03-28T07:35:00",
          "2023-03-28T07:40:00",
          "2023-03-28T07:45:00",
          "2023-03-28T07:50:00",
          "2023-03-28T07:55:00"
         ],
         "xaxis": "x15",
         "y": [
          0,
          0,
          0,
          0,
          0,
          0,
          0,
          0,
          0,
          0,
          0,
          0
         ],
         "yaxis": "y15"
        },
        {
         "alignmentgroup": "True",
         "bingroup": "x",
         "histfunc": "sum",
         "hovertemplate": "road_user_type=bus<br>from_section=WEST<br>to_section=WEST<br>time_interval=%{x}<br>sum of difference=%{y}<extra></extra>",
         "legendgroup": "bus",
         "marker": {
          "color": "#19d3f3",
          "pattern": {
           "shape": ""
          }
         },
         "name": "bus",
         "nbinsx": 12,
         "offsetgroup": "bus",
         "orientation": "v",
         "showlegend": false,
         "type": "histogram",
         "x": [
          "2023-03-28T07:00:00",
          "2023-03-28T07:05:00",
          "2023-03-28T07:10:00",
          "2023-03-28T07:15:00",
          "2023-03-28T07:20:00",
          "2023-03-28T07:25:00",
          "2023-03-28T07:30:00",
          "2023-03-28T07:35:00",
          "2023-03-28T07:40:00",
          "2023-03-28T07:45:00",
          "2023-03-28T07:50:00",
          "2023-03-28T07:55:00"
         ],
         "xaxis": "x16",
         "y": [
          0,
          0,
          0,
          0,
          0,
          0,
          0,
          0,
          0,
          0,
          0,
          0
         ],
         "yaxis": "y16"
        },
        {
         "alignmentgroup": "True",
         "bingroup": "x",
         "histfunc": "sum",
         "hovertemplate": "road_user_type=bus<br>from_section=WEST<br>to_section=EAST<br>time_interval=%{x}<br>sum of difference=%{y}<extra></extra>",
         "legendgroup": "bus",
         "marker": {
          "color": "#19d3f3",
          "pattern": {
           "shape": ""
          }
         },
         "name": "bus",
         "nbinsx": 12,
         "offsetgroup": "bus",
         "orientation": "v",
         "showlegend": false,
         "type": "histogram",
         "x": [
          "2023-03-28T07:00:00",
          "2023-03-28T07:05:00",
          "2023-03-28T07:10:00",
          "2023-03-28T07:15:00",
          "2023-03-28T07:20:00",
          "2023-03-28T07:25:00",
          "2023-03-28T07:30:00",
          "2023-03-28T07:35:00",
          "2023-03-28T07:40:00",
          "2023-03-28T07:45:00",
          "2023-03-28T07:50:00",
          "2023-03-28T07:55:00"
         ],
         "xaxis": "x17",
         "y": [
          0,
          0,
          0,
          0,
          0,
          0,
          0,
          0,
          0,
          0,
          0,
          0
         ],
         "yaxis": "y17"
        },
        {
         "alignmentgroup": "True",
         "bingroup": "x",
         "histfunc": "sum",
         "hovertemplate": "road_user_type=bus<br>from_section=WEST<br>to_section=NORTH<br>time_interval=%{x}<br>sum of difference=%{y}<extra></extra>",
         "legendgroup": "bus",
         "marker": {
          "color": "#19d3f3",
          "pattern": {
           "shape": ""
          }
         },
         "name": "bus",
         "nbinsx": 12,
         "offsetgroup": "bus",
         "orientation": "v",
         "showlegend": false,
         "type": "histogram",
         "x": [
          "2023-03-28T07:00:00",
          "2023-03-28T07:05:00",
          "2023-03-28T07:10:00",
          "2023-03-28T07:15:00",
          "2023-03-28T07:20:00",
          "2023-03-28T07:25:00",
          "2023-03-28T07:30:00",
          "2023-03-28T07:35:00",
          "2023-03-28T07:40:00",
          "2023-03-28T07:45:00",
          "2023-03-28T07:50:00",
          "2023-03-28T07:55:00"
         ],
         "xaxis": "x19",
         "y": [
          0,
          0,
          0,
          0,
          0,
          0,
          0,
          0,
          0,
          0,
          0,
          0
         ],
         "yaxis": "y19"
        },
        {
         "alignmentgroup": "True",
         "bingroup": "x",
         "histfunc": "sum",
         "hovertemplate": "road_user_type=bus<br>from_section=WEST<br>to_section=PED_BIKE_SOUTH<br>time_interval=%{x}<br>sum of difference=%{y}<extra></extra>",
         "legendgroup": "bus",
         "marker": {
          "color": "#19d3f3",
          "pattern": {
           "shape": ""
          }
         },
         "name": "bus",
         "nbinsx": 12,
         "offsetgroup": "bus",
         "orientation": "v",
         "showlegend": false,
         "type": "histogram",
         "x": [
          "2023-03-28T07:00:00",
          "2023-03-28T07:05:00",
          "2023-03-28T07:10:00",
          "2023-03-28T07:15:00",
          "2023-03-28T07:20:00",
          "2023-03-28T07:25:00",
          "2023-03-28T07:30:00",
          "2023-03-28T07:35:00",
          "2023-03-28T07:40:00",
          "2023-03-28T07:45:00",
          "2023-03-28T07:50:00",
          "2023-03-28T07:55:00"
         ],
         "xaxis": "x20",
         "y": [
          0,
          0,
          0,
          0,
          0,
          0,
          0,
          0,
          0,
          0,
          0,
          0
         ],
         "yaxis": "y20"
        },
        {
         "alignmentgroup": "True",
         "bingroup": "x",
         "histfunc": "sum",
         "hovertemplate": "road_user_type=bus<br>from_section=WEST<br>to_section=PED_BIKE_NORTH<br>time_interval=%{x}<br>sum of difference=%{y}<extra></extra>",
         "legendgroup": "bus",
         "marker": {
          "color": "#19d3f3",
          "pattern": {
           "shape": ""
          }
         },
         "name": "bus",
         "nbinsx": 12,
         "offsetgroup": "bus",
         "orientation": "v",
         "showlegend": false,
         "type": "histogram",
         "x": [
          "2023-03-28T07:00:00",
          "2023-03-28T07:05:00",
          "2023-03-28T07:10:00",
          "2023-03-28T07:15:00",
          "2023-03-28T07:20:00",
          "2023-03-28T07:25:00",
          "2023-03-28T07:30:00",
          "2023-03-28T07:35:00",
          "2023-03-28T07:40:00",
          "2023-03-28T07:45:00",
          "2023-03-28T07:50:00",
          "2023-03-28T07:55:00"
         ],
         "xaxis": "x21",
         "y": [
          0,
          0,
          0,
          0,
          0,
          0,
          0,
          0,
          0,
          0,
          0,
          0
         ],
         "yaxis": "y21"
        },
        {
         "alignmentgroup": "True",
         "bingroup": "x",
         "histfunc": "sum",
         "hovertemplate": "road_user_type=bus<br>from_section=PED_BIKE_SOUTH<br>to_section=SOUTH<br>time_interval=%{x}<br>sum of difference=%{y}<extra></extra>",
         "legendgroup": "bus",
         "marker": {
          "color": "#19d3f3",
          "pattern": {
           "shape": ""
          }
         },
         "name": "bus",
         "nbinsx": 12,
         "offsetgroup": "bus",
         "orientation": "v",
         "showlegend": false,
         "type": "histogram",
         "x": [
          "2023-03-28T07:00:00",
          "2023-03-28T07:05:00",
          "2023-03-28T07:10:00",
          "2023-03-28T07:15:00",
          "2023-03-28T07:20:00",
          "2023-03-28T07:25:00",
          "2023-03-28T07:30:00",
          "2023-03-28T07:35:00",
          "2023-03-28T07:40:00",
          "2023-03-28T07:45:00",
          "2023-03-28T07:50:00",
          "2023-03-28T07:55:00"
         ],
         "xaxis": "x8",
         "y": [
          0,
          0,
          0,
          0,
          0,
          0,
          0,
          0,
          0,
          0,
          0,
          0
         ],
         "yaxis": "y8"
        },
        {
         "alignmentgroup": "True",
         "bingroup": "x",
         "histfunc": "sum",
         "hovertemplate": "road_user_type=bus<br>from_section=PED_BIKE_SOUTH<br>to_section=WEST<br>time_interval=%{x}<br>sum of difference=%{y}<extra></extra>",
         "legendgroup": "bus",
         "marker": {
          "color": "#19d3f3",
          "pattern": {
           "shape": ""
          }
         },
         "name": "bus",
         "nbinsx": 12,
         "offsetgroup": "bus",
         "orientation": "v",
         "showlegend": false,
         "type": "histogram",
         "x": [
          "2023-03-28T07:00:00",
          "2023-03-28T07:05:00",
          "2023-03-28T07:10:00",
          "2023-03-28T07:15:00",
          "2023-03-28T07:20:00",
          "2023-03-28T07:25:00",
          "2023-03-28T07:30:00",
          "2023-03-28T07:35:00",
          "2023-03-28T07:40:00",
          "2023-03-28T07:45:00",
          "2023-03-28T07:50:00",
          "2023-03-28T07:55:00"
         ],
         "xaxis": "x9",
         "y": [
          0,
          0,
          0,
          0,
          0,
          0,
          0,
          0,
          0,
          0,
          0,
          0
         ],
         "yaxis": "y9"
        },
        {
         "alignmentgroup": "True",
         "bingroup": "x",
         "histfunc": "sum",
         "hovertemplate": "road_user_type=bus<br>from_section=PED_BIKE_SOUTH<br>to_section=EAST<br>time_interval=%{x}<br>sum of difference=%{y}<extra></extra>",
         "legendgroup": "bus",
         "marker": {
          "color": "#19d3f3",
          "pattern": {
           "shape": ""
          }
         },
         "name": "bus",
         "nbinsx": 12,
         "offsetgroup": "bus",
         "orientation": "v",
         "showlegend": false,
         "type": "histogram",
         "x": [
          "2023-03-28T07:00:00",
          "2023-03-28T07:05:00",
          "2023-03-28T07:10:00",
          "2023-03-28T07:15:00",
          "2023-03-28T07:20:00",
          "2023-03-28T07:25:00",
          "2023-03-28T07:30:00",
          "2023-03-28T07:35:00",
          "2023-03-28T07:40:00",
          "2023-03-28T07:45:00",
          "2023-03-28T07:50:00",
          "2023-03-28T07:55:00"
         ],
         "xaxis": "x10",
         "y": [
          0,
          0,
          0,
          0,
          0,
          0,
          0,
          0,
          0,
          0,
          0,
          0
         ],
         "yaxis": "y10"
        },
        {
         "alignmentgroup": "True",
         "bingroup": "x",
         "histfunc": "sum",
         "hovertemplate": "road_user_type=bus<br>from_section=PED_BIKE_SOUTH<br>to_section=NORTH<br>time_interval=%{x}<br>sum of difference=%{y}<extra></extra>",
         "legendgroup": "bus",
         "marker": {
          "color": "#19d3f3",
          "pattern": {
           "shape": ""
          }
         },
         "name": "bus",
         "nbinsx": 12,
         "offsetgroup": "bus",
         "orientation": "v",
         "showlegend": false,
         "type": "histogram",
         "x": [
          "2023-03-28T07:00:00",
          "2023-03-28T07:05:00",
          "2023-03-28T07:10:00",
          "2023-03-28T07:15:00",
          "2023-03-28T07:20:00",
          "2023-03-28T07:25:00",
          "2023-03-28T07:30:00",
          "2023-03-28T07:35:00",
          "2023-03-28T07:40:00",
          "2023-03-28T07:45:00",
          "2023-03-28T07:50:00",
          "2023-03-28T07:55:00"
         ],
         "xaxis": "x12",
         "y": [
          0,
          0,
          0,
          0,
          0,
          0,
          0,
          0,
          0,
          0,
          0,
          0
         ],
         "yaxis": "y12"
        },
        {
         "alignmentgroup": "True",
         "bingroup": "x",
         "histfunc": "sum",
         "hovertemplate": "road_user_type=bus<br>from_section=PED_BIKE_SOUTH<br>to_section=PED_BIKE_SOUTH<br>time_interval=%{x}<br>sum of difference=%{y}<extra></extra>",
         "legendgroup": "bus",
         "marker": {
          "color": "#19d3f3",
          "pattern": {
           "shape": ""
          }
         },
         "name": "bus",
         "nbinsx": 12,
         "offsetgroup": "bus",
         "orientation": "v",
         "showlegend": false,
         "type": "histogram",
         "x": [
          "2023-03-28T07:00:00",
          "2023-03-28T07:05:00",
          "2023-03-28T07:10:00",
          "2023-03-28T07:15:00",
          "2023-03-28T07:20:00",
          "2023-03-28T07:25:00",
          "2023-03-28T07:30:00",
          "2023-03-28T07:35:00",
          "2023-03-28T07:40:00",
          "2023-03-28T07:45:00",
          "2023-03-28T07:50:00",
          "2023-03-28T07:55:00"
         ],
         "xaxis": "x13",
         "y": [
          0,
          0,
          0,
          0,
          0,
          0,
          0,
          0,
          0,
          0,
          0,
          0
         ],
         "yaxis": "y13"
        },
        {
         "alignmentgroup": "True",
         "bingroup": "x",
         "histfunc": "sum",
         "hovertemplate": "road_user_type=bus<br>from_section=PED_BIKE_SOUTH<br>to_section=PED_BIKE_NORTH<br>time_interval=%{x}<br>sum of difference=%{y}<extra></extra>",
         "legendgroup": "bus",
         "marker": {
          "color": "#19d3f3",
          "pattern": {
           "shape": ""
          }
         },
         "name": "bus",
         "nbinsx": 12,
         "offsetgroup": "bus",
         "orientation": "v",
         "showlegend": false,
         "type": "histogram",
         "x": [
          "2023-03-28T07:00:00",
          "2023-03-28T07:05:00",
          "2023-03-28T07:10:00",
          "2023-03-28T07:15:00",
          "2023-03-28T07:20:00",
          "2023-03-28T07:25:00",
          "2023-03-28T07:30:00",
          "2023-03-28T07:35:00",
          "2023-03-28T07:40:00",
          "2023-03-28T07:45:00",
          "2023-03-28T07:50:00",
          "2023-03-28T07:55:00"
         ],
         "xaxis": "x14",
         "y": [
          0,
          0,
          0,
          0,
          0,
          0,
          0,
          0,
          0,
          0,
          0,
          0
         ],
         "yaxis": "y14"
        },
        {
         "alignmentgroup": "True",
         "bingroup": "x",
         "histfunc": "sum",
         "hovertemplate": "road_user_type=bus<br>from_section=PED_BIKE_NORTH<br>to_section=SOUTH<br>time_interval=%{x}<br>sum of difference=%{y}<extra></extra>",
         "legendgroup": "bus",
         "marker": {
          "color": "#19d3f3",
          "pattern": {
           "shape": ""
          }
         },
         "name": "bus",
         "nbinsx": 12,
         "offsetgroup": "bus",
         "orientation": "v",
         "showlegend": false,
         "type": "histogram",
         "x": [
          "2023-03-28T07:00:00",
          "2023-03-28T07:05:00",
          "2023-03-28T07:10:00",
          "2023-03-28T07:15:00",
          "2023-03-28T07:20:00",
          "2023-03-28T07:25:00",
          "2023-03-28T07:30:00",
          "2023-03-28T07:35:00",
          "2023-03-28T07:40:00",
          "2023-03-28T07:45:00",
          "2023-03-28T07:50:00",
          "2023-03-28T07:55:00"
         ],
         "xaxis": "x",
         "y": [
          0,
          0,
          0,
          0,
          0,
          0,
          0,
          0,
          0,
          0,
          0,
          0
         ],
         "yaxis": "y"
        },
        {
         "alignmentgroup": "True",
         "bingroup": "x",
         "histfunc": "sum",
         "hovertemplate": "road_user_type=bus<br>from_section=PED_BIKE_NORTH<br>to_section=WEST<br>time_interval=%{x}<br>sum of difference=%{y}<extra></extra>",
         "legendgroup": "bus",
         "marker": {
          "color": "#19d3f3",
          "pattern": {
           "shape": ""
          }
         },
         "name": "bus",
         "nbinsx": 12,
         "offsetgroup": "bus",
         "orientation": "v",
         "showlegend": false,
         "type": "histogram",
         "x": [
          "2023-03-28T07:00:00",
          "2023-03-28T07:05:00",
          "2023-03-28T07:10:00",
          "2023-03-28T07:15:00",
          "2023-03-28T07:20:00",
          "2023-03-28T07:25:00",
          "2023-03-28T07:30:00",
          "2023-03-28T07:35:00",
          "2023-03-28T07:40:00",
          "2023-03-28T07:45:00",
          "2023-03-28T07:50:00",
          "2023-03-28T07:55:00"
         ],
         "xaxis": "x2",
         "y": [
          0,
          0,
          0,
          0,
          0,
          0,
          0,
          0,
          0,
          0,
          0,
          0
         ],
         "yaxis": "y2"
        },
        {
         "alignmentgroup": "True",
         "bingroup": "x",
         "histfunc": "sum",
         "hovertemplate": "road_user_type=bus<br>from_section=PED_BIKE_NORTH<br>to_section=EAST<br>time_interval=%{x}<br>sum of difference=%{y}<extra></extra>",
         "legendgroup": "bus",
         "marker": {
          "color": "#19d3f3",
          "pattern": {
           "shape": ""
          }
         },
         "name": "bus",
         "nbinsx": 12,
         "offsetgroup": "bus",
         "orientation": "v",
         "showlegend": false,
         "type": "histogram",
         "x": [
          "2023-03-28T07:00:00",
          "2023-03-28T07:05:00",
          "2023-03-28T07:10:00",
          "2023-03-28T07:15:00",
          "2023-03-28T07:20:00",
          "2023-03-28T07:25:00",
          "2023-03-28T07:30:00",
          "2023-03-28T07:35:00",
          "2023-03-28T07:40:00",
          "2023-03-28T07:45:00",
          "2023-03-28T07:50:00",
          "2023-03-28T07:55:00"
         ],
         "xaxis": "x3",
         "y": [
          0,
          0,
          0,
          0,
          0,
          0,
          0,
          0,
          0,
          0,
          0,
          0
         ],
         "yaxis": "y3"
        },
        {
         "alignmentgroup": "True",
         "bingroup": "x",
         "histfunc": "sum",
         "hovertemplate": "road_user_type=bus<br>from_section=PED_BIKE_NORTH<br>to_section=NORTH<br>time_interval=%{x}<br>sum of difference=%{y}<extra></extra>",
         "legendgroup": "bus",
         "marker": {
          "color": "#19d3f3",
          "pattern": {
           "shape": ""
          }
         },
         "name": "bus",
         "nbinsx": 12,
         "offsetgroup": "bus",
         "orientation": "v",
         "showlegend": false,
         "type": "histogram",
         "x": [
          "2023-03-28T07:00:00",
          "2023-03-28T07:05:00",
          "2023-03-28T07:10:00",
          "2023-03-28T07:15:00",
          "2023-03-28T07:20:00",
          "2023-03-28T07:25:00",
          "2023-03-28T07:30:00",
          "2023-03-28T07:35:00",
          "2023-03-28T07:40:00",
          "2023-03-28T07:45:00",
          "2023-03-28T07:50:00",
          "2023-03-28T07:55:00"
         ],
         "xaxis": "x5",
         "y": [
          0,
          0,
          0,
          0,
          0,
          0,
          0,
          0,
          0,
          0,
          0,
          0
         ],
         "yaxis": "y5"
        },
        {
         "alignmentgroup": "True",
         "bingroup": "x",
         "histfunc": "sum",
         "hovertemplate": "road_user_type=bus<br>from_section=PED_BIKE_NORTH<br>to_section=PED_BIKE_SOUTH<br>time_interval=%{x}<br>sum of difference=%{y}<extra></extra>",
         "legendgroup": "bus",
         "marker": {
          "color": "#19d3f3",
          "pattern": {
           "shape": ""
          }
         },
         "name": "bus",
         "nbinsx": 12,
         "offsetgroup": "bus",
         "orientation": "v",
         "showlegend": false,
         "type": "histogram",
         "x": [
          "2023-03-28T07:00:00",
          "2023-03-28T07:05:00",
          "2023-03-28T07:10:00",
          "2023-03-28T07:15:00",
          "2023-03-28T07:20:00",
          "2023-03-28T07:25:00",
          "2023-03-28T07:30:00",
          "2023-03-28T07:35:00",
          "2023-03-28T07:40:00",
          "2023-03-28T07:45:00",
          "2023-03-28T07:50:00",
          "2023-03-28T07:55:00"
         ],
         "xaxis": "x6",
         "y": [
          0,
          0,
          0,
          0,
          0,
          0,
          0,
          0,
          0,
          0,
          0,
          0
         ],
         "yaxis": "y6"
        },
        {
         "alignmentgroup": "True",
         "bingroup": "x",
         "histfunc": "sum",
         "hovertemplate": "road_user_type=bus<br>from_section=PED_BIKE_NORTH<br>to_section=PED_BIKE_NORTH<br>time_interval=%{x}<br>sum of difference=%{y}<extra></extra>",
         "legendgroup": "bus",
         "marker": {
          "color": "#19d3f3",
          "pattern": {
           "shape": ""
          }
         },
         "name": "bus",
         "nbinsx": 12,
         "offsetgroup": "bus",
         "orientation": "v",
         "showlegend": false,
         "type": "histogram",
         "x": [
          "2023-03-28T07:00:00",
          "2023-03-28T07:05:00",
          "2023-03-28T07:10:00",
          "2023-03-28T07:15:00",
          "2023-03-28T07:20:00",
          "2023-03-28T07:25:00",
          "2023-03-28T07:30:00",
          "2023-03-28T07:35:00",
          "2023-03-28T07:40:00",
          "2023-03-28T07:45:00",
          "2023-03-28T07:50:00",
          "2023-03-28T07:55:00"
         ],
         "xaxis": "x7",
         "y": [
          0,
          0,
          0,
          0,
          0,
          0,
          0,
          0,
          0,
          0,
          0,
          0
         ],
         "yaxis": "y7"
        },
        {
         "alignmentgroup": "True",
         "bingroup": "x",
         "histfunc": "sum",
         "hovertemplate": "road_user_type=car_with_trailer<br>from_section=NORTH<br>to_section=SOUTH<br>time_interval=%{x}<br>sum of difference=%{y}<extra></extra>",
         "legendgroup": "car_with_trailer",
         "marker": {
          "color": "#FF6692",
          "pattern": {
           "shape": ""
          }
         },
         "name": "car_with_trailer",
         "nbinsx": 12,
         "offsetgroup": "car_with_trailer",
         "orientation": "v",
         "showlegend": true,
         "type": "histogram",
         "x": [
          "2023-03-28T07:35:00"
         ],
         "xaxis": "x36",
         "y": [
          1
         ],
         "yaxis": "y36"
        },
        {
         "alignmentgroup": "True",
         "bingroup": "x",
         "histfunc": "sum",
         "hovertemplate": "road_user_type=car_with_trailer<br>from_section=SOUTH<br>to_section=NORTH<br>time_interval=%{x}<br>sum of difference=%{y}<extra></extra>",
         "legendgroup": "car_with_trailer",
         "marker": {
          "color": "#FF6692",
          "pattern": {
           "shape": ""
          }
         },
         "name": "car_with_trailer",
         "nbinsx": 12,
         "offsetgroup": "car_with_trailer",
         "orientation": "v",
         "showlegend": false,
         "type": "histogram",
         "x": [
          "2023-03-28T07:40:00",
          "2023-03-28T07:55:00"
         ],
         "xaxis": "x26",
         "y": [
          1,
          1
         ],
         "yaxis": "y26"
        },
        {
         "alignmentgroup": "True",
         "bingroup": "x",
         "histfunc": "sum",
         "hovertemplate": "road_user_type=truck_with_trailer<br>from_section=NORTH<br>to_section=SOUTH<br>time_interval=%{x}<br>sum of difference=%{y}<extra></extra>",
         "legendgroup": "truck_with_trailer",
         "marker": {
          "color": "#B6E880",
          "pattern": {
           "shape": ""
          }
         },
         "name": "truck_with_trailer",
         "nbinsx": 12,
         "offsetgroup": "truck_with_trailer",
         "orientation": "v",
         "showlegend": true,
         "type": "histogram",
         "x": [
          "2023-03-28T07:35:00"
         ],
         "xaxis": "x36",
         "y": [
          1
         ],
         "yaxis": "y36"
        },
        {
         "alignmentgroup": "True",
         "bingroup": "x",
         "histfunc": "sum",
         "hovertemplate": "road_user_type=truck_with_trailer<br>from_section=SOUTH<br>to_section=NORTH<br>time_interval=%{x}<br>sum of difference=%{y}<extra></extra>",
         "legendgroup": "truck_with_trailer",
         "marker": {
          "color": "#B6E880",
          "pattern": {
           "shape": ""
          }
         },
         "name": "truck_with_trailer",
         "nbinsx": 12,
         "offsetgroup": "truck_with_trailer",
         "orientation": "v",
         "showlegend": false,
         "type": "histogram",
         "x": [
          "2023-03-28T07:20:00",
          "2023-03-28T07:45:00",
          "2023-03-28T07:50:00"
         ],
         "xaxis": "x26",
         "y": [
          1,
          1,
          1
         ],
         "yaxis": "y26"
        },
        {
         "alignmentgroup": "True",
         "bingroup": "x",
         "histfunc": "sum",
         "hovertemplate": "road_user_type=bike<br>from_section=SIDEWALK<br>to_section=SIDEWALK<br>time_interval=%{x}<br>sum of difference=%{y}<extra></extra>",
         "legendgroup": "bike",
         "marker": {
          "color": "#FF97FF",
          "pattern": {
           "shape": ""
          }
         },
         "name": "bike",
         "nbinsx": 12,
         "offsetgroup": "bike",
         "orientation": "v",
         "showlegend": true,
         "type": "histogram",
         "x": [
          "2023-03-28T07:35:00",
          "2023-03-28T07:40:00",
          "2023-03-28T07:50:00"
         ],
         "xaxis": "x32",
         "y": [
          1,
          1,
          1
         ],
         "yaxis": "y32"
        },
        {
         "alignmentgroup": "True",
         "bingroup": "x",
         "histfunc": "sum",
         "hovertemplate": "road_user_type=bike<br>from_section=SOUTH<br>to_section=NORTH<br>time_interval=%{x}<br>sum of difference=%{y}<extra></extra>",
         "legendgroup": "bike",
         "marker": {
          "color": "#FF97FF",
          "pattern": {
           "shape": ""
          }
         },
         "name": "bike",
         "nbinsx": 12,
         "offsetgroup": "bike",
         "orientation": "v",
         "showlegend": false,
         "type": "histogram",
         "x": [
          "2023-03-28T07:00:00"
         ],
         "xaxis": "x26",
         "y": [
          1
         ],
         "yaxis": "y26"
        },
        {
         "alignmentgroup": "True",
         "bingroup": "x",
         "histfunc": "sum",
         "hovertemplate": "road_user_type=others<br>from_section=SOUTH<br>to_section=NORTH<br>time_interval=%{x}<br>sum of difference=%{y}<extra></extra>",
         "legendgroup": "others",
         "marker": {
          "color": "#FECB52",
          "pattern": {
           "shape": ""
          }
         },
         "name": "others",
         "nbinsx": 12,
         "offsetgroup": "others",
         "orientation": "v",
         "showlegend": true,
         "type": "histogram",
         "x": [
          "2023-03-28T07:05:00"
         ],
         "xaxis": "x26",
         "y": [
          1
         ],
         "yaxis": "y26"
        },
        {
         "alignmentgroup": "True",
         "bingroup": "x",
         "histfunc": "sum",
         "hovertemplate": "road_user_type=others<br>from_section=WEST<br>to_section=SOUTH<br>time_interval=%{x}<br>sum of difference=%{y}<extra></extra>",
         "legendgroup": "others",
         "marker": {
          "color": "#FECB52",
          "pattern": {
           "shape": ""
          }
         },
         "name": "others",
         "nbinsx": 12,
         "offsetgroup": "others",
         "orientation": "v",
         "showlegend": false,
         "type": "histogram",
         "x": [
          "2023-03-28T07:55:00"
         ],
         "xaxis": "x15",
         "y": [
          1
         ],
         "yaxis": "y15"
        },
        {
         "alignmentgroup": "True",
         "bingroup": "x",
         "histfunc": "sum",
         "hovertemplate": "road_user_type=private_van<br>from_section=EAST<br>to_section=SOUTH<br>time_interval=%{x}<br>sum of difference=%{y}<extra></extra>",
         "legendgroup": "private_van",
         "marker": {
          "color": "#636efa",
          "pattern": {
           "shape": ""
          }
         },
         "name": "private_van",
         "nbinsx": 12,
         "offsetgroup": "private_van",
         "orientation": "v",
         "showlegend": true,
         "type": "histogram",
         "x": [
          "2023-03-28T07:00:00",
          "2023-03-28T07:05:00",
          "2023-03-28T07:10:00",
          "2023-03-28T07:15:00",
          "2023-03-28T07:20:00",
          "2023-03-28T07:25:00",
          "2023-03-28T07:30:00",
          "2023-03-28T07:35:00",
          "2023-03-28T07:40:00",
          "2023-03-28T07:45:00",
          "2023-03-28T07:50:00",
          "2023-03-28T07:55:00"
         ],
         "xaxis": "x43",
         "y": [
          0,
          0,
          0,
          0,
          0,
          0,
          0,
          0,
          0,
          0,
          0,
          0
         ],
         "yaxis": "y43"
        },
        {
         "alignmentgroup": "True",
         "bingroup": "x",
         "histfunc": "sum",
         "hovertemplate": "road_user_type=private_van<br>from_section=EAST<br>to_section=WEST<br>time_interval=%{x}<br>sum of difference=%{y}<extra></extra>",
         "legendgroup": "private_van",
         "marker": {
          "color": "#636efa",
          "pattern": {
           "shape": ""
          }
         },
         "name": "private_van",
         "nbinsx": 12,
         "offsetgroup": "private_van",
         "orientation": "v",
         "showlegend": false,
         "type": "histogram",
         "x": [
          "2023-03-28T07:00:00",
          "2023-03-28T07:05:00",
          "2023-03-28T07:10:00",
          "2023-03-28T07:15:00",
          "2023-03-28T07:20:00",
          "2023-03-28T07:25:00",
          "2023-03-28T07:30:00",
          "2023-03-28T07:35:00",
          "2023-03-28T07:40:00",
          "2023-03-28T07:45:00",
          "2023-03-28T07:50:00",
          "2023-03-28T07:55:00"
         ],
         "xaxis": "x44",
         "y": [
          0,
          0,
          0,
          0,
          0,
          0,
          0,
          0,
          0,
          0,
          0,
          0
         ],
         "yaxis": "y44"
        },
        {
         "alignmentgroup": "True",
         "bingroup": "x",
         "histfunc": "sum",
         "hovertemplate": "road_user_type=private_van<br>from_section=EAST<br>to_section=EAST<br>time_interval=%{x}<br>sum of difference=%{y}<extra></extra>",
         "legendgroup": "private_van",
         "marker": {
          "color": "#636efa",
          "pattern": {
           "shape": ""
          }
         },
         "name": "private_van",
         "nbinsx": 12,
         "offsetgroup": "private_van",
         "orientation": "v",
         "showlegend": false,
         "type": "histogram",
         "x": [
          "2023-03-28T07:00:00",
          "2023-03-28T07:05:00",
          "2023-03-28T07:10:00",
          "2023-03-28T07:15:00",
          "2023-03-28T07:20:00",
          "2023-03-28T07:25:00",
          "2023-03-28T07:30:00",
          "2023-03-28T07:35:00",
          "2023-03-28T07:40:00",
          "2023-03-28T07:45:00",
          "2023-03-28T07:50:00",
          "2023-03-28T07:55:00"
         ],
         "xaxis": "x45",
         "y": [
          0,
          0,
          0,
          0,
          0,
          0,
          0,
          0,
          0,
          0,
          0,
          0
         ],
         "yaxis": "y45"
        },
        {
         "alignmentgroup": "True",
         "bingroup": "x",
         "histfunc": "sum",
         "hovertemplate": "road_user_type=private_van<br>from_section=EAST<br>to_section=NORTH<br>time_interval=%{x}<br>sum of difference=%{y}<extra></extra>",
         "legendgroup": "private_van",
         "marker": {
          "color": "#636efa",
          "pattern": {
           "shape": ""
          }
         },
         "name": "private_van",
         "nbinsx": 12,
         "offsetgroup": "private_van",
         "orientation": "v",
         "showlegend": false,
         "type": "histogram",
         "x": [
          "2023-03-28T07:00:00",
          "2023-03-28T07:05:00",
          "2023-03-28T07:10:00",
          "2023-03-28T07:15:00",
          "2023-03-28T07:20:00",
          "2023-03-28T07:25:00",
          "2023-03-28T07:30:00",
          "2023-03-28T07:35:00",
          "2023-03-28T07:40:00",
          "2023-03-28T07:45:00",
          "2023-03-28T07:50:00",
          "2023-03-28T07:55:00"
         ],
         "xaxis": "x47",
         "y": [
          0,
          0,
          0,
          0,
          0,
          0,
          0,
          0,
          0,
          0,
          0,
          0
         ],
         "yaxis": "y47"
        },
        {
         "alignmentgroup": "True",
         "bingroup": "x",
         "histfunc": "sum",
         "hovertemplate": "road_user_type=private_van<br>from_section=EAST<br>to_section=PED_BIKE_SOUTH<br>time_interval=%{x}<br>sum of difference=%{y}<extra></extra>",
         "legendgroup": "private_van",
         "marker": {
          "color": "#636efa",
          "pattern": {
           "shape": ""
          }
         },
         "name": "private_van",
         "nbinsx": 12,
         "offsetgroup": "private_van",
         "orientation": "v",
         "showlegend": false,
         "type": "histogram",
         "x": [
          "2023-03-28T07:00:00",
          "2023-03-28T07:05:00",
          "2023-03-28T07:10:00",
          "2023-03-28T07:15:00",
          "2023-03-28T07:20:00",
          "2023-03-28T07:25:00",
          "2023-03-28T07:30:00",
          "2023-03-28T07:35:00",
          "2023-03-28T07:40:00",
          "2023-03-28T07:45:00",
          "2023-03-28T07:50:00",
          "2023-03-28T07:55:00"
         ],
         "xaxis": "x48",
         "y": [
          0,
          0,
          0,
          0,
          0,
          0,
          0,
          0,
          0,
          0,
          0,
          0
         ],
         "yaxis": "y48"
        },
        {
         "alignmentgroup": "True",
         "bingroup": "x",
         "histfunc": "sum",
         "hovertemplate": "road_user_type=private_van<br>from_section=EAST<br>to_section=PED_BIKE_NORTH<br>time_interval=%{x}<br>sum of difference=%{y}<extra></extra>",
         "legendgroup": "private_van",
         "marker": {
          "color": "#636efa",
          "pattern": {
           "shape": ""
          }
         },
         "name": "private_van",
         "nbinsx": 12,
         "offsetgroup": "private_van",
         "orientation": "v",
         "showlegend": false,
         "type": "histogram",
         "x": [
          "2023-03-28T07:00:00",
          "2023-03-28T07:05:00",
          "2023-03-28T07:10:00",
          "2023-03-28T07:15:00",
          "2023-03-28T07:20:00",
          "2023-03-28T07:25:00",
          "2023-03-28T07:30:00",
          "2023-03-28T07:35:00",
          "2023-03-28T07:40:00",
          "2023-03-28T07:45:00",
          "2023-03-28T07:50:00",
          "2023-03-28T07:55:00"
         ],
         "xaxis": "x49",
         "y": [
          0,
          0,
          0,
          0,
          0,
          0,
          0,
          0,
          0,
          0,
          0,
          0
         ],
         "yaxis": "y49"
        },
        {
         "alignmentgroup": "True",
         "bingroup": "x",
         "histfunc": "sum",
         "hovertemplate": "road_user_type=private_van<br>from_section=NORTH<br>to_section=SOUTH<br>time_interval=%{x}<br>sum of difference=%{y}<extra></extra>",
         "legendgroup": "private_van",
         "marker": {
          "color": "#636efa",
          "pattern": {
           "shape": ""
          }
         },
         "name": "private_van",
         "nbinsx": 12,
         "offsetgroup": "private_van",
         "orientation": "v",
         "showlegend": false,
         "type": "histogram",
         "x": [
          "2023-03-28T07:00:00",
          "2023-03-28T07:05:00",
          "2023-03-28T07:10:00",
          "2023-03-28T07:15:00",
          "2023-03-28T07:20:00",
          "2023-03-28T07:25:00",
          "2023-03-28T07:30:00",
          "2023-03-28T07:35:00",
          "2023-03-28T07:40:00",
          "2023-03-28T07:45:00",
          "2023-03-28T07:50:00",
          "2023-03-28T07:55:00"
         ],
         "xaxis": "x36",
         "y": [
          3,
          4,
          1,
          3,
          3,
          1,
          1,
          2,
          1,
          1,
          1,
          2
         ],
         "yaxis": "y36"
        },
        {
         "alignmentgroup": "True",
         "bingroup": "x",
         "histfunc": "sum",
         "hovertemplate": "road_user_type=private_van<br>from_section=NORTH<br>to_section=WEST<br>time_interval=%{x}<br>sum of difference=%{y}<extra></extra>",
         "legendgroup": "private_van",
         "marker": {
          "color": "#636efa",
          "pattern": {
           "shape": ""
          }
         },
         "name": "private_van",
         "nbinsx": 12,
         "offsetgroup": "private_van",
         "orientation": "v",
         "showlegend": false,
         "type": "histogram",
         "x": [
          "2023-03-28T07:00:00",
          "2023-03-28T07:05:00",
          "2023-03-28T07:10:00",
          "2023-03-28T07:15:00",
          "2023-03-28T07:20:00",
          "2023-03-28T07:25:00",
          "2023-03-28T07:30:00",
          "2023-03-28T07:35:00",
          "2023-03-28T07:40:00",
          "2023-03-28T07:45:00",
          "2023-03-28T07:50:00",
          "2023-03-28T07:55:00"
         ],
         "xaxis": "x37",
         "y": [
          0,
          0,
          0,
          0,
          0,
          0,
          0,
          0,
          0,
          0,
          0,
          0
         ],
         "yaxis": "y37"
        },
        {
         "alignmentgroup": "True",
         "bingroup": "x",
         "histfunc": "sum",
         "hovertemplate": "road_user_type=private_van<br>from_section=NORTH<br>to_section=EAST<br>time_interval=%{x}<br>sum of difference=%{y}<extra></extra>",
         "legendgroup": "private_van",
         "marker": {
          "color": "#636efa",
          "pattern": {
           "shape": ""
          }
         },
         "name": "private_van",
         "nbinsx": 12,
         "offsetgroup": "private_van",
         "orientation": "v",
         "showlegend": false,
         "type": "histogram",
         "x": [
          "2023-03-28T07:00:00",
          "2023-03-28T07:05:00",
          "2023-03-28T07:10:00",
          "2023-03-28T07:15:00",
          "2023-03-28T07:20:00",
          "2023-03-28T07:25:00",
          "2023-03-28T07:30:00",
          "2023-03-28T07:35:00",
          "2023-03-28T07:40:00",
          "2023-03-28T07:45:00",
          "2023-03-28T07:50:00",
          "2023-03-28T07:55:00"
         ],
         "xaxis": "x38",
         "y": [
          0,
          0,
          0,
          0,
          0,
          0,
          0,
          0,
          0,
          0,
          0,
          0
         ],
         "yaxis": "y38"
        },
        {
         "alignmentgroup": "True",
         "bingroup": "x",
         "histfunc": "sum",
         "hovertemplate": "road_user_type=private_van<br>from_section=NORTH<br>to_section=NORTH<br>time_interval=%{x}<br>sum of difference=%{y}<extra></extra>",
         "legendgroup": "private_van",
         "marker": {
          "color": "#636efa",
          "pattern": {
           "shape": ""
          }
         },
         "name": "private_van",
         "nbinsx": 12,
         "offsetgroup": "private_van",
         "orientation": "v",
         "showlegend": false,
         "type": "histogram",
         "x": [
          "2023-03-28T07:00:00",
          "2023-03-28T07:05:00",
          "2023-03-28T07:10:00",
          "2023-03-28T07:15:00",
          "2023-03-28T07:20:00",
          "2023-03-28T07:25:00",
          "2023-03-28T07:30:00",
          "2023-03-28T07:35:00",
          "2023-03-28T07:40:00",
          "2023-03-28T07:45:00",
          "2023-03-28T07:50:00",
          "2023-03-28T07:55:00"
         ],
         "xaxis": "x40",
         "y": [
          0,
          0,
          0,
          0,
          0,
          0,
          0,
          0,
          0,
          0,
          0,
          1
         ],
         "yaxis": "y40"
        },
        {
         "alignmentgroup": "True",
         "bingroup": "x",
         "histfunc": "sum",
         "hovertemplate": "road_user_type=private_van<br>from_section=NORTH<br>to_section=PED_BIKE_SOUTH<br>time_interval=%{x}<br>sum of difference=%{y}<extra></extra>",
         "legendgroup": "private_van",
         "marker": {
          "color": "#636efa",
          "pattern": {
           "shape": ""
          }
         },
         "name": "private_van",
         "nbinsx": 12,
         "offsetgroup": "private_van",
         "orientation": "v",
         "showlegend": false,
         "type": "histogram",
         "x": [
          "2023-03-28T07:00:00",
          "2023-03-28T07:05:00",
          "2023-03-28T07:10:00",
          "2023-03-28T07:15:00",
          "2023-03-28T07:20:00",
          "2023-03-28T07:25:00",
          "2023-03-28T07:30:00",
          "2023-03-28T07:35:00",
          "2023-03-28T07:40:00",
          "2023-03-28T07:45:00",
          "2023-03-28T07:50:00",
          "2023-03-28T07:55:00"
         ],
         "xaxis": "x41",
         "y": [
          0,
          0,
          0,
          0,
          0,
          0,
          0,
          0,
          0,
          0,
          0,
          0
         ],
         "yaxis": "y41"
        },
        {
         "alignmentgroup": "True",
         "bingroup": "x",
         "histfunc": "sum",
         "hovertemplate": "road_user_type=private_van<br>from_section=NORTH<br>to_section=PED_BIKE_NORTH<br>time_interval=%{x}<br>sum of difference=%{y}<extra></extra>",
         "legendgroup": "private_van",
         "marker": {
          "color": "#636efa",
          "pattern": {
           "shape": ""
          }
         },
         "name": "private_van",
         "nbinsx": 12,
         "offsetgroup": "private_van",
         "orientation": "v",
         "showlegend": false,
         "type": "histogram",
         "x": [
          "2023-03-28T07:00:00",
          "2023-03-28T07:05:00",
          "2023-03-28T07:10:00",
          "2023-03-28T07:15:00",
          "2023-03-28T07:20:00",
          "2023-03-28T07:25:00",
          "2023-03-28T07:30:00",
          "2023-03-28T07:35:00",
          "2023-03-28T07:40:00",
          "2023-03-28T07:45:00",
          "2023-03-28T07:50:00",
          "2023-03-28T07:55:00"
         ],
         "xaxis": "x42",
         "y": [
          0,
          0,
          0,
          0,
          0,
          0,
          0,
          0,
          0,
          0,
          0,
          0
         ],
         "yaxis": "y42"
        },
        {
         "alignmentgroup": "True",
         "bingroup": "x",
         "histfunc": "sum",
         "hovertemplate": "road_user_type=private_van<br>from_section=SOUTH<br>to_section=SOUTH<br>time_interval=%{x}<br>sum of difference=%{y}<extra></extra>",
         "legendgroup": "private_van",
         "marker": {
          "color": "#636efa",
          "pattern": {
           "shape": ""
          }
         },
         "name": "private_van",
         "nbinsx": 12,
         "offsetgroup": "private_van",
         "orientation": "v",
         "showlegend": false,
         "type": "histogram",
         "x": [
          "2023-03-28T07:00:00",
          "2023-03-28T07:05:00",
          "2023-03-28T07:10:00",
          "2023-03-28T07:15:00",
          "2023-03-28T07:20:00",
          "2023-03-28T07:25:00",
          "2023-03-28T07:30:00",
          "2023-03-28T07:35:00",
          "2023-03-28T07:40:00",
          "2023-03-28T07:45:00",
          "2023-03-28T07:50:00",
          "2023-03-28T07:55:00"
         ],
         "xaxis": "x22",
         "y": [
          0,
          0,
          0,
          0,
          1,
          0,
          0,
          0,
          0,
          1,
          0,
          0
         ],
         "yaxis": "y22"
        },
        {
         "alignmentgroup": "True",
         "bingroup": "x",
         "histfunc": "sum",
         "hovertemplate": "road_user_type=private_van<br>from_section=SOUTH<br>to_section=WEST<br>time_interval=%{x}<br>sum of difference=%{y}<extra></extra>",
         "legendgroup": "private_van",
         "marker": {
          "color": "#636efa",
          "pattern": {
           "shape": ""
          }
         },
         "name": "private_van",
         "nbinsx": 12,
         "offsetgroup": "private_van",
         "orientation": "v",
         "showlegend": false,
         "type": "histogram",
         "x": [
          "2023-03-28T07:00:00",
          "2023-03-28T07:05:00",
          "2023-03-28T07:10:00",
          "2023-03-28T07:15:00",
          "2023-03-28T07:20:00",
          "2023-03-28T07:25:00",
          "2023-03-28T07:30:00",
          "2023-03-28T07:35:00",
          "2023-03-28T07:40:00",
          "2023-03-28T07:45:00",
          "2023-03-28T07:50:00",
          "2023-03-28T07:55:00"
         ],
         "xaxis": "x23",
         "y": [
          0,
          0,
          0,
          0,
          0,
          0,
          0,
          0,
          0,
          0,
          0,
          0
         ],
         "yaxis": "y23"
        },
        {
         "alignmentgroup": "True",
         "bingroup": "x",
         "histfunc": "sum",
         "hovertemplate": "road_user_type=private_van<br>from_section=SOUTH<br>to_section=EAST<br>time_interval=%{x}<br>sum of difference=%{y}<extra></extra>",
         "legendgroup": "private_van",
         "marker": {
          "color": "#636efa",
          "pattern": {
           "shape": ""
          }
         },
         "name": "private_van",
         "nbinsx": 12,
         "offsetgroup": "private_van",
         "orientation": "v",
         "showlegend": false,
         "type": "histogram",
         "x": [
          "2023-03-28T07:00:00",
          "2023-03-28T07:05:00",
          "2023-03-28T07:10:00",
          "2023-03-28T07:15:00",
          "2023-03-28T07:20:00",
          "2023-03-28T07:25:00",
          "2023-03-28T07:30:00",
          "2023-03-28T07:35:00",
          "2023-03-28T07:40:00",
          "2023-03-28T07:45:00",
          "2023-03-28T07:50:00",
          "2023-03-28T07:55:00"
         ],
         "xaxis": "x24",
         "y": [
          0,
          0,
          0,
          0,
          0,
          0,
          0,
          0,
          1,
          0,
          0,
          0
         ],
         "yaxis": "y24"
        },
        {
         "alignmentgroup": "True",
         "bingroup": "x",
         "histfunc": "sum",
         "hovertemplate": "road_user_type=private_van<br>from_section=SOUTH<br>to_section=NORTH<br>time_interval=%{x}<br>sum of difference=%{y}<extra></extra>",
         "legendgroup": "private_van",
         "marker": {
          "color": "#636efa",
          "pattern": {
           "shape": ""
          }
         },
         "name": "private_van",
         "nbinsx": 12,
         "offsetgroup": "private_van",
         "orientation": "v",
         "showlegend": false,
         "type": "histogram",
         "x": [
          "2023-03-28T07:00:00",
          "2023-03-28T07:05:00",
          "2023-03-28T07:10:00",
          "2023-03-28T07:15:00",
          "2023-03-28T07:20:00",
          "2023-03-28T07:25:00",
          "2023-03-28T07:30:00",
          "2023-03-28T07:35:00",
          "2023-03-28T07:40:00",
          "2023-03-28T07:45:00",
          "2023-03-28T07:50:00",
          "2023-03-28T07:55:00"
         ],
         "xaxis": "x26",
         "y": [
          1,
          4,
          5,
          2,
          2,
          2,
          2,
          3,
          2,
          2,
          0,
          3
         ],
         "yaxis": "y26"
        },
        {
         "alignmentgroup": "True",
         "bingroup": "x",
         "histfunc": "sum",
         "hovertemplate": "road_user_type=private_van<br>from_section=SOUTH<br>to_section=PED_BIKE_SOUTH<br>time_interval=%{x}<br>sum of difference=%{y}<extra></extra>",
         "legendgroup": "private_van",
         "marker": {
          "color": "#636efa",
          "pattern": {
           "shape": ""
          }
         },
         "name": "private_van",
         "nbinsx": 12,
         "offsetgroup": "private_van",
         "orientation": "v",
         "showlegend": false,
         "type": "histogram",
         "x": [
          "2023-03-28T07:00:00",
          "2023-03-28T07:05:00",
          "2023-03-28T07:10:00",
          "2023-03-28T07:15:00",
          "2023-03-28T07:20:00",
          "2023-03-28T07:25:00",
          "2023-03-28T07:30:00",
          "2023-03-28T07:35:00",
          "2023-03-28T07:40:00",
          "2023-03-28T07:45:00",
          "2023-03-28T07:50:00",
          "2023-03-28T07:55:00"
         ],
         "xaxis": "x27",
         "y": [
          0,
          0,
          0,
          0,
          0,
          0,
          0,
          0,
          0,
          0,
          0,
          0
         ],
         "yaxis": "y27"
        },
        {
         "alignmentgroup": "True",
         "bingroup": "x",
         "histfunc": "sum",
         "hovertemplate": "road_user_type=private_van<br>from_section=SOUTH<br>to_section=PED_BIKE_NORTH<br>time_interval=%{x}<br>sum of difference=%{y}<extra></extra>",
         "legendgroup": "private_van",
         "marker": {
          "color": "#636efa",
          "pattern": {
           "shape": ""
          }
         },
         "name": "private_van",
         "nbinsx": 12,
         "offsetgroup": "private_van",
         "orientation": "v",
         "showlegend": false,
         "type": "histogram",
         "x": [
          "2023-03-28T07:00:00",
          "2023-03-28T07:05:00",
          "2023-03-28T07:10:00",
          "2023-03-28T07:15:00",
          "2023-03-28T07:20:00",
          "2023-03-28T07:25:00",
          "2023-03-28T07:30:00",
          "2023-03-28T07:35:00",
          "2023-03-28T07:40:00",
          "2023-03-28T07:45:00",
          "2023-03-28T07:50:00",
          "2023-03-28T07:55:00"
         ],
         "xaxis": "x28",
         "y": [
          0,
          0,
          0,
          0,
          0,
          0,
          0,
          0,
          0,
          0,
          0,
          0
         ],
         "yaxis": "y28"
        },
        {
         "alignmentgroup": "True",
         "bingroup": "x",
         "histfunc": "sum",
         "hovertemplate": "road_user_type=private_van<br>from_section=WEST<br>to_section=SOUTH<br>time_interval=%{x}<br>sum of difference=%{y}<extra></extra>",
         "legendgroup": "private_van",
         "marker": {
          "color": "#636efa",
          "pattern": {
           "shape": ""
          }
         },
         "name": "private_van",
         "nbinsx": 12,
         "offsetgroup": "private_van",
         "orientation": "v",
         "showlegend": false,
         "type": "histogram",
         "x": [
          "2023-03-28T07:00:00",
          "2023-03-28T07:05:00",
          "2023-03-28T07:10:00",
          "2023-03-28T07:15:00",
          "2023-03-28T07:20:00",
          "2023-03-28T07:25:00",
          "2023-03-28T07:30:00",
          "2023-03-28T07:35:00",
          "2023-03-28T07:40:00",
          "2023-03-28T07:45:00",
          "2023-03-28T07:50:00",
          "2023-03-28T07:55:00"
         ],
         "xaxis": "x15",
         "y": [
          0,
          0,
          0,
          0,
          0,
          0,
          0,
          0,
          0,
          0,
          0,
          0
         ],
         "yaxis": "y15"
        },
        {
         "alignmentgroup": "True",
         "bingroup": "x",
         "histfunc": "sum",
         "hovertemplate": "road_user_type=private_van<br>from_section=WEST<br>to_section=WEST<br>time_interval=%{x}<br>sum of difference=%{y}<extra></extra>",
         "legendgroup": "private_van",
         "marker": {
          "color": "#636efa",
          "pattern": {
           "shape": ""
          }
         },
         "name": "private_van",
         "nbinsx": 12,
         "offsetgroup": "private_van",
         "orientation": "v",
         "showlegend": false,
         "type": "histogram",
         "x": [
          "2023-03-28T07:00:00",
          "2023-03-28T07:05:00",
          "2023-03-28T07:10:00",
          "2023-03-28T07:15:00",
          "2023-03-28T07:20:00",
          "2023-03-28T07:25:00",
          "2023-03-28T07:30:00",
          "2023-03-28T07:35:00",
          "2023-03-28T07:40:00",
          "2023-03-28T07:45:00",
          "2023-03-28T07:50:00",
          "2023-03-28T07:55:00"
         ],
         "xaxis": "x16",
         "y": [
          0,
          0,
          0,
          0,
          0,
          0,
          0,
          0,
          0,
          0,
          0,
          0
         ],
         "yaxis": "y16"
        },
        {
         "alignmentgroup": "True",
         "bingroup": "x",
         "histfunc": "sum",
         "hovertemplate": "road_user_type=private_van<br>from_section=WEST<br>to_section=EAST<br>time_interval=%{x}<br>sum of difference=%{y}<extra></extra>",
         "legendgroup": "private_van",
         "marker": {
          "color": "#636efa",
          "pattern": {
           "shape": ""
          }
         },
         "name": "private_van",
         "nbinsx": 12,
         "offsetgroup": "private_van",
         "orientation": "v",
         "showlegend": false,
         "type": "histogram",
         "x": [
          "2023-03-28T07:00:00",
          "2023-03-28T07:05:00",
          "2023-03-28T07:10:00",
          "2023-03-28T07:15:00",
          "2023-03-28T07:20:00",
          "2023-03-28T07:25:00",
          "2023-03-28T07:30:00",
          "2023-03-28T07:35:00",
          "2023-03-28T07:40:00",
          "2023-03-28T07:45:00",
          "2023-03-28T07:50:00",
          "2023-03-28T07:55:00"
         ],
         "xaxis": "x17",
         "y": [
          0,
          0,
          0,
          0,
          0,
          0,
          0,
          0,
          0,
          0,
          0,
          0
         ],
         "yaxis": "y17"
        },
        {
         "alignmentgroup": "True",
         "bingroup": "x",
         "histfunc": "sum",
         "hovertemplate": "road_user_type=private_van<br>from_section=WEST<br>to_section=NORTH<br>time_interval=%{x}<br>sum of difference=%{y}<extra></extra>",
         "legendgroup": "private_van",
         "marker": {
          "color": "#636efa",
          "pattern": {
           "shape": ""
          }
         },
         "name": "private_van",
         "nbinsx": 12,
         "offsetgroup": "private_van",
         "orientation": "v",
         "showlegend": false,
         "type": "histogram",
         "x": [
          "2023-03-28T07:00:00",
          "2023-03-28T07:05:00",
          "2023-03-28T07:10:00",
          "2023-03-28T07:15:00",
          "2023-03-28T07:20:00",
          "2023-03-28T07:25:00",
          "2023-03-28T07:30:00",
          "2023-03-28T07:35:00",
          "2023-03-28T07:40:00",
          "2023-03-28T07:45:00",
          "2023-03-28T07:50:00",
          "2023-03-28T07:55:00"
         ],
         "xaxis": "x19",
         "y": [
          0,
          0,
          0,
          0,
          0,
          0,
          0,
          0,
          0,
          0,
          0,
          1
         ],
         "yaxis": "y19"
        },
        {
         "alignmentgroup": "True",
         "bingroup": "x",
         "histfunc": "sum",
         "hovertemplate": "road_user_type=private_van<br>from_section=WEST<br>to_section=PED_BIKE_SOUTH<br>time_interval=%{x}<br>sum of difference=%{y}<extra></extra>",
         "legendgroup": "private_van",
         "marker": {
          "color": "#636efa",
          "pattern": {
           "shape": ""
          }
         },
         "name": "private_van",
         "nbinsx": 12,
         "offsetgroup": "private_van",
         "orientation": "v",
         "showlegend": false,
         "type": "histogram",
         "x": [
          "2023-03-28T07:00:00",
          "2023-03-28T07:05:00",
          "2023-03-28T07:10:00",
          "2023-03-28T07:15:00",
          "2023-03-28T07:20:00",
          "2023-03-28T07:25:00",
          "2023-03-28T07:30:00",
          "2023-03-28T07:35:00",
          "2023-03-28T07:40:00",
          "2023-03-28T07:45:00",
          "2023-03-28T07:50:00",
          "2023-03-28T07:55:00"
         ],
         "xaxis": "x20",
         "y": [
          0,
          0,
          0,
          0,
          0,
          0,
          0,
          0,
          0,
          0,
          0,
          0
         ],
         "yaxis": "y20"
        },
        {
         "alignmentgroup": "True",
         "bingroup": "x",
         "histfunc": "sum",
         "hovertemplate": "road_user_type=private_van<br>from_section=WEST<br>to_section=PED_BIKE_NORTH<br>time_interval=%{x}<br>sum of difference=%{y}<extra></extra>",
         "legendgroup": "private_van",
         "marker": {
          "color": "#636efa",
          "pattern": {
           "shape": ""
          }
         },
         "name": "private_van",
         "nbinsx": 12,
         "offsetgroup": "private_van",
         "orientation": "v",
         "showlegend": false,
         "type": "histogram",
         "x": [
          "2023-03-28T07:00:00",
          "2023-03-28T07:05:00",
          "2023-03-28T07:10:00",
          "2023-03-28T07:15:00",
          "2023-03-28T07:20:00",
          "2023-03-28T07:25:00",
          "2023-03-28T07:30:00",
          "2023-03-28T07:35:00",
          "2023-03-28T07:40:00",
          "2023-03-28T07:45:00",
          "2023-03-28T07:50:00",
          "2023-03-28T07:55:00"
         ],
         "xaxis": "x21",
         "y": [
          0,
          0,
          0,
          0,
          0,
          0,
          0,
          0,
          0,
          0,
          0,
          0
         ],
         "yaxis": "y21"
        },
        {
         "alignmentgroup": "True",
         "bingroup": "x",
         "histfunc": "sum",
         "hovertemplate": "road_user_type=private_van<br>from_section=PED_BIKE_SOUTH<br>to_section=SOUTH<br>time_interval=%{x}<br>sum of difference=%{y}<extra></extra>",
         "legendgroup": "private_van",
         "marker": {
          "color": "#636efa",
          "pattern": {
           "shape": ""
          }
         },
         "name": "private_van",
         "nbinsx": 12,
         "offsetgroup": "private_van",
         "orientation": "v",
         "showlegend": false,
         "type": "histogram",
         "x": [
          "2023-03-28T07:00:00",
          "2023-03-28T07:05:00",
          "2023-03-28T07:10:00",
          "2023-03-28T07:15:00",
          "2023-03-28T07:20:00",
          "2023-03-28T07:25:00",
          "2023-03-28T07:30:00",
          "2023-03-28T07:35:00",
          "2023-03-28T07:40:00",
          "2023-03-28T07:45:00",
          "2023-03-28T07:50:00",
          "2023-03-28T07:55:00"
         ],
         "xaxis": "x8",
         "y": [
          0,
          0,
          0,
          0,
          0,
          0,
          0,
          0,
          0,
          0,
          0,
          0
         ],
         "yaxis": "y8"
        },
        {
         "alignmentgroup": "True",
         "bingroup": "x",
         "histfunc": "sum",
         "hovertemplate": "road_user_type=private_van<br>from_section=PED_BIKE_SOUTH<br>to_section=WEST<br>time_interval=%{x}<br>sum of difference=%{y}<extra></extra>",
         "legendgroup": "private_van",
         "marker": {
          "color": "#636efa",
          "pattern": {
           "shape": ""
          }
         },
         "name": "private_van",
         "nbinsx": 12,
         "offsetgroup": "private_van",
         "orientation": "v",
         "showlegend": false,
         "type": "histogram",
         "x": [
          "2023-03-28T07:00:00",
          "2023-03-28T07:05:00",
          "2023-03-28T07:10:00",
          "2023-03-28T07:15:00",
          "2023-03-28T07:20:00",
          "2023-03-28T07:25:00",
          "2023-03-28T07:30:00",
          "2023-03-28T07:35:00",
          "2023-03-28T07:40:00",
          "2023-03-28T07:45:00",
          "2023-03-28T07:50:00",
          "2023-03-28T07:55:00"
         ],
         "xaxis": "x9",
         "y": [
          0,
          0,
          0,
          0,
          0,
          0,
          0,
          0,
          0,
          0,
          0,
          0
         ],
         "yaxis": "y9"
        },
        {
         "alignmentgroup": "True",
         "bingroup": "x",
         "histfunc": "sum",
         "hovertemplate": "road_user_type=private_van<br>from_section=PED_BIKE_SOUTH<br>to_section=EAST<br>time_interval=%{x}<br>sum of difference=%{y}<extra></extra>",
         "legendgroup": "private_van",
         "marker": {
          "color": "#636efa",
          "pattern": {
           "shape": ""
          }
         },
         "name": "private_van",
         "nbinsx": 12,
         "offsetgroup": "private_van",
         "orientation": "v",
         "showlegend": false,
         "type": "histogram",
         "x": [
          "2023-03-28T07:00:00",
          "2023-03-28T07:05:00",
          "2023-03-28T07:10:00",
          "2023-03-28T07:15:00",
          "2023-03-28T07:20:00",
          "2023-03-28T07:25:00",
          "2023-03-28T07:30:00",
          "2023-03-28T07:35:00",
          "2023-03-28T07:40:00",
          "2023-03-28T07:45:00",
          "2023-03-28T07:50:00",
          "2023-03-28T07:55:00"
         ],
         "xaxis": "x10",
         "y": [
          0,
          0,
          0,
          0,
          0,
          0,
          0,
          0,
          0,
          0,
          0,
          0
         ],
         "yaxis": "y10"
        },
        {
         "alignmentgroup": "True",
         "bingroup": "x",
         "histfunc": "sum",
         "hovertemplate": "road_user_type=private_van<br>from_section=PED_BIKE_SOUTH<br>to_section=NORTH<br>time_interval=%{x}<br>sum of difference=%{y}<extra></extra>",
         "legendgroup": "private_van",
         "marker": {
          "color": "#636efa",
          "pattern": {
           "shape": ""
          }
         },
         "name": "private_van",
         "nbinsx": 12,
         "offsetgroup": "private_van",
         "orientation": "v",
         "showlegend": false,
         "type": "histogram",
         "x": [
          "2023-03-28T07:00:00",
          "2023-03-28T07:05:00",
          "2023-03-28T07:10:00",
          "2023-03-28T07:15:00",
          "2023-03-28T07:20:00",
          "2023-03-28T07:25:00",
          "2023-03-28T07:30:00",
          "2023-03-28T07:35:00",
          "2023-03-28T07:40:00",
          "2023-03-28T07:45:00",
          "2023-03-28T07:50:00",
          "2023-03-28T07:55:00"
         ],
         "xaxis": "x12",
         "y": [
          0,
          0,
          0,
          0,
          0,
          0,
          0,
          0,
          0,
          0,
          0,
          0
         ],
         "yaxis": "y12"
        },
        {
         "alignmentgroup": "True",
         "bingroup": "x",
         "histfunc": "sum",
         "hovertemplate": "road_user_type=private_van<br>from_section=PED_BIKE_SOUTH<br>to_section=PED_BIKE_SOUTH<br>time_interval=%{x}<br>sum of difference=%{y}<extra></extra>",
         "legendgroup": "private_van",
         "marker": {
          "color": "#636efa",
          "pattern": {
           "shape": ""
          }
         },
         "name": "private_van",
         "nbinsx": 12,
         "offsetgroup": "private_van",
         "orientation": "v",
         "showlegend": false,
         "type": "histogram",
         "x": [
          "2023-03-28T07:00:00",
          "2023-03-28T07:05:00",
          "2023-03-28T07:10:00",
          "2023-03-28T07:15:00",
          "2023-03-28T07:20:00",
          "2023-03-28T07:25:00",
          "2023-03-28T07:30:00",
          "2023-03-28T07:35:00",
          "2023-03-28T07:40:00",
          "2023-03-28T07:45:00",
          "2023-03-28T07:50:00",
          "2023-03-28T07:55:00"
         ],
         "xaxis": "x13",
         "y": [
          0,
          0,
          0,
          0,
          0,
          0,
          0,
          0,
          0,
          0,
          0,
          0
         ],
         "yaxis": "y13"
        },
        {
         "alignmentgroup": "True",
         "bingroup": "x",
         "histfunc": "sum",
         "hovertemplate": "road_user_type=private_van<br>from_section=PED_BIKE_SOUTH<br>to_section=PED_BIKE_NORTH<br>time_interval=%{x}<br>sum of difference=%{y}<extra></extra>",
         "legendgroup": "private_van",
         "marker": {
          "color": "#636efa",
          "pattern": {
           "shape": ""
          }
         },
         "name": "private_van",
         "nbinsx": 12,
         "offsetgroup": "private_van",
         "orientation": "v",
         "showlegend": false,
         "type": "histogram",
         "x": [
          "2023-03-28T07:00:00",
          "2023-03-28T07:05:00",
          "2023-03-28T07:10:00",
          "2023-03-28T07:15:00",
          "2023-03-28T07:20:00",
          "2023-03-28T07:25:00",
          "2023-03-28T07:30:00",
          "2023-03-28T07:35:00",
          "2023-03-28T07:40:00",
          "2023-03-28T07:45:00",
          "2023-03-28T07:50:00",
          "2023-03-28T07:55:00"
         ],
         "xaxis": "x14",
         "y": [
          0,
          0,
          0,
          0,
          0,
          0,
          0,
          0,
          0,
          0,
          0,
          0
         ],
         "yaxis": "y14"
        },
        {
         "alignmentgroup": "True",
         "bingroup": "x",
         "histfunc": "sum",
         "hovertemplate": "road_user_type=private_van<br>from_section=PED_BIKE_NORTH<br>to_section=SOUTH<br>time_interval=%{x}<br>sum of difference=%{y}<extra></extra>",
         "legendgroup": "private_van",
         "marker": {
          "color": "#636efa",
          "pattern": {
           "shape": ""
          }
         },
         "name": "private_van",
         "nbinsx": 12,
         "offsetgroup": "private_van",
         "orientation": "v",
         "showlegend": false,
         "type": "histogram",
         "x": [
          "2023-03-28T07:00:00",
          "2023-03-28T07:05:00",
          "2023-03-28T07:10:00",
          "2023-03-28T07:15:00",
          "2023-03-28T07:20:00",
          "2023-03-28T07:25:00",
          "2023-03-28T07:30:00",
          "2023-03-28T07:35:00",
          "2023-03-28T07:40:00",
          "2023-03-28T07:45:00",
          "2023-03-28T07:50:00",
          "2023-03-28T07:55:00"
         ],
         "xaxis": "x",
         "y": [
          0,
          0,
          0,
          0,
          0,
          0,
          0,
          0,
          0,
          0,
          0,
          0
         ],
         "yaxis": "y"
        },
        {
         "alignmentgroup": "True",
         "bingroup": "x",
         "histfunc": "sum",
         "hovertemplate": "road_user_type=private_van<br>from_section=PED_BIKE_NORTH<br>to_section=WEST<br>time_interval=%{x}<br>sum of difference=%{y}<extra></extra>",
         "legendgroup": "private_van",
         "marker": {
          "color": "#636efa",
          "pattern": {
           "shape": ""
          }
         },
         "name": "private_van",
         "nbinsx": 12,
         "offsetgroup": "private_van",
         "orientation": "v",
         "showlegend": false,
         "type": "histogram",
         "x": [
          "2023-03-28T07:00:00",
          "2023-03-28T07:05:00",
          "2023-03-28T07:10:00",
          "2023-03-28T07:15:00",
          "2023-03-28T07:20:00",
          "2023-03-28T07:25:00",
          "2023-03-28T07:30:00",
          "2023-03-28T07:35:00",
          "2023-03-28T07:40:00",
          "2023-03-28T07:45:00",
          "2023-03-28T07:50:00",
          "2023-03-28T07:55:00"
         ],
         "xaxis": "x2",
         "y": [
          0,
          0,
          0,
          0,
          0,
          0,
          0,
          0,
          0,
          0,
          0,
          0
         ],
         "yaxis": "y2"
        },
        {
         "alignmentgroup": "True",
         "bingroup": "x",
         "histfunc": "sum",
         "hovertemplate": "road_user_type=private_van<br>from_section=PED_BIKE_NORTH<br>to_section=EAST<br>time_interval=%{x}<br>sum of difference=%{y}<extra></extra>",
         "legendgroup": "private_van",
         "marker": {
          "color": "#636efa",
          "pattern": {
           "shape": ""
          }
         },
         "name": "private_van",
         "nbinsx": 12,
         "offsetgroup": "private_van",
         "orientation": "v",
         "showlegend": false,
         "type": "histogram",
         "x": [
          "2023-03-28T07:00:00",
          "2023-03-28T07:05:00",
          "2023-03-28T07:10:00",
          "2023-03-28T07:15:00",
          "2023-03-28T07:20:00",
          "2023-03-28T07:25:00",
          "2023-03-28T07:30:00",
          "2023-03-28T07:35:00",
          "2023-03-28T07:40:00",
          "2023-03-28T07:45:00",
          "2023-03-28T07:50:00",
          "2023-03-28T07:55:00"
         ],
         "xaxis": "x3",
         "y": [
          0,
          0,
          0,
          0,
          0,
          0,
          0,
          0,
          0,
          0,
          0,
          0
         ],
         "yaxis": "y3"
        },
        {
         "alignmentgroup": "True",
         "bingroup": "x",
         "histfunc": "sum",
         "hovertemplate": "road_user_type=private_van<br>from_section=PED_BIKE_NORTH<br>to_section=NORTH<br>time_interval=%{x}<br>sum of difference=%{y}<extra></extra>",
         "legendgroup": "private_van",
         "marker": {
          "color": "#636efa",
          "pattern": {
           "shape": ""
          }
         },
         "name": "private_van",
         "nbinsx": 12,
         "offsetgroup": "private_van",
         "orientation": "v",
         "showlegend": false,
         "type": "histogram",
         "x": [
          "2023-03-28T07:00:00",
          "2023-03-28T07:05:00",
          "2023-03-28T07:10:00",
          "2023-03-28T07:15:00",
          "2023-03-28T07:20:00",
          "2023-03-28T07:25:00",
          "2023-03-28T07:30:00",
          "2023-03-28T07:35:00",
          "2023-03-28T07:40:00",
          "2023-03-28T07:45:00",
          "2023-03-28T07:50:00",
          "2023-03-28T07:55:00"
         ],
         "xaxis": "x5",
         "y": [
          0,
          0,
          0,
          0,
          0,
          0,
          0,
          0,
          0,
          0,
          0,
          0
         ],
         "yaxis": "y5"
        },
        {
         "alignmentgroup": "True",
         "bingroup": "x",
         "histfunc": "sum",
         "hovertemplate": "road_user_type=private_van<br>from_section=PED_BIKE_NORTH<br>to_section=PED_BIKE_SOUTH<br>time_interval=%{x}<br>sum of difference=%{y}<extra></extra>",
         "legendgroup": "private_van",
         "marker": {
          "color": "#636efa",
          "pattern": {
           "shape": ""
          }
         },
         "name": "private_van",
         "nbinsx": 12,
         "offsetgroup": "private_van",
         "orientation": "v",
         "showlegend": false,
         "type": "histogram",
         "x": [
          "2023-03-28T07:00:00",
          "2023-03-28T07:05:00",
          "2023-03-28T07:10:00",
          "2023-03-28T07:15:00",
          "2023-03-28T07:20:00",
          "2023-03-28T07:25:00",
          "2023-03-28T07:30:00",
          "2023-03-28T07:35:00",
          "2023-03-28T07:40:00",
          "2023-03-28T07:45:00",
          "2023-03-28T07:50:00",
          "2023-03-28T07:55:00"
         ],
         "xaxis": "x6",
         "y": [
          0,
          0,
          0,
          0,
          0,
          0,
          0,
          0,
          0,
          0,
          0,
          0
         ],
         "yaxis": "y6"
        },
        {
         "alignmentgroup": "True",
         "bingroup": "x",
         "histfunc": "sum",
         "hovertemplate": "road_user_type=private_van<br>from_section=PED_BIKE_NORTH<br>to_section=PED_BIKE_NORTH<br>time_interval=%{x}<br>sum of difference=%{y}<extra></extra>",
         "legendgroup": "private_van",
         "marker": {
          "color": "#636efa",
          "pattern": {
           "shape": ""
          }
         },
         "name": "private_van",
         "nbinsx": 12,
         "offsetgroup": "private_van",
         "orientation": "v",
         "showlegend": false,
         "type": "histogram",
         "x": [
          "2023-03-28T07:00:00",
          "2023-03-28T07:05:00",
          "2023-03-28T07:10:00",
          "2023-03-28T07:15:00",
          "2023-03-28T07:20:00",
          "2023-03-28T07:25:00",
          "2023-03-28T07:30:00",
          "2023-03-28T07:35:00",
          "2023-03-28T07:40:00",
          "2023-03-28T07:45:00",
          "2023-03-28T07:50:00",
          "2023-03-28T07:55:00"
         ],
         "xaxis": "x7",
         "y": [
          0,
          0,
          0,
          0,
          0,
          0,
          0,
          0,
          0,
          0,
          0,
          0
         ],
         "yaxis": "y7"
        }
       ],
       "layout": {
        "annotations": [
         {
          "font": {},
          "showarrow": false,
          "text": "to_section=SOUTH",
          "x": 0.06142857142857142,
          "xanchor": "center",
          "xref": "paper",
          "y": 0.9999999999999999,
          "yanchor": "bottom",
          "yref": "paper"
         },
         {
          "font": {},
          "showarrow": false,
          "text": "to_section=WEST",
          "x": 0.20428571428571426,
          "xanchor": "center",
          "xref": "paper",
          "y": 0.9999999999999999,
          "yanchor": "bottom",
          "yref": "paper"
         },
         {
          "font": {},
          "showarrow": false,
          "text": "to_section=EAST",
          "x": 0.3471428571428571,
          "xanchor": "center",
          "xref": "paper",
          "y": 0.9999999999999999,
          "yanchor": "bottom",
          "yref": "paper"
         },
         {
          "font": {},
          "showarrow": false,
          "text": "to_section=SIDEWALK",
          "x": 0.49,
          "xanchor": "center",
          "xref": "paper",
          "y": 0.9999999999999999,
          "yanchor": "bottom",
          "yref": "paper"
         },
         {
          "font": {},
          "showarrow": false,
          "text": "to_section=NORTH",
          "x": 0.6328571428571428,
          "xanchor": "center",
          "xref": "paper",
          "y": 0.9999999999999999,
          "yanchor": "bottom",
          "yref": "paper"
         },
         {
          "font": {},
          "showarrow": false,
          "text": "to_section=PED_BIKE_SOUTH",
          "x": 0.7757142857142856,
          "xanchor": "center",
          "xref": "paper",
          "y": 0.9999999999999999,
          "yanchor": "bottom",
          "yref": "paper"
         },
         {
          "font": {},
          "showarrow": false,
          "text": "to_section=PED_BIKE_NORTH",
          "x": 0.9185714285714286,
          "xanchor": "center",
          "xref": "paper",
          "y": 0.9999999999999999,
          "yanchor": "bottom",
          "yref": "paper"
         },
         {
          "font": {},
          "showarrow": false,
          "text": "from_section=PED_BIKE_NORTH",
          "textangle": 90,
          "x": 0.98,
          "xanchor": "left",
          "xref": "paper",
          "y": 0.05857142857142857,
          "yanchor": "middle",
          "yref": "paper"
         },
         {
          "font": {},
          "showarrow": false,
          "text": "from_section=PED_BIKE_SOUTH",
          "textangle": 90,
          "x": 0.98,
          "xanchor": "left",
          "xref": "paper",
          "y": 0.2057142857142857,
          "yanchor": "middle",
          "yref": "paper"
         },
         {
          "font": {},
          "showarrow": false,
          "text": "from_section=WEST",
          "textangle": 90,
          "x": 0.98,
          "xanchor": "left",
          "xref": "paper",
          "y": 0.35285714285714287,
          "yanchor": "middle",
          "yref": "paper"
         },
         {
          "font": {},
          "showarrow": false,
          "text": "from_section=SOUTH",
          "textangle": 90,
          "x": 0.98,
          "xanchor": "left",
          "xref": "paper",
          "y": 0.49999999999999994,
          "yanchor": "middle",
          "yref": "paper"
         },
         {
          "font": {},
          "showarrow": false,
          "text": "from_section=SIDEWALK",
          "textangle": 90,
          "x": 0.98,
          "xanchor": "left",
          "xref": "paper",
          "y": 0.647142857142857,
          "yanchor": "middle",
          "yref": "paper"
         },
         {
          "font": {},
          "showarrow": false,
          "text": "from_section=NORTH",
          "textangle": 90,
          "x": 0.98,
          "xanchor": "left",
          "xref": "paper",
          "y": 0.7942857142857143,
          "yanchor": "middle",
          "yref": "paper"
         },
         {
          "font": {},
          "showarrow": false,
          "text": "from_section=EAST",
          "textangle": 90,
          "x": 0.98,
          "xanchor": "left",
          "xref": "paper",
          "y": 0.9414285714285713,
          "yanchor": "middle",
          "yref": "paper"
         }
        ],
        "bargap": 0.1,
        "barmode": "stack",
        "height": 1000,
        "legend": {
         "title": {
          "text": "road_user_type"
         },
         "tracegroupgap": 0
        },
        "margin": {
         "t": 60
        },
        "template": {
         "data": {
          "bar": [
           {
            "error_x": {
             "color": "#2a3f5f"
            },
            "error_y": {
             "color": "#2a3f5f"
            },
            "marker": {
             "line": {
              "color": "#E5ECF6",
              "width": 0.5
             },
             "pattern": {
              "fillmode": "overlay",
              "size": 10,
              "solidity": 0.2
             }
            },
            "type": "bar"
           }
          ],
          "barpolar": [
           {
            "marker": {
             "line": {
              "color": "#E5ECF6",
              "width": 0.5
             },
             "pattern": {
              "fillmode": "overlay",
              "size": 10,
              "solidity": 0.2
             }
            },
            "type": "barpolar"
           }
          ],
          "carpet": [
           {
            "aaxis": {
             "endlinecolor": "#2a3f5f",
             "gridcolor": "white",
             "linecolor": "white",
             "minorgridcolor": "white",
             "startlinecolor": "#2a3f5f"
            },
            "baxis": {
             "endlinecolor": "#2a3f5f",
             "gridcolor": "white",
             "linecolor": "white",
             "minorgridcolor": "white",
             "startlinecolor": "#2a3f5f"
            },
            "type": "carpet"
           }
          ],
          "choropleth": [
           {
            "colorbar": {
             "outlinewidth": 0,
             "ticks": ""
            },
            "type": "choropleth"
           }
          ],
          "contour": [
           {
            "colorbar": {
             "outlinewidth": 0,
             "ticks": ""
            },
            "colorscale": [
             [
              0,
              "#0d0887"
             ],
             [
              0.1111111111111111,
              "#46039f"
             ],
             [
              0.2222222222222222,
              "#7201a8"
             ],
             [
              0.3333333333333333,
              "#9c179e"
             ],
             [
              0.4444444444444444,
              "#bd3786"
             ],
             [
              0.5555555555555556,
              "#d8576b"
             ],
             [
              0.6666666666666666,
              "#ed7953"
             ],
             [
              0.7777777777777778,
              "#fb9f3a"
             ],
             [
              0.8888888888888888,
              "#fdca26"
             ],
             [
              1,
              "#f0f921"
             ]
            ],
            "type": "contour"
           }
          ],
          "contourcarpet": [
           {
            "colorbar": {
             "outlinewidth": 0,
             "ticks": ""
            },
            "type": "contourcarpet"
           }
          ],
          "heatmap": [
           {
            "colorbar": {
             "outlinewidth": 0,
             "ticks": ""
            },
            "colorscale": [
             [
              0,
              "#0d0887"
             ],
             [
              0.1111111111111111,
              "#46039f"
             ],
             [
              0.2222222222222222,
              "#7201a8"
             ],
             [
              0.3333333333333333,
              "#9c179e"
             ],
             [
              0.4444444444444444,
              "#bd3786"
             ],
             [
              0.5555555555555556,
              "#d8576b"
             ],
             [
              0.6666666666666666,
              "#ed7953"
             ],
             [
              0.7777777777777778,
              "#fb9f3a"
             ],
             [
              0.8888888888888888,
              "#fdca26"
             ],
             [
              1,
              "#f0f921"
             ]
            ],
            "type": "heatmap"
           }
          ],
          "heatmapgl": [
           {
            "colorbar": {
             "outlinewidth": 0,
             "ticks": ""
            },
            "colorscale": [
             [
              0,
              "#0d0887"
             ],
             [
              0.1111111111111111,
              "#46039f"
             ],
             [
              0.2222222222222222,
              "#7201a8"
             ],
             [
              0.3333333333333333,
              "#9c179e"
             ],
             [
              0.4444444444444444,
              "#bd3786"
             ],
             [
              0.5555555555555556,
              "#d8576b"
             ],
             [
              0.6666666666666666,
              "#ed7953"
             ],
             [
              0.7777777777777778,
              "#fb9f3a"
             ],
             [
              0.8888888888888888,
              "#fdca26"
             ],
             [
              1,
              "#f0f921"
             ]
            ],
            "type": "heatmapgl"
           }
          ],
          "histogram": [
           {
            "marker": {
             "pattern": {
              "fillmode": "overlay",
              "size": 10,
              "solidity": 0.2
             }
            },
            "type": "histogram"
           }
          ],
          "histogram2d": [
           {
            "colorbar": {
             "outlinewidth": 0,
             "ticks": ""
            },
            "colorscale": [
             [
              0,
              "#0d0887"
             ],
             [
              0.1111111111111111,
              "#46039f"
             ],
             [
              0.2222222222222222,
              "#7201a8"
             ],
             [
              0.3333333333333333,
              "#9c179e"
             ],
             [
              0.4444444444444444,
              "#bd3786"
             ],
             [
              0.5555555555555556,
              "#d8576b"
             ],
             [
              0.6666666666666666,
              "#ed7953"
             ],
             [
              0.7777777777777778,
              "#fb9f3a"
             ],
             [
              0.8888888888888888,
              "#fdca26"
             ],
             [
              1,
              "#f0f921"
             ]
            ],
            "type": "histogram2d"
           }
          ],
          "histogram2dcontour": [
           {
            "colorbar": {
             "outlinewidth": 0,
             "ticks": ""
            },
            "colorscale": [
             [
              0,
              "#0d0887"
             ],
             [
              0.1111111111111111,
              "#46039f"
             ],
             [
              0.2222222222222222,
              "#7201a8"
             ],
             [
              0.3333333333333333,
              "#9c179e"
             ],
             [
              0.4444444444444444,
              "#bd3786"
             ],
             [
              0.5555555555555556,
              "#d8576b"
             ],
             [
              0.6666666666666666,
              "#ed7953"
             ],
             [
              0.7777777777777778,
              "#fb9f3a"
             ],
             [
              0.8888888888888888,
              "#fdca26"
             ],
             [
              1,
              "#f0f921"
             ]
            ],
            "type": "histogram2dcontour"
           }
          ],
          "mesh3d": [
           {
            "colorbar": {
             "outlinewidth": 0,
             "ticks": ""
            },
            "type": "mesh3d"
           }
          ],
          "parcoords": [
           {
            "line": {
             "colorbar": {
              "outlinewidth": 0,
              "ticks": ""
             }
            },
            "type": "parcoords"
           }
          ],
          "pie": [
           {
            "automargin": true,
            "type": "pie"
           }
          ],
          "scatter": [
           {
            "fillpattern": {
             "fillmode": "overlay",
             "size": 10,
             "solidity": 0.2
            },
            "type": "scatter"
           }
          ],
          "scatter3d": [
           {
            "line": {
             "colorbar": {
              "outlinewidth": 0,
              "ticks": ""
             }
            },
            "marker": {
             "colorbar": {
              "outlinewidth": 0,
              "ticks": ""
             }
            },
            "type": "scatter3d"
           }
          ],
          "scattercarpet": [
           {
            "marker": {
             "colorbar": {
              "outlinewidth": 0,
              "ticks": ""
             }
            },
            "type": "scattercarpet"
           }
          ],
          "scattergeo": [
           {
            "marker": {
             "colorbar": {
              "outlinewidth": 0,
              "ticks": ""
             }
            },
            "type": "scattergeo"
           }
          ],
          "scattergl": [
           {
            "marker": {
             "colorbar": {
              "outlinewidth": 0,
              "ticks": ""
             }
            },
            "type": "scattergl"
           }
          ],
          "scattermapbox": [
           {
            "marker": {
             "colorbar": {
              "outlinewidth": 0,
              "ticks": ""
             }
            },
            "type": "scattermapbox"
           }
          ],
          "scatterpolar": [
           {
            "marker": {
             "colorbar": {
              "outlinewidth": 0,
              "ticks": ""
             }
            },
            "type": "scatterpolar"
           }
          ],
          "scatterpolargl": [
           {
            "marker": {
             "colorbar": {
              "outlinewidth": 0,
              "ticks": ""
             }
            },
            "type": "scatterpolargl"
           }
          ],
          "scatterternary": [
           {
            "marker": {
             "colorbar": {
              "outlinewidth": 0,
              "ticks": ""
             }
            },
            "type": "scatterternary"
           }
          ],
          "surface": [
           {
            "colorbar": {
             "outlinewidth": 0,
             "ticks": ""
            },
            "colorscale": [
             [
              0,
              "#0d0887"
             ],
             [
              0.1111111111111111,
              "#46039f"
             ],
             [
              0.2222222222222222,
              "#7201a8"
             ],
             [
              0.3333333333333333,
              "#9c179e"
             ],
             [
              0.4444444444444444,
              "#bd3786"
             ],
             [
              0.5555555555555556,
              "#d8576b"
             ],
             [
              0.6666666666666666,
              "#ed7953"
             ],
             [
              0.7777777777777778,
              "#fb9f3a"
             ],
             [
              0.8888888888888888,
              "#fdca26"
             ],
             [
              1,
              "#f0f921"
             ]
            ],
            "type": "surface"
           }
          ],
          "table": [
           {
            "cells": {
             "fill": {
              "color": "#EBF0F8"
             },
             "line": {
              "color": "white"
             }
            },
            "header": {
             "fill": {
              "color": "#C8D4E3"
             },
             "line": {
              "color": "white"
             }
            },
            "type": "table"
           }
          ]
         },
         "layout": {
          "annotationdefaults": {
           "arrowcolor": "#2a3f5f",
           "arrowhead": 0,
           "arrowwidth": 1
          },
          "autotypenumbers": "strict",
          "coloraxis": {
           "colorbar": {
            "outlinewidth": 0,
            "ticks": ""
           }
          },
          "colorscale": {
           "diverging": [
            [
             0,
             "#8e0152"
            ],
            [
             0.1,
             "#c51b7d"
            ],
            [
             0.2,
             "#de77ae"
            ],
            [
             0.3,
             "#f1b6da"
            ],
            [
             0.4,
             "#fde0ef"
            ],
            [
             0.5,
             "#f7f7f7"
            ],
            [
             0.6,
             "#e6f5d0"
            ],
            [
             0.7,
             "#b8e186"
            ],
            [
             0.8,
             "#7fbc41"
            ],
            [
             0.9,
             "#4d9221"
            ],
            [
             1,
             "#276419"
            ]
           ],
           "sequential": [
            [
             0,
             "#0d0887"
            ],
            [
             0.1111111111111111,
             "#46039f"
            ],
            [
             0.2222222222222222,
             "#7201a8"
            ],
            [
             0.3333333333333333,
             "#9c179e"
            ],
            [
             0.4444444444444444,
             "#bd3786"
            ],
            [
             0.5555555555555556,
             "#d8576b"
            ],
            [
             0.6666666666666666,
             "#ed7953"
            ],
            [
             0.7777777777777778,
             "#fb9f3a"
            ],
            [
             0.8888888888888888,
             "#fdca26"
            ],
            [
             1,
             "#f0f921"
            ]
           ],
           "sequentialminus": [
            [
             0,
             "#0d0887"
            ],
            [
             0.1111111111111111,
             "#46039f"
            ],
            [
             0.2222222222222222,
             "#7201a8"
            ],
            [
             0.3333333333333333,
             "#9c179e"
            ],
            [
             0.4444444444444444,
             "#bd3786"
            ],
            [
             0.5555555555555556,
             "#d8576b"
            ],
            [
             0.6666666666666666,
             "#ed7953"
            ],
            [
             0.7777777777777778,
             "#fb9f3a"
            ],
            [
             0.8888888888888888,
             "#fdca26"
            ],
            [
             1,
             "#f0f921"
            ]
           ]
          },
          "colorway": [
           "#636efa",
           "#EF553B",
           "#00cc96",
           "#ab63fa",
           "#FFA15A",
           "#19d3f3",
           "#FF6692",
           "#B6E880",
           "#FF97FF",
           "#FECB52"
          ],
          "font": {
           "color": "#2a3f5f"
          },
          "geo": {
           "bgcolor": "white",
           "lakecolor": "white",
           "landcolor": "#E5ECF6",
           "showlakes": true,
           "showland": true,
           "subunitcolor": "white"
          },
          "hoverlabel": {
           "align": "left"
          },
          "hovermode": "closest",
          "mapbox": {
           "style": "light"
          },
          "paper_bgcolor": "white",
          "plot_bgcolor": "#E5ECF6",
          "polar": {
           "angularaxis": {
            "gridcolor": "white",
            "linecolor": "white",
            "ticks": ""
           },
           "bgcolor": "#E5ECF6",
           "radialaxis": {
            "gridcolor": "white",
            "linecolor": "white",
            "ticks": ""
           }
          },
          "scene": {
           "xaxis": {
            "backgroundcolor": "#E5ECF6",
            "gridcolor": "white",
            "gridwidth": 2,
            "linecolor": "white",
            "showbackground": true,
            "ticks": "",
            "zerolinecolor": "white"
           },
           "yaxis": {
            "backgroundcolor": "#E5ECF6",
            "gridcolor": "white",
            "gridwidth": 2,
            "linecolor": "white",
            "showbackground": true,
            "ticks": "",
            "zerolinecolor": "white"
           },
           "zaxis": {
            "backgroundcolor": "#E5ECF6",
            "gridcolor": "white",
            "gridwidth": 2,
            "linecolor": "white",
            "showbackground": true,
            "ticks": "",
            "zerolinecolor": "white"
           }
          },
          "shapedefaults": {
           "line": {
            "color": "#2a3f5f"
           }
          },
          "ternary": {
           "aaxis": {
            "gridcolor": "white",
            "linecolor": "white",
            "ticks": ""
           },
           "baxis": {
            "gridcolor": "white",
            "linecolor": "white",
            "ticks": ""
           },
           "bgcolor": "#E5ECF6",
           "caxis": {
            "gridcolor": "white",
            "linecolor": "white",
            "ticks": ""
           }
          },
          "title": {
           "x": 0.05
          },
          "xaxis": {
           "automargin": true,
           "gridcolor": "white",
           "linecolor": "white",
           "ticks": "",
           "title": {
            "standoff": 15
           },
           "zerolinecolor": "white",
           "zerolinewidth": 2
          },
          "yaxis": {
           "automargin": true,
           "gridcolor": "white",
           "linecolor": "white",
           "ticks": "",
           "title": {
            "standoff": 15
           },
           "zerolinecolor": "white",
           "zerolinewidth": 2
          }
         }
        },
        "xaxis": {
         "anchor": "y",
         "domain": [
          0,
          0.12285714285714285
         ],
         "title": {
          "text": "time_interval"
         }
        },
        "xaxis10": {
         "anchor": "y10",
         "domain": [
          0.2857142857142857,
          0.40857142857142853
         ],
         "matches": "x",
         "showticklabels": false
        },
        "xaxis11": {
         "anchor": "y11",
         "domain": [
          0.42857142857142855,
          0.5514285714285714
         ],
         "matches": "x",
         "showticklabels": false
        },
        "xaxis12": {
         "anchor": "y12",
         "domain": [
          0.5714285714285714,
          0.6942857142857143
         ],
         "matches": "x",
         "showticklabels": false
        },
        "xaxis13": {
         "anchor": "y13",
         "domain": [
          0.7142857142857142,
          0.8371428571428571
         ],
         "matches": "x",
         "showticklabels": false
        },
        "xaxis14": {
         "anchor": "y14",
         "domain": [
          0.8571428571428571,
          0.98
         ],
         "matches": "x",
         "showticklabels": false
        },
        "xaxis15": {
         "anchor": "y15",
         "domain": [
          0,
          0.12285714285714285
         ],
         "matches": "x",
         "showticklabels": false
        },
        "xaxis16": {
         "anchor": "y16",
         "domain": [
          0.14285714285714285,
          0.2657142857142857
         ],
         "matches": "x",
         "showticklabels": false
        },
        "xaxis17": {
         "anchor": "y17",
         "domain": [
          0.2857142857142857,
          0.40857142857142853
         ],
         "matches": "x",
         "showticklabels": false
        },
        "xaxis18": {
         "anchor": "y18",
         "domain": [
          0.42857142857142855,
          0.5514285714285714
         ],
         "matches": "x",
         "showticklabels": false
        },
        "xaxis19": {
         "anchor": "y19",
         "domain": [
          0.5714285714285714,
          0.6942857142857143
         ],
         "matches": "x",
         "showticklabels": false
        },
        "xaxis2": {
         "anchor": "y2",
         "domain": [
          0.14285714285714285,
          0.2657142857142857
         ],
         "matches": "x",
         "title": {
          "text": "time_interval"
         }
        },
        "xaxis20": {
         "anchor": "y20",
         "domain": [
          0.7142857142857142,
          0.8371428571428571
         ],
         "matches": "x",
         "showticklabels": false
        },
        "xaxis21": {
         "anchor": "y21",
         "domain": [
          0.8571428571428571,
          0.98
         ],
         "matches": "x",
         "showticklabels": false
        },
        "xaxis22": {
         "anchor": "y22",
         "domain": [
          0,
          0.12285714285714285
         ],
         "matches": "x",
         "showticklabels": false
        },
        "xaxis23": {
         "anchor": "y23",
         "domain": [
          0.14285714285714285,
          0.2657142857142857
         ],
         "matches": "x",
         "showticklabels": false
        },
        "xaxis24": {
         "anchor": "y24",
         "domain": [
          0.2857142857142857,
          0.40857142857142853
         ],
         "matches": "x",
         "showticklabels": false
        },
        "xaxis25": {
         "anchor": "y25",
         "domain": [
          0.42857142857142855,
          0.5514285714285714
         ],
         "matches": "x",
         "showticklabels": false
        },
        "xaxis26": {
         "anchor": "y26",
         "domain": [
          0.5714285714285714,
          0.6942857142857143
         ],
         "matches": "x",
         "showticklabels": false
        },
        "xaxis27": {
         "anchor": "y27",
         "domain": [
          0.7142857142857142,
          0.8371428571428571
         ],
         "matches": "x",
         "showticklabels": false
        },
        "xaxis28": {
         "anchor": "y28",
         "domain": [
          0.8571428571428571,
          0.98
         ],
         "matches": "x",
         "showticklabels": false
        },
        "xaxis29": {
         "anchor": "y29",
         "domain": [
          0,
          0.12285714285714285
         ],
         "matches": "x",
         "showticklabels": false
        },
        "xaxis3": {
         "anchor": "y3",
         "domain": [
          0.2857142857142857,
          0.40857142857142853
         ],
         "matches": "x",
         "title": {
          "text": "time_interval"
         }
        },
        "xaxis30": {
         "anchor": "y30",
         "domain": [
          0.14285714285714285,
          0.2657142857142857
         ],
         "matches": "x",
         "showticklabels": false
        },
        "xaxis31": {
         "anchor": "y31",
         "domain": [
          0.2857142857142857,
          0.40857142857142853
         ],
         "matches": "x",
         "showticklabels": false
        },
        "xaxis32": {
         "anchor": "y32",
         "domain": [
          0.42857142857142855,
          0.5514285714285714
         ],
         "matches": "x",
         "showticklabels": false
        },
        "xaxis33": {
         "anchor": "y33",
         "domain": [
          0.5714285714285714,
          0.6942857142857143
         ],
         "matches": "x",
         "showticklabels": false
        },
        "xaxis34": {
         "anchor": "y34",
         "domain": [
          0.7142857142857142,
          0.8371428571428571
         ],
         "matches": "x",
         "showticklabels": false
        },
        "xaxis35": {
         "anchor": "y35",
         "domain": [
          0.8571428571428571,
          0.98
         ],
         "matches": "x",
         "showticklabels": false
        },
        "xaxis36": {
         "anchor": "y36",
         "domain": [
          0,
          0.12285714285714285
         ],
         "matches": "x",
         "showticklabels": false
        },
        "xaxis37": {
         "anchor": "y37",
         "domain": [
          0.14285714285714285,
          0.2657142857142857
         ],
         "matches": "x",
         "showticklabels": false
        },
        "xaxis38": {
         "anchor": "y38",
         "domain": [
          0.2857142857142857,
          0.40857142857142853
         ],
         "matches": "x",
         "showticklabels": false
        },
        "xaxis39": {
         "anchor": "y39",
         "domain": [
          0.42857142857142855,
          0.5514285714285714
         ],
         "matches": "x",
         "showticklabels": false
        },
        "xaxis4": {
         "anchor": "y4",
         "domain": [
          0.42857142857142855,
          0.5514285714285714
         ],
         "matches": "x",
         "title": {
          "text": "time_interval"
         }
        },
        "xaxis40": {
         "anchor": "y40",
         "domain": [
          0.5714285714285714,
          0.6942857142857143
         ],
         "matches": "x",
         "showticklabels": false
        },
        "xaxis41": {
         "anchor": "y41",
         "domain": [
          0.7142857142857142,
          0.8371428571428571
         ],
         "matches": "x",
         "showticklabels": false
        },
        "xaxis42": {
         "anchor": "y42",
         "domain": [
          0.8571428571428571,
          0.98
         ],
         "matches": "x",
         "showticklabels": false
        },
        "xaxis43": {
         "anchor": "y43",
         "domain": [
          0,
          0.12285714285714285
         ],
         "matches": "x",
         "showticklabels": false
        },
        "xaxis44": {
         "anchor": "y44",
         "domain": [
          0.14285714285714285,
          0.2657142857142857
         ],
         "matches": "x",
         "showticklabels": false
        },
        "xaxis45": {
         "anchor": "y45",
         "domain": [
          0.2857142857142857,
          0.40857142857142853
         ],
         "matches": "x",
         "showticklabels": false
        },
        "xaxis46": {
         "anchor": "y46",
         "domain": [
          0.42857142857142855,
          0.5514285714285714
         ],
         "matches": "x",
         "showticklabels": false
        },
        "xaxis47": {
         "anchor": "y47",
         "domain": [
          0.5714285714285714,
          0.6942857142857143
         ],
         "matches": "x",
         "showticklabels": false
        },
        "xaxis48": {
         "anchor": "y48",
         "domain": [
          0.7142857142857142,
          0.8371428571428571
         ],
         "matches": "x",
         "showticklabels": false
        },
        "xaxis49": {
         "anchor": "y49",
         "domain": [
          0.8571428571428571,
          0.98
         ],
         "matches": "x",
         "showticklabels": false
        },
        "xaxis5": {
         "anchor": "y5",
         "domain": [
          0.5714285714285714,
          0.6942857142857143
         ],
         "matches": "x",
         "title": {
          "text": "time_interval"
         }
        },
        "xaxis6": {
         "anchor": "y6",
         "domain": [
          0.7142857142857142,
          0.8371428571428571
         ],
         "matches": "x",
         "title": {
          "text": "time_interval"
         }
        },
        "xaxis7": {
         "anchor": "y7",
         "domain": [
          0.8571428571428571,
          0.98
         ],
         "matches": "x",
         "title": {
          "text": "time_interval"
         }
        },
        "xaxis8": {
         "anchor": "y8",
         "domain": [
          0,
          0.12285714285714285
         ],
         "matches": "x",
         "showticklabels": false
        },
        "xaxis9": {
         "anchor": "y9",
         "domain": [
          0.14285714285714285,
          0.2657142857142857
         ],
         "matches": "x",
         "showticklabels": false
        },
        "yaxis": {
         "anchor": "x",
         "domain": [
          0,
          0.11714285714285715
         ],
         "title": {
          "text": "sum of difference"
         }
        },
        "yaxis10": {
         "anchor": "x10",
         "domain": [
          0.14714285714285713,
          0.2642857142857143
         ],
         "matches": "y",
         "showticklabels": false
        },
        "yaxis11": {
         "anchor": "x11",
         "domain": [
          0.14714285714285713,
          0.2642857142857143
         ],
         "matches": "y",
         "showticklabels": false
        },
        "yaxis12": {
         "anchor": "x12",
         "domain": [
          0.14714285714285713,
          0.2642857142857143
         ],
         "matches": "y",
         "showticklabels": false
        },
        "yaxis13": {
         "anchor": "x13",
         "domain": [
          0.14714285714285713,
          0.2642857142857143
         ],
         "matches": "y",
         "showticklabels": false
        },
        "yaxis14": {
         "anchor": "x14",
         "domain": [
          0.14714285714285713,
          0.2642857142857143
         ],
         "matches": "y",
         "showticklabels": false
        },
        "yaxis15": {
         "anchor": "x15",
         "domain": [
          0.29428571428571426,
          0.4114285714285714
         ],
         "matches": "y",
         "title": {
          "text": "sum of difference"
         }
        },
        "yaxis16": {
         "anchor": "x16",
         "domain": [
          0.29428571428571426,
          0.4114285714285714
         ],
         "matches": "y",
         "showticklabels": false
        },
        "yaxis17": {
         "anchor": "x17",
         "domain": [
          0.29428571428571426,
          0.4114285714285714
         ],
         "matches": "y",
         "showticklabels": false
        },
        "yaxis18": {
         "anchor": "x18",
         "domain": [
          0.29428571428571426,
          0.4114285714285714
         ],
         "matches": "y",
         "showticklabels": false
        },
        "yaxis19": {
         "anchor": "x19",
         "domain": [
          0.29428571428571426,
          0.4114285714285714
         ],
         "matches": "y",
         "showticklabels": false
        },
        "yaxis2": {
         "anchor": "x2",
         "domain": [
          0,
          0.11714285714285715
         ],
         "matches": "y",
         "showticklabels": false
        },
        "yaxis20": {
         "anchor": "x20",
         "domain": [
          0.29428571428571426,
          0.4114285714285714
         ],
         "matches": "y",
         "showticklabels": false
        },
        "yaxis21": {
         "anchor": "x21",
         "domain": [
          0.29428571428571426,
          0.4114285714285714
         ],
         "matches": "y",
         "showticklabels": false
        },
        "yaxis22": {
         "anchor": "x22",
         "domain": [
          0.4414285714285714,
          0.5585714285714285
         ],
         "matches": "y",
         "title": {
          "text": "sum of difference"
         }
        },
        "yaxis23": {
         "anchor": "x23",
         "domain": [
          0.4414285714285714,
          0.5585714285714285
         ],
         "matches": "y",
         "showticklabels": false
        },
        "yaxis24": {
         "anchor": "x24",
         "domain": [
          0.4414285714285714,
          0.5585714285714285
         ],
         "matches": "y",
         "showticklabels": false
        },
        "yaxis25": {
         "anchor": "x25",
         "domain": [
          0.4414285714285714,
          0.5585714285714285
         ],
         "matches": "y",
         "showticklabels": false
        },
        "yaxis26": {
         "anchor": "x26",
         "domain": [
          0.4414285714285714,
          0.5585714285714285
         ],
         "matches": "y",
         "showticklabels": false
        },
        "yaxis27": {
         "anchor": "x27",
         "domain": [
          0.4414285714285714,
          0.5585714285714285
         ],
         "matches": "y",
         "showticklabels": false
        },
        "yaxis28": {
         "anchor": "x28",
         "domain": [
          0.4414285714285714,
          0.5585714285714285
         ],
         "matches": "y",
         "showticklabels": false
        },
        "yaxis29": {
         "anchor": "x29",
         "domain": [
          0.5885714285714285,
          0.7057142857142856
         ],
         "matches": "y",
         "title": {
          "text": "sum of difference"
         }
        },
        "yaxis3": {
         "anchor": "x3",
         "domain": [
          0,
          0.11714285714285715
         ],
         "matches": "y",
         "showticklabels": false
        },
        "yaxis30": {
         "anchor": "x30",
         "domain": [
          0.5885714285714285,
          0.7057142857142856
         ],
         "matches": "y",
         "showticklabels": false
        },
        "yaxis31": {
         "anchor": "x31",
         "domain": [
          0.5885714285714285,
          0.7057142857142856
         ],
         "matches": "y",
         "showticklabels": false
        },
        "yaxis32": {
         "anchor": "x32",
         "domain": [
          0.5885714285714285,
          0.7057142857142856
         ],
         "matches": "y",
         "showticklabels": false
        },
        "yaxis33": {
         "anchor": "x33",
         "domain": [
          0.5885714285714285,
          0.7057142857142856
         ],
         "matches": "y",
         "showticklabels": false
        },
        "yaxis34": {
         "anchor": "x34",
         "domain": [
          0.5885714285714285,
          0.7057142857142856
         ],
         "matches": "y",
         "showticklabels": false
        },
        "yaxis35": {
         "anchor": "x35",
         "domain": [
          0.5885714285714285,
          0.7057142857142856
         ],
         "matches": "y",
         "showticklabels": false
        },
        "yaxis36": {
         "anchor": "x36",
         "domain": [
          0.7357142857142858,
          0.8528571428571429
         ],
         "matches": "y",
         "title": {
          "text": "sum of difference"
         }
        },
        "yaxis37": {
         "anchor": "x37",
         "domain": [
          0.7357142857142858,
          0.8528571428571429
         ],
         "matches": "y",
         "showticklabels": false
        },
        "yaxis38": {
         "anchor": "x38",
         "domain": [
          0.7357142857142858,
          0.8528571428571429
         ],
         "matches": "y",
         "showticklabels": false
        },
        "yaxis39": {
         "anchor": "x39",
         "domain": [
          0.7357142857142858,
          0.8528571428571429
         ],
         "matches": "y",
         "showticklabels": false
        },
        "yaxis4": {
         "anchor": "x4",
         "domain": [
          0,
          0.11714285714285715
         ],
         "matches": "y",
         "showticklabels": false
        },
        "yaxis40": {
         "anchor": "x40",
         "domain": [
          0.7357142857142858,
          0.8528571428571429
         ],
         "matches": "y",
         "showticklabels": false
        },
        "yaxis41": {
         "anchor": "x41",
         "domain": [
          0.7357142857142858,
          0.8528571428571429
         ],
         "matches": "y",
         "showticklabels": false
        },
        "yaxis42": {
         "anchor": "x42",
         "domain": [
          0.7357142857142858,
          0.8528571428571429
         ],
         "matches": "y",
         "showticklabels": false
        },
        "yaxis43": {
         "anchor": "x43",
         "domain": [
          0.8828571428571428,
          0.9999999999999999
         ],
         "matches": "y",
         "title": {
          "text": "sum of difference"
         }
        },
        "yaxis44": {
         "anchor": "x44",
         "domain": [
          0.8828571428571428,
          0.9999999999999999
         ],
         "matches": "y",
         "showticklabels": false
        },
        "yaxis45": {
         "anchor": "x45",
         "domain": [
          0.8828571428571428,
          0.9999999999999999
         ],
         "matches": "y",
         "showticklabels": false
        },
        "yaxis46": {
         "anchor": "x46",
         "domain": [
          0.8828571428571428,
          0.9999999999999999
         ],
         "matches": "y",
         "showticklabels": false
        },
        "yaxis47": {
         "anchor": "x47",
         "domain": [
          0.8828571428571428,
          0.9999999999999999
         ],
         "matches": "y",
         "showticklabels": false
        },
        "yaxis48": {
         "anchor": "x48",
         "domain": [
          0.8828571428571428,
          0.9999999999999999
         ],
         "matches": "y",
         "showticklabels": false
        },
        "yaxis49": {
         "anchor": "x49",
         "domain": [
          0.8828571428571428,
          0.9999999999999999
         ],
         "matches": "y",
         "showticklabels": false
        },
        "yaxis5": {
         "anchor": "x5",
         "domain": [
          0,
          0.11714285714285715
         ],
         "matches": "y",
         "showticklabels": false
        },
        "yaxis6": {
         "anchor": "x6",
         "domain": [
          0,
          0.11714285714285715
         ],
         "matches": "y",
         "showticklabels": false
        },
        "yaxis7": {
         "anchor": "x7",
         "domain": [
          0,
          0.11714285714285715
         ],
         "matches": "y",
         "showticklabels": false
        },
        "yaxis8": {
         "anchor": "x8",
         "domain": [
          0.14714285714285713,
          0.2642857142857143
         ],
         "matches": "y",
         "title": {
          "text": "sum of difference"
         }
        },
        "yaxis9": {
         "anchor": "x9",
         "domain": [
          0.14714285714285713,
          0.2642857142857143
         ],
         "matches": "y",
         "showticklabels": false
        }
       }
      }
     },
     "metadata": {},
     "output_type": "display_data"
    }
   ],
   "source": [
    "from OTAnalytics.plugin_parser.excel_count_parser import ExcelCountParser\n",
    "import plotly.express as px\n",
    "\n",
    "%store -r # flow_table (model)\n",
    "\n",
    "parser = ExcelCountParser('D:\\SH-B75\\ZaehlungAuswertung_B75_0700.xlsm', id_dict, CONFIG)\n",
    "\n",
    "comparison_table = parser.comparison_table(flow_table)\n",
    "\n",
    "fig = px.histogram(\n",
    "    comparison_table,\n",
    "    x='time_interval',\n",
    "    y='difference',\n",
    "    barmode='stack',\n",
    "    facet_row=comparison_table['from_section'],\n",
    "    facet_col=comparison_table['to_section'],\n",
    "    color=\"road_user_type\",\n",
    "    nbins=len(set(comparison_table['time_interval'])),\n",
    "    height=1000\n",
    ")\n",
    "\n",
    "fig.update_layout(bargap=0.1)\n",
    "fig.show()"
   ]
  },
  {
   "cell_type": "code",
   "execution_count": null,
   "metadata": {},
   "outputs": [
    {
     "ename": "ValueError",
     "evalue": "The truth value of a Series is ambiguous. Use a.empty, a.bool(), a.item(), a.any() or a.all().",
     "output_type": "error",
     "traceback": [
      "\u001b[1;31m---------------------------------------------------------------------------\u001b[0m",
      "\u001b[1;31mValueError\u001b[0m                                Traceback (most recent call last)",
      "Cell \u001b[1;32mIn[3], line 19\u001b[0m\n\u001b[0;32m     12\u001b[0m id_dict \u001b[39m=\u001b[39m {\n\u001b[0;32m     13\u001b[0m     \u001b[39m'\u001b[39m\u001b[39mid_to_class\u001b[39m\u001b[39m'\u001b[39m:{\u001b[39m100\u001b[39m:\u001b[39m'\u001b[39m\u001b[39mpedestrian\u001b[39m\u001b[39m'\u001b[39m, \u001b[39m200\u001b[39m:\u001b[39m'\u001b[39m\u001b[39mbike\u001b[39m\u001b[39m'\u001b[39m, \u001b[39m300\u001b[39m:\u001b[39m'\u001b[39m\u001b[39mmotorbike\u001b[39m\u001b[39m'\u001b[39m, \u001b[39m400\u001b[39m:\u001b[39m'\u001b[39m\u001b[39mcar\u001b[39m\u001b[39m'\u001b[39m, \u001b[39m500\u001b[39m:\u001b[39m'\u001b[39m\u001b[39mcar_with_trailer\u001b[39m\u001b[39m'\u001b[39m, \u001b[39m600\u001b[39m:\u001b[39m'\u001b[39m\u001b[39mdelivery_van\u001b[39m\u001b[39m'\u001b[39m, \u001b[39m700\u001b[39m:\u001b[39m'\u001b[39m\u001b[39mtruck\u001b[39m\u001b[39m'\u001b[39m, \u001b[39m800\u001b[39m:\u001b[39m'\u001b[39m\u001b[39mtruck_with_trailer\u001b[39m\u001b[39m'\u001b[39m, \u001b[39m900\u001b[39m:\u001b[39m'\u001b[39m\u001b[39mtruck_with_semitrailer\u001b[39m\u001b[39m'\u001b[39m, \u001b[39m1000\u001b[39m:\u001b[39m'\u001b[39m\u001b[39mbus\u001b[39m\u001b[39m'\u001b[39m, \u001b[39m1100\u001b[39m:\u001b[39m'\u001b[39m\u001b[39mothers\u001b[39m\u001b[39m'\u001b[39m},\n\u001b[0;32m     14\u001b[0m     \u001b[39m'\u001b[39m\u001b[39mid_to_from_section\u001b[39m\u001b[39m'\u001b[39m:{\u001b[39m10\u001b[39m: \u001b[39m'\u001b[39m\u001b[39mSOUTH\u001b[39m\u001b[39m'\u001b[39m, \u001b[39m20\u001b[39m: \u001b[39m'\u001b[39m\u001b[39mSOUTH\u001b[39m\u001b[39m'\u001b[39m, \u001b[39m30\u001b[39m: \u001b[39m'\u001b[39m\u001b[39mSOUTH\u001b[39m\u001b[39m'\u001b[39m, \u001b[39m40\u001b[39m: \u001b[39m'\u001b[39m\u001b[39mEAST\u001b[39m\u001b[39m'\u001b[39m, \u001b[39m50\u001b[39m: \u001b[39m'\u001b[39m\u001b[39mEAST\u001b[39m\u001b[39m'\u001b[39m, \u001b[39m60\u001b[39m: \u001b[39m'\u001b[39m\u001b[39mEAST\u001b[39m\u001b[39m'\u001b[39m, \u001b[39m70\u001b[39m: \u001b[39m'\u001b[39m\u001b[39mNORTH\u001b[39m\u001b[39m'\u001b[39m, \u001b[39m80\u001b[39m: \u001b[39m'\u001b[39m\u001b[39mNORTH\u001b[39m\u001b[39m'\u001b[39m, \u001b[39m90\u001b[39m: \u001b[39m'\u001b[39m\u001b[39mNORTH\u001b[39m\u001b[39m'\u001b[39m, \u001b[39m100\u001b[39m: \u001b[39m'\u001b[39m\u001b[39mWEST\u001b[39m\u001b[39m'\u001b[39m, \u001b[39m110\u001b[39m: \u001b[39m'\u001b[39m\u001b[39mWEST\u001b[39m\u001b[39m'\u001b[39m, \u001b[39m120\u001b[39m: \u001b[39m'\u001b[39m\u001b[39mWEST\u001b[39m\u001b[39m'\u001b[39m, \u001b[39m130\u001b[39m: \u001b[39m'\u001b[39m\u001b[39mSIDEWALK\u001b[39m\u001b[39m'\u001b[39m},\n\u001b[0;32m     15\u001b[0m     \u001b[39m'\u001b[39m\u001b[39mid_to_to_section\u001b[39m\u001b[39m'\u001b[39m:{\u001b[39m10\u001b[39m: \u001b[39m'\u001b[39m\u001b[39mWEST\u001b[39m\u001b[39m'\u001b[39m, \u001b[39m20\u001b[39m: \u001b[39m'\u001b[39m\u001b[39mNORTH\u001b[39m\u001b[39m'\u001b[39m, \u001b[39m30\u001b[39m: \u001b[39m'\u001b[39m\u001b[39mEAST\u001b[39m\u001b[39m'\u001b[39m, \u001b[39m40\u001b[39m: \u001b[39m'\u001b[39m\u001b[39mSOUTH\u001b[39m\u001b[39m'\u001b[39m, \u001b[39m50\u001b[39m: \u001b[39m'\u001b[39m\u001b[39mWEST\u001b[39m\u001b[39m'\u001b[39m, \u001b[39m60\u001b[39m: \u001b[39m'\u001b[39m\u001b[39mNORTH\u001b[39m\u001b[39m'\u001b[39m, \u001b[39m70\u001b[39m: \u001b[39m'\u001b[39m\u001b[39mEAST\u001b[39m\u001b[39m'\u001b[39m, \u001b[39m80\u001b[39m: \u001b[39m'\u001b[39m\u001b[39mSOUTH\u001b[39m\u001b[39m'\u001b[39m, \u001b[39m90\u001b[39m: \u001b[39m'\u001b[39m\u001b[39mWEST\u001b[39m\u001b[39m'\u001b[39m, \u001b[39m100\u001b[39m: \u001b[39m'\u001b[39m\u001b[39mNORTH\u001b[39m\u001b[39m'\u001b[39m, \u001b[39m110\u001b[39m: \u001b[39m'\u001b[39m\u001b[39mEAST\u001b[39m\u001b[39m'\u001b[39m, \u001b[39m120\u001b[39m: \u001b[39m'\u001b[39m\u001b[39mSOUTH\u001b[39m\u001b[39m'\u001b[39m, \u001b[39m130\u001b[39m: \u001b[39m'\u001b[39m\u001b[39mSIDEWALK\u001b[39m\u001b[39m'\u001b[39m}\n\u001b[0;32m     16\u001b[0m }\n\u001b[0;32m     18\u001b[0m test \u001b[39m=\u001b[39m ExcelCountParser([\u001b[39m'\u001b[39m\u001b[39mD:\u001b[39m\u001b[39m\\\u001b[39m\u001b[39mSH-B75\u001b[39m\u001b[39m\\\u001b[39m\u001b[39mZaehlungAuswertung_B75_0700.xlsm\u001b[39m\u001b[39m'\u001b[39m], id_dict, CONFIG)\n\u001b[1;32m---> 19\u001b[0m test\u001b[39m.\u001b[39;49mplot_difference(flow_table)\n\u001b[0;32m     20\u001b[0m test\u001b[39m.\u001b[39mplot_counting_ratio(flow_table)\n\u001b[0;32m     22\u001b[0m comparison_table \u001b[39m=\u001b[39m test\u001b[39m.\u001b[39mcomparison_table(flow_table)\n",
      "File \u001b[1;32md:\\OTAnalytics\\OTAnalytics\\plugin_parser\\excel_count_parser.py:103\u001b[0m, in \u001b[0;36mExcelCountParser.plot_difference\u001b[1;34m(self, model_flow_table)\u001b[0m\n\u001b[0;32m    101\u001b[0m \u001b[39mdef\u001b[39;00m \u001b[39mplot_difference\u001b[39m(\u001b[39mself\u001b[39m, model_flow_table: pd\u001b[39m.\u001b[39mDataFrame):\n\u001b[1;32m--> 103\u001b[0m     comparison_table \u001b[39m=\u001b[39m \u001b[39mself\u001b[39;49m\u001b[39m.\u001b[39;49mcomparison_table(model_flow_table)\n\u001b[0;32m    105\u001b[0m     fig \u001b[39m=\u001b[39m px\u001b[39m.\u001b[39mhistogram(\n\u001b[0;32m    106\u001b[0m     comparison_table,\n\u001b[0;32m    107\u001b[0m     x\u001b[39m=\u001b[39m\u001b[39m'\u001b[39m\u001b[39mtime_interval\u001b[39m\u001b[39m'\u001b[39m,\n\u001b[1;32m   (...)\u001b[0m\n\u001b[0;32m    111\u001b[0m     nbins\u001b[39m=\u001b[39m\u001b[39mlen\u001b[39m(\u001b[39mset\u001b[39m(comparison_table[\u001b[39m'\u001b[39m\u001b[39mtime_interval\u001b[39m\u001b[39m'\u001b[39m]))\n\u001b[0;32m    112\u001b[0m     )\n\u001b[0;32m    114\u001b[0m     fig\u001b[39m.\u001b[39mupdate_layout(bargap\u001b[39m=\u001b[39m\u001b[39m0.1\u001b[39m)\n",
      "File \u001b[1;32md:\\OTAnalytics\\OTAnalytics\\plugin_parser\\excel_count_parser.py:64\u001b[0m, in \u001b[0;36mExcelCountParser.comparison_table\u001b[1;34m(self, model_flow_table)\u001b[0m\n\u001b[0;32m     62\u001b[0m \u001b[39m# Counting ratio (different cases to avoid dividing by 0)\u001b[39;00m\n\u001b[0;32m     63\u001b[0m comparison_table\u001b[39m.\u001b[39mloc[comparison_table[\u001b[39m'\u001b[39m\u001b[39mn_vehicles_excel\u001b[39m\u001b[39m'\u001b[39m] \u001b[39m!=\u001b[39m \u001b[39m0\u001b[39m, \u001b[39m'\u001b[39m\u001b[39mcounting_ratio\u001b[39m\u001b[39m'\u001b[39m] \u001b[39m=\u001b[39m comparison_table[\u001b[39m'\u001b[39m\u001b[39mn_vehicles_model\u001b[39m\u001b[39m'\u001b[39m]\u001b[39m/\u001b[39mcomparison_table[\u001b[39m'\u001b[39m\u001b[39mn_vehicles_excel\u001b[39m\u001b[39m'\u001b[39m]\n\u001b[1;32m---> 64\u001b[0m comparison_table\u001b[39m.\u001b[39mloc[(comparison_table[\u001b[39m'\u001b[39m\u001b[39mn_vehicles_excel\u001b[39m\u001b[39m'\u001b[39m] \u001b[39m==\u001b[39m \u001b[39m0\u001b[39m) \u001b[39mor\u001b[39;00m (comparison_table[\u001b[39m'\u001b[39m\u001b[39mn_vehicles_model\u001b[39m\u001b[39m'\u001b[39m] \u001b[39m==\u001b[39m \u001b[39m0\u001b[39m), \u001b[39m'\u001b[39m\u001b[39mcounting_ratio\u001b[39m\u001b[39m'\u001b[39m] \u001b[39m=\u001b[39m \u001b[39m0\u001b[39m\n\u001b[0;32m     66\u001b[0m \u001b[39mreturn\u001b[39;00m comparison_table\n",
      "File \u001b[1;32md:\\OTAnalytics\\venv\\lib\\site-packages\\pandas\\core\\generic.py:1527\u001b[0m, in \u001b[0;36mNDFrame.__nonzero__\u001b[1;34m(self)\u001b[0m\n\u001b[0;32m   1525\u001b[0m \u001b[39m@final\u001b[39m\n\u001b[0;32m   1526\u001b[0m \u001b[39mdef\u001b[39;00m \u001b[39m__nonzero__\u001b[39m(\u001b[39mself\u001b[39m) \u001b[39m-\u001b[39m\u001b[39m>\u001b[39m NoReturn:\n\u001b[1;32m-> 1527\u001b[0m     \u001b[39mraise\u001b[39;00m \u001b[39mValueError\u001b[39;00m(\n\u001b[0;32m   1528\u001b[0m         \u001b[39mf\u001b[39m\u001b[39m\"\u001b[39m\u001b[39mThe truth value of a \u001b[39m\u001b[39m{\u001b[39;00m\u001b[39mtype\u001b[39m(\u001b[39mself\u001b[39m)\u001b[39m.\u001b[39m\u001b[39m__name__\u001b[39m\u001b[39m}\u001b[39;00m\u001b[39m is ambiguous. \u001b[39m\u001b[39m\"\u001b[39m\n\u001b[0;32m   1529\u001b[0m         \u001b[39m\"\u001b[39m\u001b[39mUse a.empty, a.bool(), a.item(), a.any() or a.all().\u001b[39m\u001b[39m\"\u001b[39m\n\u001b[0;32m   1530\u001b[0m     )\n",
      "\u001b[1;31mValueError\u001b[0m: The truth value of a Series is ambiguous. Use a.empty, a.bool(), a.item(), a.any() or a.all()."
     ]
    }
   ],
   "source": [
    "from OTAnalytics.plugin_parser.excel_count_parser import ExcelCountParser\n",
    "\n",
    "%store -r\n",
    "\n",
    "CONFIG = {\n",
    "    'date': '2023-03-28',\n",
    "    'file_name_prefix':'D:\\SH-B75\\ZaehlungAuswertung_B75_',\n",
    "    'filter_class': [\"car\", \"bus\", \"motorcycle\", \"truck\", \"truck_with_trailer\", \"truck_with_semitrailer\", \"delivery_van\", \"private_van\"],\n",
    "    'interval_length_min': 15 # In minutes\n",
    "}\n",
    "\n",
    "id_dict = {\n",
    "    'id_to_class':{100:'pedestrian', 200:'bike', 300:'motorbike', 400:'car', 500:'car_with_trailer', 600:'delivery_van', 700:'truck', 800:'truck_with_trailer', 900:'truck_with_semitrailer', 1000:'bus', 1100:'others'},\n",
    "    'id_to_from_section':{10: 'SOUTH', 20: 'SOUTH', 30: 'SOUTH', 40: 'EAST', 50: 'EAST', 60: 'EAST', 70: 'NORTH', 80: 'NORTH', 90: 'NORTH', 100: 'WEST', 110: 'WEST', 120: 'WEST', 130: 'SIDEWALK'},\n",
    "    'id_to_to_section':{10: 'WEST', 20: 'NORTH', 30: 'EAST', 40: 'SOUTH', 50: 'WEST', 60: 'NORTH', 70: 'EAST', 80: 'SOUTH', 90: 'WEST', 100: 'NORTH', 110: 'EAST', 120: 'SOUTH', 130: 'SIDEWALK'}\n",
    "}\n",
    "\n",
    "test = ExcelCountParser(['D:\\SH-B75\\ZaehlungAuswertung_B75_0700.xlsm'], id_dict, CONFIG)\n",
    "test.plot_difference(flow_table)\n",
    "test.plot_counting_ratio(flow_table)\n",
    "\n",
    "comparison_table = test.comparison_table(flow_table)\n",
    "count_table = test.count_table(flow_table)"
   ]
  },
  {
   "attachments": {},
   "cell_type": "markdown",
   "metadata": {},
   "source": [
    "## Boxplots of differences counted all along the day (one point per time interval considered i.e one per hour, because I counted the first 15 minutes of each hour of the day) per vehicle class"
   ]
  },
  {
   "cell_type": "code",
   "execution_count": 6,
   "metadata": {},
   "outputs": [
    {
     "data": {
      "application/vnd.plotly.v1+json": {
       "config": {
        "plotlyServerURL": "https://plot.ly"
       },
       "data": [
        {
         "alignmentgroup": "True",
         "hovertemplate": "road_user_type=%{x}<br>counting_ratio=%{y}<extra></extra>",
         "legendgroup": "",
         "marker": {
          "color": "#636efa"
         },
         "name": "",
         "notched": false,
         "offsetgroup": "",
         "orientation": "v",
         "showlegend": false,
         "type": "box",
         "x": [
          "car",
          "truck_with_semitrailer",
          "car",
          "car",
          "car",
          "delivery_van",
          "car",
          "car_with_trailer",
          "delivery_van",
          "truck_with_semitrailer",
          "car",
          "delivery_van",
          "truck_with_semitrailer",
          "car",
          "delivery_van",
          "truck",
          "truck_with_semitrailer",
          "car",
          "car",
          "truck",
          "truck_with_semitrailer",
          "truck_with_semitrailer",
          "car",
          "truck",
          "truck_with_semitrailer",
          "car",
          "truck_with_semitrailer",
          "car",
          "truck",
          "truck_with_semitrailer",
          "truck_with_trailer",
          "car",
          "delivery_van",
          "truck",
          "truck_with_semitrailer",
          "car",
          "truck",
          "truck_with_semitrailer",
          "car",
          "truck",
          "car",
          "car",
          "car_with_trailer",
          "delivery_van",
          "truck_with_semitrailer",
          "truck_with_trailer",
          "car",
          "car_with_trailer",
          "delivery_van",
          "others",
          "truck",
          "car",
          "delivery_van",
          "pedestrian",
          "truck",
          "truck_with_semitrailer",
          "truck_with_trailer",
          "car",
          "delivery_van",
          "truck",
          "truck_with_semitrailer",
          "car",
          "car_with_trailer",
          "delivery_van",
          "truck",
          "truck_with_semitrailer",
          "truck_with_trailer",
          "car",
          "delivery_van",
          "motorbike",
          "truck",
          "truck_with_semitrailer",
          "car",
          "delivery_van",
          "truck",
          "truck_with_semitrailer",
          "bus",
          "car",
          "car_with_trailer",
          "delivery_van",
          "truck",
          "truck_with_semitrailer",
          "car",
          "car_with_trailer",
          "delivery_van",
          "motorbike",
          "truck",
          "truck_with_semitrailer",
          "car",
          "delivery_van",
          "truck",
          "truck_with_semitrailer",
          "bike",
          "bus",
          "car",
          "car_with_trailer",
          "delivery_van",
          "motorbike",
          "pedestrian",
          "truck",
          "truck_with_semitrailer",
          "bike",
          "car",
          "delivery_van",
          "others",
          "truck",
          "truck_with_semitrailer",
          "car",
          "delivery_van",
          "pedestrian",
          "truck",
          "truck_with_semitrailer",
          "truck_with_trailer",
          "bike",
          "bus",
          "car",
          "car_with_trailer",
          "delivery_van",
          "pedestrian",
          "truck",
          "truck_with_semitrailer",
          "truck_with_trailer",
          "bike",
          "bus",
          "car",
          "car_with_trailer",
          "delivery_van",
          "others",
          "pedestrian",
          "truck",
          "truck_with_semitrailer",
          "truck_with_trailer",
          "bus",
          "car",
          "delivery_van",
          "truck",
          "truck_with_semitrailer",
          "bike",
          "car",
          "car_with_trailer",
          "delivery_van",
          "truck",
          "truck_with_semitrailer",
          "bus",
          "car",
          "car_with_trailer",
          "delivery_van",
          "others",
          "truck",
          "truck_with_semitrailer",
          "truck_with_trailer",
          "car",
          "car_with_trailer",
          "delivery_van",
          "pedestrian",
          "truck",
          "truck_with_semitrailer",
          "truck_with_trailer",
          "bike",
          "car",
          "car_with_trailer",
          "delivery_van",
          "motorbike",
          "truck",
          "truck_with_semitrailer",
          "bike",
          "car",
          "car_with_trailer",
          "delivery_van",
          "motorbike",
          "truck",
          "truck_with_semitrailer",
          "truck_with_trailer",
          "bike",
          "car",
          "car_with_trailer",
          "delivery_van",
          "others",
          "truck",
          "truck_with_semitrailer",
          "truck_with_trailer",
          "bus",
          "car",
          "car_with_trailer",
          "delivery_van",
          "motorbike",
          "pedestrian",
          "truck",
          "truck_with_semitrailer",
          "bike",
          "car",
          "car_with_trailer",
          "delivery_van",
          "pedestrian",
          "truck",
          "truck_with_semitrailer",
          "truck_with_trailer",
          "bus",
          "car",
          "car_with_trailer",
          "delivery_van",
          "pedestrian",
          "truck",
          "truck_with_semitrailer",
          "truck_with_trailer",
          "bus",
          "car",
          "car_with_trailer",
          "delivery_van",
          "pedestrian",
          "truck",
          "truck_with_semitrailer",
          "bike",
          "car",
          "delivery_van",
          "motorbike",
          "pedestrian",
          "truck",
          "truck_with_semitrailer",
          "bike",
          "bus",
          "car",
          "delivery_van",
          "pedestrian",
          "truck_with_semitrailer",
          "truck_with_trailer",
          "bus",
          "car",
          "delivery_van",
          "truck",
          "truck_with_semitrailer",
          "bike",
          "bus",
          "car",
          "car_with_trailer",
          "delivery_van",
          "others",
          "truck",
          "car",
          "car_with_trailer",
          "delivery_van",
          "motorbike",
          "others",
          "truck_with_semitrailer",
          "car",
          "delivery_van",
          "motorbike",
          "truck",
          "truck_with_semitrailer",
          "car",
          "car_with_trailer",
          "delivery_van",
          "pedestrian",
          "truck_with_semitrailer",
          "car",
          "delivery_van",
          "truck_with_semitrailer",
          "bike",
          "car",
          "car_with_trailer",
          "delivery_van",
          "truck",
          "car",
          "car_with_trailer",
          "delivery_van",
          "pedestrian",
          "truck",
          "car",
          "delivery_van",
          "truck_with_semitrailer",
          "car",
          "delivery_van",
          "truck_with_semitrailer",
          "bike",
          "car",
          "car_with_trailer",
          "pedestrian",
          "truck_with_semitrailer",
          "truck_with_trailer",
          "car",
          "delivery_van",
          "truck",
          "truck_with_semitrailer",
          "bike",
          "car",
          "delivery_van",
          "car",
          "delivery_van",
          "truck",
          "truck_with_semitrailer",
          "car",
          "delivery_van",
          "truck_with_semitrailer",
          "car",
          "delivery_van",
          "truck_with_semitrailer",
          "truck_with_trailer",
          "car",
          "delivery_van",
          "truck",
          "truck_with_semitrailer",
          "truck_with_trailer",
          "car",
          "truck",
          "car",
          "delivery_van",
          "truck_with_semitrailer",
          "car",
          "delivery_van",
          "truck",
          "truck_with_semitrailer",
          "truck_with_trailer",
          "car",
          "truck"
         ],
         "x0": " ",
         "xaxis": "x",
         "y": [
          0,
          0,
          0,
          0,
          0,
          0,
          0,
          0,
          0,
          0,
          0,
          0,
          0,
          0,
          0,
          0,
          0,
          0,
          0,
          0,
          0,
          0,
          0,
          0,
          0,
          0,
          0,
          0,
          0,
          0,
          0,
          0,
          0,
          0,
          0,
          0,
          0,
          0,
          0,
          0,
          0,
          0,
          0,
          0,
          0,
          0,
          0,
          0,
          0,
          0,
          0,
          0,
          0,
          0,
          0,
          0,
          0,
          0,
          0,
          0,
          0,
          0,
          0,
          0,
          0,
          0,
          0,
          0,
          0,
          0,
          0,
          0,
          0,
          0,
          0,
          0,
          0,
          0,
          0,
          0,
          0,
          0,
          0,
          0,
          0,
          0,
          0,
          0,
          0,
          0,
          0,
          0,
          0,
          0,
          0,
          0,
          0,
          0,
          0,
          0,
          0,
          0,
          0,
          0,
          0,
          0,
          0,
          0,
          0,
          0,
          0,
          0,
          0,
          0,
          0,
          0,
          0,
          0,
          0,
          0,
          0,
          0,
          0,
          0,
          0,
          0,
          0,
          0,
          0,
          0,
          0,
          0,
          0,
          0,
          0,
          0,
          0,
          0,
          0,
          0,
          0,
          0,
          0,
          0,
          0,
          0,
          0,
          0,
          0,
          0,
          0,
          0,
          0,
          0,
          0,
          0,
          0,
          0,
          0,
          0,
          0,
          0,
          0,
          0,
          0,
          0,
          0,
          0,
          0,
          0,
          0,
          0,
          0,
          0,
          0,
          0,
          0,
          0,
          0,
          0,
          0,
          0,
          0,
          0,
          0,
          0,
          0,
          0,
          0,
          0,
          0,
          0,
          0,
          0,
          0,
          0,
          0,
          0,
          0,
          0,
          0,
          0,
          0,
          0,
          0,
          0,
          0,
          0,
          0,
          0,
          0,
          0,
          0,
          0,
          0,
          0,
          0,
          0,
          0,
          0,
          0,
          0,
          0,
          0,
          0,
          0,
          0,
          0,
          0,
          0,
          0,
          0,
          0,
          0,
          0,
          0,
          0,
          0,
          0,
          0,
          0,
          0,
          0,
          0,
          0,
          0,
          0,
          0,
          0,
          0,
          0,
          0,
          0,
          0,
          0,
          0,
          0,
          0,
          0,
          0,
          0,
          0,
          0,
          0,
          0,
          0,
          0,
          0,
          0,
          0,
          0,
          0,
          0,
          0,
          0,
          0,
          0,
          0,
          0,
          0,
          0,
          0,
          0,
          0,
          0,
          0,
          0,
          0,
          0,
          0,
          0,
          0,
          0,
          0,
          0,
          0,
          0,
          0,
          0,
          0,
          0,
          0,
          0,
          0,
          0,
          0,
          0,
          0,
          0,
          0,
          0,
          0,
          0,
          0
         ],
         "y0": " ",
         "yaxis": "y"
        }
       ],
       "layout": {
        "boxmode": "group",
        "legend": {
         "tracegroupgap": 0
        },
        "margin": {
         "t": 60
        },
        "template": {
         "data": {
          "bar": [
           {
            "error_x": {
             "color": "#2a3f5f"
            },
            "error_y": {
             "color": "#2a3f5f"
            },
            "marker": {
             "line": {
              "color": "#E5ECF6",
              "width": 0.5
             },
             "pattern": {
              "fillmode": "overlay",
              "size": 10,
              "solidity": 0.2
             }
            },
            "type": "bar"
           }
          ],
          "barpolar": [
           {
            "marker": {
             "line": {
              "color": "#E5ECF6",
              "width": 0.5
             },
             "pattern": {
              "fillmode": "overlay",
              "size": 10,
              "solidity": 0.2
             }
            },
            "type": "barpolar"
           }
          ],
          "carpet": [
           {
            "aaxis": {
             "endlinecolor": "#2a3f5f",
             "gridcolor": "white",
             "linecolor": "white",
             "minorgridcolor": "white",
             "startlinecolor": "#2a3f5f"
            },
            "baxis": {
             "endlinecolor": "#2a3f5f",
             "gridcolor": "white",
             "linecolor": "white",
             "minorgridcolor": "white",
             "startlinecolor": "#2a3f5f"
            },
            "type": "carpet"
           }
          ],
          "choropleth": [
           {
            "colorbar": {
             "outlinewidth": 0,
             "ticks": ""
            },
            "type": "choropleth"
           }
          ],
          "contour": [
           {
            "colorbar": {
             "outlinewidth": 0,
             "ticks": ""
            },
            "colorscale": [
             [
              0,
              "#0d0887"
             ],
             [
              0.1111111111111111,
              "#46039f"
             ],
             [
              0.2222222222222222,
              "#7201a8"
             ],
             [
              0.3333333333333333,
              "#9c179e"
             ],
             [
              0.4444444444444444,
              "#bd3786"
             ],
             [
              0.5555555555555556,
              "#d8576b"
             ],
             [
              0.6666666666666666,
              "#ed7953"
             ],
             [
              0.7777777777777778,
              "#fb9f3a"
             ],
             [
              0.8888888888888888,
              "#fdca26"
             ],
             [
              1,
              "#f0f921"
             ]
            ],
            "type": "contour"
           }
          ],
          "contourcarpet": [
           {
            "colorbar": {
             "outlinewidth": 0,
             "ticks": ""
            },
            "type": "contourcarpet"
           }
          ],
          "heatmap": [
           {
            "colorbar": {
             "outlinewidth": 0,
             "ticks": ""
            },
            "colorscale": [
             [
              0,
              "#0d0887"
             ],
             [
              0.1111111111111111,
              "#46039f"
             ],
             [
              0.2222222222222222,
              "#7201a8"
             ],
             [
              0.3333333333333333,
              "#9c179e"
             ],
             [
              0.4444444444444444,
              "#bd3786"
             ],
             [
              0.5555555555555556,
              "#d8576b"
             ],
             [
              0.6666666666666666,
              "#ed7953"
             ],
             [
              0.7777777777777778,
              "#fb9f3a"
             ],
             [
              0.8888888888888888,
              "#fdca26"
             ],
             [
              1,
              "#f0f921"
             ]
            ],
            "type": "heatmap"
           }
          ],
          "heatmapgl": [
           {
            "colorbar": {
             "outlinewidth": 0,
             "ticks": ""
            },
            "colorscale": [
             [
              0,
              "#0d0887"
             ],
             [
              0.1111111111111111,
              "#46039f"
             ],
             [
              0.2222222222222222,
              "#7201a8"
             ],
             [
              0.3333333333333333,
              "#9c179e"
             ],
             [
              0.4444444444444444,
              "#bd3786"
             ],
             [
              0.5555555555555556,
              "#d8576b"
             ],
             [
              0.6666666666666666,
              "#ed7953"
             ],
             [
              0.7777777777777778,
              "#fb9f3a"
             ],
             [
              0.8888888888888888,
              "#fdca26"
             ],
             [
              1,
              "#f0f921"
             ]
            ],
            "type": "heatmapgl"
           }
          ],
          "histogram": [
           {
            "marker": {
             "pattern": {
              "fillmode": "overlay",
              "size": 10,
              "solidity": 0.2
             }
            },
            "type": "histogram"
           }
          ],
          "histogram2d": [
           {
            "colorbar": {
             "outlinewidth": 0,
             "ticks": ""
            },
            "colorscale": [
             [
              0,
              "#0d0887"
             ],
             [
              0.1111111111111111,
              "#46039f"
             ],
             [
              0.2222222222222222,
              "#7201a8"
             ],
             [
              0.3333333333333333,
              "#9c179e"
             ],
             [
              0.4444444444444444,
              "#bd3786"
             ],
             [
              0.5555555555555556,
              "#d8576b"
             ],
             [
              0.6666666666666666,
              "#ed7953"
             ],
             [
              0.7777777777777778,
              "#fb9f3a"
             ],
             [
              0.8888888888888888,
              "#fdca26"
             ],
             [
              1,
              "#f0f921"
             ]
            ],
            "type": "histogram2d"
           }
          ],
          "histogram2dcontour": [
           {
            "colorbar": {
             "outlinewidth": 0,
             "ticks": ""
            },
            "colorscale": [
             [
              0,
              "#0d0887"
             ],
             [
              0.1111111111111111,
              "#46039f"
             ],
             [
              0.2222222222222222,
              "#7201a8"
             ],
             [
              0.3333333333333333,
              "#9c179e"
             ],
             [
              0.4444444444444444,
              "#bd3786"
             ],
             [
              0.5555555555555556,
              "#d8576b"
             ],
             [
              0.6666666666666666,
              "#ed7953"
             ],
             [
              0.7777777777777778,
              "#fb9f3a"
             ],
             [
              0.8888888888888888,
              "#fdca26"
             ],
             [
              1,
              "#f0f921"
             ]
            ],
            "type": "histogram2dcontour"
           }
          ],
          "mesh3d": [
           {
            "colorbar": {
             "outlinewidth": 0,
             "ticks": ""
            },
            "type": "mesh3d"
           }
          ],
          "parcoords": [
           {
            "line": {
             "colorbar": {
              "outlinewidth": 0,
              "ticks": ""
             }
            },
            "type": "parcoords"
           }
          ],
          "pie": [
           {
            "automargin": true,
            "type": "pie"
           }
          ],
          "scatter": [
           {
            "fillpattern": {
             "fillmode": "overlay",
             "size": 10,
             "solidity": 0.2
            },
            "type": "scatter"
           }
          ],
          "scatter3d": [
           {
            "line": {
             "colorbar": {
              "outlinewidth": 0,
              "ticks": ""
             }
            },
            "marker": {
             "colorbar": {
              "outlinewidth": 0,
              "ticks": ""
             }
            },
            "type": "scatter3d"
           }
          ],
          "scattercarpet": [
           {
            "marker": {
             "colorbar": {
              "outlinewidth": 0,
              "ticks": ""
             }
            },
            "type": "scattercarpet"
           }
          ],
          "scattergeo": [
           {
            "marker": {
             "colorbar": {
              "outlinewidth": 0,
              "ticks": ""
             }
            },
            "type": "scattergeo"
           }
          ],
          "scattergl": [
           {
            "marker": {
             "colorbar": {
              "outlinewidth": 0,
              "ticks": ""
             }
            },
            "type": "scattergl"
           }
          ],
          "scattermapbox": [
           {
            "marker": {
             "colorbar": {
              "outlinewidth": 0,
              "ticks": ""
             }
            },
            "type": "scattermapbox"
           }
          ],
          "scatterpolar": [
           {
            "marker": {
             "colorbar": {
              "outlinewidth": 0,
              "ticks": ""
             }
            },
            "type": "scatterpolar"
           }
          ],
          "scatterpolargl": [
           {
            "marker": {
             "colorbar": {
              "outlinewidth": 0,
              "ticks": ""
             }
            },
            "type": "scatterpolargl"
           }
          ],
          "scatterternary": [
           {
            "marker": {
             "colorbar": {
              "outlinewidth": 0,
              "ticks": ""
             }
            },
            "type": "scatterternary"
           }
          ],
          "surface": [
           {
            "colorbar": {
             "outlinewidth": 0,
             "ticks": ""
            },
            "colorscale": [
             [
              0,
              "#0d0887"
             ],
             [
              0.1111111111111111,
              "#46039f"
             ],
             [
              0.2222222222222222,
              "#7201a8"
             ],
             [
              0.3333333333333333,
              "#9c179e"
             ],
             [
              0.4444444444444444,
              "#bd3786"
             ],
             [
              0.5555555555555556,
              "#d8576b"
             ],
             [
              0.6666666666666666,
              "#ed7953"
             ],
             [
              0.7777777777777778,
              "#fb9f3a"
             ],
             [
              0.8888888888888888,
              "#fdca26"
             ],
             [
              1,
              "#f0f921"
             ]
            ],
            "type": "surface"
           }
          ],
          "table": [
           {
            "cells": {
             "fill": {
              "color": "#EBF0F8"
             },
             "line": {
              "color": "white"
             }
            },
            "header": {
             "fill": {
              "color": "#C8D4E3"
             },
             "line": {
              "color": "white"
             }
            },
            "type": "table"
           }
          ]
         },
         "layout": {
          "annotationdefaults": {
           "arrowcolor": "#2a3f5f",
           "arrowhead": 0,
           "arrowwidth": 1
          },
          "autotypenumbers": "strict",
          "coloraxis": {
           "colorbar": {
            "outlinewidth": 0,
            "ticks": ""
           }
          },
          "colorscale": {
           "diverging": [
            [
             0,
             "#8e0152"
            ],
            [
             0.1,
             "#c51b7d"
            ],
            [
             0.2,
             "#de77ae"
            ],
            [
             0.3,
             "#f1b6da"
            ],
            [
             0.4,
             "#fde0ef"
            ],
            [
             0.5,
             "#f7f7f7"
            ],
            [
             0.6,
             "#e6f5d0"
            ],
            [
             0.7,
             "#b8e186"
            ],
            [
             0.8,
             "#7fbc41"
            ],
            [
             0.9,
             "#4d9221"
            ],
            [
             1,
             "#276419"
            ]
           ],
           "sequential": [
            [
             0,
             "#0d0887"
            ],
            [
             0.1111111111111111,
             "#46039f"
            ],
            [
             0.2222222222222222,
             "#7201a8"
            ],
            [
             0.3333333333333333,
             "#9c179e"
            ],
            [
             0.4444444444444444,
             "#bd3786"
            ],
            [
             0.5555555555555556,
             "#d8576b"
            ],
            [
             0.6666666666666666,
             "#ed7953"
            ],
            [
             0.7777777777777778,
             "#fb9f3a"
            ],
            [
             0.8888888888888888,
             "#fdca26"
            ],
            [
             1,
             "#f0f921"
            ]
           ],
           "sequentialminus": [
            [
             0,
             "#0d0887"
            ],
            [
             0.1111111111111111,
             "#46039f"
            ],
            [
             0.2222222222222222,
             "#7201a8"
            ],
            [
             0.3333333333333333,
             "#9c179e"
            ],
            [
             0.4444444444444444,
             "#bd3786"
            ],
            [
             0.5555555555555556,
             "#d8576b"
            ],
            [
             0.6666666666666666,
             "#ed7953"
            ],
            [
             0.7777777777777778,
             "#fb9f3a"
            ],
            [
             0.8888888888888888,
             "#fdca26"
            ],
            [
             1,
             "#f0f921"
            ]
           ]
          },
          "colorway": [
           "#636efa",
           "#EF553B",
           "#00cc96",
           "#ab63fa",
           "#FFA15A",
           "#19d3f3",
           "#FF6692",
           "#B6E880",
           "#FF97FF",
           "#FECB52"
          ],
          "font": {
           "color": "#2a3f5f"
          },
          "geo": {
           "bgcolor": "white",
           "lakecolor": "white",
           "landcolor": "#E5ECF6",
           "showlakes": true,
           "showland": true,
           "subunitcolor": "white"
          },
          "hoverlabel": {
           "align": "left"
          },
          "hovermode": "closest",
          "mapbox": {
           "style": "light"
          },
          "paper_bgcolor": "white",
          "plot_bgcolor": "#E5ECF6",
          "polar": {
           "angularaxis": {
            "gridcolor": "white",
            "linecolor": "white",
            "ticks": ""
           },
           "bgcolor": "#E5ECF6",
           "radialaxis": {
            "gridcolor": "white",
            "linecolor": "white",
            "ticks": ""
           }
          },
          "scene": {
           "xaxis": {
            "backgroundcolor": "#E5ECF6",
            "gridcolor": "white",
            "gridwidth": 2,
            "linecolor": "white",
            "showbackground": true,
            "ticks": "",
            "zerolinecolor": "white"
           },
           "yaxis": {
            "backgroundcolor": "#E5ECF6",
            "gridcolor": "white",
            "gridwidth": 2,
            "linecolor": "white",
            "showbackground": true,
            "ticks": "",
            "zerolinecolor": "white"
           },
           "zaxis": {
            "backgroundcolor": "#E5ECF6",
            "gridcolor": "white",
            "gridwidth": 2,
            "linecolor": "white",
            "showbackground": true,
            "ticks": "",
            "zerolinecolor": "white"
           }
          },
          "shapedefaults": {
           "line": {
            "color": "#2a3f5f"
           }
          },
          "ternary": {
           "aaxis": {
            "gridcolor": "white",
            "linecolor": "white",
            "ticks": ""
           },
           "baxis": {
            "gridcolor": "white",
            "linecolor": "white",
            "ticks": ""
           },
           "bgcolor": "#E5ECF6",
           "caxis": {
            "gridcolor": "white",
            "linecolor": "white",
            "ticks": ""
           }
          },
          "title": {
           "x": 0.05
          },
          "xaxis": {
           "automargin": true,
           "gridcolor": "white",
           "linecolor": "white",
           "ticks": "",
           "title": {
            "standoff": 15
           },
           "zerolinecolor": "white",
           "zerolinewidth": 2
          },
          "yaxis": {
           "automargin": true,
           "gridcolor": "white",
           "linecolor": "white",
           "ticks": "",
           "title": {
            "standoff": 15
           },
           "zerolinecolor": "white",
           "zerolinewidth": 2
          }
         }
        },
        "xaxis": {
         "anchor": "y",
         "domain": [
          0,
          1
         ],
         "title": {
          "text": "road_user_type"
         }
        },
        "yaxis": {
         "anchor": "x",
         "domain": [
          0,
          1
         ],
         "title": {
          "text": "counting_ratio"
         }
        }
       }
      }
     },
     "metadata": {},
     "output_type": "display_data"
    }
   ],
   "source": [
    "from OTAnalytics.plugin_parser.excel_count_parser import ExcelCountParser\n",
    "import pandas as pd\n",
    "\n",
    "CONFIG = {\n",
    "    'date': '2023-03-28',\n",
    "    'file_name_prefix':'D:\\SH-B75\\ZaehlungAuswertung_B75_',\n",
    "    'filter_class': [\"car\", \"bus\", \"motorcycle\", \"truck\", \"truck_with_trailer\", \"truck_with_semitrailer\", \"delivery_van\", \"private_van\"],\n",
    "    'interval_length_min': 15 # In minutes\n",
    "}\n",
    "\n",
    "id_dict = {\n",
    "    'id_to_class':{100:'pedestrian', 200:'bike', 300:'motorbike', 400:'car', 500:'car_with_trailer', 600:'delivery_van', 700:'truck', 800:'truck_with_trailer', 900:'truck_with_semitrailer', 1000:'bus', 1100:'others'},\n",
    "    'id_to_from_section':{10: 'SOUTH', 20: 'SOUTH', 30: 'SOUTH', 40: 'EAST', 50: 'EAST', 60: 'EAST', 70: 'NORTH', 80: 'NORTH', 90: 'NORTH', 100: 'WEST', 110: 'WEST', 120: 'WEST', 130: 'SIDEWALK'},\n",
    "    'id_to_to_section':{10: 'WEST', 20: 'NORTH', 30: 'EAST', 40: 'SOUTH', 50: 'WEST', 60: 'NORTH', 70: 'EAST', 80: 'SOUTH', 90: 'WEST', 100: 'NORTH', 110: 'EAST', 120: 'SOUTH', 130: 'SIDEWALK'}\n",
    "}\n",
    "\n",
    "excel_parser = ExcelCountParser([\n",
    "'D:\\SH-B75\\ZaehlungAuswertung_B75_0000.xlsm',\n",
    "'D:\\SH-B75\\ZaehlungAuswertung_B75_0100.xlsm',\n",
    "'D:\\SH-B75\\ZaehlungAuswertung_B75_0200.xlsm',\n",
    "'D:\\SH-B75\\ZaehlungAuswertung_B75_0300.xlsm',\n",
    "'D:\\SH-B75\\ZaehlungAuswertung_B75_0400.xlsm',\n",
    "'D:\\SH-B75\\ZaehlungAuswertung_B75_0500.xlsm',\n",
    "'D:\\SH-B75\\ZaehlungAuswertung_B75_0600.xlsm',\n",
    "'D:\\SH-B75\\ZaehlungAuswertung_B75_0700.xlsm',\n",
    "'D:\\SH-B75\\ZaehlungAuswertung_B75_0800_0815.xlsm',\n",
    "'D:\\SH-B75\\ZaehlungAuswertung_B75_0900_0915.xlsm',\n",
    "'D:\\SH-B75\\ZaehlungAuswertung_B75_1000_1015.xlsm',\n",
    "'D:\\SH-B75\\ZaehlungAuswertung_B75_1100_1115.xlsm',\n",
    "'D:\\SH-B75\\ZaehlungAuswertung_B75_1200_1215.xlsm',\n",
    "'D:\\SH-B75\\ZaehlungAuswertung_B75_1300_1315.xlsm',\n",
    "'D:\\SH-B75\\ZaehlungAuswertung_B75_1400_1415.xlsm',\n",
    "'D:\\SH-B75\\ZaehlungAuswertung_B75_1500_1515.xlsm',\n",
    "'D:\\SH-B75\\ZaehlungAuswertung_B75_1600_1615.xlsm',\n",
    "'D:\\SH-B75\\ZaehlungAuswertung_B75_1700_1715.xlsm',\n",
    "'D:\\SH-B75\\ZaehlungAuswertung_B75_1800.xlsm',\n",
    "'D:\\SH-B75\\ZaehlungAuswertung_B75_1900.xlsm',\n",
    "'D:\\SH-B75\\ZaehlungAuswertung_B75_2000.xlsm',\n",
    "'D:\\SH-B75\\ZaehlungAuswertung_B75_2100.xlsm',\n",
    "'D:\\SH-B75\\ZaehlungAuswertung_B75_2200.xlsm',\n",
    "'D:\\SH-B75\\ZaehlungAuswertung_B75_2300.xlsm'], id_dict, CONFIG)\n",
    "\n",
    "excel_table = excel_parser.excel_parser().copy()\n",
    "temporary_model_flow_table = excel_parser.excel_parser().copy()\n",
    "temporary_model_flow_table['n_vehicles'] = 0\n",
    "\n",
    "excel_parser.boxplot_per_time_interval(temporary_model_flow_table)"
   ]
  }
 ],
 "metadata": {
  "kernelspec": {
   "display_name": "venv",
   "language": "python",
   "name": "python3"
  },
  "language_info": {
   "codemirror_mode": {
    "name": "ipython",
    "version": 3
   },
   "file_extension": ".py",
   "mimetype": "text/x-python",
   "name": "python",
   "nbconvert_exporter": "python",
   "pygments_lexer": "ipython3",
   "version": "3.10.11"
  },
  "orig_nbformat": 4
 },
 "nbformat": 4,
 "nbformat_minor": 2
}
