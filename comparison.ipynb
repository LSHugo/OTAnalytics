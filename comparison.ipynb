{
 "cells": [
  {
   "attachments": {},
   "cell_type": "markdown",
   "metadata": {},
   "source": [
    "# Counting comparison"
   ]
  },
  {
   "attachments": {},
   "cell_type": "markdown",
   "metadata": {},
   "source": [
    "## Import libraries"
   ]
  },
  {
   "cell_type": "code",
   "execution_count": 13,
   "metadata": {},
   "outputs": [],
   "source": [
    "import pandas as pd"
   ]
  },
  {
   "attachments": {},
   "cell_type": "markdown",
   "metadata": {},
   "source": [
    "## Configuration"
   ]
  },
  {
   "cell_type": "code",
   "execution_count": 14,
   "metadata": {},
   "outputs": [],
   "source": [
    "CONFIG = {\n",
    "    'date': '2023-03-28',\n",
    "    'from_time': '07:00:00',\n",
    "    'filter_class': [\"car\", \"bus\", \"motorcycle\", \"truck\", \"truck_with_trailer\", \"truck_with_semitrailer\", \"delivery_van\", \"private_van\"],\n",
    "    'interval_length_min': 15 # In minutes\n",
    "}"
   ]
  },
  {
   "attachments": {},
   "cell_type": "markdown",
   "metadata": {},
   "source": [
    "## Import Excel table"
   ]
  },
  {
   "cell_type": "code",
   "execution_count": 15,
   "metadata": {},
   "outputs": [],
   "source": [
    "excel_table = pd.DataFrame(data=pd.read_excel('D:\\SH-B75\\ZaehlungAuswertung_B75_0700.xlsm', sheet_name='Zaehler', skiprows=range(1), usecols=['Klasse','Strom','Zeitstempel']))"
   ]
  },
  {
   "attachments": {},
   "cell_type": "markdown",
   "metadata": {},
   "source": [
    "## IDs"
   ]
  },
  {
   "cell_type": "code",
   "execution_count": 16,
   "metadata": {},
   "outputs": [],
   "source": [
    "id_dict = {\n",
    "    'id_to_class':{100:'pedestrian', 200:'bike', 300:'motorbike', 400:'car', 500:'car_with_trailer', 600:'delivery_van', 700:'truck', 800:'truck_with_trailer', 900:'truck_with_semitrailer', 1000:'bus', 1100:'others'},\n",
    "    'id_to_from_section':{10: 'SOUTH', 20: 'SOUTH', 30: 'SOUTH', 40: 'EAST', 50: 'EAST', 60: 'EAST', 70: 'NORTH', 80: 'NORTH', 90: 'NORTH', 100: 'WEST', 110: 'WEST', 120: 'WEST', 130: 'SIDEWALK'},\n",
    "    'id_to_to_section':{10: 'WEST', 20: 'NORTH', 30: 'EAST', 40: 'SOUTH', 50: 'WEST', 60: 'NORTH', 70: 'EAST', 80: 'SOUTH', 90: 'WEST', 100: 'NORTH', 110: 'EAST', 120: 'SOUTH', 130: 'SIDEWALK'}\n",
    "}"
   ]
  },
  {
   "attachments": {},
   "cell_type": "markdown",
   "metadata": {},
   "source": [
    "## Formatting"
   ]
  },
  {
   "cell_type": "code",
   "execution_count": 18,
   "metadata": {},
   "outputs": [],
   "source": [
    "# Renaming columns to match column names in flow_table\n",
    "excel_table.rename(columns={'Klasse':'road_user_type', 'Zeitstempel':'time_interval'}, inplace=True)\n",
    "\n",
    "# Time formatting\n",
    "excel_table['time_interval'] = pd.Timestamp(CONFIG['date'] + 'T' + CONFIG['from_time']) + pd.to_timedelta(excel_table['time_interval'], unit='s')\n",
    "\n",
    "# Replacing vehicle class IDs by the proper vehicle names\n",
    "excel_table['road_user_type'] = excel_table['road_user_type'].map(id_to_class)\n",
    "\n",
    "# Getting sections of origin and destination from \"Strom\" in two different columns\n",
    "excel_table['from_section'] = excel_table['Strom'].map(id_to_from_section)\n",
    "excel_table['to_section'] = excel_table['Strom'].map(id_to_to_section)\n",
    "\n",
    "# Group by sections, time interval, and road user type\n",
    "excel_table = excel_table.groupby(['from_section','to_section',pd.Grouper(freq=str(CONFIG['interval_length_min'])+'min', key='time_interval'),'road_user_type']).count().reset_index()"
   ]
  },
  {
   "attachments": {},
   "cell_type": "markdown",
   "metadata": {},
   "source": [
    "## Comparison results"
   ]
  },
  {
   "attachments": {},
   "cell_type": "markdown",
   "metadata": {},
   "source": [
    "### Comparison variables ideas:\n",
    "\n",
    "- Difference of counting (brut / relative)\n",
    "    - Overall\n",
    "    - For all class/flow combination\n",
    "    - For each vehicule class\n",
    "- Graphs of counted number of vehicules per time intervall\n",
    "    - Both graphs\n",
    "    - Observed differences"
   ]
  },
  {
   "cell_type": "code",
   "execution_count": 7,
   "metadata": {},
   "outputs": [],
   "source": [
    "from OTAnalytics.plugin_parser.excel_count_parser import ExcelCountParser\n",
    "\n",
    "CONFIG = {\n",
    "    'date': '2023-03-28',\n",
    "    'from_time': '07:00:00',\n",
    "    'filter_class': [\"car\", \"bus\", \"motorcycle\", \"truck\", \"truck_with_trailer\", \"truck_with_semitrailer\", \"delivery_van\", \"private_van\"],\n",
    "    'interval_length_min': 15 # In minutes\n",
    "}\n",
    "\n",
    "id_dict = {\n",
    "    'id_to_class':{100:'pedestrian', 200:'bike', 300:'motorbike', 400:'car', 500:'car_with_trailer', 600:'delivery_van', 700:'truck', 800:'truck_with_trailer', 900:'truck_with_semitrailer', 1000:'bus', 1100:'others'},\n",
    "    'id_to_from_section':{10: 'SOUTH', 20: 'SOUTH', 30: 'SOUTH', 40: 'EAST', 50: 'EAST', 60: 'EAST', 70: 'NORTH', 80: 'NORTH', 90: 'NORTH', 100: 'WEST', 110: 'WEST', 120: 'WEST', 130: 'SIDEWALK'},\n",
    "    'id_to_to_section':{10: 'WEST', 20: 'NORTH', 30: 'EAST', 40: 'SOUTH', 50: 'WEST', 60: 'NORTH', 70: 'EAST', 80: 'SOUTH', 90: 'WEST', 100: 'NORTH', 110: 'EAST', 120: 'SOUTH', 130: 'SIDEWALK'}\n",
    "}\n",
    "\n",
    "parser = ExcelCountParser()\n",
    "excel_table = parser.excel_parser(path='D:\\SH-B75\\ZaehlungAuswertung_B75_0700.xlsm', id_dict=id_dict, CONFIG=CONFIG)"
   ]
  }
 ],
 "metadata": {
  "kernelspec": {
   "display_name": "venv",
   "language": "python",
   "name": "python3"
  },
  "language_info": {
   "codemirror_mode": {
    "name": "ipython",
    "version": 3
   },
   "file_extension": ".py",
   "mimetype": "text/x-python",
   "name": "python",
   "nbconvert_exporter": "python",
   "pygments_lexer": "ipython3",
   "version": "3.10.11"
  },
  "orig_nbformat": 4
 },
 "nbformat": 4,
 "nbformat_minor": 2
}
