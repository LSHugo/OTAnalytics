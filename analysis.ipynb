{
 "cells": [
  {
   "attachments": {},
   "cell_type": "markdown",
   "metadata": {},
   "source": [
    "# OTAnalytics - Event processing, analysis and visualization"
   ]
  },
  {
   "attachments": {},
   "cell_type": "markdown",
   "metadata": {},
   "source": [
    "## Import packages"
   ]
  },
  {
   "cell_type": "code",
   "execution_count": 1,
   "metadata": {},
   "outputs": [],
   "source": [
    "# Import libraries and modules\n",
    "# General modules\n",
    "from pathlib import Path\n",
    "\n",
    "import numpy as np\n",
    "import pandas as pd\n",
    "\n",
    "# OTAnalytics modules\n",
    "from OTAnalytics.plugin_prototypes.counter.event_counter import EventProcessor, CountsProcessor\n",
    "\n",
    "%load_ext autoreload\n",
    "%autoreload 2"
   ]
  },
  {
   "attachments": {},
   "cell_type": "markdown",
   "metadata": {},
   "source": [
    "## Set config variables"
   ]
  },
  {
   "cell_type": "code",
   "execution_count": 2,
   "metadata": {},
   "outputs": [],
   "source": [
    "# Set env parameters and path\n",
    "CONFIG= {\n",
    "    \"TIME_FORMAT\": \"%d.%m%.%y %H:%M Uhr\",\n",
    "    \"FILTER_CLASS\": [\"car\", \"bus\", \"motorcycle\", \"truck\"],\n",
    "    \"FILTER_SECTION\": [\"NORTH\", \"EAST\", \"SOUTH\", \"WEST\"],\n",
    "    \"EVENTLIST_PATH\": Path(\n",
    "        \"/Volumes/home/Backup/miovision_SH/\"\n",
    "        + \"eventlist_Standard_SCUEHQ_FR30_2022-09-15_07-00-00.008_yolov5m.json\"\n",
    "    ),\n",
    "    \"SECTIONSLIST_PATH\": Path(\n",
    "        \"data/sectionlist_v2.json.bz2\"\n",
    "    ),\n",
    "    \"FROM_TIME\": \"2022-09-15 07:00:00\",\n",
    "    \"TO_TIME\": \"2022-09-15 07:15:00\",\n",
    "    \"INTERVAL_LENGTH_MIN\": 5 # in minutes\n",
    "    }  "
   ]
  },
  {
   "attachments": {},
   "cell_type": "markdown",
   "metadata": {},
   "source": [
    "## Import Events"
   ]
  },
  {
   "cell_type": "code",
   "execution_count": 3,
   "metadata": {},
   "outputs": [],
   "source": [
    "event_processor = EventProcessor(CONFIG)\n",
    "events = event_processor.process_events()"
   ]
  },
  {
   "attachments": {},
   "cell_type": "markdown",
   "metadata": {},
   "source": [
    "## Create Count Table and Plot Counts"
   ]
  },
  {
   "cell_type": "code",
   "execution_count": 4,
   "metadata": {},
   "outputs": [
    {
     "data": {
      "application/vnd.plotly.v1+json": {
       "config": {
        "plotlyServerURL": "https://plot.ly"
       },
       "data": [
        {
         "alignmentgroup": "True",
         "hovertemplate": "max_class=bus<br>section_id=EAST<br>direction=in<br>time_interval=%{x}<br>n_vehicles=%{y}<extra></extra>",
         "legendgroup": "bus",
         "marker": {
          "color": "#636efa",
          "pattern": {
           "shape": ""
          }
         },
         "name": "bus",
         "offsetgroup": "bus",
         "orientation": "v",
         "showlegend": true,
         "textposition": "auto",
         "type": "bar",
         "x": [
          "15.09.22 07:00 Uhr",
          "15.09.22 07:05 Uhr",
          "15.09.22 07:10 Uhr",
          "15.09.22 07:15 Uhr"
         ],
         "xaxis": "x7",
         "y": [
          0,
          0,
          0,
          0
         ],
         "yaxis": "y7"
        },
        {
         "alignmentgroup": "True",
         "hovertemplate": "max_class=bus<br>section_id=EAST<br>direction=out<br>time_interval=%{x}<br>n_vehicles=%{y}<extra></extra>",
         "legendgroup": "bus",
         "marker": {
          "color": "#636efa",
          "pattern": {
           "shape": ""
          }
         },
         "name": "bus",
         "offsetgroup": "bus",
         "orientation": "v",
         "showlegend": false,
         "textposition": "auto",
         "type": "bar",
         "x": [
          "15.09.22 07:00 Uhr",
          "15.09.22 07:05 Uhr",
          "15.09.22 07:10 Uhr",
          "15.09.22 07:15 Uhr"
         ],
         "xaxis": "x8",
         "y": [
          1,
          0,
          0,
          0
         ],
         "yaxis": "y8"
        },
        {
         "alignmentgroup": "True",
         "hovertemplate": "max_class=bus<br>section_id=NORTH<br>direction=in<br>time_interval=%{x}<br>n_vehicles=%{y}<extra></extra>",
         "legendgroup": "bus",
         "marker": {
          "color": "#636efa",
          "pattern": {
           "shape": ""
          }
         },
         "name": "bus",
         "offsetgroup": "bus",
         "orientation": "v",
         "showlegend": false,
         "textposition": "auto",
         "type": "bar",
         "x": [
          "15.09.22 07:00 Uhr",
          "15.09.22 07:05 Uhr",
          "15.09.22 07:10 Uhr",
          "15.09.22 07:15 Uhr"
         ],
         "xaxis": "x5",
         "y": [
          2,
          0,
          1,
          0
         ],
         "yaxis": "y5"
        },
        {
         "alignmentgroup": "True",
         "hovertemplate": "max_class=bus<br>section_id=NORTH<br>direction=out<br>time_interval=%{x}<br>n_vehicles=%{y}<extra></extra>",
         "legendgroup": "bus",
         "marker": {
          "color": "#636efa",
          "pattern": {
           "shape": ""
          }
         },
         "name": "bus",
         "offsetgroup": "bus",
         "orientation": "v",
         "showlegend": false,
         "textposition": "auto",
         "type": "bar",
         "x": [
          "15.09.22 07:00 Uhr",
          "15.09.22 07:05 Uhr",
          "15.09.22 07:10 Uhr",
          "15.09.22 07:15 Uhr"
         ],
         "xaxis": "x6",
         "y": [
          3,
          1,
          2,
          0
         ],
         "yaxis": "y6"
        },
        {
         "alignmentgroup": "True",
         "hovertemplate": "max_class=bus<br>section_id=SOUTH<br>direction=in<br>time_interval=%{x}<br>n_vehicles=%{y}<extra></extra>",
         "legendgroup": "bus",
         "marker": {
          "color": "#636efa",
          "pattern": {
           "shape": ""
          }
         },
         "name": "bus",
         "offsetgroup": "bus",
         "orientation": "v",
         "showlegend": false,
         "textposition": "auto",
         "type": "bar",
         "x": [
          "15.09.22 07:00 Uhr",
          "15.09.22 07:05 Uhr",
          "15.09.22 07:10 Uhr",
          "15.09.22 07:15 Uhr"
         ],
         "xaxis": "x3",
         "y": [
          3,
          1,
          1,
          0
         ],
         "yaxis": "y3"
        },
        {
         "alignmentgroup": "True",
         "hovertemplate": "max_class=bus<br>section_id=SOUTH<br>direction=out<br>time_interval=%{x}<br>n_vehicles=%{y}<extra></extra>",
         "legendgroup": "bus",
         "marker": {
          "color": "#636efa",
          "pattern": {
           "shape": ""
          }
         },
         "name": "bus",
         "offsetgroup": "bus",
         "orientation": "v",
         "showlegend": false,
         "textposition": "auto",
         "type": "bar",
         "x": [
          "15.09.22 07:00 Uhr",
          "15.09.22 07:05 Uhr",
          "15.09.22 07:10 Uhr",
          "15.09.22 07:15 Uhr"
         ],
         "xaxis": "x4",
         "y": [
          1,
          0,
          0,
          0
         ],
         "yaxis": "y4"
        },
        {
         "alignmentgroup": "True",
         "hovertemplate": "max_class=bus<br>section_id=WEST<br>direction=in<br>time_interval=%{x}<br>n_vehicles=%{y}<extra></extra>",
         "legendgroup": "bus",
         "marker": {
          "color": "#636efa",
          "pattern": {
           "shape": ""
          }
         },
         "name": "bus",
         "offsetgroup": "bus",
         "orientation": "v",
         "showlegend": false,
         "textposition": "auto",
         "type": "bar",
         "x": [
          "15.09.22 07:00 Uhr",
          "15.09.22 07:05 Uhr",
          "15.09.22 07:10 Uhr",
          "15.09.22 07:15 Uhr"
         ],
         "xaxis": "x",
         "y": [
          0,
          0,
          0,
          0
         ],
         "yaxis": "y"
        },
        {
         "alignmentgroup": "True",
         "hovertemplate": "max_class=bus<br>section_id=WEST<br>direction=out<br>time_interval=%{x}<br>n_vehicles=%{y}<extra></extra>",
         "legendgroup": "bus",
         "marker": {
          "color": "#636efa",
          "pattern": {
           "shape": ""
          }
         },
         "name": "bus",
         "offsetgroup": "bus",
         "orientation": "v",
         "showlegend": false,
         "textposition": "auto",
         "type": "bar",
         "x": [
          "15.09.22 07:00 Uhr",
          "15.09.22 07:05 Uhr",
          "15.09.22 07:10 Uhr",
          "15.09.22 07:15 Uhr"
         ],
         "xaxis": "x2",
         "y": [
          0,
          0,
          0,
          0
         ],
         "yaxis": "y2"
        },
        {
         "alignmentgroup": "True",
         "hovertemplate": "max_class=car<br>section_id=EAST<br>direction=in<br>time_interval=%{x}<br>n_vehicles=%{y}<extra></extra>",
         "legendgroup": "car",
         "marker": {
          "color": "#EF553B",
          "pattern": {
           "shape": ""
          }
         },
         "name": "car",
         "offsetgroup": "car",
         "orientation": "v",
         "showlegend": true,
         "textposition": "auto",
         "type": "bar",
         "x": [
          "15.09.22 07:00 Uhr",
          "15.09.22 07:05 Uhr",
          "15.09.22 07:10 Uhr",
          "15.09.22 07:15 Uhr"
         ],
         "xaxis": "x7",
         "y": [
          5,
          5,
          5,
          0
         ],
         "yaxis": "y7"
        },
        {
         "alignmentgroup": "True",
         "hovertemplate": "max_class=car<br>section_id=EAST<br>direction=out<br>time_interval=%{x}<br>n_vehicles=%{y}<extra></extra>",
         "legendgroup": "car",
         "marker": {
          "color": "#EF553B",
          "pattern": {
           "shape": ""
          }
         },
         "name": "car",
         "offsetgroup": "car",
         "orientation": "v",
         "showlegend": false,
         "textposition": "auto",
         "type": "bar",
         "x": [
          "15.09.22 07:00 Uhr",
          "15.09.22 07:05 Uhr",
          "15.09.22 07:10 Uhr",
          "15.09.22 07:15 Uhr"
         ],
         "xaxis": "x8",
         "y": [
          1,
          8,
          2,
          0
         ],
         "yaxis": "y8"
        },
        {
         "alignmentgroup": "True",
         "hovertemplate": "max_class=car<br>section_id=NORTH<br>direction=in<br>time_interval=%{x}<br>n_vehicles=%{y}<extra></extra>",
         "legendgroup": "car",
         "marker": {
          "color": "#EF553B",
          "pattern": {
           "shape": ""
          }
         },
         "name": "car",
         "offsetgroup": "car",
         "orientation": "v",
         "showlegend": false,
         "textposition": "auto",
         "type": "bar",
         "x": [
          "15.09.22 07:00 Uhr",
          "15.09.22 07:05 Uhr",
          "15.09.22 07:10 Uhr",
          "15.09.22 07:15 Uhr"
         ],
         "xaxis": "x5",
         "y": [
          13,
          19,
          24,
          0
         ],
         "yaxis": "y5"
        },
        {
         "alignmentgroup": "True",
         "hovertemplate": "max_class=car<br>section_id=NORTH<br>direction=out<br>time_interval=%{x}<br>n_vehicles=%{y}<extra></extra>",
         "legendgroup": "car",
         "marker": {
          "color": "#EF553B",
          "pattern": {
           "shape": ""
          }
         },
         "name": "car",
         "offsetgroup": "car",
         "orientation": "v",
         "showlegend": false,
         "textposition": "auto",
         "type": "bar",
         "x": [
          "15.09.22 07:00 Uhr",
          "15.09.22 07:05 Uhr",
          "15.09.22 07:10 Uhr",
          "15.09.22 07:15 Uhr"
         ],
         "xaxis": "x6",
         "y": [
          23,
          19,
          15,
          0
         ],
         "yaxis": "y6"
        },
        {
         "alignmentgroup": "True",
         "hovertemplate": "max_class=car<br>section_id=SOUTH<br>direction=in<br>time_interval=%{x}<br>n_vehicles=%{y}<extra></extra>",
         "legendgroup": "car",
         "marker": {
          "color": "#EF553B",
          "pattern": {
           "shape": ""
          }
         },
         "name": "car",
         "offsetgroup": "car",
         "orientation": "v",
         "showlegend": false,
         "textposition": "auto",
         "type": "bar",
         "x": [
          "15.09.22 07:00 Uhr",
          "15.09.22 07:05 Uhr",
          "15.09.22 07:10 Uhr",
          "15.09.22 07:15 Uhr"
         ],
         "xaxis": "x3",
         "y": [
          22,
          16,
          9,
          0
         ],
         "yaxis": "y3"
        },
        {
         "alignmentgroup": "True",
         "hovertemplate": "max_class=car<br>section_id=SOUTH<br>direction=out<br>time_interval=%{x}<br>n_vehicles=%{y}<extra></extra>",
         "legendgroup": "car",
         "marker": {
          "color": "#EF553B",
          "pattern": {
           "shape": ""
          }
         },
         "name": "car",
         "offsetgroup": "car",
         "orientation": "v",
         "showlegend": false,
         "textposition": "auto",
         "type": "bar",
         "x": [
          "15.09.22 07:00 Uhr",
          "15.09.22 07:05 Uhr",
          "15.09.22 07:10 Uhr",
          "15.09.22 07:15 Uhr"
         ],
         "xaxis": "x4",
         "y": [
          16,
          13,
          21,
          0
         ],
         "yaxis": "y4"
        },
        {
         "alignmentgroup": "True",
         "hovertemplate": "max_class=car<br>section_id=WEST<br>direction=in<br>time_interval=%{x}<br>n_vehicles=%{y}<extra></extra>",
         "legendgroup": "car",
         "marker": {
          "color": "#EF553B",
          "pattern": {
           "shape": ""
          }
         },
         "name": "car",
         "offsetgroup": "car",
         "orientation": "v",
         "showlegend": false,
         "textposition": "auto",
         "type": "bar",
         "x": [
          "15.09.22 07:00 Uhr",
          "15.09.22 07:05 Uhr",
          "15.09.22 07:10 Uhr",
          "15.09.22 07:15 Uhr"
         ],
         "xaxis": "x",
         "y": [
          0,
          0,
          0,
          0
         ],
         "yaxis": "y"
        },
        {
         "alignmentgroup": "True",
         "hovertemplate": "max_class=car<br>section_id=WEST<br>direction=out<br>time_interval=%{x}<br>n_vehicles=%{y}<extra></extra>",
         "legendgroup": "car",
         "marker": {
          "color": "#EF553B",
          "pattern": {
           "shape": ""
          }
         },
         "name": "car",
         "offsetgroup": "car",
         "orientation": "v",
         "showlegend": false,
         "textposition": "auto",
         "type": "bar",
         "x": [
          "15.09.22 07:00 Uhr",
          "15.09.22 07:05 Uhr",
          "15.09.22 07:10 Uhr",
          "15.09.22 07:15 Uhr"
         ],
         "xaxis": "x2",
         "y": [
          0,
          0,
          0,
          0
         ],
         "yaxis": "y2"
        },
        {
         "alignmentgroup": "True",
         "hovertemplate": "max_class=truck<br>section_id=EAST<br>direction=in<br>time_interval=%{x}<br>n_vehicles=%{y}<extra></extra>",
         "legendgroup": "truck",
         "marker": {
          "color": "#00cc96",
          "pattern": {
           "shape": ""
          }
         },
         "name": "truck",
         "offsetgroup": "truck",
         "orientation": "v",
         "showlegend": true,
         "textposition": "auto",
         "type": "bar",
         "x": [
          "15.09.22 07:00 Uhr",
          "15.09.22 07:05 Uhr",
          "15.09.22 07:10 Uhr",
          "15.09.22 07:15 Uhr"
         ],
         "xaxis": "x7",
         "y": [
          0,
          0,
          0,
          0
         ],
         "yaxis": "y7"
        },
        {
         "alignmentgroup": "True",
         "hovertemplate": "max_class=truck<br>section_id=EAST<br>direction=out<br>time_interval=%{x}<br>n_vehicles=%{y}<extra></extra>",
         "legendgroup": "truck",
         "marker": {
          "color": "#00cc96",
          "pattern": {
           "shape": ""
          }
         },
         "name": "truck",
         "offsetgroup": "truck",
         "orientation": "v",
         "showlegend": false,
         "textposition": "auto",
         "type": "bar",
         "x": [
          "15.09.22 07:00 Uhr",
          "15.09.22 07:05 Uhr",
          "15.09.22 07:10 Uhr",
          "15.09.22 07:15 Uhr"
         ],
         "xaxis": "x8",
         "y": [
          0,
          0,
          1,
          0
         ],
         "yaxis": "y8"
        },
        {
         "alignmentgroup": "True",
         "hovertemplate": "max_class=truck<br>section_id=NORTH<br>direction=in<br>time_interval=%{x}<br>n_vehicles=%{y}<extra></extra>",
         "legendgroup": "truck",
         "marker": {
          "color": "#00cc96",
          "pattern": {
           "shape": ""
          }
         },
         "name": "truck",
         "offsetgroup": "truck",
         "orientation": "v",
         "showlegend": false,
         "textposition": "auto",
         "type": "bar",
         "x": [
          "15.09.22 07:00 Uhr",
          "15.09.22 07:05 Uhr",
          "15.09.22 07:10 Uhr",
          "15.09.22 07:15 Uhr"
         ],
         "xaxis": "x5",
         "y": [
          0,
          0,
          0,
          0
         ],
         "yaxis": "y5"
        },
        {
         "alignmentgroup": "True",
         "hovertemplate": "max_class=truck<br>section_id=NORTH<br>direction=out<br>time_interval=%{x}<br>n_vehicles=%{y}<extra></extra>",
         "legendgroup": "truck",
         "marker": {
          "color": "#00cc96",
          "pattern": {
           "shape": ""
          }
         },
         "name": "truck",
         "offsetgroup": "truck",
         "orientation": "v",
         "showlegend": false,
         "textposition": "auto",
         "type": "bar",
         "x": [
          "15.09.22 07:00 Uhr",
          "15.09.22 07:05 Uhr",
          "15.09.22 07:10 Uhr",
          "15.09.22 07:15 Uhr"
         ],
         "xaxis": "x6",
         "y": [
          2,
          0,
          1,
          0
         ],
         "yaxis": "y6"
        },
        {
         "alignmentgroup": "True",
         "hovertemplate": "max_class=truck<br>section_id=SOUTH<br>direction=in<br>time_interval=%{x}<br>n_vehicles=%{y}<extra></extra>",
         "legendgroup": "truck",
         "marker": {
          "color": "#00cc96",
          "pattern": {
           "shape": ""
          }
         },
         "name": "truck",
         "offsetgroup": "truck",
         "orientation": "v",
         "showlegend": false,
         "textposition": "auto",
         "type": "bar",
         "x": [
          "15.09.22 07:00 Uhr",
          "15.09.22 07:05 Uhr",
          "15.09.22 07:10 Uhr",
          "15.09.22 07:15 Uhr"
         ],
         "xaxis": "x3",
         "y": [
          2,
          0,
          2,
          0
         ],
         "yaxis": "y3"
        },
        {
         "alignmentgroup": "True",
         "hovertemplate": "max_class=truck<br>section_id=SOUTH<br>direction=out<br>time_interval=%{x}<br>n_vehicles=%{y}<extra></extra>",
         "legendgroup": "truck",
         "marker": {
          "color": "#00cc96",
          "pattern": {
           "shape": ""
          }
         },
         "name": "truck",
         "offsetgroup": "truck",
         "orientation": "v",
         "showlegend": false,
         "textposition": "auto",
         "type": "bar",
         "x": [
          "15.09.22 07:00 Uhr",
          "15.09.22 07:05 Uhr",
          "15.09.22 07:10 Uhr",
          "15.09.22 07:15 Uhr"
         ],
         "xaxis": "x4",
         "y": [
          0,
          0,
          0,
          0
         ],
         "yaxis": "y4"
        },
        {
         "alignmentgroup": "True",
         "hovertemplate": "max_class=truck<br>section_id=WEST<br>direction=in<br>time_interval=%{x}<br>n_vehicles=%{y}<extra></extra>",
         "legendgroup": "truck",
         "marker": {
          "color": "#00cc96",
          "pattern": {
           "shape": ""
          }
         },
         "name": "truck",
         "offsetgroup": "truck",
         "orientation": "v",
         "showlegend": false,
         "textposition": "auto",
         "type": "bar",
         "x": [
          "15.09.22 07:00 Uhr",
          "15.09.22 07:05 Uhr",
          "15.09.22 07:10 Uhr",
          "15.09.22 07:15 Uhr"
         ],
         "xaxis": "x",
         "y": [
          0,
          0,
          0,
          0
         ],
         "yaxis": "y"
        },
        {
         "alignmentgroup": "True",
         "hovertemplate": "max_class=truck<br>section_id=WEST<br>direction=out<br>time_interval=%{x}<br>n_vehicles=%{y}<extra></extra>",
         "legendgroup": "truck",
         "marker": {
          "color": "#00cc96",
          "pattern": {
           "shape": ""
          }
         },
         "name": "truck",
         "offsetgroup": "truck",
         "orientation": "v",
         "showlegend": false,
         "textposition": "auto",
         "type": "bar",
         "x": [
          "15.09.22 07:00 Uhr",
          "15.09.22 07:05 Uhr",
          "15.09.22 07:10 Uhr",
          "15.09.22 07:15 Uhr"
         ],
         "xaxis": "x2",
         "y": [
          0,
          0,
          0,
          0
         ],
         "yaxis": "y2"
        }
       ],
       "layout": {
        "annotations": [
         {
          "font": {},
          "showarrow": false,
          "text": "direction=in",
          "x": 0.23249999999999998,
          "xanchor": "center",
          "xref": "paper",
          "y": 1,
          "yanchor": "bottom",
          "yref": "paper"
         },
         {
          "font": {},
          "showarrow": false,
          "text": "direction=out",
          "x": 0.7475,
          "xanchor": "center",
          "xref": "paper",
          "y": 1,
          "yanchor": "bottom",
          "yref": "paper"
         },
         {
          "font": {},
          "showarrow": false,
          "text": "section_id=WEST",
          "textangle": 90,
          "x": 0.98,
          "xanchor": "left",
          "xref": "paper",
          "y": 0.0875,
          "yanchor": "middle",
          "yref": "paper"
         },
         {
          "font": {},
          "showarrow": false,
          "text": "section_id=SOUTH",
          "textangle": 90,
          "x": 0.98,
          "xanchor": "left",
          "xref": "paper",
          "y": 0.36250000000000004,
          "yanchor": "middle",
          "yref": "paper"
         },
         {
          "font": {},
          "showarrow": false,
          "text": "section_id=NORTH",
          "textangle": 90,
          "x": 0.98,
          "xanchor": "left",
          "xref": "paper",
          "y": 0.6375000000000001,
          "yanchor": "middle",
          "yref": "paper"
         },
         {
          "font": {},
          "showarrow": false,
          "text": "section_id=EAST",
          "textangle": 90,
          "x": 0.98,
          "xanchor": "left",
          "xref": "paper",
          "y": 0.9125,
          "yanchor": "middle",
          "yref": "paper"
         }
        ],
        "barmode": "stack",
        "height": 800,
        "legend": {
         "title": {
          "text": "Type of<br>road user"
         },
         "tracegroupgap": 0
        },
        "margin": {
         "t": 60
        },
        "template": {
         "data": {
          "bar": [
           {
            "error_x": {
             "color": "#2a3f5f"
            },
            "error_y": {
             "color": "#2a3f5f"
            },
            "marker": {
             "line": {
              "color": "#E5ECF6",
              "width": 0.5
             },
             "pattern": {
              "fillmode": "overlay",
              "size": 10,
              "solidity": 0.2
             }
            },
            "type": "bar"
           }
          ],
          "barpolar": [
           {
            "marker": {
             "line": {
              "color": "#E5ECF6",
              "width": 0.5
             },
             "pattern": {
              "fillmode": "overlay",
              "size": 10,
              "solidity": 0.2
             }
            },
            "type": "barpolar"
           }
          ],
          "carpet": [
           {
            "aaxis": {
             "endlinecolor": "#2a3f5f",
             "gridcolor": "white",
             "linecolor": "white",
             "minorgridcolor": "white",
             "startlinecolor": "#2a3f5f"
            },
            "baxis": {
             "endlinecolor": "#2a3f5f",
             "gridcolor": "white",
             "linecolor": "white",
             "minorgridcolor": "white",
             "startlinecolor": "#2a3f5f"
            },
            "type": "carpet"
           }
          ],
          "choropleth": [
           {
            "colorbar": {
             "outlinewidth": 0,
             "ticks": ""
            },
            "type": "choropleth"
           }
          ],
          "contour": [
           {
            "colorbar": {
             "outlinewidth": 0,
             "ticks": ""
            },
            "colorscale": [
             [
              0,
              "#0d0887"
             ],
             [
              0.1111111111111111,
              "#46039f"
             ],
             [
              0.2222222222222222,
              "#7201a8"
             ],
             [
              0.3333333333333333,
              "#9c179e"
             ],
             [
              0.4444444444444444,
              "#bd3786"
             ],
             [
              0.5555555555555556,
              "#d8576b"
             ],
             [
              0.6666666666666666,
              "#ed7953"
             ],
             [
              0.7777777777777778,
              "#fb9f3a"
             ],
             [
              0.8888888888888888,
              "#fdca26"
             ],
             [
              1,
              "#f0f921"
             ]
            ],
            "type": "contour"
           }
          ],
          "contourcarpet": [
           {
            "colorbar": {
             "outlinewidth": 0,
             "ticks": ""
            },
            "type": "contourcarpet"
           }
          ],
          "heatmap": [
           {
            "colorbar": {
             "outlinewidth": 0,
             "ticks": ""
            },
            "colorscale": [
             [
              0,
              "#0d0887"
             ],
             [
              0.1111111111111111,
              "#46039f"
             ],
             [
              0.2222222222222222,
              "#7201a8"
             ],
             [
              0.3333333333333333,
              "#9c179e"
             ],
             [
              0.4444444444444444,
              "#bd3786"
             ],
             [
              0.5555555555555556,
              "#d8576b"
             ],
             [
              0.6666666666666666,
              "#ed7953"
             ],
             [
              0.7777777777777778,
              "#fb9f3a"
             ],
             [
              0.8888888888888888,
              "#fdca26"
             ],
             [
              1,
              "#f0f921"
             ]
            ],
            "type": "heatmap"
           }
          ],
          "heatmapgl": [
           {
            "colorbar": {
             "outlinewidth": 0,
             "ticks": ""
            },
            "colorscale": [
             [
              0,
              "#0d0887"
             ],
             [
              0.1111111111111111,
              "#46039f"
             ],
             [
              0.2222222222222222,
              "#7201a8"
             ],
             [
              0.3333333333333333,
              "#9c179e"
             ],
             [
              0.4444444444444444,
              "#bd3786"
             ],
             [
              0.5555555555555556,
              "#d8576b"
             ],
             [
              0.6666666666666666,
              "#ed7953"
             ],
             [
              0.7777777777777778,
              "#fb9f3a"
             ],
             [
              0.8888888888888888,
              "#fdca26"
             ],
             [
              1,
              "#f0f921"
             ]
            ],
            "type": "heatmapgl"
           }
          ],
          "histogram": [
           {
            "marker": {
             "pattern": {
              "fillmode": "overlay",
              "size": 10,
              "solidity": 0.2
             }
            },
            "type": "histogram"
           }
          ],
          "histogram2d": [
           {
            "colorbar": {
             "outlinewidth": 0,
             "ticks": ""
            },
            "colorscale": [
             [
              0,
              "#0d0887"
             ],
             [
              0.1111111111111111,
              "#46039f"
             ],
             [
              0.2222222222222222,
              "#7201a8"
             ],
             [
              0.3333333333333333,
              "#9c179e"
             ],
             [
              0.4444444444444444,
              "#bd3786"
             ],
             [
              0.5555555555555556,
              "#d8576b"
             ],
             [
              0.6666666666666666,
              "#ed7953"
             ],
             [
              0.7777777777777778,
              "#fb9f3a"
             ],
             [
              0.8888888888888888,
              "#fdca26"
             ],
             [
              1,
              "#f0f921"
             ]
            ],
            "type": "histogram2d"
           }
          ],
          "histogram2dcontour": [
           {
            "colorbar": {
             "outlinewidth": 0,
             "ticks": ""
            },
            "colorscale": [
             [
              0,
              "#0d0887"
             ],
             [
              0.1111111111111111,
              "#46039f"
             ],
             [
              0.2222222222222222,
              "#7201a8"
             ],
             [
              0.3333333333333333,
              "#9c179e"
             ],
             [
              0.4444444444444444,
              "#bd3786"
             ],
             [
              0.5555555555555556,
              "#d8576b"
             ],
             [
              0.6666666666666666,
              "#ed7953"
             ],
             [
              0.7777777777777778,
              "#fb9f3a"
             ],
             [
              0.8888888888888888,
              "#fdca26"
             ],
             [
              1,
              "#f0f921"
             ]
            ],
            "type": "histogram2dcontour"
           }
          ],
          "mesh3d": [
           {
            "colorbar": {
             "outlinewidth": 0,
             "ticks": ""
            },
            "type": "mesh3d"
           }
          ],
          "parcoords": [
           {
            "line": {
             "colorbar": {
              "outlinewidth": 0,
              "ticks": ""
             }
            },
            "type": "parcoords"
           }
          ],
          "pie": [
           {
            "automargin": true,
            "type": "pie"
           }
          ],
          "scatter": [
           {
            "fillpattern": {
             "fillmode": "overlay",
             "size": 10,
             "solidity": 0.2
            },
            "type": "scatter"
           }
          ],
          "scatter3d": [
           {
            "line": {
             "colorbar": {
              "outlinewidth": 0,
              "ticks": ""
             }
            },
            "marker": {
             "colorbar": {
              "outlinewidth": 0,
              "ticks": ""
             }
            },
            "type": "scatter3d"
           }
          ],
          "scattercarpet": [
           {
            "marker": {
             "colorbar": {
              "outlinewidth": 0,
              "ticks": ""
             }
            },
            "type": "scattercarpet"
           }
          ],
          "scattergeo": [
           {
            "marker": {
             "colorbar": {
              "outlinewidth": 0,
              "ticks": ""
             }
            },
            "type": "scattergeo"
           }
          ],
          "scattergl": [
           {
            "marker": {
             "colorbar": {
              "outlinewidth": 0,
              "ticks": ""
             }
            },
            "type": "scattergl"
           }
          ],
          "scattermapbox": [
           {
            "marker": {
             "colorbar": {
              "outlinewidth": 0,
              "ticks": ""
             }
            },
            "type": "scattermapbox"
           }
          ],
          "scatterpolar": [
           {
            "marker": {
             "colorbar": {
              "outlinewidth": 0,
              "ticks": ""
             }
            },
            "type": "scatterpolar"
           }
          ],
          "scatterpolargl": [
           {
            "marker": {
             "colorbar": {
              "outlinewidth": 0,
              "ticks": ""
             }
            },
            "type": "scatterpolargl"
           }
          ],
          "scatterternary": [
           {
            "marker": {
             "colorbar": {
              "outlinewidth": 0,
              "ticks": ""
             }
            },
            "type": "scatterternary"
           }
          ],
          "surface": [
           {
            "colorbar": {
             "outlinewidth": 0,
             "ticks": ""
            },
            "colorscale": [
             [
              0,
              "#0d0887"
             ],
             [
              0.1111111111111111,
              "#46039f"
             ],
             [
              0.2222222222222222,
              "#7201a8"
             ],
             [
              0.3333333333333333,
              "#9c179e"
             ],
             [
              0.4444444444444444,
              "#bd3786"
             ],
             [
              0.5555555555555556,
              "#d8576b"
             ],
             [
              0.6666666666666666,
              "#ed7953"
             ],
             [
              0.7777777777777778,
              "#fb9f3a"
             ],
             [
              0.8888888888888888,
              "#fdca26"
             ],
             [
              1,
              "#f0f921"
             ]
            ],
            "type": "surface"
           }
          ],
          "table": [
           {
            "cells": {
             "fill": {
              "color": "#EBF0F8"
             },
             "line": {
              "color": "white"
             }
            },
            "header": {
             "fill": {
              "color": "#C8D4E3"
             },
             "line": {
              "color": "white"
             }
            },
            "type": "table"
           }
          ]
         },
         "layout": {
          "annotationdefaults": {
           "arrowcolor": "#2a3f5f",
           "arrowhead": 0,
           "arrowwidth": 1
          },
          "autotypenumbers": "strict",
          "coloraxis": {
           "colorbar": {
            "outlinewidth": 0,
            "ticks": ""
           }
          },
          "colorscale": {
           "diverging": [
            [
             0,
             "#8e0152"
            ],
            [
             0.1,
             "#c51b7d"
            ],
            [
             0.2,
             "#de77ae"
            ],
            [
             0.3,
             "#f1b6da"
            ],
            [
             0.4,
             "#fde0ef"
            ],
            [
             0.5,
             "#f7f7f7"
            ],
            [
             0.6,
             "#e6f5d0"
            ],
            [
             0.7,
             "#b8e186"
            ],
            [
             0.8,
             "#7fbc41"
            ],
            [
             0.9,
             "#4d9221"
            ],
            [
             1,
             "#276419"
            ]
           ],
           "sequential": [
            [
             0,
             "#0d0887"
            ],
            [
             0.1111111111111111,
             "#46039f"
            ],
            [
             0.2222222222222222,
             "#7201a8"
            ],
            [
             0.3333333333333333,
             "#9c179e"
            ],
            [
             0.4444444444444444,
             "#bd3786"
            ],
            [
             0.5555555555555556,
             "#d8576b"
            ],
            [
             0.6666666666666666,
             "#ed7953"
            ],
            [
             0.7777777777777778,
             "#fb9f3a"
            ],
            [
             0.8888888888888888,
             "#fdca26"
            ],
            [
             1,
             "#f0f921"
            ]
           ],
           "sequentialminus": [
            [
             0,
             "#0d0887"
            ],
            [
             0.1111111111111111,
             "#46039f"
            ],
            [
             0.2222222222222222,
             "#7201a8"
            ],
            [
             0.3333333333333333,
             "#9c179e"
            ],
            [
             0.4444444444444444,
             "#bd3786"
            ],
            [
             0.5555555555555556,
             "#d8576b"
            ],
            [
             0.6666666666666666,
             "#ed7953"
            ],
            [
             0.7777777777777778,
             "#fb9f3a"
            ],
            [
             0.8888888888888888,
             "#fdca26"
            ],
            [
             1,
             "#f0f921"
            ]
           ]
          },
          "colorway": [
           "#636efa",
           "#EF553B",
           "#00cc96",
           "#ab63fa",
           "#FFA15A",
           "#19d3f3",
           "#FF6692",
           "#B6E880",
           "#FF97FF",
           "#FECB52"
          ],
          "font": {
           "color": "#2a3f5f"
          },
          "geo": {
           "bgcolor": "white",
           "lakecolor": "white",
           "landcolor": "#E5ECF6",
           "showlakes": true,
           "showland": true,
           "subunitcolor": "white"
          },
          "hoverlabel": {
           "align": "left"
          },
          "hovermode": "closest",
          "mapbox": {
           "style": "light"
          },
          "paper_bgcolor": "white",
          "plot_bgcolor": "#E5ECF6",
          "polar": {
           "angularaxis": {
            "gridcolor": "white",
            "linecolor": "white",
            "ticks": ""
           },
           "bgcolor": "#E5ECF6",
           "radialaxis": {
            "gridcolor": "white",
            "linecolor": "white",
            "ticks": ""
           }
          },
          "scene": {
           "xaxis": {
            "backgroundcolor": "#E5ECF6",
            "gridcolor": "white",
            "gridwidth": 2,
            "linecolor": "white",
            "showbackground": true,
            "ticks": "",
            "zerolinecolor": "white"
           },
           "yaxis": {
            "backgroundcolor": "#E5ECF6",
            "gridcolor": "white",
            "gridwidth": 2,
            "linecolor": "white",
            "showbackground": true,
            "ticks": "",
            "zerolinecolor": "white"
           },
           "zaxis": {
            "backgroundcolor": "#E5ECF6",
            "gridcolor": "white",
            "gridwidth": 2,
            "linecolor": "white",
            "showbackground": true,
            "ticks": "",
            "zerolinecolor": "white"
           }
          },
          "shapedefaults": {
           "line": {
            "color": "#2a3f5f"
           }
          },
          "ternary": {
           "aaxis": {
            "gridcolor": "white",
            "linecolor": "white",
            "ticks": ""
           },
           "baxis": {
            "gridcolor": "white",
            "linecolor": "white",
            "ticks": ""
           },
           "bgcolor": "#E5ECF6",
           "caxis": {
            "gridcolor": "white",
            "linecolor": "white",
            "ticks": ""
           }
          },
          "title": {
           "x": 0.05
          },
          "xaxis": {
           "automargin": true,
           "gridcolor": "white",
           "linecolor": "white",
           "ticks": "",
           "title": {
            "standoff": 15
           },
           "zerolinecolor": "white",
           "zerolinewidth": 2
          },
          "yaxis": {
           "automargin": true,
           "gridcolor": "white",
           "linecolor": "white",
           "ticks": "",
           "title": {
            "standoff": 15
           },
           "zerolinecolor": "white",
           "zerolinewidth": 2
          }
         }
        },
        "title": {
         "text": "Counts at intersection "
        },
        "xaxis": {
         "anchor": "y",
         "domain": [
          0,
          0.46499999999999997
         ],
         "title": {
          "text": "Time of day"
         }
        },
        "xaxis2": {
         "anchor": "y2",
         "domain": [
          0.515,
          0.98
         ],
         "matches": "x",
         "title": {
          "text": "time_interval"
         }
        },
        "xaxis3": {
         "anchor": "y3",
         "domain": [
          0,
          0.46499999999999997
         ],
         "matches": "x",
         "showticklabels": false
        },
        "xaxis4": {
         "anchor": "y4",
         "domain": [
          0.515,
          0.98
         ],
         "matches": "x",
         "showticklabels": false
        },
        "xaxis5": {
         "anchor": "y5",
         "domain": [
          0,
          0.46499999999999997
         ],
         "matches": "x",
         "showticklabels": false
        },
        "xaxis6": {
         "anchor": "y6",
         "domain": [
          0.515,
          0.98
         ],
         "matches": "x",
         "showticklabels": false
        },
        "xaxis7": {
         "anchor": "y7",
         "domain": [
          0,
          0.46499999999999997
         ],
         "matches": "x",
         "showticklabels": false
        },
        "xaxis8": {
         "anchor": "y8",
         "domain": [
          0.515,
          0.98
         ],
         "matches": "x",
         "showticklabels": false
        },
        "yaxis": {
         "anchor": "x",
         "domain": [
          0,
          0.175
         ],
         "title": {
          "text": "n_vehicles"
         }
        },
        "yaxis2": {
         "anchor": "x2",
         "domain": [
          0,
          0.175
         ],
         "matches": "y",
         "showticklabels": false
        },
        "yaxis3": {
         "anchor": "x3",
         "domain": [
          0.275,
          0.45
         ],
         "matches": "y",
         "title": {
          "text": "n_vehicles"
         }
        },
        "yaxis4": {
         "anchor": "x4",
         "domain": [
          0.275,
          0.45
         ],
         "matches": "y",
         "showticklabels": false
        },
        "yaxis5": {
         "anchor": "x5",
         "domain": [
          0.55,
          0.7250000000000001
         ],
         "matches": "y",
         "title": {
          "text": "n_vehicles"
         }
        },
        "yaxis6": {
         "anchor": "x6",
         "domain": [
          0.55,
          0.7250000000000001
         ],
         "matches": "y",
         "showticklabels": false
        },
        "yaxis7": {
         "anchor": "x7",
         "domain": [
          0.825,
          1
         ],
         "matches": "y",
         "title": {
          "text": "n_vehicles"
         }
        },
        "yaxis8": {
         "anchor": "x8",
         "domain": [
          0.825,
          1
         ],
         "matches": "y",
         "showticklabels": false
        }
       }
      }
     },
     "metadata": {},
     "output_type": "display_data"
    }
   ],
   "source": [
    "counts_processor = CountsProcessor(CONFIG, events)\n",
    "counts_table = counts_processor.create_counting_table()\n",
    "counts_processor.plot_counts()"
   ]
  },
  {
   "attachments": {},
   "cell_type": "markdown",
   "metadata": {},
   "source": [
    "## Create Flow Table and Plot Flows"
   ]
  },
  {
   "cell_type": "code",
   "execution_count": 5,
   "metadata": {},
   "outputs": [
    {
     "name": "stderr",
     "output_type": "stream",
     "text": [
      "/Users/michaelheilig/GIT/OTC/OTAnalytics/OTAnalytics/plugin_prototypes/counter/event_counter.py:347: FutureWarning:\n",
      "\n",
      "pivot_table dropped a column because it failed to aggregate. This behavior is deprecated and will raise in a future version of pandas. Select only the columns that can be aggregated.\n",
      "\n"
     ]
    },
    {
     "ename": "TypeError",
     "evalue": "list indices must be integers or slices, not str",
     "output_type": "error",
     "traceback": [
      "\u001b[0;31m---------------------------------------------------------------------------\u001b[0m",
      "\u001b[0;31mTypeError\u001b[0m                                 Traceback (most recent call last)",
      "Cell \u001b[0;32mIn[5], line 3\u001b[0m\n\u001b[1;32m      1\u001b[0m counts_processor \u001b[39m=\u001b[39m CountsProcessor(CONFIG, events)\n\u001b[1;32m      2\u001b[0m flow_table \u001b[39m=\u001b[39m counts_processor\u001b[39m.\u001b[39mcreate_flow_table()\n\u001b[0;32m----> 3\u001b[0m counts_processor\u001b[39m.\u001b[39;49mplot_flows()\n",
      "File \u001b[0;32m~/GIT/OTC/OTAnalytics/OTAnalytics/plugin_prototypes/counter/event_counter.py:361\u001b[0m, in \u001b[0;36mCountsProcessor.plot_flows\u001b[0;34m(self)\u001b[0m\n\u001b[1;32m    346\u001b[0m     axs_ij \u001b[39m=\u001b[39m axs[i]\n\u001b[1;32m    347\u001b[0m flow_matrix \u001b[39m=\u001b[39m pd\u001b[39m.\u001b[39mpivot_table(\n\u001b[1;32m    348\u001b[0m     flows[\n\u001b[1;32m    349\u001b[0m         (flows[\u001b[39m\"\u001b[39m\u001b[39mtime_interval\u001b[39m\u001b[39m\"\u001b[39m] \u001b[39m==\u001b[39m time_intervals[i])\n\u001b[0;32m   (...)\u001b[0m\n\u001b[1;32m    356\u001b[0m     sort\u001b[39m=\u001b[39m\u001b[39mFalse\u001b[39;00m,\n\u001b[1;32m    357\u001b[0m )\u001b[39m.\u001b[39mto_numpy(na_value\u001b[39m=\u001b[39m\u001b[39m0\u001b[39m)\n\u001b[1;32m    359\u001b[0m chord_diagram(\n\u001b[1;32m    360\u001b[0m     flow_matrix,\n\u001b[0;32m--> 361\u001b[0m     names\u001b[39m=\u001b[39mnodes[\u001b[39m\"\u001b[39;49m\u001b[39mname\u001b[39;49m\u001b[39m\"\u001b[39;49m],\n\u001b[1;32m    362\u001b[0m     order\u001b[39m=\u001b[39m\u001b[39mNone\u001b[39;00m,\n\u001b[1;32m    363\u001b[0m     width\u001b[39m=\u001b[39m\u001b[39m0.05\u001b[39m,\n\u001b[1;32m    364\u001b[0m     pad\u001b[39m=\u001b[39m\u001b[39m30.0\u001b[39m,\n\u001b[1;32m    365\u001b[0m     gap\u001b[39m=\u001b[39m\u001b[39m0.03\u001b[39m,\n\u001b[1;32m    366\u001b[0m     chordwidth\u001b[39m=\u001b[39m\u001b[39m0.5\u001b[39m,\n\u001b[1;32m    367\u001b[0m     ax\u001b[39m=\u001b[39maxs_ij,\n\u001b[1;32m    368\u001b[0m     colors\u001b[39m=\u001b[39m\u001b[39mNone\u001b[39;00m,\n\u001b[1;32m    369\u001b[0m     cmap\u001b[39m=\u001b[39m\u001b[39mNone\u001b[39;00m,\n\u001b[1;32m    370\u001b[0m     alpha\u001b[39m=\u001b[39m\u001b[39m0.6\u001b[39m,\n\u001b[1;32m    371\u001b[0m     use_gradient\u001b[39m=\u001b[39m\u001b[39mFalse\u001b[39;00m,\n\u001b[1;32m    372\u001b[0m     chord_colors\u001b[39m=\u001b[39m\u001b[39mNone\u001b[39;00m,\n\u001b[1;32m    373\u001b[0m     start_at\u001b[39m=\u001b[39m\u001b[39m45\u001b[39m,\n\u001b[1;32m    374\u001b[0m     extent\u001b[39m=\u001b[39m\u001b[39m360\u001b[39m,\n\u001b[1;32m    375\u001b[0m     directed\u001b[39m=\u001b[39m\u001b[39mTrue\u001b[39;00m,\n\u001b[1;32m    376\u001b[0m     show\u001b[39m=\u001b[39m\u001b[39mFalse\u001b[39;00m,\n\u001b[1;32m    377\u001b[0m )\n\u001b[1;32m    378\u001b[0m times \u001b[39m=\u001b[39m \u001b[39mself\u001b[39m\u001b[39m.\u001b[39m_set_time_format(\n\u001b[1;32m    379\u001b[0m     pd\u001b[39m.\u001b[39mSeries(time_intervals), \u001b[39mself\u001b[39m\u001b[39m.\u001b[39mTIME_FORMAT\n\u001b[1;32m    380\u001b[0m )\n\u001b[1;32m    381\u001b[0m axs_ij\u001b[39m.\u001b[39mset_title(\n\u001b[1;32m    382\u001b[0m     \u001b[39mf\u001b[39m\u001b[39m\"\u001b[39m\u001b[39mTime Interval: \u001b[39m\u001b[39m{\u001b[39;00mtimes[i]\u001b[39m}\u001b[39;00m\u001b[39m,\u001b[39m\u001b[39m\\n\u001b[39;00m\u001b[39mRoad User: \u001b[39m\u001b[39m{\u001b[39;00mroad_user_types[j]\u001b[39m}\u001b[39;00m\u001b[39m\"\u001b[39m,\n\u001b[1;32m    383\u001b[0m     loc\u001b[39m=\u001b[39m\u001b[39m\"\u001b[39m\u001b[39mLeft\u001b[39m\u001b[39m\"\u001b[39m,\n\u001b[1;32m    384\u001b[0m )\n",
      "\u001b[0;31mTypeError\u001b[0m: list indices must be integers or slices, not str"
     ]
    },
    {
     "data": {
      "image/png": "[encoded data removed]",
      "text/plain": [
       "<Figure size 6000x4500 with 12 Axes>"
      ]
     },
     "metadata": {},
     "output_type": "display_data"
    }
   ],
   "source": [
    "counts_processor = CountsProcessor(CONFIG, events)\n",
    "flow_table = counts_processor.create_flow_table()\n",
    "counts_processor.plot_flows()"
   ]
  }
 ],
 "metadata": {
  "kernelspec": {
   "display_name": ".venv",
   "language": "python",
   "name": "python3"
  },
  "language_info": {
   "codemirror_mode": {
    "name": "ipython",
    "version": 3
   },
   "file_extension": ".py",
   "mimetype": "text/x-python",
   "name": "python",
   "nbconvert_exporter": "python",
   "pygments_lexer": "ipython3",
   "version": "3.10.10"
  },
  "orig_nbformat": 4
 },
 "nbformat": 4,
 "nbformat_minor": 2
}
